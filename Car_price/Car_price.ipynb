{
 "cells": [
  {
   "cell_type": "markdown",
   "id": "3a204fb9",
   "metadata": {},
   "source": [
    "# Определение стоимости автомобилей"
   ]
  },
  {
   "cell_type": "markdown",
   "id": "b1b39b93",
   "metadata": {},
   "source": [
    "## Описание проекта"
   ]
  },
  {
   "cell_type": "markdown",
   "id": "e4c1a09b",
   "metadata": {
    "jp-MarkdownHeadingCollapsed": true
   },
   "source": [
    "#### Сервис по продаже автомобилей с пробегом «Не бит, не крашен» разрабатывает приложение, чтобы привлечь новых клиентов. В нём можно будет узнать рыночную стоимость своего автомобиля. Необходимо построить модель, которая умеет её определять. В нашем распоряжении данные о технических характеристиках, комплектации и ценах других автомобилей. \n",
    "#### Критерии, которые важны заказчику:\n",
    "    качество предсказания;\n",
    "    время обучения модели;\n",
    "    время предсказания модели.\n",
    "\n",
    "____"
   ]
  },
  {
   "cell_type": "markdown",
   "id": "d9c80948",
   "metadata": {},
   "source": [
    "## План выполнения проекта:\n",
    "\n",
    "1. **Загрузка данных**\n",
    "\n",
    "    - Загрузить данные из файла: /datasets/autos.csv.\n",
    "    \n",
    "2. **Изучение данных**\n",
    "\n",
    "    - Просмотреть структуру данных, типы столбцов и первые несколько строк.\n",
    "    - Выявить пропущенные значения и аномалии в данных.\n",
    "    \n",
    "3. **Обработка данных**\n",
    "\n",
    "    - Заполнить пропущенные значения в столбцах.\n",
    "    - Обработать аномалии в данных (выявление выбросов, некорректных значений).\n",
    "    \n",
    "\n",
    "4. **Подготовка выборок для обучения**\n",
    "\n",
    "    - Разделить данные на обучающую и тестовую выборки.\n",
    "    - Определить целевую переменную и признаки для обучения.\n",
    "\n",
    "5. **Обучение моделей**\n",
    "\n",
    "    - Обучить несколько моделей, включая:\n",
    "        - Модель LightGBM.\n",
    "        - По крайней мере одна модель, не использующая метод бустинга.\n",
    "    - Для каждой модели попробовать различные гиперпараметры и провести настройку.\n",
    "    \n",
    "6. **Анализ результатов**\n",
    "\n",
    "    - Измерить время обучения, время предсказания и качество каждой модели.\n",
    "    - Сравнить модели по критериям качества\n",
    "    \n",
    "    \n",
    "7. **Выбор лучшей модели**\n",
    "\n",
    "    - Определить наилучшую модель на основе критериев заказчика.\n",
    "    - Проверить качество выбранной модели на тестовой выборке.\n",
    "    \n",
    "    \n",
    "8. **Выводы**"
   ]
  },
  {
   "cell_type": "markdown",
   "id": "cce45df2",
   "metadata": {},
   "source": [
    "_____\n",
    "**Оглавление**\n",
    "\n",
    "[1. Загрузка данных](#step1)\n",
    "\n",
    "[2. Изучение данных](#step2)\n",
    "\n",
    "[3. Обработка данных](#step3)\n",
    "\n",
    "- [3.1 Поиск и обработка дубликатов](#step3.1)\n",
    "\n",
    "- [3.2 Заполнение пропусков](#step3.2)\n",
    "\n",
    "- [3.3 Удаление неинформативных признаков](#step3.3)\n",
    "\n",
    "- [3.4 Обработка аномалий](#step3.4)\n",
    "\n",
    "[4. Подготовка выборок для обучения](#step4)\n",
    "\n",
    "[5. Обучение моделей](#step5)\n",
    "\n",
    "- [5.1 Обучение LightGBM](#step5.1)\n",
    "\n",
    "- [5.2 Обучение линейной регрессии](#step5.2)\n",
    "\n",
    "[6. Анализ результатов](#step6)\n",
    "\n",
    "[7. Выводы](#step7)\n"
   ]
  },
  {
   "cell_type": "markdown",
   "id": "95b86d55",
   "metadata": {},
   "source": [
    "___"
   ]
  },
  {
   "cell_type": "code",
   "execution_count": 8,
   "id": "3d853817",
   "metadata": {},
   "outputs": [
    {
     "name": "stdout",
     "output_type": "stream",
     "text": [
      "Requirement already satisfied: lightgbm in e:\\anaconda\\lib\\site-packages (4.5.0)\n",
      "Requirement already satisfied: numpy>=1.17.0 in e:\\anaconda\\lib\\site-packages (from lightgbm) (1.26.4)\n",
      "Requirement already satisfied: scipy in e:\\anaconda\\lib\\site-packages (from lightgbm) (1.11.4)\n",
      "Note: you may need to restart the kernel to use updated packages.\n"
     ]
    }
   ],
   "source": [
    "pip install lightgbm"
   ]
  },
  {
   "cell_type": "code",
   "execution_count": 9,
   "id": "9c0a2aa9-3422-40ea-b634-8ed53ce9f08c",
   "metadata": {},
   "outputs": [
    {
     "name": "stdout",
     "output_type": "stream",
     "text": [
      "Requirement already satisfied: scikit-learn in e:\\anaconda\\lib\\site-packages (1.5.2)\n",
      "Requirement already satisfied: numpy>=1.19.5 in e:\\anaconda\\lib\\site-packages (from scikit-learn) (1.26.4)\n",
      "Requirement already satisfied: scipy>=1.6.0 in e:\\anaconda\\lib\\site-packages (from scikit-learn) (1.11.4)\n",
      "Requirement already satisfied: joblib>=1.2.0 in e:\\anaconda\\lib\\site-packages (from scikit-learn) (1.2.0)\n",
      "Requirement already satisfied: threadpoolctl>=3.1.0 in e:\\anaconda\\lib\\site-packages (from scikit-learn) (3.5.0)\n",
      "Note: you may need to restart the kernel to use updated packages.\n"
     ]
    }
   ],
   "source": [
    "pip install --upgrade scikit-learn"
   ]
  },
  {
   "cell_type": "code",
   "execution_count": 10,
   "id": "bf89fd46",
   "metadata": {},
   "outputs": [
    {
     "name": "stdout",
     "output_type": "stream",
     "text": [
      "Requirement already satisfied: missingno in e:\\anaconda\\lib\\site-packages (0.5.2)\n",
      "Requirement already satisfied: numpy in e:\\anaconda\\lib\\site-packages (from missingno) (1.26.4)\n",
      "Requirement already satisfied: matplotlib in e:\\anaconda\\lib\\site-packages (from missingno) (3.8.0)\n",
      "Requirement already satisfied: scipy in e:\\anaconda\\lib\\site-packages (from missingno) (1.11.4)\n",
      "Requirement already satisfied: seaborn in e:\\anaconda\\lib\\site-packages (from missingno) (0.12.2)\n",
      "Requirement already satisfied: contourpy>=1.0.1 in e:\\anaconda\\lib\\site-packages (from matplotlib->missingno) (1.2.0)\n",
      "Requirement already satisfied: cycler>=0.10 in e:\\anaconda\\lib\\site-packages (from matplotlib->missingno) (0.11.0)\n",
      "Requirement already satisfied: fonttools>=4.22.0 in e:\\anaconda\\lib\\site-packages (from matplotlib->missingno) (4.25.0)\n",
      "Requirement already satisfied: kiwisolver>=1.0.1 in e:\\anaconda\\lib\\site-packages (from matplotlib->missingno) (1.4.4)\n",
      "Requirement already satisfied: packaging>=20.0 in e:\\anaconda\\lib\\site-packages (from matplotlib->missingno) (23.1)\n",
      "Requirement already satisfied: pillow>=6.2.0 in e:\\anaconda\\lib\\site-packages (from matplotlib->missingno) (10.2.0)\n",
      "Requirement already satisfied: pyparsing>=2.3.1 in e:\\anaconda\\lib\\site-packages (from matplotlib->missingno) (3.0.9)\n",
      "Requirement already satisfied: python-dateutil>=2.7 in e:\\anaconda\\lib\\site-packages (from matplotlib->missingno) (2.8.2)\n",
      "Requirement already satisfied: pandas>=0.25 in e:\\anaconda\\lib\\site-packages (from seaborn->missingno) (2.1.4)\n",
      "Requirement already satisfied: pytz>=2020.1 in e:\\anaconda\\lib\\site-packages (from pandas>=0.25->seaborn->missingno) (2023.3.post1)\n",
      "Requirement already satisfied: tzdata>=2022.1 in e:\\anaconda\\lib\\site-packages (from pandas>=0.25->seaborn->missingno) (2023.3)\n",
      "Requirement already satisfied: six>=1.5 in e:\\anaconda\\lib\\site-packages (from python-dateutil>=2.7->matplotlib->missingno) (1.16.0)\n",
      "Note: you may need to restart the kernel to use updated packages.\n"
     ]
    }
   ],
   "source": [
    "pip install missingno"
   ]
  },
  {
   "cell_type": "code",
   "execution_count": 11,
   "id": "790f771b",
   "metadata": {},
   "outputs": [
    {
     "name": "stdout",
     "output_type": "stream",
     "text": [
      "Requirement already satisfied: phik in e:\\anaconda\\lib\\site-packages (0.12.4)\n",
      "Requirement already satisfied: numpy>=1.18.0 in e:\\anaconda\\lib\\site-packages (from phik) (1.26.4)\n",
      "Requirement already satisfied: scipy>=1.5.2 in e:\\anaconda\\lib\\site-packages (from phik) (1.11.4)\n",
      "Requirement already satisfied: pandas>=0.25.1 in e:\\anaconda\\lib\\site-packages (from phik) (2.1.4)\n",
      "Requirement already satisfied: matplotlib>=2.2.3 in e:\\anaconda\\lib\\site-packages (from phik) (3.8.0)\n",
      "Requirement already satisfied: joblib>=0.14.1 in e:\\anaconda\\lib\\site-packages (from phik) (1.2.0)\n",
      "Requirement already satisfied: contourpy>=1.0.1 in e:\\anaconda\\lib\\site-packages (from matplotlib>=2.2.3->phik) (1.2.0)\n",
      "Requirement already satisfied: cycler>=0.10 in e:\\anaconda\\lib\\site-packages (from matplotlib>=2.2.3->phik) (0.11.0)\n",
      "Requirement already satisfied: fonttools>=4.22.0 in e:\\anaconda\\lib\\site-packages (from matplotlib>=2.2.3->phik) (4.25.0)\n",
      "Requirement already satisfied: kiwisolver>=1.0.1 in e:\\anaconda\\lib\\site-packages (from matplotlib>=2.2.3->phik) (1.4.4)\n",
      "Requirement already satisfied: packaging>=20.0 in e:\\anaconda\\lib\\site-packages (from matplotlib>=2.2.3->phik) (23.1)\n",
      "Requirement already satisfied: pillow>=6.2.0 in e:\\anaconda\\lib\\site-packages (from matplotlib>=2.2.3->phik) (10.2.0)\n",
      "Requirement already satisfied: pyparsing>=2.3.1 in e:\\anaconda\\lib\\site-packages (from matplotlib>=2.2.3->phik) (3.0.9)\n",
      "Requirement already satisfied: python-dateutil>=2.7 in e:\\anaconda\\lib\\site-packages (from matplotlib>=2.2.3->phik) (2.8.2)\n",
      "Requirement already satisfied: pytz>=2020.1 in e:\\anaconda\\lib\\site-packages (from pandas>=0.25.1->phik) (2023.3.post1)\n",
      "Requirement already satisfied: tzdata>=2022.1 in e:\\anaconda\\lib\\site-packages (from pandas>=0.25.1->phik) (2023.3)\n",
      "Requirement already satisfied: six>=1.5 in e:\\anaconda\\lib\\site-packages (from python-dateutil>=2.7->matplotlib>=2.2.3->phik) (1.16.0)\n",
      "Note: you may need to restart the kernel to use updated packages.\n"
     ]
    }
   ],
   "source": [
    "pip install phik"
   ]
  },
  {
   "cell_type": "code",
   "execution_count": 12,
   "id": "7ff9ef13",
   "metadata": {},
   "outputs": [],
   "source": [
    "import numpy as np\n",
    "import pandas as pd\n",
    "from sklearn.model_selection import train_test_split, cross_val_score\n",
    "from sklearn.preprocessing import StandardScaler, OneHotEncoder\n",
    "from sklearn.compose import ColumnTransformer\n",
    "from sklearn.pipeline import Pipeline\n",
    "from sklearn.impute import SimpleImputer\n",
    "from sklearn.base import BaseEstimator, TransformerMixin\n",
    "from sklearn.linear_model import LinearRegression, Ridge\n",
    "from sklearn.model_selection import RandomizedSearchCV\n",
    "from sklearn.metrics import mean_squared_error\n",
    "import lightgbm as lgb\n",
    "from sklearn.datasets import make_regression\n",
    "import matplotlib.pyplot as plt\n",
    "import seaborn as sns\n",
    "import time\n",
    "import re\n",
    "import missingno as msno\n",
    "from phik.report import plot_correlation_matrix\n",
    "from phik import report"
   ]
  },
  {
   "cell_type": "code",
   "execution_count": null,
   "id": "d367b609",
   "metadata": {},
   "outputs": [],
   "source": []
  },
  {
   "cell_type": "markdown",
   "id": "fbf0c6a2",
   "metadata": {},
   "source": [
    "<a id='step1'></a>"
   ]
  },
  {
   "cell_type": "markdown",
   "id": "f7ee8cb2",
   "metadata": {},
   "source": [
    "## Загрузка данных"
   ]
  },
  {
   "cell_type": "code",
   "execution_count": 17,
   "id": "96ea8ae0",
   "metadata": {},
   "outputs": [],
   "source": [
    "try:\n",
    "    df = pd.read_csv('/datasets/autos.csv', parse_dates=['DateCrawled','DateCreated','LastSeen'])\n",
   ]
  },
  {
   "cell_type": "markdown",
   "id": "e6385516",
   "metadata": {},
   "source": [
    "<a id='step2'></a>"
   ]
  },
  {
   "cell_type": "markdown",
   "id": "1b77b1df",
   "metadata": {},
   "source": [
    "## Изучение данных"
   ]
  },
  {
   "cell_type": "code",
   "execution_count": 23,
   "id": "28dac392",
   "metadata": {},
   "outputs": [],
   "source": [
    "df.rename(columns=lambda x: re.sub(r'(?<!^)([A-Z])', r'_\\1', x).lower(), inplace=True)"
   ]
  },
  {
   "cell_type": "code",
   "execution_count": 24,
   "id": "4ff31685",
   "metadata": {},
   "outputs": [
    {
     "data": {
      "text/html": [
       "<div>\n",
       "<style scoped>\n",
       "    .dataframe tbody tr th:only-of-type {\n",
       "        vertical-align: middle;\n",
       "    }\n",
       "\n",
       "    .dataframe tbody tr th {\n",
       "        vertical-align: top;\n",
       "    }\n",
       "\n",
       "    .dataframe thead th {\n",
       "        text-align: right;\n",
       "    }\n",
       "</style>\n",
       "<table border=\"1\" class=\"dataframe\">\n",
       "  <thead>\n",
       "    <tr style=\"text-align: right;\">\n",
       "      <th></th>\n",
       "      <th>date_crawled</th>\n",
       "      <th>price</th>\n",
       "      <th>vehicle_type</th>\n",
       "      <th>registration_year</th>\n",
       "      <th>gearbox</th>\n",
       "      <th>power</th>\n",
       "      <th>model</th>\n",
       "      <th>kilometer</th>\n",
       "      <th>registration_month</th>\n",
       "      <th>fuel_type</th>\n",
       "      <th>brand</th>\n",
       "      <th>repaired</th>\n",
       "      <th>date_created</th>\n",
       "      <th>number_of_pictures</th>\n",
       "      <th>postal_code</th>\n",
       "      <th>last_seen</th>\n",
       "    </tr>\n",
       "  </thead>\n",
       "  <tbody>\n",
       "    <tr>\n",
       "      <th>0</th>\n",
       "      <td>2016-03-24 11:52:17</td>\n",
       "      <td>480</td>\n",
       "      <td>NaN</td>\n",
       "      <td>1993</td>\n",
       "      <td>manual</td>\n",
       "      <td>0</td>\n",
       "      <td>golf</td>\n",
       "      <td>150000</td>\n",
       "      <td>0</td>\n",
       "      <td>petrol</td>\n",
       "      <td>volkswagen</td>\n",
       "      <td>NaN</td>\n",
       "      <td>2016-03-24</td>\n",
       "      <td>0</td>\n",
       "      <td>70435</td>\n",
       "      <td>2016-04-07 03:16:57</td>\n",
       "    </tr>\n",
       "    <tr>\n",
       "      <th>1</th>\n",
       "      <td>2016-03-24 10:58:45</td>\n",
       "      <td>18300</td>\n",
       "      <td>coupe</td>\n",
       "      <td>2011</td>\n",
       "      <td>manual</td>\n",
       "      <td>190</td>\n",
       "      <td>NaN</td>\n",
       "      <td>125000</td>\n",
       "      <td>5</td>\n",
       "      <td>gasoline</td>\n",
       "      <td>audi</td>\n",
       "      <td>yes</td>\n",
       "      <td>2016-03-24</td>\n",
       "      <td>0</td>\n",
       "      <td>66954</td>\n",
       "      <td>2016-04-07 01:46:50</td>\n",
       "    </tr>\n",
       "    <tr>\n",
       "      <th>2</th>\n",
       "      <td>2016-03-14 12:52:21</td>\n",
       "      <td>9800</td>\n",
       "      <td>suv</td>\n",
       "      <td>2004</td>\n",
       "      <td>auto</td>\n",
       "      <td>163</td>\n",
       "      <td>grand</td>\n",
       "      <td>125000</td>\n",
       "      <td>8</td>\n",
       "      <td>gasoline</td>\n",
       "      <td>jeep</td>\n",
       "      <td>NaN</td>\n",
       "      <td>2016-03-14</td>\n",
       "      <td>0</td>\n",
       "      <td>90480</td>\n",
       "      <td>2016-04-05 12:47:46</td>\n",
       "    </tr>\n",
       "    <tr>\n",
       "      <th>3</th>\n",
       "      <td>2016-03-17 16:54:04</td>\n",
       "      <td>1500</td>\n",
       "      <td>small</td>\n",
       "      <td>2001</td>\n",
       "      <td>manual</td>\n",
       "      <td>75</td>\n",
       "      <td>golf</td>\n",
       "      <td>150000</td>\n",
       "      <td>6</td>\n",
       "      <td>petrol</td>\n",
       "      <td>volkswagen</td>\n",
       "      <td>no</td>\n",
       "      <td>2016-03-17</td>\n",
       "      <td>0</td>\n",
       "      <td>91074</td>\n",
       "      <td>2016-03-17 17:40:17</td>\n",
       "    </tr>\n",
       "    <tr>\n",
       "      <th>4</th>\n",
       "      <td>2016-03-31 17:25:20</td>\n",
       "      <td>3600</td>\n",
       "      <td>small</td>\n",
       "      <td>2008</td>\n",
       "      <td>manual</td>\n",
       "      <td>69</td>\n",
       "      <td>fabia</td>\n",
       "      <td>90000</td>\n",
       "      <td>7</td>\n",
       "      <td>gasoline</td>\n",
       "      <td>skoda</td>\n",
       "      <td>no</td>\n",
       "      <td>2016-03-31</td>\n",
       "      <td>0</td>\n",
       "      <td>60437</td>\n",
       "      <td>2016-04-06 10:17:21</td>\n",
       "    </tr>\n",
       "  </tbody>\n",
       "</table>\n",
       "</div>"
      ],
      "text/plain": [
       "         date_crawled  price vehicle_type  registration_year gearbox  power  \\\n",
       "0 2016-03-24 11:52:17    480          NaN               1993  manual      0   \n",
       "1 2016-03-24 10:58:45  18300        coupe               2011  manual    190   \n",
       "2 2016-03-14 12:52:21   9800          suv               2004    auto    163   \n",
       "3 2016-03-17 16:54:04   1500        small               2001  manual     75   \n",
       "4 2016-03-31 17:25:20   3600        small               2008  manual     69   \n",
       "\n",
       "   model  kilometer  registration_month fuel_type       brand repaired  \\\n",
       "0   golf     150000                   0    petrol  volkswagen      NaN   \n",
       "1    NaN     125000                   5  gasoline        audi      yes   \n",
       "2  grand     125000                   8  gasoline        jeep      NaN   \n",
       "3   golf     150000                   6    petrol  volkswagen       no   \n",
       "4  fabia      90000                   7  gasoline       skoda       no   \n",
       "\n",
       "  date_created  number_of_pictures  postal_code           last_seen  \n",
       "0   2016-03-24                   0        70435 2016-04-07 03:16:57  \n",
       "1   2016-03-24                   0        66954 2016-04-07 01:46:50  \n",
       "2   2016-03-14                   0        90480 2016-04-05 12:47:46  \n",
       "3   2016-03-17                   0        91074 2016-03-17 17:40:17  \n",
       "4   2016-03-31                   0        60437 2016-04-06 10:17:21  "
      ]
     },
     "execution_count": 24,
     "metadata": {},
     "output_type": "execute_result"
    }
   ],
   "source": [
    "df.head()"
   ]
  },
  {
   "cell_type": "code",
   "execution_count": 25,
   "id": "e304ef6c",
   "metadata": {},
   "outputs": [
    {
     "name": "stdout",
     "output_type": "stream",
     "text": [
      "<class 'pandas.core.frame.DataFrame'>\n",
      "RangeIndex: 354369 entries, 0 to 354368\n",
      "Data columns (total 16 columns):\n",
      " #   Column              Non-Null Count   Dtype         \n",
      "---  ------              --------------   -----         \n",
      " 0   date_crawled        354369 non-null  datetime64[ns]\n",
      " 1   price               354369 non-null  int64         \n",
      " 2   vehicle_type        316879 non-null  object        \n",
      " 3   registration_year   354369 non-null  int64         \n",
      " 4   gearbox             334536 non-null  object        \n",
      " 5   power               354369 non-null  int64         \n",
      " 6   model               334664 non-null  object        \n",
      " 7   kilometer           354369 non-null  int64         \n",
      " 8   registration_month  354369 non-null  int64         \n",
      " 9   fuel_type           321474 non-null  object        \n",
      " 10  brand               354369 non-null  object        \n",
      " 11  repaired            283215 non-null  object        \n",
      " 12  date_created        354369 non-null  datetime64[ns]\n",
      " 13  number_of_pictures  354369 non-null  int64         \n",
      " 14  postal_code         354369 non-null  int64         \n",
      " 15  last_seen           354369 non-null  datetime64[ns]\n",
      "dtypes: datetime64[ns](3), int64(7), object(6)\n",
      "memory usage: 43.3+ MB\n"
     ]
    }
   ],
   "source": [
    "df.info()"
   ]
  },
  {
   "cell_type": "markdown",
   "id": "9d0bfdb6",
   "metadata": {},
   "source": [
    "___\n",
    "В датасете 354 369 записей\n",
    "\n",
    "Тип данных для параметров автомобилей установлен верно. Столбцы DateCrawled и LastSeen для анализа не нужны, поэтому приводить их верному типу данных не будем\n",
    "\n",
    "Есть пропуски в данных, которые необходимо будет обработать\n",
    "____"
   ]
  },
  {
   "cell_type": "markdown",
   "id": "ee9892aa",
   "metadata": {},
   "source": [
    "<a id='step3'></a>"
   ]
  },
  {
   "cell_type": "markdown",
   "id": "9890130d",
   "metadata": {},
   "source": [
    "## Обработка данных"
   ]
  },
  {
   "cell_type": "markdown",
   "id": "591b2cf6",
   "metadata": {},
   "source": [
    "<a id='step3.1'></a>"
   ]
  },
  {
   "cell_type": "markdown",
   "id": "b2d31ac4",
   "metadata": {},
   "source": [
    "### Поиск и обработка дубликатов"
   ]
  },
  {
   "cell_type": "code",
   "execution_count": 36,
   "id": "0f1a9ae6",
   "metadata": {},
   "outputs": [
    {
     "name": "stdout",
     "output_type": "stream",
     "text": [
      "<class 'pandas.core.frame.DataFrame'>\n",
      "RangeIndex: 354369 entries, 0 to 354368\n",
      "Data columns (total 16 columns):\n",
      " #   Column              Non-Null Count   Dtype         \n",
      "---  ------              --------------   -----         \n",
      " 0   date_crawled        354369 non-null  datetime64[ns]\n",
      " 1   price               354369 non-null  int64         \n",
      " 2   vehicle_type        316879 non-null  object        \n",
      " 3   registration_year   354369 non-null  int64         \n",
      " 4   gearbox             334536 non-null  object        \n",
      " 5   power               354369 non-null  int64         \n",
      " 6   model               334664 non-null  object        \n",
      " 7   kilometer           354369 non-null  int64         \n",
      " 8   registration_month  354369 non-null  int64         \n",
      " 9   fuel_type           321474 non-null  object        \n",
      " 10  brand               354369 non-null  object        \n",
      " 11  repaired            283215 non-null  object        \n",
      " 12  date_created        354369 non-null  datetime64[ns]\n",
      " 13  number_of_pictures  354369 non-null  int64         \n",
      " 14  postal_code         354369 non-null  int64         \n",
      " 15  last_seen           354369 non-null  datetime64[ns]\n",
      "dtypes: datetime64[ns](3), int64(7), object(6)\n",
      "memory usage: 43.3+ MB\n"
     ]
    }
   ],
   "source": [
    "df.info()"
   ]
  },
  {
   "cell_type": "code",
   "execution_count": 37,
   "id": "f84760fa",
   "metadata": {},
   "outputs": [
    {
     "data": {
      "text/plain": [
       "array([nan, 'coupe', 'suv', 'small', 'sedan', 'convertible', 'bus',\n",
       "       'wagon', 'other'], dtype=object)"
      ]
     },
     "execution_count": 37,
     "metadata": {},
     "output_type": "execute_result"
    }
   ],
   "source": [
    "df['vehicle_type'].unique()"
   ]
  },
  {
   "cell_type": "code",
   "execution_count": 38,
   "id": "32f9505a",
   "metadata": {},
   "outputs": [
    {
     "data": {
      "text/plain": [
       "array(['manual', 'auto', nan], dtype=object)"
      ]
     },
     "execution_count": 38,
     "metadata": {},
     "output_type": "execute_result"
    }
   ],
   "source": [
    "df['gearbox'].unique()"
   ]
  },
  {
   "cell_type": "code",
   "execution_count": 39,
   "id": "8f84d3c9",
   "metadata": {},
   "outputs": [
    {
     "data": {
      "text/plain": [
       "array(['golf', nan, 'grand', 'fabia', '3er', '2_reihe', 'other', 'c_max',\n",
       "       '3_reihe', 'passat', 'navara', 'ka', 'polo', 'twingo', 'a_klasse',\n",
       "       'scirocco', '5er', 'meriva', 'arosa', 'c4', 'civic', 'transporter',\n",
       "       'punto', 'e_klasse', 'clio', 'kadett', 'kangoo', 'corsa', 'one',\n",
       "       'fortwo', '1er', 'b_klasse', 'signum', 'astra', 'a8', 'jetta',\n",
       "       'fiesta', 'c_klasse', 'micra', 'vito', 'sprinter', '156', 'escort',\n",
       "       'forester', 'xc_reihe', 'scenic', 'a4', 'a1', 'insignia', 'combo',\n",
       "       'focus', 'tt', 'a6', 'jazz', 'omega', 'slk', '7er', '80', '147',\n",
       "       '100', 'z_reihe', 'sportage', 'sorento', 'v40', 'ibiza', 'mustang',\n",
       "       'eos', 'touran', 'getz', 'a3', 'almera', 'megane', 'lupo', 'r19',\n",
       "       'zafira', 'caddy', 'mondeo', 'cordoba', 'colt', 'impreza',\n",
       "       'vectra', 'berlingo', 'tiguan', 'i_reihe', 'espace', 'sharan',\n",
       "       '6_reihe', 'panda', 'up', 'seicento', 'ceed', '5_reihe', 'yeti',\n",
       "       'octavia', 'mii', 'rx_reihe', '6er', 'modus', 'fox', 'matiz',\n",
       "       'beetle', 'c1', 'rio', 'touareg', 'logan', 'spider', 'cuore',\n",
       "       's_max', 'a2', 'galaxy', 'c3', 'viano', 's_klasse', '1_reihe',\n",
       "       'avensis', 'roomster', 'sl', 'kaefer', 'santa', 'cooper', 'leon',\n",
       "       '4_reihe', 'a5', '500', 'laguna', 'ptcruiser', 'clk', 'primera',\n",
       "       'x_reihe', 'exeo', '159', 'transit', 'juke', 'qashqai', 'carisma',\n",
       "       'accord', 'corolla', 'lanos', 'phaeton', 'verso', 'swift', 'rav',\n",
       "       'picanto', 'boxster', 'kalos', 'superb', 'stilo', 'alhambra',\n",
       "       'mx_reihe', 'roadster', 'ypsilon', 'cayenne', 'galant', 'justy',\n",
       "       '90', 'sirion', 'crossfire', 'agila', 'duster', 'cr_reihe', 'v50',\n",
       "       'c_reihe', 'v_klasse', 'm_klasse', 'yaris', 'c5', 'aygo', 'cc',\n",
       "       'carnival', 'fusion', '911', 'bora', 'forfour', 'm_reihe', 'cl',\n",
       "       'tigra', '300c', 'spark', 'v70', 'kuga', 'x_type', 'ducato',\n",
       "       's_type', 'x_trail', 'toledo', 'altea', 'voyager', 'calibra',\n",
       "       'bravo', 'antara', 'tucson', 'citigo', 'jimny', 'wrangler',\n",
       "       'lybra', 'q7', 'lancer', 'captiva', 'c2', 'discovery',\n",
       "       'freelander', 'sandero', 'note', '900', 'cherokee', 'clubman',\n",
       "       'samara', 'defender', '601', 'cx_reihe', 'legacy', 'pajero',\n",
       "       'auris', 'niva', 's60', 'nubira', 'vivaro', 'g_klasse', 'lodgy',\n",
       "       '850', 'range_rover', 'q3', 'serie_2', 'glk', 'charade', 'croma',\n",
       "       'outlander', 'doblo', 'musa', 'move', '9000', 'v60', '145', 'aveo',\n",
       "       '200', 'b_max', 'range_rover_sport', 'terios', 'rangerover', 'q5',\n",
       "       'range_rover_evoque', 'materia', 'delta', 'gl', 'kalina', 'amarok',\n",
       "       'elefantino', 'i3', 'kappa', 'serie_3', 'serie_1'], dtype=object)"
      ]
     },
     "execution_count": 39,
     "metadata": {},
     "output_type": "execute_result"
    }
   ],
   "source": [
    "df['model'].unique()"
   ]
  },
  {
   "cell_type": "code",
   "execution_count": 40,
   "id": "24e35d51",
   "metadata": {},
   "outputs": [
    {
     "data": {
      "text/plain": [
       "array(['petrol', 'gasoline', nan, 'lpg', 'other', 'hybrid', 'cng',\n",
       "       'electric'], dtype=object)"
      ]
     },
     "execution_count": 40,
     "metadata": {},
     "output_type": "execute_result"
    }
   ],
   "source": [
    "df['fuel_type'].unique()"
   ]
  },
  {
   "cell_type": "code",
   "execution_count": 42,
   "id": "7bfc2544",
   "metadata": {},
   "outputs": [],
   "source": [
    "df['fuel_type'].replace('gasoline', 'petrol', inplace=True)"
   ]
  },
  {
   "cell_type": "code",
   "execution_count": 53,
   "id": "7e15fb92",
   "metadata": {},
   "outputs": [
    {
     "data": {
      "text/plain": [
       "array(['volkswagen', 'audi', 'jeep', 'skoda', 'bmw', 'peugeot', 'ford',\n",
       "       'mazda', 'nissan', 'renault', 'mercedes_benz', 'opel', 'seat',\n",
       "       'citroen', 'honda', 'fiat', 'mini', 'smart', 'hyundai',\n",
       "       'sonstige_autos', 'alfa_romeo', 'subaru', 'volvo', 'mitsubishi',\n",
       "       'kia', 'suzuki', 'lancia', 'toyota', 'chevrolet', 'dacia',\n",
       "       'daihatsu', 'trabant', 'saab', 'chrysler', 'jaguar', 'daewoo',\n",
       "       'porsche', 'rover', 'land_rover', 'lada'], dtype=object)"
      ]
     },
     "execution_count": 53,
     "metadata": {},
     "output_type": "execute_result"
    }
   ],
   "source": [
    "df['brand'].unique()"
   ]
  },
  {
   "cell_type": "code",
   "execution_count": 55,
   "id": "4173e554",
   "metadata": {},
   "outputs": [
    {
     "data": {
      "text/plain": [
       "array([nan, 'yes', 'no'], dtype=object)"
      ]
     },
     "execution_count": 55,
     "metadata": {},
     "output_type": "execute_result"
    }
   ],
   "source": [
    "df['repaired'].unique()"
   ]
  },
  {
   "cell_type": "code",
   "execution_count": 57,
   "id": "f555c5e1",
   "metadata": {},
   "outputs": [
    {
     "data": {
      "text/plain": [
       "4"
      ]
     },
     "execution_count": 57,
     "metadata": {},
     "output_type": "execute_result"
    }
   ],
   "source": [
    "df.duplicated().sum()"
   ]
  },
  {
   "cell_type": "code",
   "execution_count": 59,
   "id": "97ef6d53",
   "metadata": {},
   "outputs": [],
   "source": [
    "df.drop_duplicates(inplace=True)"
   ]
  },
  {
   "cell_type": "markdown",
   "id": "617acbcf",
   "metadata": {},
   "source": [
    "____\n",
    "Неявных дубликатов не обнаружено, дубликаты удалены\n",
    "____"
   ]
  },
  {
   "cell_type": "markdown",
   "id": "941db639",
   "metadata": {},
   "source": [
    "<a id='step3.2'></a>"
   ]
  },
  {
   "cell_type": "markdown",
   "id": "c5f6fc66",
   "metadata": {},
   "source": [
    "### Заполнение пропусков"
   ]
  },
  {
   "cell_type": "code",
   "execution_count": 61,
   "id": "e51c96c8",
   "metadata": {},
   "outputs": [
    {
     "data": {
      "text/plain": [
       "date_crawled              0\n",
       "price                     0\n",
       "vehicle_type          37490\n",
       "registration_year         0\n",
       "gearbox               19833\n",
       "power                     0\n",
       "model                 19705\n",
       "kilometer                 0\n",
       "registration_month        0\n",
       "fuel_type             32895\n",
       "brand                     0\n",
       "repaired              71154\n",
       "date_created              0\n",
       "number_of_pictures        0\n",
       "postal_code               0\n",
       "last_seen                 0\n",
       "dtype: int64"
      ]
     },
     "execution_count": 61,
     "metadata": {},
     "output_type": "execute_result"
    }
   ],
   "source": [
    "df.isna().sum()"
   ]
  },
  {
   "cell_type": "code",
   "execution_count": 63,
   "id": "a25b372e",
   "metadata": {},
   "outputs": [
    {
     "name": "stderr",
     "output_type": "stream",
     "text": [
      "E:\\Anaconda\\Lib\\site-packages\\seaborn\\matrix.py:260: FutureWarning: Format strings passed to MaskedConstant are ignored, but in future may error or produce different behavior\n",
      "  annotation = (\"{:\" + self.fmt + \"}\").format(val)\n"
     ]
    },
    {
     "ename": "ValueError",
     "evalue": "could not convert string to float: '--'",
     "output_type": "error",
     "traceback": [
      "\u001b[1;31m---------------------------------------------------------------------------\u001b[0m",
      "\u001b[1;31mValueError\u001b[0m                                Traceback (most recent call last)",
      "Cell \u001b[1;32mIn[63], line 1\u001b[0m\n\u001b[1;32m----> 1\u001b[0m msno\u001b[38;5;241m.\u001b[39mheatmap(df)\n\u001b[0;32m      2\u001b[0m plt\u001b[38;5;241m.\u001b[39mtitle(\u001b[38;5;124m'\u001b[39m\u001b[38;5;124mТепловая карта корреляции пропущенных значений\u001b[39m\u001b[38;5;124m'\u001b[39m)\n\u001b[0;32m      3\u001b[0m plt\u001b[38;5;241m.\u001b[39mxlabel(\u001b[38;5;124m'\u001b[39m\u001b[38;5;124mСтолбцы\u001b[39m\u001b[38;5;124m'\u001b[39m)\n",
      "File \u001b[1;32mE:\\Anaconda\\Lib\\site-packages\\missingno\\missingno.py:398\u001b[0m, in \u001b[0;36mheatmap\u001b[1;34m(df, filter, n, p, sort, figsize, fontsize, labels, label_rotation, cmap, vmin, vmax, cbar, ax)\u001b[0m\n\u001b[0;32m    395\u001b[0m ax0\u001b[38;5;241m.\u001b[39mpatch\u001b[38;5;241m.\u001b[39mset_visible(\u001b[38;5;28;01mFalse\u001b[39;00m)\n\u001b[0;32m    397\u001b[0m \u001b[38;5;28;01mfor\u001b[39;00m text \u001b[38;5;129;01min\u001b[39;00m ax0\u001b[38;5;241m.\u001b[39mtexts:\n\u001b[1;32m--> 398\u001b[0m     t \u001b[38;5;241m=\u001b[39m \u001b[38;5;28mfloat\u001b[39m(text\u001b[38;5;241m.\u001b[39mget_text())\n\u001b[0;32m    399\u001b[0m     \u001b[38;5;28;01mif\u001b[39;00m \u001b[38;5;241m0.95\u001b[39m \u001b[38;5;241m<\u001b[39m\u001b[38;5;241m=\u001b[39m t \u001b[38;5;241m<\u001b[39m \u001b[38;5;241m1\u001b[39m:\n\u001b[0;32m    400\u001b[0m         text\u001b[38;5;241m.\u001b[39mset_text(\u001b[38;5;124m'\u001b[39m\u001b[38;5;124m<1\u001b[39m\u001b[38;5;124m'\u001b[39m)\n",
      "\u001b[1;31mValueError\u001b[0m: could not convert string to float: '--'"
     ]
    },
    {
     "data": {
      "image/png": "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",
      "text/plain": [
       "<Figure size 2000x1200 with 2 Axes>"
      ]
     },
     "metadata": {},
     "output_type": "display_data"
    }
   ],
   "source": [
    "msno.heatmap(df)\n",
    "plt.title('Тепловая карта корреляции пропущенных значений')\n",
    "plt.xlabel('Столбцы')\n",
    "plt.ylabel('Столбцы')\n",
    "plt.show()"
   ]
  },
  {
   "cell_type": "code",
   "execution_count": 68,
   "id": "44f4c304",
   "metadata": {},
   "outputs": [],
   "source": [
    "df['repaired'].fillna('unknown', inplace=True)"
   ]
  },
  {
   "cell_type": "code",
   "execution_count": 70,
   "id": "7931013a",
   "metadata": {},
   "outputs": [],
   "source": [
    "def fill_missing_values(df, fill_missing_features, groupby_columns):\n",
    "    \n",
    "    for target_column in fill_missing_features:\n",
    "        # Получаем моды для каждой группы\n",
    "        mode_values = df.groupby(groupby_columns)[target_column].agg(lambda x: x.mode().iloc[0] \n",
    "                                                                     if not x.mode().empty else np.nan)\n",
    "\n",
    "        # Функция для заполнения пропусков\n",
    "        def fill_mode(row):\n",
    "            # Получаем моду группы\n",
    "            mode_value = mode_values.get((row[groupby_columns[0]], row[groupby_columns[1]]), np.nan)\n",
    "            if pd.isna(row[target_column]):\n",
    "                return mode_value\n",
    "            return row[target_column]\n",
    "\n",
    "        # Применяем функцию заполнения к каждому ряду\n",
    "        df[target_column] = df.apply(fill_mode, axis=1)\n",
    "\n",
    "    return df"
   ]
  },
  {
   "cell_type": "code",
   "execution_count": 72,
   "id": "3466ce4c",
   "metadata": {},
   "outputs": [],
   "source": [
    "fill_missing_features = ['vehicle_type', 'fuel_type', 'gearbox']\n",
    "groupby_column = ['model', 'brand']"
   ]
  },
  {
   "cell_type": "code",
   "execution_count": 74,
   "id": "929c0004",
   "metadata": {},
   "outputs": [],
   "source": [
    "df = fill_missing_values(df, fill_missing_features, groupby_column)"
   ]
  },
  {
   "cell_type": "code",
   "execution_count": 75,
   "id": "b50655e3",
   "metadata": {},
   "outputs": [],
   "source": [
    "df.dropna(inplace=True)"
   ]
  },
  {
   "cell_type": "code",
   "execution_count": 76,
   "id": "ef001d61",
   "metadata": {},
   "outputs": [
    {
     "data": {
      "text/plain": [
       "date_crawled          0\n",
       "price                 0\n",
       "vehicle_type          0\n",
       "registration_year     0\n",
       "gearbox               0\n",
       "power                 0\n",
       "model                 0\n",
       "kilometer             0\n",
       "registration_month    0\n",
       "fuel_type             0\n",
       "brand                 0\n",
       "repaired              0\n",
       "date_created          0\n",
       "number_of_pictures    0\n",
       "postal_code           0\n",
       "last_seen             0\n",
       "dtype: int64"
      ]
     },
     "execution_count": 76,
     "metadata": {},
     "output_type": "execute_result"
    }
   ],
   "source": [
    "df.isna().sum()"
   ]
  },
  {
   "cell_type": "markdown",
   "id": "0ff6910c",
   "metadata": {},
   "source": [
    "___\n",
    "- Пропуски в столбцах были заполнены модальным значением, сгруппированным по столбцам Brand и Model.\n",
    "\n",
    "- Пропуски в столбце Repaired заменил значением 'unknown'\n",
    "\n",
    "- Строки с пропусками в столбце Model были удалены\n",
    "___\n"
   ]
  },
  {
   "cell_type": "markdown",
   "id": "23226fd9",
   "metadata": {},
   "source": [
    "<a id='step3.3'></a>"
   ]
  },
  {
   "cell_type": "markdown",
   "id": "0d6ad557",
   "metadata": {},
   "source": [
    "###  Удаление неинформативных признаков"
   ]
  },
  {
   "cell_type": "code",
   "execution_count": 81,
   "id": "73cbf523",
   "metadata": {},
   "outputs": [],
   "source": [
    "df.drop(columns=['date_crawled','date_created',\n",
    "                 'number_of_pictures','last_seen','postal_code','registration_month'], inplace=True)"
   ]
  },
  {
   "cell_type": "code",
   "execution_count": 82,
   "id": "205b5a98",
   "metadata": {},
   "outputs": [
    {
     "data": {
      "text/html": [
       "<div>\n",
       "<style scoped>\n",
       "    .dataframe tbody tr th:only-of-type {\n",
       "        vertical-align: middle;\n",
       "    }\n",
       "\n",
       "    .dataframe tbody tr th {\n",
       "        vertical-align: top;\n",
       "    }\n",
       "\n",
       "    .dataframe thead th {\n",
       "        text-align: right;\n",
       "    }\n",
       "</style>\n",
       "<table border=\"1\" class=\"dataframe\">\n",
       "  <thead>\n",
       "    <tr style=\"text-align: right;\">\n",
       "      <th></th>\n",
       "      <th>price</th>\n",
       "      <th>vehicle_type</th>\n",
       "      <th>registration_year</th>\n",
       "      <th>gearbox</th>\n",
       "      <th>power</th>\n",
       "      <th>model</th>\n",
       "      <th>kilometer</th>\n",
       "      <th>fuel_type</th>\n",
       "      <th>brand</th>\n",
       "      <th>repaired</th>\n",
       "    </tr>\n",
       "  </thead>\n",
       "  <tbody>\n",
       "    <tr>\n",
       "      <th>0</th>\n",
       "      <td>480</td>\n",
       "      <td>sedan</td>\n",
       "      <td>1993</td>\n",
       "      <td>manual</td>\n",
       "      <td>0</td>\n",
       "      <td>golf</td>\n",
       "      <td>150000</td>\n",
       "      <td>petrol</td>\n",
       "      <td>volkswagen</td>\n",
       "      <td>unknown</td>\n",
       "    </tr>\n",
       "    <tr>\n",
       "      <th>2</th>\n",
       "      <td>9800</td>\n",
       "      <td>suv</td>\n",
       "      <td>2004</td>\n",
       "      <td>auto</td>\n",
       "      <td>163</td>\n",
       "      <td>grand</td>\n",
       "      <td>125000</td>\n",
       "      <td>petrol</td>\n",
       "      <td>jeep</td>\n",
       "      <td>unknown</td>\n",
       "    </tr>\n",
       "    <tr>\n",
       "      <th>3</th>\n",
       "      <td>1500</td>\n",
       "      <td>small</td>\n",
       "      <td>2001</td>\n",
       "      <td>manual</td>\n",
       "      <td>75</td>\n",
       "      <td>golf</td>\n",
       "      <td>150000</td>\n",
       "      <td>petrol</td>\n",
       "      <td>volkswagen</td>\n",
       "      <td>no</td>\n",
       "    </tr>\n",
       "    <tr>\n",
       "      <th>4</th>\n",
       "      <td>3600</td>\n",
       "      <td>small</td>\n",
       "      <td>2008</td>\n",
       "      <td>manual</td>\n",
       "      <td>69</td>\n",
       "      <td>fabia</td>\n",
       "      <td>90000</td>\n",
       "      <td>petrol</td>\n",
       "      <td>skoda</td>\n",
       "      <td>no</td>\n",
       "    </tr>\n",
       "    <tr>\n",
       "      <th>5</th>\n",
       "      <td>650</td>\n",
       "      <td>sedan</td>\n",
       "      <td>1995</td>\n",
       "      <td>manual</td>\n",
       "      <td>102</td>\n",
       "      <td>3er</td>\n",
       "      <td>150000</td>\n",
       "      <td>petrol</td>\n",
       "      <td>bmw</td>\n",
       "      <td>yes</td>\n",
       "    </tr>\n",
       "  </tbody>\n",
       "</table>\n",
       "</div>"
      ],
      "text/plain": [
       "   price vehicle_type  registration_year gearbox  power  model  kilometer  \\\n",
       "0    480        sedan               1993  manual      0   golf     150000   \n",
       "2   9800          suv               2004    auto    163  grand     125000   \n",
       "3   1500        small               2001  manual     75   golf     150000   \n",
       "4   3600        small               2008  manual     69  fabia      90000   \n",
       "5    650        sedan               1995  manual    102    3er     150000   \n",
       "\n",
       "  fuel_type       brand repaired  \n",
       "0    petrol  volkswagen  unknown  \n",
       "2    petrol        jeep  unknown  \n",
       "3    petrol  volkswagen       no  \n",
       "4    petrol       skoda       no  \n",
       "5    petrol         bmw      yes  "
      ]
     },
     "execution_count": 82,
     "metadata": {},
     "output_type": "execute_result"
    }
   ],
   "source": [
    "df.head()"
   ]
  },
  {
   "cell_type": "markdown",
   "id": "bd53bf0a",
   "metadata": {},
   "source": [
    "____\n",
    "Удалили неинформативными для предсказания признаки, которые не относятся к характеристикам автомобиля, такие как:\n",
    " - DateCrawled — дата скачивания анкеты из базы, не влияет на предсказание стоимости автомобиля\n",
    " - RegistrationMonth — месяц регистрации автомобиля (покупателя и продавца больше интересует год, нежели месяц регистрации)\n",
    " - DateCreated — дата создания анкеты, не влияет на предсказание стоимости автомобиля\n",
    " - NumberOfPictures — количество фотографий автомобиля, не влияет на предсказание стоимости автомобиля\n",
    " - PostalCode — почтовый индекс владельца анкеты (пользователя), не влияет на предсказание стоимости автомобиля\n",
    " - LastSeen — дата последней активности пользователя, не влияет на предсказание стоимости автомобиля\n",
    "___"
   ]
  },
  {
   "cell_type": "markdown",
   "id": "caee12b6",
   "metadata": {},
   "source": [
    "<a id='step3.4'></a>"
   ]
  },
  {
   "cell_type": "markdown",
   "id": "8b670e78",
   "metadata": {},
   "source": [
    "###  Обработка аномалий"
   ]
  },
  {
   "cell_type": "code",
   "execution_count": 88,
   "id": "0c871aab",
   "metadata": {},
   "outputs": [
    {
     "data": {
      "text/html": [
       "<div>\n",
       "<style scoped>\n",
       "    .dataframe tbody tr th:only-of-type {\n",
       "        vertical-align: middle;\n",
       "    }\n",
       "\n",
       "    .dataframe tbody tr th {\n",
       "        vertical-align: top;\n",
       "    }\n",
       "\n",
       "    .dataframe thead th {\n",
       "        text-align: right;\n",
       "    }\n",
       "</style>\n",
       "<table border=\"1\" class=\"dataframe\">\n",
       "  <thead>\n",
       "    <tr style=\"text-align: right;\">\n",
       "      <th></th>\n",
       "      <th>price</th>\n",
       "      <th>registration_year</th>\n",
       "      <th>power</th>\n",
       "      <th>kilometer</th>\n",
       "    </tr>\n",
       "  </thead>\n",
       "  <tbody>\n",
       "    <tr>\n",
       "      <th>count</th>\n",
       "      <td>334660.000000</td>\n",
       "      <td>334660.000000</td>\n",
       "      <td>334660.000000</td>\n",
       "      <td>334660.000000</td>\n",
       "    </tr>\n",
       "    <tr>\n",
       "      <th>mean</th>\n",
       "      <td>4504.372249</td>\n",
       "      <td>2003.924024</td>\n",
       "      <td>111.372659</td>\n",
       "      <td>128562.795076</td>\n",
       "    </tr>\n",
       "    <tr>\n",
       "      <th>std</th>\n",
       "      <td>4531.457109</td>\n",
       "      <td>69.377633</td>\n",
       "      <td>185.157391</td>\n",
       "      <td>37205.638630</td>\n",
       "    </tr>\n",
       "    <tr>\n",
       "      <th>min</th>\n",
       "      <td>0.000000</td>\n",
       "      <td>1000.000000</td>\n",
       "      <td>0.000000</td>\n",
       "      <td>5000.000000</td>\n",
       "    </tr>\n",
       "    <tr>\n",
       "      <th>25%</th>\n",
       "      <td>1150.000000</td>\n",
       "      <td>1999.000000</td>\n",
       "      <td>70.000000</td>\n",
       "      <td>125000.000000</td>\n",
       "    </tr>\n",
       "    <tr>\n",
       "      <th>50%</th>\n",
       "      <td>2800.000000</td>\n",
       "      <td>2003.000000</td>\n",
       "      <td>105.000000</td>\n",
       "      <td>150000.000000</td>\n",
       "    </tr>\n",
       "    <tr>\n",
       "      <th>75%</th>\n",
       "      <td>6500.000000</td>\n",
       "      <td>2008.000000</td>\n",
       "      <td>143.000000</td>\n",
       "      <td>150000.000000</td>\n",
       "    </tr>\n",
       "    <tr>\n",
       "      <th>max</th>\n",
       "      <td>20000.000000</td>\n",
       "      <td>9999.000000</td>\n",
       "      <td>20000.000000</td>\n",
       "      <td>150000.000000</td>\n",
       "    </tr>\n",
       "  </tbody>\n",
       "</table>\n",
       "</div>"
      ],
      "text/plain": [
       "               price  registration_year          power      kilometer\n",
       "count  334660.000000      334660.000000  334660.000000  334660.000000\n",
       "mean     4504.372249        2003.924024     111.372659  128562.795076\n",
       "std      4531.457109          69.377633     185.157391   37205.638630\n",
       "min         0.000000        1000.000000       0.000000    5000.000000\n",
       "25%      1150.000000        1999.000000      70.000000  125000.000000\n",
       "50%      2800.000000        2003.000000     105.000000  150000.000000\n",
       "75%      6500.000000        2008.000000     143.000000  150000.000000\n",
       "max     20000.000000        9999.000000   20000.000000  150000.000000"
      ]
     },
     "execution_count": 88,
     "metadata": {},
     "output_type": "execute_result"
    }
   ],
   "source": [
    "df.describe()"
   ]
  },
  {
   "cell_type": "code",
   "execution_count": 89,
   "id": "611a42d8",
   "metadata": {},
   "outputs": [],
   "source": [
    "def create_combined_plot(data, attr):\n",
    "    for i in attr:\n",
    "        # Создаем subplots с двумя столбцами для каждого признака\n",
    "        fig, axes = plt.subplots(1, 2, figsize=(15, 6))\n",
    "\n",
    "        # Гистограмма с медианой\n",
    "        data[i].hist(bins=30, ax=axes[0])\n",
    "        median = data[i].median()\n",
    "        axes[0].axvline(median, color='red', linestyle='dashed', linewidth=2, label=f'Медиана: {median:.2f}')\n",
    "        axes[0].set_title(f'Распределение {i}')\n",
    "        axes[0].set_xlabel(i)\n",
    "        axes[0].set_ylabel('Количество')\n",
    "        axes[0].legend()\n",
    "\n",
    "        # Ящик с усами\n",
    "        axes[1].boxplot(data[i], vert=False)\n",
    "        axes[1].set_title(f'График ящик с усами для {i}')\n",
    "        axes[1].set_xlabel(i)\n",
    "\n",
    "        # Настройка лэйаута и отображение графиков\n",
    "        plt.tight_layout()\n",
    "        plt.show()"
   ]
  },
  {
   "cell_type": "code",
   "execution_count": 90,
   "id": "5f4a9048",
   "metadata": {},
   "outputs": [
    {
     "data": {
      "image/png": "iVBORw0KGgoAAAANSUhEUgAABdEAAAJOCAYAAABYwk4SAAAAOXRFWHRTb2Z0d2FyZQBNYXRwbG90bGliIHZlcnNpb24zLjguMCwgaHR0cHM6Ly9tYXRwbG90bGliLm9yZy81sbWrAAAACXBIWXMAAA9hAAAPYQGoP6dpAACAs0lEQVR4nOzdeViVdf7/8ddhXwQEERH3NpfQMi1Fx9BUzL1tnKIYbTEdFyJ1SutXopWamtpoaTmNVlq2aqMWgUua45KZVi5ZluYG6iSyKLLevz/8csYD3Ec4Ijfq83FdXHTu+3Pu+33eHPI+Lz7nc2yGYRgCAAAAAAAAAACluFldAAAAAAAAAAAA1RUhOgAAAAAAAAAAJgjRAQAAAAAAAAAwQYgOAAAAAAAAAIAJQnQAAAAAAAAAAEwQogMAAAAAAAAAYIIQHQAAAAAAAAAAE4ToAAAAAAAAAACYIEQHAAAAAAAAAMAEIToAVNDChQtls9nsXx4eHqpfv74efvhhHTlyxOrycAVr3LixBg0aZHUZAACgCpS85iz5deDAgSqtp0+fPmrcuHGVnhO4GthsNiUmJlpdBoAL8LC6AAC4XC1YsEDNmjVTTk6O1q9fr8mTJ2vdunX68ccf5e/vb3V5uAItXbpUgYGBVpcBAACqUPE1Z0l169a1oBoAlW3Tpk2qX7++1WUAuABCdABwUWRkpNq2bStJ6tKliwoLC/XCCy9o2bJlevDBBy2uDleSnJwc+fr6qnXr1laXAgAAqtj515wArgyGYejs2bPy9fVV+/btrS4HQDmwnAsAVJLii5/ff/9dknTixAkNGzZMLVq0UI0aNRQWFqY77rhDX3/9dan75ubmauLEiWrevLl8fHxUq1YtdenSRRs3brSPcfZ23vPfWnvgwAHZbDZNnTpVL730kho2bCgfHx+1bdtWq1evLnXuX375RbGxsQoLC5O3t7eaN2+u1157rczHmJiYWOb5O3fuXGrsqlWr1LVrVwUGBsrPz08dO3Ys8/zSuWVKyjruV1995TDugw8+UFRUlPz9/VWjRg316NFD27dvdxgzaNAg1ahRo9Q5Pv7441LH7Ny5c6nav/76a/v5z2cYhl5//XXdfPPN8vX1VXBwsO677z799ttvZT6m8xX3bfv27brnnnsUGBiooKAgPfTQQzpx4kSpXvTp00effvqpWrduLR8fH02YMMG+r+RyLqdOndLo0aN1zTXXyNvbW2FhYerVq5d++ukn+5i8vDy9+OKLatasmby9vVW7dm09/PDDpc4NAAAuP8XLvqSkpOjhhx9WSEiI/P391bdv31LXKSkpKerfv7/q168vHx8fXXfddRoyZIj++9//ljru7NmzFRERoZo1a+r555+3b3/nnXfs20eNGqXCwkL7vq+++qrMa7hu3bqVWrKi+ProfMuXL5e3t7eefPLJCz7uX375Rffdd58iIiLk7u7ucA1ZrPi6ePr06Q73jYyMLHUNOH369FLL5BT39vxt+fn5at68uWw2mxYuXGjfPmjQoFLL3cybN09ubm6aNWvWBR9Pea7pSnr00UcVEhKiM2fOlNp3xx136MYbb7TfLioq0uzZs+3XsjVr1lT79u3173//2z7mgw8+UExMjOrWrStfX181b95cY8eO1enTpx2OPWjQINlsNkVGRpY674QJE2Sz2Updj5e1ZMkLL7xg+lqiLMXPr7K+ylKe1xjZ2dlKSEhQkyZN5OXl5fS1SEnFrzt27dqlrl27yt/fX7Vr19aIESNK/UxsNptGjBihefPmqXnz5vL29tbbb79t2psjR47o8ccfV4MGDeTl5aWIiAjdd999OnbsmH1MZmamxowZY6+9Xr16SkhIKPXzAlA5CNEBoJLs27dPklS7dm1J0smTJyVJ48eP18qVK7VgwQJdc8016ty5s8MFWUFBgXr27KkXXnhBffr00dKlS7Vw4UJ16NBBBw8edDjHfffdp02bNjl8dezYscx65syZo6SkJM2aNUuLFi2Sm5ubevbsqU2bNtnH7N69W7feeqt27typV155RStWrFDv3r0VHx9vD27LkpSUZD//NddcU2r/okWLFBMTo8DAQL399tv68MMPFRISoh49epgG6b169bIfs6wQf9KkSXrggQfUokULffjhh3r33XeVlZWlTp06affu3aa1VkRhYaGGDx8ud3f3UvuGDBmihIQEdevWTcuWLdPrr7+uXbt2qUOHDg4Xs87cfffduu666/Txxx8rMTFRy5YtU48ePZSfn+8w7rvvvtPf//53xcfHKykpSffee2+Zx8vKytKf/vQnvfHGG3r44Ye1fPlyzZs3TzfccINSU1MlnXvB1L9/f02ZMkWxsbFauXKlpkyZopSUFHXu3Fk5OTkV7BIAAKiOHn30Ubm5uem9997TrFmz9M0336hz5846deqUfcyvv/6qqKgozZ07V8nJyXr++ee1ZcsW/elPf3K4Hlm2bJni4+PVs2dPffjhh/rtt9/01Vdf6dixY1q4cKEWLFighIQE/eMf/9DEiROd1vXhhx9eMIyUpBUrVui+++7TsGHDNHPmzAuO79u3rzZs2KBJkybp66+/1qZNm3Tfffdd8H4Xa+bMmfrll18uOO6NN97QsGHDNGPGDCUkJDgdW55rurI88cQTSk9P13vvveewfffu3Vq7dq2GDx9u3zZo0CA98cQTuvXWW/XBBx9oyZIl6tevn8MfCH755Rf16tVLb731lpKSkpSQkKAPP/xQffv2LXVuLy8v/f7771qzZo19W0FBgd58803VqlXrAt05N/Fo8uTJZV53X8ikSZPsrxsu9DO/0GuM0aNHa86cORo8eLBWrVqlTZs2adKkSeWuJT8/X7169VLXrl21bNkyjRgxQm+88Yb+8pe/lBq7bNkyzZ07V88//7y+/PJLderUqcxjHjlyRLfeequWLl2qUaNG6YsvvtCsWbMUFBSk9PR0SdKZM2cUHR2tt99+W/Hx8friiy/09NNPa+HCherXr58Mwyj3YwBQTgYAoEIWLFhgSDI2b95s5OfnG1lZWcaKFSuM2rVrGwEBAUZaWlqZ9ysoKDDy8/ONrl27Gnfffbd9+zvvvGNIMubPn+/0vJKM4cOHl9reu3dvo1GjRvbb+/fvNyQZERERRk5Ojn17ZmamERISYnTr1s2+rUePHkb9+vWNjIwMh2OOGDHC8PHxMU6ePOmwfezYsYYkh+033nijER0dbb99+vRpIyQkxOjbt6/DfQsLC42bbrrJuO2220o9hrp16xqPPvqo/fbatWsNScbatWsNwzCMgwcPGh4eHsbIkSMd7peVlWWEh4cbAwYMsG8bOHCg4e/vX+ocH330kcMxDcMwoqOjHWqfNWuW4e/vbzzyyCPG+f9Ebtq0yZBkvPLKKw7HPHTokOHr62s89dRTpc53vvHjxxuSjCeffNJh++LFiw1JxqJFi+zbGjVqZLi7uxt79+4tdZxGjRoZAwcOtN+eOHGiIclISUkxPff7779vSDI++eQTh+1bt241JBmvv/6609oBAIA1iq85t27dWq5x519fGoZh/Oc//zEkGS+++GKZ9ysqKjLy8/ON33//3ZBkfPbZZ/Z9bdq0MaKiohzGtm3b1ggJCTGys7Pt24cNG2YEBgYaWVlZhmGUvobLzs426tevb8THxxuSjPHjx9vvW3x9ZBiGsXz5csPLy8tISEi4cGMMwzhx4oQhyXjuuecctg8fPtzhGq74unjatGkO40pevxqGYUybNs2QZOzfv9++rbi3xdsOHz5s1KhRw/54FixYYB87cOBA+zX5vHnzDJvNZsycObNcj6c813RmoqOjjZtvvtlh29/+9jeHn8v69esNScazzz5b7uMWPz/WrVtnSDK+//57+77i6+2//e1vDs+7JUuWGBEREcaDDz5Y6nq85M//rrvuMlq3bm106tSp1M/CTFJSkiHJ+PTTT+3bSv7Mz3eh1xiGce650KlTJ4f7lfW6oSwDBw40JBmvvvqqw/aXXnrJkGRs2LDBvk2SERQUVOr1VfG+83vzyCOPGJ6ensbu3btNzz158mTDzc2t1P8fPv74Y0OS8fnnnzutHUDFMRMdAFzUvn17eXp6KiAgQH369FF4eLi++OIL1alTxz5m3rx5uuWWW+Tj4yMPDw95enpq9erV2rNnj33MF198IR8fHz3yyCOVWt8999wjHx8f++2AgAD17dtX69evV2Fhoc6ePavVq1fr7rvvlp+fnwoKCuxfvXr10tmzZ7V582aHY2ZnZ0uS/Pz8TM+7ceNGnTx5UgMHDnQ4ZlFRke68805t3bq11FsMc3JyHGot6csvv1RBQYH++te/OhzTx8dH0dHRZc5uOn9c8fmdOXbsmMaPH6/nnntODRo0cNi3YsUK2Ww2PfTQQw7HDA8P10033VSu2VWSSq2VP2DAAHl4eGjt2rUO21u1aqUbbrjhgsf74osvdMMNN6hbt26mY1asWKGaNWuqb9++DrXffPPNCg8PL3ftAACgeit5ndGhQwc1atTI4Trj+PHjGjp0qBo0aGC/Nm3UqJEk2a9PCwsL9f3336tLly72+9lsNtWpU0cBAQHy9/e3b7/jjjuUmZmpn3/+ucyaJk6cqPz8fKez1VeuXKl7771XN998c7lmoEtScHCwQkJCtGzZMu3atUt5eXkqKCi45LNvR40apcaNG2vkyJGmY95880397W9/03333XfBGejFynNNZ+aJJ57Qjh079J///EfSuSU+3n33XQ0cONC+pMoXX3whSQ4z08vy22+/KTY2VuHh4XJ3d5enp6eio6MlyeH1S7ERI0Zo+fLl9nfPzp49W0OGDJGHh/OP30tKStJnn32m1157TW5u5Y+lyvNa5HwXeo0hSdddd522b9+u5ORknTlzplyvG0oq+bsXGxsrSaWu8e+44w4FBwdf8HhffPGFunTpoubNm5uOWbFihSIjI3XzzTc7XOP36NGjXEvRAKg4PlgUAFz0zjvvqHnz5vLw8FCdOnVUt25dh/0zZszQ6NGjNXToUL3wwgsKDQ2Vu7u7nnvuOYeL0BMnTigiIqJCF5DlER4eXua2vLw8ZWdnKzs7WwUFBZo9e7Zmz55d5jFKro955MgRhYSEyNvb2/S8xUubOHtr5cmTJ+0vwPLz85WRkaHQ0NALHvPWW28tc3/J3p0+fVqenp6mxyvL3//+d4WHh+vJJ58s9RbOY8eOyTAMhz+QnK+sJW3KUvJn4uHhoVq1aumPP/5w2F7yuWTmxIkTatiwodMxx44d06lTp+Tl5VXm/rLWQAUAAJcfs2u/4uuMoqIixcTE6OjRo3ruuefUsmVL+fv7q6ioSO3bt7cv8XbixAkVFBQoICDggucMDAyUpDKXHNm7d69mzpypf/7znwoKCjI9xj333KOOHTtq7dq1Wr58eZlLh5Tk7u6ujz76SMOHDy9zXe5LYc2aNfroo4+0du1a05D46NGjGjp0qKKjo7Vs2TJ99913uuWWWy547PJc05np37+/GjdurNdee00dO3bUwoULdfr0aYfA/MSJE3J3dy/zOVIsOztbnTp1ko+Pj1588UXdcMMN8vPz06FDh3TPPfeUuQRgixYtFB0drblz5+r+++/X1q1b9fHHH2vs2LGm58nNzVV8fLwGDRqkqKioCj3WI0eOSJIiIiIuOLY8rzEk6dVXX9Wjjz6qO++806U/whRfz5+vuM8Xc41fv359p2OOHTumffv2mb7m4RofqHyE6ADgoubNm6tt27am+xctWqTOnTtr7ty5DtuzsrIcbteuXVsbNmxQUVFRpQbpaWlpZW7z8vJSjRo15OnpKXd3d8XFxZnOSmnSpInD7e+//14tW7Z0et7iC9XZs2ebftL8+WH0r7/+KsMwdN11113wmB9//LF9tpQzvr6+Wr9+vcO2NWvW6Omnny5z/IYNG7Ro0SJ9+eWXZYbNoaGhstls+vrrr8v8A4KzPyqcLy0tTfXq1bPfLigo0B9//FHqwtvsw5FKql27tg4fPux0TGhoqGrVqqWkpKQy95fnBTIAAKj+zK79iq+xdu7cqe+//14LFy7UwIED7WOKP9enWPHEj/KEcMVjygpnR44cqXbt2umvf/2r02MUr4EeGxurRx55RD/++KPTsLfYHXfcoTfffFPR0dGaNm2a/fuHH354wftWVH5+vkaMGKHY2FhFR0c7rCNectzMmTM1cuRIde7cWbGxsfruu+8uOHO6PNd0Ztzc3DR8+HA988wzeuWVV/T666+ra9euatq0qcPxCwsLlZaWZhrkrlmzRkePHtVXX31ln30uyWFN/bKMGDFCgwcP1qFDh3Tvvfde8Gc3ffp0nThxQi+//HL5H+T/+f777+Xj46Prr7/+gmPL8xpDkho1aqQPPvhAkZGR6tKli0aNGuX0dUNJZV3PF/8uXuprfF9fX/3rX/8y3Q+gcrGcCwBcIjabrVS4+sMPPzh8sKck9ezZU2fPntXChQsr9fyffvqpzp49a7+dlZWl5cuXq1OnTnJ3d5efn5+6dOmi7du3q1WrVmrbtm2pr/Mv/Hbt2qXffvvtgrODOnbsqJo1a2r37t1lHrNt27YOQfWyZcskyfSDdSSpR48e8vDw0K+//mp6zPO5ubmV2m82W7ywsFAjRozQvffeq+7du5c5pk+fPjIMQ0eOHCnz3Bf6w0KxxYsXO9z+8MMPVVBQoM6dO5fr/iX17NlTP//8s8MHOpVV+x9//KHCwsIyaz//BRYAALh8lbzO2Lhxo37//Xf7dUZxgFfy+vSNN95wuO3h4aGWLVs6LEVhGIaOHz+urKwsh2X5Vq9eLX9//1LL0H388cdas2aN5syZc8G6i5dwmTt3rvz8/DRw4MByzQjOyMhQXFyc7rrrLo0ePVpt27ZV7dq1L3g/V7z66qs6fPiwpk2b5nRco0aNlJCQIHd3d7377rtKTU0t15Iu5bmmc+axxx6Tl5eXHnzwQe3du1cjRowodXxJpSb3nK+8z4+S+vbtK39/fy1evLjUeUs6ePCgJk2apBdffLHCP6uCggJ98cUX6tat2wWXaJHK9xqj2ODBg+Xj46N58+Y5fd1gpuTvXvEHvV7MNf7atWu1d+9e0zF9+vTRr7/+qlq1apV5jd+4cWOXzg3AHDPRAeAS6dOnj1544QWNHz9e0dHR2rt3ryZOnKgmTZqooKDAPu6BBx7QggULNHToUO3du1ddunRRUVGRtmzZoubNm+v+++936fzu7u7q3r27Ro0apaKiIr388svKzMzUhAkT7GNeffVV/elPf1KnTp30t7/9TY0bN1ZWVpb27dun5cuX2y/kt2zZopEjR8rLy0uRkZEOa6Xn5OQoMzNT27dvV+vWrVWjRg3Nnj1bAwcO1MmTJ3XfffcpLCxMJ06c0Pfff68TJ05o7ty5Sk1N1Zw5czR16lTFxsY6nWHeuHFjTZw4Uc8++6x+++033XnnnQoODtaxY8f0zTffyN/f3+FxVcSmTZvk4+Oj5cuXm47p2LGjHn/8cT388MP69ttvdfvtt8vf31+pqanasGGDWrZsqb/97W8XPNenn34qDw8Pde/eXbt27dJzzz2nm266SQMGDHCp9oSEBH3wwQfq37+/xo4dq9tuu005OTlat26d+vTpoy5duuj+++/X4sWL1atXLz3xxBO67bbb5OnpqcOHD2vt2rXq37+/7r77bpfODwAAqo9vv/1Wjz32mP785z/r0KFDevbZZ1WvXj0NGzZMktSsWTNde+21Gjt2rAzDUEhIiJYvX66UlJRSxxo3bpz+8pe/aPDgwRowYIDeeecd7dmzRwUFBerXr5+efvppbd68WQsXLtTTTz9d6p1t8+bN0/Dhw3XTTTeVu/6goCC9++676tKli2bNmqUnn3zS6fjhw4crLy9P8+fPv+CxT5w4oZ9++sl+Oy8vT2fOnHHYduLECUnnZjAHBwc7LEEzb948TZs2rdzLcUiyL7ESFxennj17Or3eKs81nTM1a9bUX//6V82dO1eNGjUqNemlU6dOiouL04svvqhjx46pT58+8vb21vbt2+Xn56eRI0eqQ4cOCg4O1tChQzV+/Hh5enpq8eLF+v77752e293dXZ9//rmOHTumDh06OB37zjvvqFWrVho6dKjTcSX9+uuvevHFF5WamqrOnTs7vBYpXvZx8+bNat26tU6ePFnu1xiS9M9//lOfffaZ1q1bZ1+eqCK8vLz0yiuvKDs7W7feeqs2btyoF198UT179tSf/vSnCh9POvdZAl988YVuv/12PfPMM2rZsqVOnTqlpKQkjRo1Ss2aNVNCQoI++eQT3X777XryySfVqlUrFRUV6eDBg0pOTtbo0aPVrl07l84PwIRlH2kKAJepBQsWGJJKfRJ6Sbm5ucaYMWOMevXqGT4+PsYtt9xiLFu2zBg4cKDRqFEjh7E5OTnG888/b1x//fWGl5eXUatWLeOOO+4wNm7caB8jyRg+fHip8/Tu3dvhePv37zckGS+//LIxYcIEo379+oaXl5fRunVr48svvyx1//379xuPPPKIUa9ePcPT09OoXbu20aFDB+PFF1+0j2nUqJEhyelXyce0bt06o3fv3kZISIjh6elp1KtXz+jdu7fx0UcfGYZhGO+9957RrFkz44UXXjDy8vIc7rt27VpDkrF27VqH7cuWLTO6dOliBAYGGt7e3kajRo2M++67z1i1apV9zMCBAw1/f/9Sj/Ojjz4qdczo6GhDkjF58mSHsePHjzfK+ifyX//6l9GuXTvD39/f8PX1Na699lrjr3/9q/Htt9+WGlvW8bZt22b07dvXqFGjhhEQEGA88MADxrFjxxzGNmrUyOjdu3eZx2nUqJExcOBAh23p6enGE088YTRs2NDw9PQ0wsLCjN69exs//fSTfUx+fr4xffp046abbjJ8fHyMGjVqGM2aNTOGDBli/PLLL05rBwAA1ijvNWfxuOTkZCMuLs6oWbOm4evra/Tq1avUv/O7d+82unfvbgQEBBjBwcHGn//8Z+PgwYOGJGP8+PEOY2fMmGGEh4cbgYGBxvPPP2+/5nznnXeMunXrGoGBgUZ8fLzDdVzxNVxYWJhx6tQph+OVPIfZ9dbYsWMNb29vY8eOHaaP+b333jNsNpuRlJTksH348OEOxyy+Lq7o14IFCxx6e+ONNxr5+fmljls8zjCMMq/xDcMwHnjgASMkJMQ4fPiw6eMxjPJd0znz1VdfGZKMKVOmlLm/sLDQmDlzphEZGWl4eXkZQUFBRlRUlLF8+XL7mI0bNxpRUVGGn5+fUbt2beOxxx4zvvvuuzIfa1nX2872SzJsNpvD6xvDOHc9Hh0d7fSxDRw4sFw/t/3791foNcYvv/xi+Pv7G+PGjXMYV9brBmeP84cffjA6d+5s+Pr6GiEhIcbf/vY3Izs7u9TjL+u1XPG+kr9/hw4dMh555BEjPDzc8PT0NCIiIowBAwY4vHbIzs42/t//+39G06ZN7T/Tli1bGk8++aSRlpbmtHYAFWczjEv88dUAgCp14MABNWnSRNOmTdOYMWMq5ZiNGzdWYmKiBg0aVOb+r776SoMGDTJdH/Jql5iYqAkTJujEiROsTwgAACrVwoUL9fDDD2vr1q1OP6/nYvXp00c7d+684q/3LnTdW12NHj1ac+fO1aFDh0qtxX25K/5ZOFv+0mazaf/+/VW6jMmgQYP08ccfKzs7u8rOCcA6LOcCALig1q1bO123MDAwUK1bt67CigAAAIDKd+211zos5VLdbd68WT///LNef/11DRky5IoL0KVzP5MLadeuXan13AGgMhGiAwAuaOnSpU7333LLLRccAwAAAFR3q1evtrqEComKipKfn5/69OmjF1980epyLonnnnvugmPOXycdAC4FlnMBAAAAAAAAAMCEm9UFAAAAAAAAAABQXRGiAwAAAAAAAABgghAdAAAAAAAAAAATfLBoJSoqKtLRo0cVEBAgm81mdTkAAACADMNQVlaWIiIi5OZm3RwarpUBAABQ3ZT3WpkQvRIdPXpUDRo0sLoMAAAAoJRDhw6pfv36lp2fa2UAAABUVxe6ViZEr0QBAQGSzjU9MDCwSs+dn5+v5ORkxcTEyNPTs0rPfbkqV8+aNZNSU6W6daWffqraAqshnmeuoW8VR89cQ98qjp65hr5VnJU9y8zMVIMGDezXqlax8loZAAAAKEt5r5UJ0StR8dtSAwMDLQnR/fz8FBgYyIvZcipXz4rfxuHmJvFij+eZi+hbxdEz19C3iqNnrqFvFVcdemb1EipWXisDAAAAzlzoWpkPFgUAAAAAAAAAwAQhOgAAAAAAAAAAJgjRAQAAAAAAAAAwwZrogDM1akgBAee+AwCuOIWFhfLw8NDZs2dVWFhodTmXjfz8fPpWQZeyZ56ennJ3d6/UYwIAAAD4H0J0wJmffrK6AgDAJWAYhtLS0pSenq7w8HAdOnTI8g9dvJwYhkHfKuhS96xmzZoKDw/n5wEAAABcAoToAADgqpOWlqZTp06pdu3aKioqUkBAgNzcWOWuvIqKipSdna0aNWrQt3K6VD0zDENnzpzR8ePHJUl169attGMDAAAAOIcQHQAAXFUKCwt16tQphYWFKTg4WJmZmfLx8SEMroCioiLl5eXRtwq4lD3z9fWVJB0/flxhYWEs7QIAAABUMl71AACAq0p+fr4kyc/Pz+JKgMpT/Hwufn4DAAAAqDzMRAec+fvfpfR0KThYmjbN6moAAJWItaNxJeH5DAAAAFw6hOiAM++/Lx05ItWrR4gOAAAAAAAAXIVYzgUAAAAAAAAAABOE6AAAAAAAAAAAmLA0RE9MTJTNZnP4Cg8Pt+83DEOJiYmKiIiQr6+vOnfurF27djkcIzc3VyNHjlRoaKj8/f3Vr18/HT582GFMenq64uLiFBQUpKCgIMXFxenUqVMOYw4ePKi+ffvK399foaGhio+PV15e3iV77AAAABUxaNAg2Ww2DR06tNS+YcOGyWazadCgQVVfWDVz4MABPfroo2rSpIl8fX117bXXavz48aWu67Zu3aquXbuqZs2aCg4OVkxMjHbs2OEw5scff1R0dLR8fX1Vr149TZw4UYZhOIxZt26d2rRpIx8fH11zzTWaN2/eBWssz3Vnec4NAAAAoGpYPhP9xhtvVGpqqv3rxx9/tO+bOnWqZsyYoTlz5mjr1q0KDw9X9+7dlZWVZR+TkJCgpUuXasmSJdqwYYOys7PVp08fFRYW2sfExsZqx44dSkpKUlJSknbs2KG4uDj7/sLCQvXu3VunT5/Whg0btGTJEn3yyScaPXp01TQBAACgHBo0aKAlS5YoJyfHvu3s2bN6//331bBhQwsrqz5++uknFRUV6Y033tCuXbs0c+ZMzZs3T88884x9TFZWlnr06KGGDRtqy5Yt2rBhgwIDA9WjRw/l5+dLkjIzM9W9e3dFRERo69atmj17tqZPn64ZM2bYj7N//3716tVLnTp10vbt2/XMM88oPj5en3zyiWl95bnuLM+5AQAAAFQhw0Ljx483brrppjL3FRUVGeHh4caUKVPs286ePWsEBQUZ8+bNMwzDME6dOmV4enoaS5YssY85cuSI4ebmZiQlJRmGYRi7d+82JBmbN2+2j9m0aZMhyfjpp58MwzCMzz//3HBzczOOHDliH/P+++8b3t7eRkZGRrkfT0ZGhiGpQvepLHl5ecayZcuMvLy8Kj/35apcPatXzzCkc9/B88xF9K3i6Jlr6Fv55OTkGLt37zZycnKMwsJCIz093SgsLLS6rAsaOHCg0b9/f6Nly5bGokWL7NsXL15stGzZ0ujfv78xcOBA+/aioiLj5ZdfNpo0aWL4+PgYrVq1Mj766KNSx42OjjYkOXzNnDmz1HmL/fe//zWCgoKMwMBAe9/27dtn9OvXzwgLCzP8/f2Ntm3bGikpKQ7nadSokcNxyzr2F198YXTs2NEICgoyQkJCjN69exv79u2reLNKmDp1qtGkSRP77a1btxqSjIMHD9q3/fDDD4Yk+/lef/11IygoyDh79qx9zOTJk42IiAijqKjIMAzDeOqpp4xmzZo5nGvIkCFG+/btS9VQ/FxbsWLFBa87y3Puks5/Xpdk5TVqdawDAAAAKFbea1TLZ6L/8ssvioiIUJMmTXT//ffrt99+k3RuZk9aWppiYmLsY729vRUdHa2NGzdKkrZt26b8/HyHMREREYqMjLSP2bRpk4KCgtSuXTv7mPbt2ysoKMhhTGRkpCIiIuxjevToodzcXG3btu3SPXgAAFB9zJgh1a9/4a9+/Urft1+/8t23EmYSP/zww1qwYIH99r/+9S898sgjpcb9v//3/7RgwQLNnTtXu3bt0pNPPqmHHnpI69atKzV28ODB9ncF1q9f3+n5J0yY4PCOP0nKzs5Wr169tGrVKm3fvl09evRQ3759dfDgwQo9ttOnT2vUqFHaunWrVq9eLTc3N919990qKiqyj+ncuXOFl63JyMhQSEiI/XbTpk0VGhqqt956S3l5ecrJydFbb72lG2+8UY0aNZJ07vowOjpa3t7e9vv16NFDR48e1YEDB+xjzr8OLR7z7bff2me0l7R58+YLXneW59wAAAAAqo6HlSdv166d3nnnHd1www06duyYXnzxRXXo0EG7du1SWlqaJKlOnToO96lTp45+//13SVJaWpq8vLwUHBxcakzx/dPS0hQWFlbq3GFhYQ5jSp4nODhYXl5e9jFlyc3NVW5urv12ZmamJCk/P9/0hdOlUny+qj7v5aw8PfOQZNO5aXkF9JbnmYvoW8XRM9fQt/LJz8+XYRgqKiqyrzFtGIaMjAzZjhy54P2NBg1knBfqSpLtxIny3Tcjo9R9y8swDBmGoQcffFDjxo3Tb7/9JpvNpv/85z967733tHbtWvvjOn36tGbMmKFVq1YpKipKktS4cWN9/fXXmjdvnjp16mQ/bm5urgIDA+3XS+7u7vbjnH/eoqIi/fzzz/rXv/6lhIQEzZ492769ZcuWatmypf2YEydO1NKlS/XZZ59p+PDhDo/h/ED8/GNL0t133+3wmOfPn6/w8HDt3LlTkZGRks4taRMeHu5wHGd+/fVXzZ49W9OmTbPfx9/fX2vWrNHdd9+tF154QZJ0ww036IsvvpCbm5uKioqUmpqqxo0bO5yndu3akqSjR4+qUaNG9uvMkmMKCgp0/Phx1a1b1+GxSirzPkFBQfLy8tLRo0fLfe6Sip/P+fn5cnd3d9jH/xMAAACAi2NpiN6zZ0/7f7ds2VJRUVG69tpr9fbbb6t9+/aSJJvN5nAfwzBKbSup5JiyxrsypqTJkydrwoQJpbYnJyfLz8/PaY2XSkpKiiXnvZw561nM2bPy1bn1ZpM//7zqiqrmeJ65hr5VHD1zDX1zzsPDQ+Hh4crOzrZ/mGNWVpa8vbzkfd7sYDOFNWvq9P/94byYf82aci/HfXO9vJRb4r7llZ+fr4KCAnl5eSkmJkbz58+XYRiKiYmRl5eXCgoKlJ+fr8zMTH333Xc6e/asevTo4XCMvLw8tWrVyv6Hf0k6ceKEvL297duKiop09uxZh8kBBQUFyszM1OjRozVo0CD7LOriz6k5ffq0Xn75ZSUnJys1NVWFhYXKycnRL7/84nDcsWPH6rnnnvtfP3JzFRMTYx+zf/9+vfTSS/r222918uRJe4j8008/2dd8nz17tiQ5PAYzqamp6tOnj/r3768BAwbY75OTk6OHH35Yt956q958800VFhZqzpw56tmzp9asWSNfX18VFhba+1ms+L/PnDmjzMxMFRUVKTc312FMdna2/XtZNebn56uoqKjUPsMw7H0vz7lLKp5Rv379ehUUFDjsO3PmzAV7BQAAAMCcpSF6Sf7+/mrZsqV++eUX3XXXXZLOzdY5fxbP8ePH7bPGw8PDlZeXp/T0dIfZ6MePH1eHDh3sY44dO1bqXCdOnHA4zpYtWxz2p6enKz8/v9QM9fONGzdOo0aNst/OzMxUgwYNFBMTo8DAwAo++ouTn5+vlJQUde/eXZ6enlV67stVeXrmdvfdKjp5Ul4hIerVq1cVV1j98DxzDX2rOHrmGvpWPmfPntWhQ4dUo0YNeXt7KysrSwEBAbKNGyeNG3fB+7tLKvWv/MqV5Tq39/99ucLT01MeHh4KDAzU4MGDFR8fL+lcqBwYGCgPDw95enoqMDBQvr6+kqTly5erXr16jjV4e9uvUwoKCnTkyBHdcMMN9m1ubm7y8fGx3y4+7/bt27V582a98847+uyzzyTpXN9sNo0bN07JycmaOnWqrrvuOvn6+mrAgAGy2WwOxx0zZowGDhxor2Xs2LEqLCy0j3nwwQdVv359zZ8/XxERESoqKlKrVq3sj7sijh49qrvuuksdOnTQv/71L7m5/W8Vw48++kiHDh3S5s2b7ds7deqkWrVqae3atbr//vtVr149nTx50uG8v/76qyTpmmuuUWBgoCIiInTq1CmHMadPn5aHh4caN27s8HtoGIaysrJUv359bd++3eE+xdedjRs3VmBgYLnOXdLZs2fl6+ur22+/XT4+Pg77yvMHBwAAAADmqlWInpubqz179qhTp05q0qSJwsPDlZKSotatW0s6N8Nm3bp1evnllyVJbdq0kaenp1JSUjRgwABJ52Yc7dy5U1OnTpUkRUVFKSMjQ998841uu+02SdKWLVuUkZFhD9qjoqL00ksvKTU11R7YJycny9vbW23atDGt19vb22GtymKenp6WhRdWnvty5bRn8+fb/9O97BFXJZ5nrqFvFUfPXEPfnCssLJTNZpObm5v9HWfFt6szm81mr7NXr14aOnSopHPv7Ct+LMX7IyMj5e3trcOHD6tLly6mx9y6davOnj2r22+/3eHxn9+P4h79/e9/13PPPadatWqVGrdhwwYNGjRI9957r6Rzs7APHDigzp07Oxy3du3auuGGG+y3AwMDderUKbm5uemPP/7Qnj179MYbb9iXm9mwYYOkcwF8RX4+R44c0R133KE2bdpo4cKFpZY3OXv2rNzc3OTu7m5/fB4eHvb/dnNzU4cOHfTMM8/YZ/9L0qpVqxQREaFrrrlGNptNUVFRWr58uUNtq1atUtu2bUtdIxbPqo+KitLkyZN17Ngx+3XnqlWr5O3trVtvvbXc5y6p+DlQ1u8//z8AAAAALo6lrxbHjBmjdevWaf/+/dqyZYvuu+8+ZWZmauDAgbLZbEpISNCkSZO0dOlS7dy5U4MGDZKfn59iY2MlnVs/8tFHH9Xo0aO1evVqbd++XQ899JBatmypbt26SZKaN2+uO++8U4MHD9bmzZu1efNmDR48WH369FHTpk0lSTExMWrRooXi4uK0fft2rV69WmPGjNHgwYOrfEY5AADAhbi7u2vPnj3as2dPqYBYOjdDfMyYMXryySf19ttv69dff9X27dv12muv6e2335Z07t1+zz33nNq3by9fX1+lpaUpLS1NhYWFysrKUk5Ojv14q1evVkZGhoYNG1ZmPdddd50+/fRT7dixQ99//71iY2PLvWZ5seDgYNWqVUtvvvmm9u3bpzVr1ji846/YX//6V41z8o6Bo0ePqnPnzmrQoIGmT5+uEydO2B9bse7duys9PV3Dhw/Xnj17tGvXLj388MPy8PCw/9EhNjZW3t7eGjRokHbu3KmlS5dq0qRJGjVqlD3EHjp0qH7//XeNGjVKe/bs0b/+9S+99dZbGjNmjP1cS5cuVbNmzey3y3PdWZ5zAwAAAKg6ls5EP3z4sB544AH997//Ve3atdW+fXtt3rzZ/mFJTz31lHJycjRs2DClp6erXbt2Sk5OVkBAgP0YM2fOlIeHhwYMGKCcnBx17dq11IyjxYsXKz4+XjExMZKkfv36ac6cOfb97u7uWrlypYYNG6aOHTvK19dXsbGxmj59ehV1onpqPLZ8b02viANTelf6MQEAuBpd6A/9L7zwgsLCwjR58mT99ttvqlmzpm655RY988wzkqT7779f69atkySHpfMk6fnnn1eDBg00aNAgSeeWKJkyZYp9VnRJM2fO1COPPKIOHTooNDRUTz/9dIWXEHFzc9OSJUsUHx+vyMhINW3aVP/4xz/UuXNnh3EHDx50Ois9OTlZ+/bt0759+1S/fn2HfcUf7tmsWTMtX75cEyZMUFRUlNzc3NS6dWslJSXZexEUFKSUlBQNHz5cbdu2VXBwsEaNGuUQ7Ddp0kSff/65nnzySb322muKiIjQP/7xD/uMfEnKyMjQ3r177bfLc91ZnnMDAAAAqDo2o/jVBC5aZmamgoKClJGRYcma6J9//rl69epVaW/ZvdJD9EvRsysdPXMNfas4euYa+lY+Z8+e1f79+9WkSRN5eXkpMzNTgYGB1X45l8rWuXNnJSYmlgqpJSkhIUE333yzPUQvqfiDMa/GvrnqUvfs/Od1WWuiW3WNWh3rAAAAAIqV9xqVVz2AM23bSvXrn/sOAMAVJCQkxHRm+fkfTgoAAAAAV7tq9cGiQLWTliYdOWJ1FQAAVLpPP/3UdN/EiROrsBIAAAAAqN6YiQ4AAAAAAAAAgAlCdAAAAAAAAAAATBCiAwCAq1JRUZHVJQCVhuczAAAAcOmwJjoAALiqeHl5yc3NTUePHlVoaKjy8vJ09uxZubkxt6C8ioqK6FsFXaqeGYahvLw8nThxQm5ubqYfFgsAAADAdYToAADgquLm5qYmTZooNTVVR48eVU5Ojnx9fWWz2awu7bJhGAZ9q6BL3TM/Pz81bNiQP2oAAAAAlwAhOgAAuOp4eXmpYcOGOnv2rNasWaPbb79dnp6eVpd12cjPz9f69evpWwVcyp65u7vLw8ODP2gAAAAAlwghOgAAuCrZbDZ5eHiooKBAPj4+hMEV4O7uTt8qiJ4BAAAAly/e7wkAAAAAAAAAgAlmogPOTJ0qnTkj+flZXQkAAAAAAAAACxCiA87ExlpdAQAAAAAAAAALsZwLAAAAAAAAAAAmCNEBAAAAAAAAADDBci6AM3v3SgUFkoeH1LSp1dUAAAAAAAAAqGKE6IAzXbtKR45I9epJhw9bXQ0AAAAAAACAKsZyLgAAAAAAAAAAmCBEBwAAAAAAAADABCE6AAAAAAAAAAAmWBP9ChOZ+KVyC21WlwEAAAAAAAAAVwRmogMAAAAAAAAAYIIQHQAAAAAAAAAAE4ToAAAAAAAAAACYIEQHAAAAAAAAAMAEIToAAAAAAAAAACY8rC4AqNa2bpUKCyV3d6srAQAAAAAAAGABQnTAmbp1ra4AAAAAAAAAgIVYzgUAAAAAAAAAABOE6AAAAAAAAAAAmGA5F8CZN9+UsrOlGjWkxx+3uhoAAAAAAAAAVYwQHXBm4kTpyBGpXj1CdAAAAAAAAOAqxHIuAAAAAAAAAACYIEQHAAAAAAAAAMAEIToAAAAAAAAAACYI0QEAAAAAAAAAMEGIDgAAAAAAAACACUJ0AAAAAAAAAABMEKIDAAAAAAAAAGCCEB0AAAAAAAAAABMeVhcAVGs33CAFBUl16lhdCQAAAAAAAAALEKIDzqxZY3UFAAAAAAAAACzEci4AAAAAAAAAAJggRAcAAAAAAAAAwAQhOgAAAAAAAAAAJlgTHXDmwQel//5XCg2VFi+2uhoAAAAAAAAAVYwQHXBm3TrpyBGpXj2rKwEAAAAAAABgAZZzAQAAAAAAAADABCE6AAAAAAAAAAAmCNEBAAAAAAAAADBBiA4AAAAAAAAAgAlCdAAAAAAAAAAATBCiAwAAAAAAAABgghAdAAAAAAAAAAAThOgAAAAAAAAAAJjwsLoAoFobPFjKyJCCgqyuBAAAAAAAAIAFCNEBZ8aPt7oCAAAAAAAAABZiORcAAAAAAAAAAEwQogMAAAAAAAAAYIIQHQAAAAAAAAAAE4TogDP160s227nvAAAAAAAAAK46hOgAAAAAAAAAAJggRAcAAAAAAAAAwAQhOgAAAAAAAAAAJgjRAQAAAAAAAAAwQYgOAAAAAAAAAIAJQnQAAAAAAAAAAEwQogMAAAAAAAAAYIIQHQAAAAAAAAAAE4ToAAAAAAAAAACY8LC6AKBaW7RIys2VvL2trgQAAAAAAACABQjRAWc6d7a6AgAAAAAAAAAWYjkXAAAAAAAAAABMEKIDAAAAAAAAAGCC5VwAZ7766n9rorO0CwAAAAAAAHDVIUQHnHnoIenIEalePenwYaurAQAAAAAAAFDFWM4FAAAAAAAAAAAThOgAAAAAAAAAAJggRAcAAAAAAAAAwAQhOgAAAAAAAAAAJgjRAQAAAAAAAAAwQYgOAAAAAAAAAIAJQnQAAAAAAAAAAEwQogMAAAAAAAAAYIIQHQAAAAAAAAAAEx5WFwBUa4cPW10BAAAAAAAAAAsxEx0AAAAAAAAAABOE6AAAAAAAAAAAmKg2IfrkyZNls9mUkJBg32YYhhITExURESFfX1917txZu3btcrhfbm6uRo4cqdDQUPn7+6tfv346XGIJjvT0dMXFxSkoKEhBQUGKi4vTqVOnHMYcPHhQffv2lb+/v0JDQxUfH6+8vLxL9XABAAAAAAAAAJeBahGib926VW+++aZatWrlsH3q1KmaMWOG5syZo61btyo8PFzdu3dXVlaWfUxCQoKWLl2qJUuWaMOGDcrOzlafPn1UWFhoHxMbG6sdO3YoKSlJSUlJ2rFjh+Li4uz7CwsL1bt3b50+fVobNmzQkiVL9Mknn2j06NGX/sGjepswQRo16tx3AAAAAAAAAFcdy0P07OxsPfjgg5o/f76Cg4Pt2w3D0KxZs/Tss8/qnnvuUWRkpN5++22dOXNG7733niQpIyNDb731ll555RV169ZNrVu31qJFi/Tjjz9q1apVkqQ9e/YoKSlJ//znPxUVFaWoqCjNnz9fK1as0N69eyVJycnJ2r17txYtWqTWrVurW7dueuWVVzR//nxlZmZWfVNQfcyfL82cee47AAAAAAAAgKuOh9UFDB8+XL1791a3bt304osv2rfv379faWlpiomJsW/z9vZWdHS0Nm7cqCFDhmjbtm3Kz893GBMREaHIyEht3LhRPXr00KZNmxQUFKR27drZx7Rv315BQUHauHGjmjZtqk2bNikyMlIRERH2MT169FBubq62bdumLl26lFl7bm6ucnNz7beLA/f8/Hzl5+dffHMqoPh83m5GlZ63oqq6L84U1+KsJg9JNkmGpIJqVLtVytMzlEbfKo6euYa+VRw9cw19qzgre8bPCQAAALg4loboS5Ys0XfffaetW7eW2peWliZJqlOnjsP2OnXq6Pfff7eP8fLycpjBXjym+P5paWkKCwsrdfywsDCHMSXPExwcLC8vL/uYskyePFkTyljmIzk5WX5+fqb3u5ReaFtkyXnL6/PPP7e6hFJSUlJM98WcPStfSWfPnlVyNazdKs56BnP0reLomWvoW8XRM9fQt4qzomdnzpyp8nMCAAAAVxLLQvRDhw7piSeeUHJysnx8fEzH2Ww2h9uGYZTaVlLJMWWNd2VMSePGjdOoUaPstzMzM9WgQQPFxMQoMDDQaY2VLT8/XykpKXruWzflFjnvj5V2JvawugS74p51795dnp6eZY7x+L/npo+Pj3r16lWV5VVL5ekZSqNvFUfPXEPfKo6euYa+VZyVPWN5QgAAAODiWBaib9u2TcePH1ebNm3s2woLC7V+/XrNmTPHvl55Wlqa6tatax9z/Phx+6zx8PBw5eXlKT093WE2+vHjx9WhQwf7mGPHjpU6/4kTJxyOs2XLFof96enpys/PLzVD/Xze3t7y9vYutd3T09OyF5S5RTblFlbfEL06vtAuz8/LpupZu1WsfI5fzuhbxdEz19C3iqNnrqFvFWdFz/gZAQAAABfHsg8W7dq1q3788Uft2LHD/tW2bVs9+OCD2rFjh6655hqFh4c7vOU1Ly9P69atswfkbdq0kaenp8OY1NRU7dy50z4mKipKGRkZ+uabb+xjtmzZooyMDIcxO3fuVGpqqn1McnKyvL29HUJ+AAAAAAAAAMDVxbKZ6AEBAYqMjHTY5u/vr1q1atm3JyQkaNKkSbr++ut1/fXXa9KkSfLz81NsbKwkKSgoSI8++qhGjx6tWrVqKSQkRGPGjFHLli3VrVs3SVLz5s115513avDgwXrjjTckSY8//rj69Omjpk2bSpJiYmLUokULxcXFadq0aTp58qTGjBmjwYMHV/myLAAAAAAAAACA6sPSDxa9kKeeeko5OTkaNmyY0tPT1a5dOyUnJysgIMA+ZubMmfLw8NCAAQOUk5Ojrl27auHChXJ3d7ePWbx4seLj4xUTEyNJ6tevn+bMmWPf7+7urpUrV2rYsGHq2LGjfH19FRsbq+nTp1fdgwUAAAAAAAAAVDvVKkT/6quvHG7bbDYlJiYqMTHR9D4+Pj6aPXu2Zs+ebTomJCREixYtcnruhg0basWKFRUpFwAAAAAAAABwhatWITpQ7URHS//9rxQaanUlAAAAAAAAACxAiA44s3ix1RUAAAAAAAAAsJCb1QUAAAAAAAAAAFBdEaIDAAAAAAAAAGCCEB0AAAAAAAAAABOE6IAzd9wh3Xjjue8AAAAAAAAArjp8sCjgzM8/S0eOSBkZVlcCAAAAAAAAwALMRAcAAAAAAAAAwAQhOgAAAAAAAAAAJljOBVWq8diVlX7MA1N6V/oxAQAAAAAAAEBiJjoAAAAAAAAAAKYI0QEAAAAAAAAAMEGIDgAAAAAAAACACUJ0AAAAAAAAAABMEKIDAAAAAAAAAGDCw+oCgGrt+eel7GypRg2rKwEAAAAAAABgAUJ0wJnHH7e6AgAAAAAAAAAWYjkXAAAAAAAAAABMEKIDAAAAAAAAAGCC5VwAZ1JTpcJCyd1dqlvX6moAAAAAAAAAVDFmogPO3Hqr1KDBue8AAAAAAAAArjqE6AAAAAAAAAAAmCBEBwAAAAAAAADABCE6AAAAAAAAAAAmCNEBAAAAAAAAADBBiA4AAAAAAAAAgAlCdAAAAAAAAAAATBCiAwAAAAAAAABgghAdAAAAAAAAAAAThOgAAAAAAAAAAJjwsLoAoFpbvVoqKJA8+FUBAAAAAAAArkYkg4AzTZtaXQEAAAAAAAAAC7GcCwAAAAAAAAAAJgjRAQAAAAAAAAAwwXIugDPvvSedOSP5+UmxsVZXAwAAAAAAAKCKEaIDzjz1lHTkiFSvHiE6AAAAAAAAcBViORcAAAAAAAAAAEwQogMAAAAAAAAAYIIQHQAAAAAAAAAAE4ToAAAAAAAAAACYIEQHAAAAAAAAAMAEIToAAAAAAAAAACYI0QEAAAAAAAAAMEGIDgAAAAAAAACACQ+rCwCqtfBwx+8AAAAAAAAAriqE6IAz335rdQUAAAAAAAAALMRyLgAAAAAAAAAAmCBEBwAAAAAAAADABCE6AAAAAAAAAAAmWBMdcGbIEOnkSSkkRHrjDaurAQAAAAAAAFDFCNEBZ1aulI4ckerVs7oSAAAAAAAAABZgORcAAAAAAAAAAEwQogMAAAAAAAAAYIIQHQAAAAAAAAAAE4ToAAAAAAAAAACYIEQHAAAAAAAAAMAEIToAAAAAAAAAACYI0QEAAAAAAAAAMEGIDgAAAAAAAACACQ+rCwCqtQcekNLTpeBgqysBAAAAAAAAYAFCdMCZadOsrgAAAAAAAACAhVjOBQAAAAAAAAAAE4ToAAAAAAAAAACYIEQHAAAAAAAAAMAEITrgTLNmUmDgue8AAAAAAAAArjqE6IAz2dlSVta57wAAAAAAAACuOoToAAAAAAAAAACYIEQHAAAAAAAAAMAEIToAAAAAAAAAACYI0QEAAAAAAAAAMEGIDgAAAAAAAACACUJ0AAAAAAAAAABMEKIDAAAAAAAAAGCCEB0AAAAAAAAAABMeVhcAVGvz5kk5OZKvr9WVAAAAAAAAALAAITrgTJ8+VlcAAAAAAAAAwEIs5wIAAAAAAAAAgAlCdAAAAAAAAAAATLCcC+DMtm1SXp7k5SW1aWN1NQAAAAAAAACqGCE64Ez//tKRI1K9etLhw1ZXAwAAAAAAAKCKsZwLAAAAAAAAAAAmCNEBAAAAAAAAADBBiA4AAAAAAAAAgAlCdAAAAAAAAAAATBCiAwAAAAAAAABgghAdAAAAAAAAAAATloboc+fOVatWrRQYGKjAwEBFRUXpiy++sO83DEOJiYmKiIiQr6+vOnfurF27djkcIzc3VyNHjlRoaKj8/f3Vr18/HT582GFMenq64uLiFBQUpKCgIMXFxenUqVMOYw4ePKi+ffvK399foaGhio+PV15e3iV77AAAAAAAAACA6s/SEL1+/fqaMmWKvv32W3377be644471L9/f3tQPnXqVM2YMUNz5szR1q1bFR4eru7duysrK8t+jISEBC1dulRLlizRhg0blJ2drT59+qiwsNA+JjY2Vjt27FBSUpKSkpK0Y8cOxcXF2fcXFhaqd+/eOn36tDZs2KAlS5bok08+0ejRo6uuGQAAAAAAAACAasfDypP37dvX4fZLL72kuXPnavPmzWrRooVmzZqlZ599Vvfcc48k6e2331adOnX03nvvaciQIcrIyNBbb72ld999V926dZMkLVq0SA0aNNCqVavUo0cP7dmzR0lJSdq8ebPatWsnSZo/f76ioqK0d+9eNW3aVMnJydq9e7cOHTqkiIgISdIrr7yiQYMG6aWXXlJgYGAVdgUAAAAAAAAAUF1UmzXRCwsLtWTJEp0+fVpRUVHav3+/0tLSFBMTYx/j7e2t6Ohobdy4UZK0bds25efnO4yJiIhQZGSkfcymTZsUFBRkD9AlqX379goKCnIYExkZaQ/QJalHjx7Kzc3Vtm3bLunjRjW3Z4+UkXHuOwAAAAAAAICrjssz0X/99VfNmjVLe/bskc1mU/PmzfXEE0/o2muvrdBxfvzxR0VFRens2bOqUaOGli5dqhYtWtgD7jp16jiMr1Onjn7//XdJUlpamry8vBQcHFxqTFpamn1MWFhYqfOGhYU5jCl5nuDgYHl5ednHlCU3N1e5ubn225mZmZKk/Px85efnl+vxV5bi83m7GVV63urA1V4X38/p/X18zr+DS+e5kpSrZyiFvlUcPXMNfas4euYa+lZxVvaMnxMAAABwcVwK0b/88kv169dPN998szp27CjDMLRx40bdeOONWr58ubp3717uYzVt2lQ7duzQqVOn9Mknn2jgwIFat26dfb/NZnMYbxhGqW0llRxT1nhXxpQ0efJkTZgwodT25ORk+fn5Oa3xUnmhbZEl57XS559/flH3T0lJqaRKrh70zDX0reLomWvoW8XRM9fQt4qzomdnzpyp8nPCuV9++cXhc56A6iAgIEDXX3+91WUAAFAtuRSijx07Vk8++aSmTJlSavvTTz9doRDdy8tL1113nSSpbdu22rp1q1599VU9/fTTks7NEq9bt659/PHjx+2zxsPDw5WXl6f09HSH2ejHjx9Xhw4d7GOOHTtW6rwnTpxwOM6WLVsc9qenpys/P7/UDPXzjRs3TqNGjbLfzszMVIMGDRQTE1Pl66jn5+crJSVFz33rptwi539kuNLsTOzh0v2Ke9a9e3d5enpWclVXJnrmGvpWcfTMNfSt4uiZa+hbxVnZs+J3S6J6+OWXX3TDDTdYXUalCK9h05A2XnpjW57Ssq++d8ReiX7++WeCdAAAyuBSiL5nzx59+OGHpbY/8sgjmjVr1kUVZBiGcnNz1aRJE4WHhyslJUWtW7eWJOXl5WndunV6+eWXJUlt2rSRp6enUlJSNGDAAElSamqqdu7cqalTp0qSoqKilJGRoW+++Ua33XabJGnLli3KyMiwB+1RUVF66aWXlJqaag/sk5OT5e3trTZt2pjW6u3tLW9v71LbPT09LXtBmVtkU27h1RWiX2yvnf68ZsyQMjOlwEDpvD+YXO2sfI5fzuhbxdEz19C3iqNnrqFvFWdFz/gZVS/FM9AXLVqk5s2bW1zNxfE99bOarx+ivzy/UDk1r4w/DFyt9uzZo4ceeoh3SAAAYMKlEL127drasWNHqb9Q79ixo8z1x80888wz6tmzpxo0aKCsrCwtWbJEX331lZKSkmSz2ZSQkKBJkybp+uuv1/XXX69JkybJz89PsbGxkqSgoCA9+uijGj16tGrVqqWQkBCNGTNGLVu2VLdu3SRJzZs315133qnBgwfrjTfekCQ9/vjj6tOnj5o2bSpJiomJUYsWLRQXF6dp06bp5MmTGjNmjAYPHlzlM8pRzcyYIR05ItWrR4gOAACAStO8eXPdcsstVpdxcY66Seul5s2aSRE3W10NAADAJeNSiD548GA9/vjj+u2339ShQwfZbDZt2LBBL7/8skaPHl3u4xw7dkxxcXFKTU1VUFCQWrVqpaSkJPtyME899ZRycnI0bNgwpaenq127dkpOTlZAQID9GDNnzpSHh4cGDBignJwcde3aVQsXLpS7u7t9zOLFixUfH6+YmBhJUr9+/TRnzhz7fnd3d61cuVLDhg1Tx44d5evrq9jYWE2fPt2V9gAAAAAAAAAArhAuhejPPfecAgIC9Morr2jcuHGSpIiICCUmJio+Pr7cx3nrrbec7rfZbEpMTFRiYqLpGB8fH82ePVuzZ882HRMSEqJFixY5PVfDhg21YsUKp2MAAAAAAAAAAFcXl0J0m82mJ598Uk8++aR9zbTzZ4cDAAAAAAAAAHAlcLvYAwQEBMjHx0fbt29Xenp6ZdQEAAAAAAAAAEC14FKIvm3bNkVFRal3797at2+fWrVqpTZt2qh+/fpKTk6u7BoBAAAAAAAAALCESyF6fHy8AgICVKNGDcXExCg6OlqHDh3S0KFD9eyzz1Z2jQAAAAAAAAAAWMKlNdG///57bdu2TY0aNVKNGjU0YsQI1atXTyNGjNC8efMqu0YAAAAAAAAAACzh0kz0M2fOKCQkRD4+PvL19ZWfn58kyc/PT2fPnq3UAgEAAAAAAAAAsIpLM9Elaf78+apRo4YKCgq0cOFChYaGKisrqzJrA6x3yy1SgwZS7dpWVwIAAAAAAADAAi6F6A0bNtT8+fMlSeHh4Xr33Xcd9gFXjH//2+oKAAAAAAAAAFjIpRD9wIEDlVwGAAAAAAAAAADVj0trok+cOFFnzpyp7FoAAAAAAAAAAKhWXArRJ0yYoOzs7MquBQAAAAAAAACAasWl5VwMw6jsOoDqqV8/6cSJcx8syvroAAAAAAAAwFXHpRBdkqZPn64aNWqUue/55593uSCgWvnuO+nIEalePasrAQAAAAAAAGABl0P0//znP/Ly8iq13WazEaIDAAAAqDbOnDmjn376Sc2aNZOfn5/V5QAAUGX4NxCoHC6H6EuXLlVYWFhl1gIAAAAAle6nn35SmzZttG3bNt1yyy1WlwMAQJXh30Cgcrj0waIAAAAAAAAAAFwNXArRo6Ojy1zKBQAAAAAAAACAK4lLy7msXbu2susAAAAAAAAAAKDacWkm+n333acpU6aU2j5t2jT9+c9/vuiiAAAAAAAAAACoDlwK0detW6fevXuX2n7nnXdq/fr1F10UAAAAAAAAAADVgUshenZ2dplront6eiozM/OiiwIAAAAAAAAAoDpwaU30yMhIffDBB3r++ecdti9ZskQtWrSolMKAamHUKCkzUwoMtLoSAAAAAAAAABZwKUR/7rnndO+99+rXX3/VHXfcIUlavXq13n//fX300UeVWiBgqVGjrK4AAAAAAAAAgIVcCtH79eunZcuWadKkSfr444/l6+urVq1aadWqVYqOjq7sGgEAAAAAAAAAsIRLIbok9e7du8wPFwUAAAAAAAAA4Erh0geLStKpU6f0z3/+U88884xOnjwpSfruu+905MiRSisOsFxW1rk10bOyrK4EAAAAAAAAgAVcmon+ww8/qFu3bgoKCtKBAwf02GOPKSQkREuXLtXvv/+ud955p7LrBKzRvLl05IhUr550+LDV1QAAAAAAAACoYi6F6KNGjdKgQYM0depUBQQE2Lf37NlTsbGxlVYcUB6Nx6506X7e7oam3iZFJn6p3EKbffuBKSxTBAAAAAAAAOAcl5Zz2bp1q4YMGVJqe7169ZSWlnbRRQEAAACoXtavX6++ffsqIiJCNptNy5Yts7okAABwAZs3b5YktWnTRjabjS++Louv6silmeg+Pj7KzMwstX3v3r2qXbv2RRcFAAAAoHo5ffq0brrpJj388MO69957rS4HAABcQHUNI4ELsdlsMgzD6jIcuBSi9+/fXxMnTtSHH34o6dwDO3jwoMaOHcsFNQAAAHAF6tmzp3r27Gl1GQAAoBwI0HG5q25BukvLuUyfPl0nTpxQWFiYcnJyFB0dreuuu04BAQF66aWXKrtGAAAAAAAAAOWwZs0aq0sAKkV1+mOQSzPRAwMDtWHDBq1Zs0bfffedioqKdMstt6hbt26VXR8AAACAy1Bubq5yc3Ptt8taDrKq5OTkSJL27NljWQ3FimsorgmoDqrT7wiAi9e1a1erSwCuOC6F6MXuuOMO3XHHHZVVCwAAAIArxOTJkzVhwgSry5AkHThwQJL00EMPWVvIeQ4cOKCOHTtaXQYgqXr+jgAAUJ24FKL/4x//cLo/Pj7epWIAAAAAXBnGjRunUaNG2W9nZmaqQYMGltTSuHFjSdKiRYvUvHlzS2ootmfPHj300EP2moDqoDr9jgC4eG3atLG6BOCK41KIPnPmTIfbhw4dUt26deXh4SGbzUaIDgAAAFzlvL295e3tbXUZkiRfX19JUvPmzXXLLbdYXM05xTUB1UF1/B0B4LrVq1ezpAtQyVwK0ffv3+9wOyAgQOvWrdM111xTKUUB1cZnn0l5eZKXl9WVAAAAWCo7O1v79u2z396/f7927NihkJAQNWzY0MLKAADA+Vh6GVcKwzCsLsHuotZEL1adPikVqFS8BQoAAECS9O2336pLly7228VLtQwcOFALFy60qCoAAFAWwzDI63BZq04BuiS5XewBtm7dqtOnTyskJKQy6gEAAABQDXXu3FmGYZT6IkAHAKB6MgxDr732mtVlABVW3QJ0ycWZ6K1bt5bNZlNOTo727dun+++/XzVr1qzk0gAAAAAAAAC4qn379pKkbdu28ZkHwEVwKUS/6667JJ378JEbb7xRvXv3rsyagOpjxQopJ0fy9ZX69LG6GgAAAAAAAABVzKUQffz48ZVdB1A9DR0qHTki1asnHT5sdTUAAAAAAAAAqphLIfoPP/zgdH+rVq1cKgYAAAAAAAAAgOrEpRD95ptvtn/Cb/FC7zabzf7Jv4WFhZVXIQAAAAAAAAAAFnEpRO/YsaO+//57jR07VrGxsfZAHQAAAAAAAACAK4mbK3f6+uuvtXDhQi1cuFADBgzQoUOH1KhRI/sXAAAAAAAAAABXApdCdEm65557tHv3bsXGxuquu+7SPffco3379lVmbQAAAAAAAAAAWMrlEF2SPDw8lJCQoH379qlJkya65ZZblJCQUEmlAQAAAAAAAABgLZfWRA8ODi5zHfTc3FzNnj1bs2bNuti6AAAAAAAAAACwnEsh+syZM/kwUQAAAAAAAADAFc+lEH3QoEGVXAZQTdWoIQUEnPsOAAAAAAAA4KrjUoj+ww8/ON3fqlUrl4oBqp2ffrK6AgAAAAAAAAAWcilEv/nmm2Wz2WQYRql9NptNhYWFF10YAAAAAAAAAABWcylEl6QtW7aodu3alVkLAAAAAFS6Zs2aadu2bWrWrJnVpQAAUKX4NxCoHC6H6A0bNlRYWFhl1gIAAAAAlc7Pz0+33HKL1WUAAFDl+DcQqBwuh+hffvmlQkND5e/vr4iICF177bWy2WyVWRtgvb//XUpPl4KDpWnTrK4GAAAAAAAAQBVzOUQfOHCg/b9tNpsCAwM1cOBATZs2TZ6enpVSHGC599+XjhyR6tUjRAcAAAAAAACuQi6F6EVFRZKk/Px8ZWZm6ujRo/rmm2/07LPPytfXV5MnT67UIgEAAAAAAAAAsILLM9ElydPTU7Vq1VKtWrXUsmVL1a5dW8OHDydEBwAAAAAAAABcEdwq82B9+/bV999/X5mHBAAAAAAAAADAMi7PRC8sLNSyZcu0Z88e2Ww2NW/eXP3791dISEhl1gcAAAAAAAAAgGVcCtH37dun3r176/Dhw2ratKkMw9DPP/+sBg0aaOXKlbr22msru04AAAAAAAAAAKqcS8u5xMfH65prrtGhQ4f03Xffafv27Tp48KCaNGmi+Pj4yq4RAAAAAAAAAABLuDQTfd26ddq8ebPD0i21atXSlClT1LFjx0orDrBC47Er7f+9KeOs6kpKzTirqPO2V9SBKb0roTIAAAAAAAAAVc2lmeje3t7KysoqtT07O1teXl4XXRQAAAAAAAAAANWBSyF6nz599Pjjj2vLli0yDEOGYWjz5s0aOnSo+vXrV9k1ApZZe+2tWtm0o9Zee6vVpQAAAAAAAACwgEvLufzjH//QwIEDFRUVJU9PT0lSQUGB+vXrp1dffbVSCwSs9MydI6wuAQAAAAAAAICFKhSiZ2VlKSAgQDVr1tRnn32mffv2ac+ePTIMQy1atNB1112nb775RrfddtulqhcAAAAAAAAAgCpToRC9e/fuSklJUUBAgCTpuuuu03XXXSfp3Ez0Z599VtOnT1dubm7lVwoAAAAAAAAAQBWr0JroZ86cUbdu3ZSRkeGw/YcfflCbNm30zjvv6N///nelFggAAAAAAAAAgFUqNBN9zZo16tq1q7p166ZVq1YpICBAkydP1sSJE/XnP/9Zc+bMUc2aNS9RqUDV+/fbCaqdna4TNYLVb+Asq8sBAADAZe7MmTOSpO+++87iSi6e76mf1VzSnp9+Uk5akdXl4CLs2bPH6hIAAKjWKhSih4aG2oP0Ll26yMvLS7/99pvef/993XPPPZeqRsAytbPTVTf7D6vLAAAAwBXip59+kiQNHjzY4kouXngNm4a08dIbr8QqLduwuhxUguKlWwEAgKMKheiSVKtWLa1evVrdunXTjh07tGPHDjVr1uxS1AYAAAAAV5S77rpLktSsWTP5+flZW0wl6Wd1AagUAQEBuv76660uAwCAaqnCIbp0Lkhfs2aNunXrptjYWK1evVrBwcGVXRsAAAAAXFFCQ0P12GOPWV0GAAAAKqBCIXrJJVsCAgK0fv163XbbbWrZsqV9+6efflo51QEAAAAAAAAAYKEKhehBQUGlbjdp0qRSCwIAAAAAAAAAoLqoUIi+YMGCS1UHAAAAAAAAAADVjpvVBQAAAAAAAAAAUF0RogMAAAAAAAAAYIIQHQAAAAAAAAAAExVaEx242kzu8rB883OV4+ltdSkAAAAAAAAALECIDjjx7xadrS4BAAAAAAAAgIVYzgUAAAAAAAAAABOE6AAAAAAAAAAAmGA5F8CJa/44LPeiQhW6ueu3WvWtLgcAAAAAAABAFSNEB5xYvORZ1c3+Q6k1ailq+NtWlwMAAAAAAACgilm6nMvkyZN16623KiAgQGFhYbrrrru0d+9ehzGGYSgxMVERERHy9fVV586dtWvXLocxubm5GjlypEJDQ+Xv769+/frp8OHDDmPS09MVFxenoKAgBQUFKS4uTqdOnXIYc/DgQfXt21f+/v4KDQ1VfHy88vLyLsljBwAAAAAAAABUf5aG6OvWrdPw4cO1efNmpaSkqKCgQDExMTp9+rR9zNSpUzVjxgzNmTNHW7duVXh4uLp3766srCz7mISEBC1dulRLlizRhg0blJ2drT59+qiwsNA+JjY2Vjt27FBSUpKSkpK0Y8cOxcXF2fcXFhaqd+/eOn36tDZs2KAlS5bok08+0ejRo6umGQAAAAAAAACAasfS5VySkpIcbi9YsEBhYWHatm2bbr/9dhmGoVmzZunZZ5/VPffcI0l6++23VadOHb333nsaMmSIMjIy9NZbb+ndd99Vt27dJEmLFi1SgwYNtGrVKvXo0UN79uxRUlKSNm/erHbt2kmS5s+fr6ioKO3du1dNmzZVcnKydu/erUOHDikiIkKS9Morr2jQoEF66aWXFBgYWIWdAQAAAAAAAABUB5bORC8pIyNDkhQSEiJJ2r9/v9LS0hQTE2Mf4+3trejoaG3cuFGStG3bNuXn5zuMiYiIUGRkpH3Mpk2bFBQUZA/QJal9+/YKCgpyGBMZGWkP0CWpR48eys3N1bZt2y7RIwYAAAAAAAAAVGfV5oNFDcPQqFGj9Kc//UmRkZGSpLS0NElSnTp1HMbWqVNHv//+u32Ml5eXgoODS40pvn9aWprCwsJKnTMsLMxhTMnzBAcHy8vLyz6mpNzcXOXm5tpvZ2ZmSpLy8/OVn59fvgdeSYrP5+1mVOl5L2fFvXLWM5vtf9+93V3vbdNnV7h8XzM7E3tU+jEvpPh5VtXP78sdfas4euYa+lZx9Mw19K3irOwZPycAAADg4lSbEH3EiBH64YcftGHDhlL7bMVJ5v8xDKPUtpJKjilrvCtjzjd58mRNmDCh1Pbk5GT5+fk5re9SeaFtkSXnvZw561mQ1/++T72t0HScFT7//HPLzp2SkmLZuS9n9K3i6Jlr6FvF0TPX0LeKs6JnZ86cqfJzAgAAAFeSahGijxw5Uv/+97+1fv161a9f3749PDxc0rlZ4nXr1rVvP378uH3WeHh4uPLy8pSenu4wG/348ePq0KGDfcyxY8dKnffEiRMOx9myZYvD/vT0dOXn55eaoV5s3LhxGjVqlP12ZmamGjRooJiYmCpfQz0/P18pKSl67ls35RY5/wMDzvF2M/RC2yKnPWuXJ/lKysiTnvrGvWoLvACrZqKnpKSoe/fu8vT0rPLzX67oW8XRM9fQt4qjZ66hbxVnZc+K3y0JAAAAwDWWhuiGYWjkyJFaunSpvvrqKzVp0sRhf5MmTRQeHq6UlBS1bt1akpSXl6d169bp5ZdfliS1adNGnp6eSklJ0YABAyRJqamp2rlzp6ZOnSpJioqKUkZGhr755hvddtttkqQtW7YoIyPDHrRHRUXppZdeUmpqqj2wT05Olre3t9q0aVNm/d7e3vL29i613dPT07IXlLlFNuUWEqJXhLOeGcb/vle3vloZWlj5HL+c0beKo2euoW8VR89cQ98qzoqe8TMCAAAALo6lIfrw4cP13nvv6bPPPlNAQIB97fGgoCD5+vrKZrMpISFBkyZN0vXXX6/rr79ekyZNkp+fn2JjY+1jH330UY0ePVq1atVSSEiIxowZo5YtW6pbt26SpObNm+vOO+/U4MGD9cYbb0iSHn/8cfXp00dNmzaVJMXExKhFixaKi4vTtGnTdPLkSY0ZM0aDBw+u8lnlAAAAAAAAAIDqwdIQfe7cuZKkzp07O2xfsGCBBg0aJEl66qmnlJOTo2HDhik9PV3t2rVTcnKyAgIC7ONnzpwpDw8PDRgwQDk5OeratasWLlwod/f/Lb+xePFixcfHKyYmRpLUr18/zZkzx77f3d1dK1eu1LBhw9SxY0f5+voqNjZW06dPv0SPHpeDfgNnyr2oSIVublaXAgAAAAAAAMACli/nciE2m02JiYlKTEw0HePj46PZs2dr9uzZpmNCQkK0aNEip+dq2LChVqxYccGacPU4USPE6hIAAAAAAAAAWIjptQAAAAAAAAAAmCBEBwAAAAAAAADAhKXLuQDV3QM7kuSXl6MzXr56/+Y7rS4HAAAAAAAAQBUjRAeciP/P+6qb/YdSa9QiRAcAAAAAAACuQiznAgAAAAAAAACACUJ0AAAAAAAAAABMEKIDAAAAAAAAAGCCEB0AAAAAAAAAABOE6AAAAAAAAAAAmCBEBwAAAAAAAADABCE6AAAAAAAAAAAmCNEBAAAAAAAAADDhYXUBQHW2P6Sesrz99V//mlaXAgAAAAAAAMAChOiAE7EPTLK6BAAAAAAAAAAWYjkXAAAAAAAAAABMEKIDAAAAAAAAAGCCEB0AAAAAAAAAABOsiQ44MWv5NIWcydRJv0Al9P271eUAAAAAAAAAqGKE6IAT7Q7uVN3sP5Rao5bVpQAAAAAAAACwAMu5AAAAAAAAAABgghAdAAAAAAAAAAAThOgAAAAAAAAAAJggRAcAAAAAAAAAwAQhOgAAAAAAAAAAJgjRAQAAAAAAAAAwQYgOAAAAAAAAAIAJQnQAAAAAAAAAAEx4WF0AUJ0tuamHAnJPK8vb3+pSAAAAAAAAAFiAEB1w4tU/xVpdAgAAAAAAAAALsZwLAAAAAAAAAAAmCNEBAAAAAAAAADBBiA4AAAAAAAAAgAnWRAec2PTaQNXN/kOpNWopavjbVpcDAAAAAAAAoIoxEx0AAAAAAAAAABOE6AAAAAAAAAAAmCBEBwAAAAAAAADABCE6AAAAAAAAAAAmCNEBAAAAAAAAADBBiA4AAAAAAAAAgAlCdAAAAAAAAAAATBCiAwAAAAAAAABgghAdAAAAAAAAAAATHlYXAFRnT/YdLa+CfOV5eFpdCgAAAAAAAAALEKIDTmxu2MrqEgAAAAAAAABYiOVcAAAAAAAAAAAwQYgOAAAAAAAAAIAJlnMBnGh/8Af7mugs7QIAAAAAAABcfQjRASdmLn9FdbP/UGqNWooa/rbV5QAAAAAAAACoYiznAgAAAAAAAACACUJ0AAAAAAAAAABMEKIDAAAAAAAAAGCCEB0AAAAAAAAAABOE6AAAAAAAAAAAmCBEBwAAAAAAAADAhIfVBQBwTeOxKyv1eAem9K7U4wEAAAAAAABXAmaiAwAAAAAAAABgghAdAAAAAAAAAAATLOcCOBE1/G2rSwAAAAAAAABgIWaiAwAAAAAAAABgghAdAAAAAAAAAAAThOgAAAAAAAAAAJhgTXTAiSc2vKeA3NPK8vbXq3+KtbocAAAAAAAAAFWMEB1w4v7vv1Td7D+UWqPWFR+iNx678oJjvN0NTb1Nikz8UrmFtguOPzCld2WUBgAAAAAAAFiG5VwAAAAAAAAAADBBiA4AAAAAAAAAgAlCdAAAAAAAAAAATBCiAwAAAAAAAABgghAdAAAAAAAAAAATHlYXAODK1Xjsyko93oEpvSv1eAAAAAAAAMCFMBMdAAAAAAAAAAAThOgAAAAAAAAAAJhgORfAiS0NIxVyJlMn/QKtLgUAAAAAAACABQjRAScS+v7d6hIAAAAAAAAAWIjlXAAAAAAAAAAAMEGIDgAAAAAAAACACUJ0AAAAAAAAAABMsCY64MR77z+j0NOn9F//mop9YJLV5QAAAAAAAACoYoTogBNNTh5R3ew/FJB72upSAAAAAAAAAFiA5VwAAAAAAAAAADBBiA4AAAAAAAAAgAlCdAAAAAAAAAAATBCiAwAAAAAAAABgghAdAAAAAAAAAAAThOgAAAAAAAAAAJggRAcAAAAAAAAAwAQhOgAAAAAAAAAAJjysLgCozv7R8QH55eXojJev1aUAAAAAAAAAsIClM9HXr1+vvn37KiIiQjabTcuWLXPYbxiGEhMTFRERIV9fX3Xu3Fm7du1yGJObm6uRI0cqNDRU/v7+6tevnw4fPuwwJj09XXFxcQoKClJQUJDi4uJ06tQphzEHDx5U37595e/vr9DQUMXHxysvL+9SPGxcRt6/+U69ddvdev/mO60uBQAAAAAAAIAFLA3RT58+rZtuuklz5swpc//UqVM1Y8YMzZkzR1u3blV4eLi6d++urKws+5iEhAQtXbpUS5Ys0YYNG5Sdna0+ffqosLDQPiY2NlY7duxQUlKSkpKStGPHDsXFxdn3FxYWqnfv3jp9+rQ2bNigJUuW6JNPPtHo0aMv3YMHAAAAAAAAAFR7li7n0rNnT/Xs2bPMfYZhaNasWXr22Wd1zz33SJLefvtt1alTR++9956GDBmijIwMvfXWW3r33XfVrVs3SdKiRYvUoEEDrVq1Sj169NCePXuUlJSkzZs3q127dpKk+fPnKyoqSnv37lXTpk2VnJys3bt369ChQ4qIiJAkvfLKKxo0aJBeeuklBQYGVkE3AAAAAAAAAADVTbVdE33//v1KS0tTTEyMfZu3t7eio6O1ceNGDRkyRNu2bVN+fr7DmIiICEVGRmrjxo3q0aOHNm3apKCgIHuALknt27dXUFCQNm7cqKZNm2rTpk2KjIy0B+iS1KNHD+Xm5mrbtm3q0qVLmTXm5uYqNzfXfjszM1OSlJ+fr/z8/ErrRXkUn8/bzajS817OinvlrGe1s0/KrahIRW5uOlEjpKpKq7bK07NLqap/rypLcd2Xa/1WoGeuoW8VR89cQ98qzsqe8XMCAAAALk61DdHT0tIkSXXq1HHYXqdOHf3+++/2MV5eXgoODi41pvj+aWlpCgsLK3X8sLAwhzElzxMcHCwvLy/7mLJMnjxZEyZMKLU9OTlZfn5+F3qIl8QLbYssOe/lzFnPYh4dJd8//lBOrVpKfuutKqyqerPqefb5559bct7KkpKSYnUJlx165hr6VnH0zDX0reKs6NmZM2eq/JwAAADAlaTahujFbDabw23DMEptK6nkmLLGuzKmpHHjxmnUqFH225mZmWrQoIFiYmKqfAmY/Px8paSk6Llv3ZRb5Lw/OMfbzdALbYuc9qxdnuQrKSNPeuob96otsBoqT88upZ2JPar8nJWh+Peze/fu8vT0tLqcywI9cw19qzh65hr6VnFW9qz43ZIAAAAAXFNtQ/Tw8HBJ52aJ161b1779+PHj9lnj4eHhysvLU3p6usNs9OPHj6tDhw72MceOHSt1/BMnTjgcZ8uWLQ7709PTlZ+fX2qG+vm8vb3l7e1darunp6dlLyhzi2zKLSRErwhnPTOM/32nr/9j1fPscg9qrPx/w+WKnrmGvlUcPXMNfas4K3rGzwgAAAC4OG5WF2CmSZMmCg8Pd3jLa15entatW2cPyNu0aSNPT0+HMampqdq5c6d9TFRUlDIyMvTNN9/Yx2zZskUZGRkOY3bu3KnU1FT7mOTkZHl7e6tNmzaX9HECAAAAAAAAAKovS2eiZ2dna9++ffbb+/fv144dOxQSEqKGDRsqISFBkyZN0vXXX6/rr79ekyZNkp+fn2JjYyVJQUFBevTRRzV69GjVqlVLISEhGjNmjFq2bKlu3bpJkpo3b64777xTgwcP1htvvCFJevzxx9WnTx81bdpUkhQTE6MWLVooLi5O06ZN08mTJzVmzBgNHjy4ypdlAQAAAAAAAABUH5aG6N9++626dOliv128vvjAgQO1cOFCPfXUU8rJydGwYcOUnp6udu3aKTk5WQEBAfb7zJw5Ux4eHhowYIBycnLUtWtXLVy4UO7u/1u/evHixYqPj1dMTIwkqV+/fpozZ459v7u7u1auXKlhw4apY8eO8vX1VWxsrKZPn36pWwAAAAAAAAAAqMYsDdE7d+4so3jR6TLYbDYlJiYqMTHRdIyPj49mz56t2bNnm44JCQnRokWLnNbSsGFDrVix4oI1A7iyNB67stKPeWBK70o/JgAAAAAAAKxRbT9YFABKuhSBNwAAAAAAAOBMtf1gUQAAAAAAAAAArMZMdACoZCVnzHu7G5p6mxSZ+KVyC20VPh7LwwAAAAAAAFiHEB1w4sH7X5J7UaEK3dwvPBgAAAAAAADAFYcQHXDit1r1rS4BAAAAAAAAgIVYEx0AAAAAAAAAABOE6AAAAAAAAAAAmGA5F8CJfru/km9+rnI8vfXvFp2tLgcAAAAAAABAFSNEB5wYt3aB6mb/odQatQjRAQAAAAAAgKsQy7kAAAAAAAAAAGCCEB0AAAAAAAAAABOE6AAAAAAAAAAAmCBEBwAAAAAAAADABCE6AAAAAAAAAAAmCNEBAAAAAAAAADBBiA4AAAAAAAAAgAlCdAAAAAAAAAAATHhYXQBQnZ2oEezwHQAAAAAAAMDVhRAdcKLfwFlWlwAAAAAAAADAQiznAgAAAAAAAACACUJ0AAAAAAAAAABMEKIDAAAAAAAAAGCCNdEBJyYlzVHQ2Sxl+ATomTtHWF0OUK01Hruy0o7l7W5o6m2VdjgAAAAAAACXEaIDTnT5davqZv+h1Bq1rC4FAAAAAAAAgAVYzgUAAAAAAAAAABOE6AAAAAAAAAAAmCBEBwAAAAAAAADABGuiA8BVqDI/BBQAAAAAAOBKRogOANUcgTcAAAAAAIB1WM4FAAAAAAAAAAAThOgAAAAAAAAAAJggRAcAAAAAAAAAwARrogNO/LtFtILOZivDp4bVpQAAAAAAAACwACE64MTkLo9YXQIAAAAAAAAAC7GcCwAAAAAAAAAAJgjRAQAAAAAAAAAwQYgOAAAAAAAAAIAJ1kQHnFg9f6jCsv/Q8Rq11HXwPKvLAQAAAAAAAFDFmIkOOOGXl6OAvBz55eVYXQoAAAAAAAAACxCiAwAAAAAAAABgghAdAAAAAAAAAAAThOgAAAAAAAAAAJggRAcAAAAAAAAAwAQhOgAAAAAAAAAAJgjRAQAAAAAAAAAwQYgOAAAAAAAAAIAJQnQAAAAAAAAAAEx4WF0AUJ0922O4fArydNbDy+pSAAAAAAAAAFiAEB1wYs11t1ldAoBqrvHYlZV6vANTelfq8QAAAAAAwMUhRAcAXDUqO/AGAAAAAABXPtZEBwAAAAAAAADABDPRASci0/bJqzBfee6e2hl+ndXlAAAAAAAAAKhihOiAE/M/eUF1s/9Qao1aihr+ttXlAAAAAAAAAKhihOgAgGorMvFL5RbarC4DZeADVQEAAAAAVwvWRAcAAAAAAAAAwAQhOgAAAAAAAAAAJljOBQCAK1xlL70CAAAAAMDVhJnoAAAAAAAAAACYYCY6AADVyMXMGvd2NzT1Nj6QFQAAAACAysRMdAAAAAAAAAAATBCiAwAAAAAAAABgguVcAADAFak8S+NUdAmcA1N6V0ZpAAAAAIDLCCE64ES3x+bKJsmwuhAAQLVwMWvWl4VQHgAAAACqP0J0wInT3n5WlwAAAAAAAADAQqyJDgAAAAAAAACACUJ0AAAAAAAAAABMsJwL4MSj3yxVQN4ZZXn56a3b7ra6HAAAAAAAAABVjBAdcOKxrctUN/sPpdaoRYgOAJdQZX9gJwAAAAAAlYXlXAAAAAAAAAAAMMFMdAAAgCtIVczq93Y3NPU2KTLxS+UW2ip8/wNTel+CqgAAAADg0iBEBwAAAEqo7D9GFP/hAQAAAMDlh+VcAAAAAAAAAAAwQYgOAAAAAAAAAIAJlnMBAACwSFWsXw4AAAAAuDjMRAcAAAAAAAAAwAQhOgAAAAAAAAAAJljOBXBiZ/i1Sj0Tqj/8gqwuBQAAAAAAAIAFCNEBJwbf+7zVJQAAcMVhLXgAAAAAlxOWcwEAAAAAAAAAwAQhOgAAAAAAAAAAJgjRAQAAAAAAAAAwwZrogBPzP5moWmcy9IdfEOujAwAAAAAAAFchQnTAici0X1U3+w+l1qhldSkAAAAAAAAALMByLgAAAAAAAAAAmCBEBwAAAAAAAADABCE6AAAAAAAAAAAmCNFLeP3119WkSRP5+PioTZs2+vrrr60uCQAAAAAAAABgEUL083zwwQdKSEjQs88+q+3bt6tTp07q2bOnDh48aHVpAAAAAAAAAAALEKKfZ8aMGXr00Uf12GOPqXnz5po1a5YaNGiguXPnWl0aAAAAAAAAAMAChOj/Jy8vT9u2bVNMTIzD9piYGG3cuNGiqgAAAAAAAAAAVvKwuoDq4r///a8KCwtVp04dh+116tRRWlpamffJzc1Vbm6u/XZGRoYk6eTJk8rPz790xZYhPz9fZ86ckUe+mwqLbFV67suVR5GhM2eKnPYsW0XK/L/vHgWnq7bAaqg8PUNp9K3i6Jlr6FvF0TPX0LeKK+7ZH3/8IU9Pzyo9d1ZWliTJMIwqPW9JxefPzMy0tA4AAACgWPG16YWulQnRS7DZHF8IGoZRaluxyZMna8KECaW2N2nS5JLUhsoXe4H9NxT/R3a69MpfLnE1l4cL9Qxlo28VR89cQ98qjp65hr5VnNU9y8rKUlBQkKXnl6QGDRpYVgMAAABQlgtdKxOi/5/Q0FC5u7uXmnV+/PjxUrPTi40bN06jRo2y3y4qKtLJkydVq1Yt0+D9UsnMzFSDBg106NAhBQYGVum5L1f0rOLomWvoW8XRM9fQt4qjZ66hbxVnZc8Mw1BWVpYiIiKq9LwlRURE6NChQwoICOBa+TJAzyqOnrmGvlUcPXMNfas4euYa+lZxl8O1MiH6//Hy8lKbNm2UkpKiu+++2749JSVF/fv3L/M+3t7e8vb2dthWs2bNS1nmBQUGBvILWkH0rOLomWvoW8XRM9fQt4qjZ66hbxVnVc+snIFezM3NTfXr17e0Bp6zFUfPKo6euYa+VRw9cw19qzh65hr6VnHV+VqZEP08o0aNUlxcnNq2bauoqCi9+eabOnjwoIYOHWp1aQAAAAAAAAAACxCin+cvf/mL/vjjD02cOFGpqamKjIzU559/rkaNGlldGgAAAAAAAADAAoToJQwbNkzDhg2zuowK8/b21vjx40stLwNz9Kzi6Jlr6FvF0TPX0LeKo2euoW8VR8+sRf8rjp5VHD1zDX2rOHrmGvpWcfTMNfSt4i6HntkMwzCsLgIAAAAAAAAAgOrIzeoCAAAAAAAAAACorgjRAQAAAAAAAAAwQYgOAAAAAAAAAIAJQvQrwOuvv64mTZrIx8dHbdq00ddff211SVVi8uTJuvXWWxUQEKCwsDDddddd2rt3r8OYQYMGyWazOXy1b9/eYUxubq5Gjhyp0NBQ+fv7q1+/fjp8+LDDmPT0dMXFxSkoKEhBQUGKi4vTqVOnLvVDvCQSExNL9ST8/7d39zFV1v8fx19HA0RCvEsBneiczubBO5yKpaJ9583U3NxKjU1cirN1vJlWWum0zS2bm6tVVmvK6GbaH97MTVfhRLsBNQVLMYkU0RmIOUGbN4C8f3/08+QRDnAQDhzO87Gx4ee64bree1/XefE5nMvoaPdyM9OGDRsUGxur8PBwJSUlKS8vz2MfwVazvn371qiZw+HQq6++Kok+e+CHH37QzJkzFRsbK4fDob1793os92dvXbp0STNnzlRERIS6d++uZcuWqaKiojlO+7HUVbPKykqtXr1a8fHxioiIUGxsrObPn6+//vrLYx9JSUk1+m/u3Lke67Slmkn195o/r8lAqVt9NavtHudwOLR582b3OsHWaw3JGdzXAgNZmazsC7Ky78jKDUNW9h1ZuXHIyr4jK/suKLOyIaDt3LnTQkJC7PPPP7ezZ8/a8uXLLSIiwoqKilr60JrdlClTLC0tzc6cOWOnTp2y6dOnW58+feyff/5xr5OSkmJTp0614uJi99f169c99rNkyRLr1auXZWRkWE5Ojk2cONGGDh1qVVVV7nWmTp1qTqfTsrKyLCsry5xOp82YMcNv59qU1q9fb4MHD/aoSWlpqXv5pk2bLDIy0nbt2mWnT5+2OXPmWExMjN28edO9TrDVrLS01KNeGRkZJskyMzPNjD574MCBA/b222/brl27TJLt2bPHY7m/equqqsqcTqdNnDjRcnJyLCMjw2JjY83lcjV7DXxVV83Kysrsf//7n33zzTd27tw5y87OttGjR1tCQoLHPiZMmGCpqake/VdWVuaxTluqmVn9veavazKQ6lZfzR6uVXFxsW3fvt0cDoedP3/evU6w9VpDcgb3tdaPrExW9hVZ2Xdk5YYhK/uOrNw4ZGXfkZV9F4xZmUn0ADdq1ChbsmSJx9igQYNszZo1LXRELae0tNQk2ZEjR9xjKSkpNmvWLK/blJWVWUhIiO3cudM9duXKFWvXrp19++23ZmZ29uxZk2RHjx51r5OdnW2S7Ny5c01/Is1s/fr1NnTo0FqXVVdXW3R0tG3atMk9dvfuXYuKirJPP/3UzIKzZo9avny59e/f36qrq82MPqvNo8HDn7114MABa9eunV25csW9zo4dOywsLMzKy8ub5XybQm1h7VHHjx83SR6TPxMmTLDly5d73aYt18ys9rr565oM1Lo1pNdmzZplkyZN8hgL9l57NGdwXwsMZOX/kJUbhqz8+MjK9SMr+46s3DhkZd+RlRsnGLIyj3MJYBUVFTp58qQmT57sMT558mRlZWW10FG1nPLycklS165dPcYPHz6sHj16aODAgUpNTVVpaal72cmTJ1VZWelRw9jYWDmdTncNs7OzFRUVpdGjR7vXGTNmjKKiogK2zgUFBYqNjVW/fv00d+5cXbhwQZJUWFiokpISj3qEhYVpwoQJ7nMN1po9UFFRoa+++kovv/yyHA6He5w+q5s/eys7O1tOp1OxsbHudaZMmaJ79+7p5MmTzXqeza28vFwOh0OdO3f2GP/666/VvXt3DR48WK+99ppu3brlXhasNfPHNdkW6yZJV69e1f79+7Vw4cIay4K51x7NGdzXWj+ysieycsORlRuPrNw4vKY0DbJyw5GVG4+sXLtgyMpPNNme4Hd///237t+/r549e3qM9+zZUyUlJS10VC3DzLRy5Uo9++yzcjqd7vFp06bphRdeUFxcnAoLC7Vu3TpNmjRJJ0+eVFhYmEpKShQaGqouXbp47O/hGpaUlKhHjx41fmaPHj0Css6jR4/WF198oYEDB+rq1avauHGjxo4dq7y8PPf51NZTRUVFkhSUNXvY3r17VVZWpgULFrjH6LP6+bO3SkpKavycLl26KDQ0NKBreffuXa1Zs0YvvfSSOnXq5B5PTk5Wv379FB0drTNnzujNN9/Ur7/+qoyMDEnBWTN/XZNtrW4PpKenKzIyUrNnz/YYD+Zeqy1ncF9r/cjK/yErNxxZ+fGQlRuH15THR1ZuOLLy4yEr1xQsWZlJ9Dbg4Xf4pX+b99Gxts7lcum3337TTz/95DE+Z84c9/dOp1MjR45UXFyc9u/fX+OG97BHa1hbPQO1ztOmTXN/Hx8fr8TERPXv31/p6enu/0ykMT3Vlmv2sG3btmnatGke73DSZw3nr95qa7WsrKzU3LlzVV1dra1bt3osS01NdX/vdDo1YMAAjRw5Ujk5ORoxYoSk4KuZP6/JtlS3B7Zv367k5GR16NDBYzyYe81bzpC4rwUCsjJZ2Rdk5cdDVn48vKY0DlnZN2Tlx0NWrilYsjKPcwlg3bt3V/v27Wu8q1JaWlrjHZi2bOnSpdq3b58yMzPVu3fvOteNiYlRXFycCgoKJEnR0dGqqKjQjRs3PNZ7uIbR0dG6evVqjX1du3atTdQ5IiJC8fHxKigoUHR0tCTV2VPBXLOioiIdPHhQixYtqnM9+qwmf/ZWdHR0jZ9z48YNVVZWBmQtKysr9eKLL6qwsFAZGRkef1lTmxEjRigkJMSj/4KtZo9qrmuyLdbtxx9/VH5+fr33OSl4es1bzuC+1vqRlf9FVn48ZOWGIys3Hq8pjUdWfnxk5YYjK9cUTFmZSfQAFhoaqoSEBPdHQx7IyMjQ2LFjW+io/MfM5HK5tHv3bh06dEj9+vWrd5vr16/r8uXLiomJkSQlJCQoJCTEo4bFxcU6c+aMu4aJiYkqLy/X8ePH3escO3ZM5eXlbaLO9+7d0++//66YmBj3R48erkdFRYWOHDniPtdgrllaWpp69Oih6dOn17kefVaTP3srMTFRZ86cUXFxsXud77//XmFhYUpISGjW82xqD34pKCgo0MGDB9WtW7d6t8nLy1NlZaW7/4KtZrVprmuyLdZt27ZtSkhI0NChQ+tdt633Wn05g/ta60dWJis3BbJyw5GVG4/XlMYhKzcNsnLDkZX/E5RZucn+i1K0iJ07d1pISIht27bNzp49aytWrLCIiAi7ePFiSx9as3vllVcsKirKDh8+bMXFxe6v27dvm5nZrVu3bNWqVZaVlWWFhYWWmZlpiYmJ1qtXL7t586Z7P0uWLLHevXvbwYMHLScnxyZNmmRDhw61qqoq9zpTp061IUOGWHZ2tmVnZ1t8fLzNmDHD7+fcFFatWmWHDx+2Cxcu2NGjR23GjBkWGRnp7plNmzZZVFSU7d69206fPm3z5s2zmJiYoK6Zmdn9+/etT58+tnr1ao9x+uw/t27dstzcXMvNzTVJtmXLFsvNzbWioiIz819vVVVVmdPptOeee85ycnLs4MGD1rt3b3O5XP4rRgPVVbPKykp7/vnnrXfv3nbq1CmP+9y9e/fMzOzPP/+0d955x3755RcrLCy0/fv326BBg2z48OFttmZmddfNn9dkINWtvuvTzKy8vNw6duxon3zySY3tg7HX6ssZZtzXAgFZmazsK7Jy45CV60dW9h1ZuXHIyr4jK/suGLMyk+htwMcff2xxcXEWGhpqI0aMsCNHjrT0IfmFpFq/0tLSzMzs9u3bNnnyZHvqqacsJCTE+vTpYykpKXbp0iWP/dy5c8dcLpd17drVwsPDbcaMGTXWuX79uiUnJ1tkZKRFRkZacnKy3bhxw09n2rTmzJljMTExFhISYrGxsTZ79mzLy8tzL6+urrb169dbdHS0hYWF2fjx4+306dMe+wi2mpmZfffddybJ8vPzPcbps/9kZmbWek2mpKSYmX97q6ioyKZPn27h4eHWtWtXc7lcdvfu3eY8/Uapq2aFhYVe73OZmZlmZnbp0iUbP368de3a1UJDQ61///62bNkyu379usfPaUs1M6u7bv6+JgOlbvVdn2Zmn332mYWHh1tZWVmN7YOx1+rLGWbc1wIFWZms7AuycuOQletHVvYdWblxyMq+Iyv7LhizsuP/TxwAAAAAAAAAADyCZ6IDAAAAAAAAAOAFk+gAAAAAAAAAAHjBJDoAAAAAAAAAAF4wiQ4AAAAAAAAAgBdMogMAAAAAAAAA4AWT6AAAAAAAAAAAeMEkOgAAAAAAAAAAXjCJDgAAAAAAAACAF0yiAwBajYsXL8rhcOjUqVMtfSgAAABAq0JWBoCW4zAza+mDAABAku7fv69r166pe/fueuKJJ1r6cAAAAIBWg6wMAC2HSXQAQKtQUVGh0NDQlj4MAAAAoNUhKwNAy+JxLgCAZpGUlCSXyyWXy6XOnTurW7duWrt2rR68d9u3b19t3LhRCxYsUFRUlFJTU2v9iGpeXp6mT5+uTp06KTIyUuPGjdP58+fdy9PS0vT000+rQ4cOGjRokLZu3ervUwUAAAB8QlYGgMDC538AAM0mPT1dCxcu1LFjx3TixAktXrxYcXFxSk1NlSRt3rxZ69at09q1a2vd/sqVKxo/frySkpJ06NAhderUST///LOqqqokSZ9//rnWr1+vjz76SMOHD1dubq5SU1MVERGhlJQUv50nAAAA4CuyMgAEDh7nAgBoFklJSSotLVVeXp4cDockac2aNdq3b5/Onj2rvn37avjw4dqzZ497m4sXL6pfv37Kzc3VsGHD9NZbb2nnzp3Kz89XSEhIjZ/Rp08fvffee5o3b557bOPGjTpw4ICysrKa/yQBAACARiArA0Bg4XEuAIBmM2bMGPcvBZKUmJiogoIC3b9/X5I0cuTIOrc/deqUxo0bV+svBdeuXdPly5e1cOFCPfnkk+6vjRs3enyEFQAAAGiNyMoAEDh4nAsAoMVERETUuTw8PNzrsurqakn/fkx19OjRHsvat2//+AcHAAAAtCCyMgC0HkyiAwCazdGjR2v8e8CAAQ0O7kOGDFF6eroqKytr/IVNz5491atXL124cEHJyclNdswAAACAP5CVASBw8DgXAECzuXz5slauXKn8/Hzt2LFDH374oZYvX97g7V0ul27evKm5c+fqxIkTKigo0Jdffqn8/HxJ0oYNG/Tuu+/qgw8+0B9//KHTp08rLS1NW7Zsaa5TAgAAAJoEWRkAAgd/iQ4AaDbz58/XnTt3NGrUKLVv315Lly7V4sWLG7x9t27ddOjQIb3++uuaMGGC2rdvr2HDhumZZ56RJC1atEgdO3bU5s2b9cYbbygiIkLx8fFasWJFM50RAAAA0DTIygAQOBxmZi19EACAticpKUnDhg3T+++/39KHAgAAALQqZGUACCw8zgUAAAAAAAAAAC+YRAcAAAAAAAAAwAse5wIAAAAAAAAAgBf8JToAAAAAAAAAAF4wiQ4AAAAAAAAAgBdMogMAAAAAAAAA4AWT6AAAAAAAAAAAeMEkOgAAAAAAAAAAXjCJDgAAAAAAAACAF0yiAwAAAAAAAADgBZPoAAAAAAAAAAB4wSQ6AAAAAAAAAABe/B+h1OtYN+RaYQAAAABJRU5ErkJggg==",
      "text/plain": [
       "<Figure size 1500x600 with 2 Axes>"
      ]
     },
     "metadata": {},
     "output_type": "display_data"
    },
    {
     "data": {
      "image/png": "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",
      "text/plain": [
       "<Figure size 1500x600 with 2 Axes>"
      ]
     },
     "metadata": {},
     "output_type": "display_data"
    },
    {
     "data": {
      "image/png": "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",
      "text/plain": [
       "<Figure size 1500x600 with 2 Axes>"
      ]
     },
     "metadata": {},
     "output_type": "display_data"
    },
    {
     "data": {
      "image/png": "iVBORw0KGgoAAAANSUhEUgAABdEAAAJOCAYAAABYwk4SAAAAOXRFWHRTb2Z0d2FyZQBNYXRwbG90bGliIHZlcnNpb24zLjguMCwgaHR0cHM6Ly9tYXRwbG90bGliLm9yZy81sbWrAAAACXBIWXMAAA9hAAAPYQGoP6dpAACAHklEQVR4nOzdeVgVdf//8deRHQQEERHcq9slzNJK0bzBVMwQ2624IykzTdMUu0vzNpdySU2907Ll7tZMS9u0zG4ElzRzyUwr08xKQ1PU3HAFhPn90Zfz8whzWBod0OfjurjszHzOzPu8OdWcl5/zGYdhGIYAAAAAAAAAAEARVewuAAAAAAAAAACAiooQHQAAAAAAAAAAE4ToAAAAAAAAAACYIEQHAAAAAAAAAMAEIToAAAAAAAAAACYI0QEAAAAAAAAAMEGIDgAAAAAAAACACUJ0AAAAAAAAAABMEKIDAAAAAAAAAGCCEB3AZW/WrFlyOBzOH09PT9WuXVsPPfSQfv/9d7vLQwU0cuRIORwO/fHHH27HpaSkqH79+i7b6tevr5SUlAtXnAU+++wzjRw50u4yAACotM6/vjz/Z9euXRe1nq5duxa5JgEuZykpKapatWqJ4+Li4hQXF+eyzeFwVPhr5XfeeUdTp061uwzgkuJpdwEAUFHMnDlTjRs31unTp7Vq1SqNGzdOK1eu1Pfff6+AgAC7y0MlNHz4cD3xxBN2l1Fmn332mV5++eUK/+EAAICKrvD68ny1atWyoRoAZfXKK6/YXUK5vPPOO9qyZYsGDhxodynAJYMQHQD+T3R0tK6//npJUvv27ZWfn6/nnntOCxcu1D/+8Q+bq0NldMUVV9hdQoVy6tQp+fv7210GAAAXzbnXlwAqn6ZNm9pdQoVy+vRp+fn52V0GYAuWcwEAE61bt5Yk/fbbb5KkgwcPqm/fvmratKmqVq2q8PBw3Xzzzfriiy+KPDcnJ0ejR49WkyZN5Ovrq+rVq6t9+/Zas2aNc4y7r/ie+3XbXbt2yeFwaMKECRozZozq1q0rX19fXX/99Vq2bFmRc+/YsUNJSUkKDw+Xj4+PmjRpopdffrnY11i4LMn5P+d/ZVGSli5dqg4dOigoKEj+/v5q27ZtseeX/lyypLjjfv755y7j5s+fr5iYGAUEBKhq1arq3LmzNm3a5DLG7KuWH3zwQZFjFvd1yy+++MJ5/nMZhqFXXnlF1157rfz8/BQSEqK7775bv/76a7GvqSQ//vijGjZsqFatWunAgQPO2kvz1enMzEw98MADLr+zF198UQUFBc4xhe+DiRMn6oUXXlD9+vXl5+enuLg4/fTTT8rLy9OQIUMUGRmp4OBg3XHHHc46zlVSz1NSUpzvl+K+dl7avsXFxSk6OlqrVq1SmzZt5O/vr4cffrisbQUA4JJWuOxLRkaGHnroIYWGhiogIECJiYlF/t+akZGh2267TbVr15avr6+uvPJK9e7du9jl5aZNm6bIyEhVq1ZNzz77rHP77NmzndtTU1OVn5/v3Pf5558Xe73WsWPHIstXFF5DnmvRokXy8fHRoEGDSnzdO3bs0N13363IyEh5eHi4XHMUKrz2mTRpkstzo6Oji1zvTZo0qcgyOYW9PXdbXl6emjRpIofDoVmzZjm3F3fN9uqrr6pKlSqlWhLj6NGjGjx4sBo2bCgfHx+Fh4fr1ltv1Y8//mj6nJ49eyo0NFSnTp0qsu/mm2/W1Vdf7XxcUFCgadOmOa+/qlWrptatW+uTTz5xjpk/f77i4+NVq1Yt+fn5qUmTJhoyZIhOnjzpcuyUlBQ5HA5FR0cXOe+oUaPkcDiKXHsXt3zJc889Z/q5oTiF76/ifopTms8TJ06c0MCBA9WgQQN5e3u7/dxRGl9++aXCwsLUtWtXZ9+K+3xRnC1btui2225TSEiIfH19de211+qtt94qtgfvvPOOnn76adWqVUtVq1ZVYmKi9u/fr+PHj+vRRx9VWFiYwsLC9NBDD+nEiRMuxyjNtXhcXJwWL16s3377rdg+5+bm6vnnn1fjxo3l4+OjGjVq6KGHHtLBgwddzlW/fn117dpVH330ka677jr5+vpq1KhRZW0rcMkgRAcAEz///LMkqUaNGpKkw4cPS5JGjBihxYsXa+bMmWrYsKHi4uJcLtLOnj2rLl266LnnnlPXrl21YMECzZo1S23atFFmZqbLOe6++26tXbvW5adt27bF1jN9+nSlpaVp6tSpmjNnjqpUqaIuXbpo7dq1zjFbt27VDTfcoC1btujFF1/Up59+qoSEBA0YMMDtBU9aWprz/A0bNiyyf86cOYqPj1dQUJDeeustvffeewoNDVXnzp1Ng/Rbb73VecziQvyxY8fq/vvvV9OmTfXee+/p7bff1vHjx9WuXTtt3brVtNayyM/PV79+/eTh4VFkX+/evTVw4EB17NhRCxcu1CuvvKIffvhBbdq00f79+8t0npUrV6pNmza65pprtGLFCoWHh5f6uQcPHlSbNm2Unp6u5557Tp988ok6duyoJ598Uo8//niR8S+//LK+/PJLvfzyy/rPf/6jH3/8UYmJierZs6cOHjyo//73v5owYYKWLl2qRx55xOW5pen58OHDdffdd0uSy/uy8GvnZenbvn379MADDygpKUmfffaZ+vbtW6a+AgBwuejZs6eqVKniXMf4q6++UlxcnI4ePeoc88svvygmJkYzZsxQenq6nn32Wa1fv1433XST8vLynOMWLlyoAQMGqEuXLnrvvff066+/6vPPP9f+/fs1a9YszZw5UwMHDtRLL72k0aNHu63rvffeK1UY+emnn+ruu+9W3759NWXKlBLHJyYmavXq1Ro7dqy++OILrV271nn9cSFNmTJFO3bsKHHca6+9pr59+2ry5MklLodx/Phx3XTTTXrttdf00EMPadGiRXr11Vf1t7/9Tfv27TN93hNPPKEjR47onXfecdm+detWrVixQv369XNuS0lJ0RNPPKEbbrhB8+fP17x589StWzeXvyDYsWOHbr31Vr355ptKS0vTwIED9d577ykxMbHIub29vfXbb79p+fLlzm1nz57V66+/rurVq5fQnT8nGY0bN67Ya+ySjB071nl9WdLvvKTPE4MHD9b06dPVq1cvLV26VGvXrtXYsWPLXJP053u9Q4cO6t69uz7++OMyLee5fft2tWnTRj/88INeeuklffTRR2ratKlSUlI0YcKEIuOfeeYZHThwQLNmzdKLL76ozz//XPfff7/uuusuBQcH691339VTTz2lt99+W88884zLc0tzLf7KK6+obdu2ioiIcLmel/78C5nbbrtN48ePV1JSkhYvXqzx48crIyNDcXFxOn36tMv5vvnmG/3zn//UgAEDlJaWprvuuqusrQUuHQYAXOZmzpxpSDLWrVtn5OXlGcePHzc+/fRTo0aNGkZgYKCRlZVV7PPOnj1r5OXlGR06dDDuuOMO5/bZs2cbkow33njD7XklGf369SuyPSEhwahXr57z8c6dOw1JRmRkpHH69Gnn9uzsbCM0NNTo2LGjc1vnzp2N2rVrG8eOHXM55uOPP274+voahw8fdtk+ZMgQQ5LL9quvvtqIjY11Pj558qQRGhpqJCYmujw3Pz/faN68uXHjjTcWeQ21atUyevbs6Xy8YsUKQ5KxYsUKwzAMIzMz0/D09DT69+/v8rzjx48bERERRvfu3Z3bevToYQQEBBQ5x/vvv+9yTMMwjNjYWJfap06dagQEBBgPP/ywce7/8tauXWtIMl588UWXY+7evdvw8/MznnrqqSLnO9eIESMMScbBgweNt99+2/D29jYGDBhg5Ofnu4zr0aOHy+/SMAyjXr16Ro8ePZyPC38H69evdxn32GOPGQ6Hw9i+fbthGP//fdC8eXOX80ydOtWQZHTr1s3l+QMHDjQkOd8LZel5v379jOIuEcrSt9jYWEOSsWzZsiLHAQDgUld4fblhw4ZSjTv3WtIwDOPLL780JBnPP/98sc8rKCgw8vLyjN9++82QZHz88cfOfS1btjRiYmJcxl5//fVGaGioceLECef2vn37GkFBQcbx48cNwyh6vXbixAmjdu3axoABAwxJxogRI5zPLbwWMgzDWLRokeHt7W0MHDiw5MYYhnHw4EFDkjF8+HCX7edffxRe+0ycONFl3PnXqoZhGBMnTjQkGTt37nRuK+xt4bY9e/YYVatWdb6emTNnOseee8326quvGg6Hw5gyZUqpXs/o0aMNSUZGRkapxp8rNjbWuPbaa122PfbYYy6/l1WrVhmSjGHDhpX6uIXvj5UrVxqSjG+//da5r/Da+rHHHnN5382bN8+IjIw0/vGPfxS59j7/93/77bcb1113ndGuXbsivwszaWlphiTjo48+cm4zu+Y0jJI/TxjGn++Fdu3auTyvuM8IxTn3M8b48eMNDw8P44UXXigy7vzPF4ZRtB/33Xef4ePjY2RmZrqM69Kli+Hv728cPXrU5TWc/7mq8Lp9wIABLttvv/12IzQ01Pm4LNfi53+mLPTuu+8akowPP/zQZfuGDRsMScYrr7zi3FavXj3Dw8PD+XkEuNwxEx0A/k/r1q3l5eWlwMBAde3aVREREfrf//6nmjVrOse8+uqratGihXx9feXp6SkvLy8tW7ZM27Ztc4753//+J19fX8uXrrjzzjvl6+vrfBwYGKjExEStWrVK+fn5OnPmjJYtW6Y77rhD/v7+Onv2rPPn1ltv1ZkzZ7Ru3TqXYxZ+PdDdOtVr1qzR4cOH1aNHD5djFhQU6JZbbtGGDRuKfE309OnTLrWeb8mSJTp79qwefPBBl2P6+voqNja22BlP544rPL87+/fv14gRIzR8+HDVqVPHZd+nn34qh8OhBx54wOWYERERat68eam//jlmzBilpKRo/Pjx+ve//60qVcr+v9Xly5eradOmuvHGG122p6SkyDAMlxlC0p8zcs49T5MmTSRJCQkJLuMKtxd++6E8PT9fWfsWEhKim2++uVR9AADgcnb+/XfatGmjevXqacWKFc5tBw4cUJ8+fVSnTh3ndWi9evUkyXktmp+fr2+//Vbt27d3Ps/hcKhmzZoKDAx0mV178803Kzs7Wz/99FOxNY0ePVp5eXluZ6svXrxYd911l6699tpSzUCX/rw+CA0N1cKFC/XDDz8oNzdXZ8+elWEYpXp+eaWmpqp+/frq37+/6ZjXX39djz32mO6+++5S35Dxf//7n/72t7+pY8eOZa7piSee0ObNm/Xll19KkrKzs/X222+rR48eziVV/ve//0mSy8z04vz6669KSkpSRESEPDw85OXlpdjYWEly+axS6PHHH9eiRYuc14rTpk1T79695enp/tZ5aWlp+vjjj/Xyyy+X6dq3NJ87zlXS5wlJuvLKK7Vp0yalp6fr1KlTpfqMcC7DMNS7d2+NGDFC77zzjp566qlSP/dcy5cvV4cOHYp85khJSdGpU6dcvjksSV27dnV57O56/vDhw87eWfEZ5tNPP1W1atWUmJjocoxrr71WERERRY5xzTXX6G9/+1tp2gBc8rixKAD8n9mzZ6tJkyby9PRUzZo1nctXFJo8ebIGDx6sPn366LnnnlNYWJg8PDw0fPhwlwvTgwcPKjIyslyBqjsRERHFbsvNzdWJEyd04sQJnT17VtOmTdO0adOKPcb5a2b+/vvvCg0NlY+Pj+l5C78W6O7rlocPH3Z+KMvLy9OxY8cUFhZW4jFvuOGGYvef37uTJ0/Ky8vL9HjF+ec//6mIiAgNGjSoyNc69+/fL8MwXP6C5FzFLWlTnDlz5igqKkr33XdfmWo716FDh4pdNz0yMtK5/1yhoaEuj729vd1uP3PmjKSy97w4Ze3b+f8OAQCA4pld5xVeBxQUFCg+Pl579+7V8OHD1axZMwUEBKigoECtW7d2LsFw8OBBnT17VoGBgSWeMygoSJKKXXJk+/btmjJliv7zn/8oODjY9Bh33nmn2rZtqxUrVmjRokXFLh1yPg8PD73//vvq169fsetyXwjLly/X+++/rxUrVpiGxHv37lWfPn0UGxurhQsX6ptvvlGLFi1KPPbBgwdVt27dctV12223qX79+nr55ZfVtm1bzZo1SydPnnQJzA8ePCgPD49i3yOFTpw4oXbt2snX11fPP/+8/va3v8nf31+7d+/WnXfeWWSJDunPG2bGxsZqxowZuu+++7RhwwZ98MEHGjJkiOl5cnJyNGDAAKWkpCgmJqZMr/X333+X9P+vcd0pzecJSfr3v/+tnj176pZbbinXX8Lk5uZq/vz5uvrqq9WlS5cyP7/QoUOHir3utfJ6vmrVqpZ8htm/f7+OHj3qPPb5zv+8yPU88P8RogPA/2nSpImuv/560/1z5sxRXFycZsyY4bL9+PHjLo9r1Kih1atXq6CgwNIgPSsrq9ht3t7eqlq1qry8vOTh4aHk5GTTmSoNGjRwefztt9+qWbNmbs9bePE6bdo0581Wz3fuhdwvv/wiwzB05ZVXlnjMDz74wDmDyh0/Pz+tWrXKZdvy5cv19NNPFzt+9erVmjNnjpYsWVLsBWJYWJgcDoe++OKLYv8Cwd1fKpwrLS1N9957r9q1a6dly5aV6rWcr3r16sV+eN27d6+zViuUtedmxyhL38xuFAUAAFyZXecVXk9t2bJF3377rWbNmqUePXo4xxTew6dQ4SSP4m42er7CMcWFs/3791erVq304IMPuj1G4RroSUlJevjhh/X999+7DXsL3XzzzXr99dcVGxuriRMnOv987733SnxuWeXl5enxxx9XUlKSYmNjXdYRP3/clClT1L9/f8XFxSkpKUnffPNNiTOna9SooT179pSrtipVqqhfv3565pln9OKLL+qVV15Rhw4d1KhRI5fj5+fnKysryzTQXL58ufbu3avPP//cOftcksua+sV5/PHH1atXL+3evVt33XVXib+7SZMm6eDBg3rhhRdK/yL/z7fffitfX19dddVVJY4tzecJSapXr57mz5+v6OhotW/fXqmpqW4/I5zPx8dHK1asUOfOndWxY0elpaUpJCSkVM8918W8nv+rn2HCwsJUvXp1paWlFbv//L+A43oe+P8I0QGglBwOR5ELk++++05r1651+epely5d9O6772rWrFmWLuny0UcfaeLEic6vNR4/flyLFi1Su3bt5OHhIX9/f7Vv316bNm3SNddcYzq7oNAPP/ygX3/9tcSbPbZt21bVqlXT1q1bi73R5fkWLlwoSWrXrp3pmM6dO8vT01O//PJLqW5OU6VKlSJ/wWH2ASg/P1+PP/647rrrLnXq1KnYMV27dtX48eP1+++/q3v37iWe30y9evX0xRdfqGPHjs4gvTQfDM7VoUMHjRs3rshsp9mzZ8vhcLh8HfuvKEvPC9/np0+flp+fn3O7VX0DAACu5s6d6/L/5zVr1ui3335z3iS8MMg6/1r0tddec3ns6empZs2auSwDYxiGDhw4oOPHj+vkyZPObw8uW7ZMAQEBRZZq+OCDD7R8+XJt3LixxLoLl3CZMWOGrrnmGvXo0UNpaWklBm/Hjh1TcnKybr/9dg0ePFjSn2HxhfDvf/9be/bs0bJly9yOq1evnnMJl7ffflvNmzfXwIED9frrr7t9XpcuXfTss89q+fLl5VrG7pFHHtHIkSP1j3/8Q9u3by8SUHfp0kXjxo3TjBkzTJfWKe3743yJiYkKCAjQ3LlznUvKmMnMzNT8+fM1YcKEMv+uzp49q//973/q2LFjiUu0SKX7PFGoV69e8vX11auvvqqgoCDTzwhmrrvuOq1cuVIdO3ZUXFycMjIyFB4eXqZjdOjQQQsWLNDevXtdZtrPnj1b/v7+phORyqos1+I+Pj7FfgOha9eumjdvnvLz89WqVStL6gIuF4ToAFBKXbt21XPPPacRI0YoNjZW27dv1+jRo9WgQQOdPXvWOe7+++/XzJkz1adPH23fvl3t27dXQUGB1q9fryZNmpR76Q8PDw916tRJqampKigo0AsvvKDs7GyNGjXKOebf//63brrpJrVr106PPfaY6tevr+PHj+vnn3/WokWLnOtrr1+/Xv3795e3t7eio6Nd1ko/ffq0srOztWnTJl133XWqWrWqpk2bph49eujw4cO6++67FR4eroMHD+rbb7/VwYMHNWPGDO3bt0/Tp0/XhAkTlJSU5Ha2c/369TV69GgNGzZMv/76q2655RaFhIRo//79+uqrrxQQEODyuspi7dq18vX11aJFi0zHtG3bVo8++qgeeughff311/r73/+ugIAA7du3T6tXr1azZs302GOPlep8tWrV0sqVK9W5c2f9/e9/V0ZGRpm+mjxo0CDNnj1bCQkJGj16tOrVq6fFixfrlVde0WOPPWbZGoRl6XnhtxNeeOEFdenSRR4eHrrmmmss7RsAAPj/vv76az3yyCO65557tHv3bg0bNkxRUVHOyQ6NGzfWFVdcoSFDhsgwDIWGhmrRokXKyMgocqyhQ4fq3nvvVa9evdS9e3fNnj1b27Zt09mzZ9WtWzc9/fTTWrdunWbNmqWnn366yMzTV199Vf369VPz5s1LXX9wcLDefvtttW/fXlOnTtWgQYPcju/Xr59yc3P1xhtvlHjsgwcP6scff3Q+zs3N1alTp1y2HTx4UNKfM5hDQkJclqB59dVXNXHixDItS1G4xEpycrK6dOmiO+64w3TswIEDNX/+fN12220aMmSIbrzxRp0+fVorV65U165dS5wQUa1aNT344IOaMWOG6tWrV2RJnHbt2ik5OVnPP/+89u/fr65du8rHx0ebNm2Sv7+/+vfvrzZt2igkJER9+vTRiBEj5OXlpblz5+rbb791e24PDw999tln2r9/v9q0aeN27OzZs3XNNdeoT58+bsed75dfftHzzz+vffv2KS4uzuVzR+Fyg+vWrdN1112nw4cPl/rzhCT95z//0ccff6yVK1c6lycqjyZNmjgnxvz973/X0qVLVbt27VI/f8SIEfr000/Vvn17PfvsswoNDdXcuXO1ePFiTZgwwe2SSGVRlmvxZs2a6aOPPtKMGTPUsmVL56Sk++67T3PnztWtt96qJ554QjfeeKO8vLy0Z88erVixQrfddpvb9ztwWbPphqYAUGHMnDnTkGRs2LDB7bicnBzjySefNKKiogxfX1+jRYsWxsKFC40ePXoUufP56dOnjWeffda46qqrDG9vb6N69erGzTffbKxZs8Y5RpLRr1+/Iuc5/07qO3fuNCQZL7zwgjFq1Cijdu3ahre3t3HdddcZS5YsKfL8nTt3Gg8//LARFRVleHl5GTVq1DDatGljPP/8884x9erVMyS5/Tn/Na1cudJISEgwQkNDDS8vLyMqKspISEgw3n//fcMwDOOdd94xGjdubDz33HNGbm6uy3ML70S/YsUKl+0LFy402rdvbwQFBRk+Pj5GvXr1jLvvvttYunSpc0yPHj2MgICAIq/z/fffL3LM2NhYQ5Ixbtw4l7EjRowwivtf3n//+1+jVatWRkBAgOHn52dcccUVxoMPPmh8/fXXRcYWd7yDBw86tx09etRo27atERoa6nwvFffeqFevntGjRw+Xbb/99puRlJRkVK9e3fDy8jIaNWpkTJw40cjPz3eOKXwfTJw40eW5hb0t/D0UMntfl6bnOTk5xiOPPGLUqFHDcDgchiRj586dZepbbGyscfXVV7vtIwAAl6rSXl8WjktPTzeSk5ONatWqGX5+fsatt95q7Nixw2Xs1q1bjU6dOhmBgYFGSEiIcc899xiZmZmGJGPEiBEuYydPnmxEREQYQUFBxrPPPuu8vpw9e7ZRq1YtIygoyBgwYIDLNVvhNUV4eLhx9OhRl+Odfw6za6shQ4YYPj4+xubNm01f8zvvvGM4HA4jLS3NZXu/fv1cjll47VPWn5kzZ7r09uqrrzby8vKKHLdwnGEUf81mGIZx//33G6GhocaePXtMX49hGMaRI0eMJ554wqhbt67h5eVlhIeHGwkJCcaPP/7o9nmFPv/8c0OSMX78+GL35+fnG1OmTDGio6MNb29vIzg42IiJiTEWLVrkHLNmzRojJibG8Pf3N2rUqGE88sgjxjfffFPsay3u2trdfkmGw+Fw+SxjGH9e78XGxrp9bT169CjV723nzp1l+jyxY8cOIyAgwBg6dKjLuOI+I5T2de7Zs8do3LixUb9+feOXX34xfY3F/Tv3/fffG4mJiUZwcLDh7e1tNG/e3KXv576G0l63F/eZwzBKdy1++PBh4+677zaqVavmvJ4vlJeXZ0yaNMlo3ry54evra1StWtVo3Lix0bt3b5f/7tSrV89ISEgwbyJwmXEYxgW+BTYA4C/ZtWuXGjRooIkTJ+rJJ5+05Jj169fXyJEjlZKSUuz+zz//XCkpKWX+OiQAAABKb9asWXrooYe0YcMGt/fm+au6du2qLVu2XPLXdiVd41ZUgwcP1owZM7R7925Vr17d7nIsVfi7mDVrlukYh8OhnTt3qn79+helJgAoD5ZzAYDL0HXXXed2LcOgoCBdd911F7EiAAAA4K+54oorLFs642JYt26dfvrpJ73yyivq3bv3JRegS3/+TkrSqlWrUt0UEwDsRIgOAJehBQsWuN3fokWLEscAAAAAFUlJNw+taGJiYuTv76+uXbvq+eeft7ucC2L48OEljjl3nXQAqKhYzgUAAAAAAAAAABNV7C4AAAAAAAAAAICKihAdAAAAAAAAAAAThOgAAAAAAAAAAJjgxqIXWUFBgfbu3avAwEA5HA67ywEAAMBlxjAMHT9+XJGRkapSxb45NVwXAwAAwG6lvTYmRL/I9u7dqzp16thdBgAAAC5zu3fvVu3atW07P9fFAAAAqChKujYmRL/IAgMDJf35iwkKCip2TF5entLT0xUfHy8vL6+LWd4li55aj55aj55aj55ai35aj55ar1L1tHFjad8+qVYt6ccfL9pps7OzVadOHed1qV1Kc10MAAAAXEilvTYmRL/ICr+qGhQU5DZE9/f3V1BQUMX/8FdJ0FPr0VPr0VPr0VNr0U/r0VPrVaqeFn5dtEoVyYYQ2e4lVEpzXQwAAABcDCVdG3NjUQAAAAAAAAAATBCiAwAAAAAAAABgghAdAAAAAAAAAAATrIleAeXn58vT01NnzpxRfn6+3eVcEvLy8uipxS5mT729vVWlCn/nBwC4xFStKgUG/vknAAAAgAqLEL0CMQxDWVlZOnLkiCIiIrR7927bb/h0qTAMg55a7GL2tEqVKmrQoIG8vb0v6HkAALiofvzR7goAAAAAlAIhegWSlZWlo0ePqkaNGiooKFBgYCCzby1SUFCgEydOqGrVqvTUIherpwUFBdq7d6/27dununXr8pcgAAAAAAAAuKgI0SuI/Px8HT16VOHh4QoJCVF2drZ8fX0JfC1SUFCg3Nxcemqhi9nTGjVqaO/evTp79qy8vLwu6LkAAAAAAACAc5EmVhB5eXmSJH9/f5srASqewmVcWM8eAAAAAAAAFxsz0SsYlqoAiuLfCwDAJemf/5SOHJFCQqSJE+2uBgAAAIAJQnQAAADADu++K/3+uxQVRYgOAAAAVGAs5wIAAAAAAAAAgAlCdAAAAAAAAAAATBCi4y9LSUmRw+FQnz59iuzr27evHA6HUlJSLn5hFdCYMWPUpk0b+fv7q1q1asWOcTgcRX5effVVlzHff/+9YmNj5efnp6ioKI0ePVqGYbiMWblypVq2bClfX181bNiwyDEk6cMPP1TTpk3l4+Ojpk2basGCBUXGvPLKK2rQoIF8fX3VsmVLffHFFyW+TqvODQAAAAAAANiNEB2WqFOnjubNm6fTp087t505c0bvvvuu6tata2NlFUtubq7uuecePfbYY27HzZw5U/v27XP+9OjRw7kvOztbnTp1UmRkpDZs2KBp06Zp0qRJmjx5snPMzp07deutt6pdu3batGmTnnnmGQ0YMEAffvihc8zatWt17733Kjk5Wd9++62Sk5PVvXt3rV+/3jlm/vz5GjhwoIYNG6ZNmzapXbt26tKlizIzM01rt+rcAAAAAAAAQEVAiA5LtGjRQnXr1tVHH33k3PbRRx+pTp06uu6661zGGoahCRMmqGHDhvLz81Pz5s31wQcfFDlmXFxckRnZU6dOde5PSUnR7bff7nx86NAhVatWzWWG9y+//KLbbrtNtWrVUu3atdWqVSstXbrU5Tz169d3OW5xx05LS9NNN92katWqqXr16uratat++eWX0jfo/4waNUqDBg1Ss2bN3I6rVq2aIiIinD9+fn7OfXPnztWZM2c0a9YsRUdH684779QzzzyjyZMnO2ejv/rqq6pbt66mTp2qJk2a6JFHHtHDDz+sSZMmOY8zdepUderUSUOHDlXjxo01dOhQdejQwaUXkydPVs+ePfXII4+oSZMmmjp1qurUqaMZM2aY1m7VuQEAAAAAAICKgBC9Mpg8Wapdu+Sfbt2KPrdbt9I995xZzOX10EMPaebMmc7H//3vf/Xwww8XGfevf/1LM2fO1IwZM/TDDz9o0KBBeuCBB7Ry5coiY3v16uWcjV27dm235x81apTy8/Ndtp04cUK33nqr0tPTtXLlSsXHxysxMdHtTOrinDx5UqmpqdqwYYOWLVumKlWq6I477lBBQYFzTFxcnGXL1jz++OMKCwvTDTfcoFdffdXlPGvXrlVsbKx8fHyc2zp37qy9e/dq165dzjHx8fEux+zcubO+/vpr5eXluR2zZs0aSX/Omt+4cWORMfHx8c4xxbHi3AAAAAAAAEBF4Wl3ASiF7Gzp999LHlenTtFtBw+W7rnZ2WWv6zzJyckaOnSodu3aJYfDoS+//FLz5s3T559/7hxz8uRJTZ48WcuXL1dMTIwkqWHDhlq9erVee+01xcbGOsfm5OQoODhYERERkiQPDw/Tc//000/673//q9TUVL300kvO7c2bN1fz5s1VUFCg7OxsPffcc1q4cKE++eQTPf7446V+bXfddZfL4zfffFPh4eHaunWroqOjJUl169ZVrVq1Sn1MM88995w6dOggPz8/LVu2TIMHD9Yff/yhf/3rX5KkrKws1a9f3+U5NWvWdO5r0KCBsrKynNvOHXP27Fn98ccfqlWrlumYrKwsSdIff/yh/Px8t2OKY8W5AQAAAAAAgIqCEL0yCAqSoqJKHlejRvHbSvPcoKCy13WesLAwJSQk6K233pJhGEpISFBYWJjLmK1bt+rMmTPq1KmTy/bc3Nwiy74cOnRIQaWs66mnnlLv3r3VsGFDl+0nT57UqFGj9Omnn+r3339Xfn6+Tp8+XWQm+tNPP+0MqaU/A/yEhATn419++UXDhw/XunXr9McffzhnhmdmZjpD9NmzZ5eq1pKcW8e1114rSRo9erTLdofD4fKcwmVczt1e3jHnbyvNmPNZdW4AAAAAAADAboTolUFq6p8/5fHJJ9bWUoKHH37YOcP75ZdfLrK/MHxevHixos4L989dnuTs2bPavXt3kRnXxVm5cqW++OILzZw5Ux9//LHLvn/+859asmSJJkyYoIiICNWoUUPdu3dXbm5ukXHnLsXy9NNPuywNk5iYqDp16uiNN95QZGSkCgoKFB0dXeQ4F0Lr1q2VnZ2t/fv3q2bNmoqIiCgyY/vAgQOS/v+MdLMxnp6eql69utsxhccICwuTh4eH2zHFseLcAABcFhISpMOHpdBQuysBAAAA4AZrosNSt9xyi3Jzc5Wbm6vOnTsX2d+0aVP5+PgoMzNTV155pctPnXOWo1m/fr3OnDmjm266ye35DMPQ4MGDNXz4cIWEhBTZ/8UXXyglJUV33HGHrr76akVERDjXDT9XWFiYSy2BgYHOfYcOHdK2bdv0r3/9Sx06dFCTJk105MiRMnTlr9m0aZN8fX2dN0yNiYnRqlWrXAL89PR0RUZGOv/SISYmRhkZGS7HSU9P1/XXXy8vLy+3Y9q0aSNJ8vb2VsuWLYuMycjIcI4pjhXnBgDgsvDaa9L77//5JwAAAIAKi5nosJSHh4e2bdvm/OfzBQYG6sknn9SgQYNUUFCgm266SdnZ2VqzZo2qVq2qHj16KCsrS8OHD1fr1q3l5+fnnLGcn5+v48eP6/Tp0/Lz85MkLVu2TLVq1VLfvn2LrefKK6/URx99pISEBJ08eVITJkxwuUlnaYSEhKh69ep6/fXXVatWLWVmZmrIkCFFxj344IOKiorSuHHjTI+VmZmpw4cPKzMzU/n5+dq8ebOzzqpVq2rRokXKyspSTEyM/Pz8tGLFCg0bNkyPPvqoc6Z+UlKSRo0apZSUFD3zzDPasWOHxo4dq2effda5HEqfPn00ffp0paamqlevXlq7dq3efPNNvfvuu85annjiCf3973/XCy+8oNtuu00ff/yxli5dqtWrVzvHpKamKjk5Wddff71iYmL0+uuvKzMzU3369HGOeeaZZ7R3717ncjZWnRsAAAAAAACoCAjRYbmS1jF/7rnnFB4ernHjxunXX39VtWrV1KJFCz3zzDOSpPvuu08rV66UpCI36nz22WdVp04d59IrJ0+e1Pjx4+Xt7V3suaZMmaKHH35YN910k0JDQzVkyBAdP368TK+nSpUqmjdvngYMGKDo6Gg1atRIL730kuLi4lzGZWZmqkoV91/uePbZZ/XWW285HxeuA79ixQrFxcXJy8tLr7zyilJTU1VQUKCGDRtq9OjR6tevn/M5wcHBysjIUL9+/XT99dcrJCREqampSj1nyZ8GDRros88+06BBg/Tyyy8rMjJSL730kssNUtu0aaN58+bpX//6l4YPH64rrrhC8+fPV6tWrZxj7r33Xh06dEijR4/Wvn37FB0drc8++0z16tVz/mXEvn37XNaYt+rcAABUNPWHLLb8mLvGJ5Q8CAAAAICtHEbhHf9wUWRnZys4OFjHjh1zCZvPnDmjnTt3qkGDBvL29lZ2draCgoJKDGUvRXFxcRo5cmSRkFqSBg4cqGuvvdZl/fLSKCgouKx7eiFczJ6e+++Hr6/vBT2XnfLy8vTZZ5/p1ltvdS59g7+GnlqLflqPnlrvQvb0UgnRza5HL9c6AAAAcPkq7TUpaSIqnNDQUNOZ5UFBQc6lXAAAACqzT94aKNWuLV1/vd2lAAAAAHCD5VxQ4Xz00Uem+0aPHn0RKwEAALhwapw4Ip04ZHcZAAAAAErATHQAAAAAAAAAAEwQogMAAAAAAAAAYIIQvYIpKCiwuwSgwuH+xwAAAAAAALALa6JXEN7e3qpSpYr27t2rsLAw5ebm6syZM6pShb/nsEJBQQE9tdjF6qlhGDp48KAcDoe8vLwu2HkAAAAAAACA4hCiVxBVqlRRgwYNtG/fPu3du1enT5+Wn5+fHA6H3aVdEgzDoKcWu5g9dTgcql27tjw8PC7oeQAAAAAAAIDzEaJXIN7e3qpbt67OnDmj5cuX6+9//zszby2Sl5enVatW0VMLXcyeenl5EaADAAAAAADAFoToFYzD4ZCnp6fOnj0rX19fAl+LeHh40FOL0VMAAAAAAABcDlgcGgAAAAAAAAAAE8xEBwAAAGwwrv1DeqlbI8nf3+5SAAAAALhBiA4AAADY4JOmcXrpkQS7ywAAAABQApZzAQAAAAAAAADABCE6AAAAAAAAAAAmCNEBAAAAGzQ8tEf64Qdp+3a7SwEAAADgBiE6AAAAYIO584ZJ0dFShw52lwIAAADADUJ0AAAAAAAAAABMEKIDAAAAAAAAAGCCEB0AAAAAAAAAABOE6AAAAAAAAAAAmCBEBwAAAAAAAADABCE6AAAAAAAAAAAmCNEBAAAAAAAAADBBiA4AAAAAAAAAgAlCdAAAAAAAAAAATBCiAwAAADbo1mOKtHu3tGGD3aUAAAAAcMPT7gIAAACAy9HBqqFS7dp2lwEAAACgBMxEBwAAAAAAAADABCE6AAAAAAAAAAAmWM4FAAAAsMH9m9OkydulqlWlRx+1uxwAAAAAJgjRAQAAABsM+PJdackhKSqKEB0AAACowFjOBQAAAAAAAAAAE4ToAAAAAAAAAACYIEQHAAAAAAAAAMAEIToAAAAAAAAAACYI0QEAAAAAAAAAMEGIDgAAAAAAAACACUJ0AAAAAAAAAABMEKIDAAAAAAAAAGDC0+4CAAAAgMvRztAo1apbU6pZ0+5SAAAAALjBTHQAAADABkn3j5V++EFavtzuUgAAAAC4QYgOAAAAAAAAAIAJQnQAAAAAAAAAAEwQogMAAAAAAAAAYIIQHQAAALDB1EUTpc6dpX/8w+5SAAAAALjhaXcBAAAAwOWoVeYWaeshKSrK7lIAAAAAuMFMdAAAAAAAAAAATNgaoo8bN0433HCDAgMDFR4erttvv13bt293GWMYhkaOHKnIyEj5+fkpLi5OP/zwg8uYnJwc9e/fX2FhYQoICFC3bt20Z88elzFHjhxRcnKygoODFRwcrOTkZB09etRlTGZmphITExUQEKCwsDANGDBAubm5LmO+//57xcbGys/PT1FRURo9erQMw7CuKQAAAAAAAACACsPWEH3lypXq16+f1q1bp4yMDJ09e1bx8fE6efKkc8yECRM0efJkTZ8+XRs2bFBERIQ6deqk48ePO8cMHDhQCxYs0Lx587R69WqdOHFCXbt2VX5+vnNMUlKSNm/erLS0NKWlpWnz5s1KTk527s/Pz1dCQoJOnjyp1atXa968efrwww81ePBg55js7Gx16tRJkZGR2rBhg6ZNm6ZJkyZp8uTJF7hTAAAAAAAAAAA72LomelpamsvjmTNnKjw8XBs3btTf//53GYahqVOnatiwYbrzzjslSW+99ZZq1qypd955R71799axY8f05ptv6u2331bHjh0lSXPmzFGdOnW0dOlSde7cWdu2bVNaWprWrVunVq1aSZLeeOMNxcTEaPv27WrUqJHS09O1detW7d69W5GRkZKkF198USkpKRozZoyCgoI0d+5cnTlzRrNmzZKPj4+io6P1008/afLkyUpNTZXD4biI3QMAAAAAAAAAXGgVak30Y8eOSZJCQ0MlSTt37lRWVpbi4+OdY3x8fBQbG6s1a9ZIkjZu3Ki8vDyXMZGRkYqOjnaOWbt2rYKDg50BuiS1bt1awcHBLmOio6OdAbokde7cWTk5Odq4caNzTGxsrHx8fFzG7N27V7t27bKyFQAAAAAAAACACsDWmejnMgxDqampuummmxQdHS1JysrKkiTVrFnTZWzNmjX122+/Ocd4e3srJCSkyJjC52dlZSk8PLzIOcPDw13GnH+ekJAQeXt7u4ypX79+kfMU7mvQoEGRc+Tk5CgnJ8f5ODs7W5KUl5envLy8YntRuN1sP8qOnlqPnlqPnlqPnlqLflqPnlrvQvbUx8Pa++AUfonRkHT2Ir4HeL8BAAAAZVNhQvTHH39c3333nVavXl1k3/nLpBiGUeLSKeePKW68FWMKbypqVs+4ceM0atSoItvT09Pl7+/v9jVkZGS43Y+yo6fWo6fWo6fWo6fWop/Wo6fWuxA9nXCjtccL9v7zzzNnzij9s8+sPbgbp06dumjnAgAAAC4FFSJE79+/vz755BOtWrVKtWvXdm6PiIiQ9Ocs71q1ajm3HzhwwDkDPCIiQrm5uTpy5IjLbPQDBw6oTZs2zjH79+8vct6DBw+6HGf9+vUu+48cOaK8vDyXMYWz0s89j1R0tnyhoUOHKjU11fk4OztbderUUXx8vIKCgop9Tl5enjIyMtSpUyd5eXkVOwZlQ0+tR0+tR0+tR0+tRT+tR0+tdyF7Gj1yiaXHa5Ur+Uny9fXVrbfeaumx3Sn8ZiQAAACA0rE1RDcMQ/3799eCBQv0+eefF1kOpUGDBoqIiFBGRoauu+46SVJubq5WrlypF154QZLUsmVLeXl5KSMjQ927d5ck7du3T1u2bNGECRMkSTExMTp27Ji++uor3Xjjn1OI1q9fr2PHjjmD9piYGI0ZM0b79u1zBvbp6eny8fFRy5YtnWOeeeYZ5ebmytvb2zkmMjKyyDIvhXx8fFzWUC/k5eVV4ge70oxB2dBT69FT69FT69FTa9FP69FT612InubkW3sT+Xev6axBN9aUIzj4ov7+ea8BAAAAZWPrjUX79eunOXPm6J133lFgYKCysrKUlZWl06dPS/pziZSBAwdq7NixWrBggbZs2aKUlBT5+/srKSlJkhQcHKyePXtq8ODBWrZsmTZt2qQHHnhAzZo1U8eOHSVJTZo00S233KJevXpp3bp1WrdunXr16qWuXbuqUaNGkqT4+Hg1bdpUycnJ2rRpk5YtW6Ynn3xSvXr1cs4YT0pKko+Pj1JSUrRlyxYtWLBAY8eOVWpqaonLywAAAADn+vdNSdLkydKIEXaXAgAAAMANW2eiz5gxQ5IUFxfnsn3mzJlKSUmRJD311FM6ffq0+vbtqyNHjqhVq1ZKT09XYGCgc/yUKVPk6emp7t276/Tp0+rQoYNmzZolDw8P55i5c+dqwIABio+PlyR169ZN06dPd+738PDQ4sWL1bdvX7Vt21Z+fn5KSkrSpEmTnGOCg4OVkZGhfv366frrr1dISIhSU1NdlmsBAAAAAAAAAFw6bF/OpSQOh0MjR47UyJEjTcf4+vpq2rRpmjZtmumY0NBQzZkzx+256tatq08//dTtmGbNmmnVqlVuxwAAAAAAAAAALg22LucCAAAAAAAAAEBFRogOAAAA2GDtyz0kh0OqXdvuUgAAAAC4QYgOAAAAAAAAAIAJQnQAAAAAAAAAAEwQogMAAAAAAAAAYIIQHQAAAAAAAAAAE4ToAAAAAAAAAACYIEQHAAAAAAAAAMAEIToAAAAAAAAAACYI0QEAAAAAAAAAMEGIDgAAAAAAAACACU+7CwAAAAAuR4MSB2tejxaSj4/dpQAAAABwgxAdAAAAsMG6utdInTvbXQYAAACAErCcCwAAAAAAAAAAJgjRAQAAAAAAAAAwwXIuAAAAgA1aZ34nLfH8c030uDi7ywEAAABgghAdAAAAsMGURS9K7x6SoqKkPXvsLgcAAACACZZzAQAAAAAAAADABCE6AAAAAAAAAAAmCNEBAAAAAAAAADBBiA4AAAAAAAAAgAlCdAAAAAAAAAAATBCiAwAAAAAAAABgghAdAAAAAAAAAAAThOgAAAAAAAAAAJggRAcAAAAAAAAAwAQhOgAAAGCDmH5vSYYh7dljdykAAAAA3CBEBwAAAAAAAADABCE6AAAAAAAAAAAmCNEBAAAAAAAAADDhaXcBAAAAwOXoidXvSKnLpOBgacQIu8sBAAAAYIIQHQAAALDBfd8ukb48JEVFEaIDAAAAFRjLuQAAAAAAAAAAYIIQHQAAAAAAAAAAE4ToAAAAAAAAAACYIEQHAAAAAAAAAMAEIToAAAAAAAAAACYI0QEAAAAAAAAAMEGIDgAAAAAAAACACUJ0AAAAAAAAAABMeNpdAAAAAHA5Wl83WrfX9pHCwuwuBQAAAIAbhOgAAACADQYm/lO3j0+wuwwAAAAAJWA5FwAAAAAAAAAATBCiAwAAAAAAAABgghAdAAAAAAAAAAAThOgAAACADd559xnp6qulm2+2uxQAAAAAbnBjUQAAAMAGDQ7/LmUeko4ds7sUAAAAAG4wEx0AAAAAAAAAABOE6AAAAAAAAAAAmCBEBwAAAAAAAADABCE6AAAAAAAAAAAmCNEBAAAAAAAAADBBiA4AAAAAAAAAgAlCdAAAAAAAAAAATBCiAwAAAAAAAABgwtPuAgAAAIDL0Utt79e4+AZS1ap2lwIAAADADUJ0AAAAwAbvXnuLxqUm2F0GAAAAgBKwnAsAAAAAAAAAACYI0QEAAAAAAAAAMEGIDgAAANigxonD0p490r59dpcCAAAAwA1CdAAAAMAGn7w1SKpTR7rhBrtLAQAAAOAGIToAAAAAAAAAACYI0QEAAAAAAAAAMEGIDgAAAAAAAACACUJ0AAAAAAAAAABMEKIDAAAAAAAAAGCCEB0AAAAAAAAAABOE6AAAAAAAAAAAmCBEBwAAAAAAAADABCE6AAAAAAAAAAAmCNEBAAAAG/zjvjHSli3SsmV2lwIAAADADU+7CwAAAAAuR79Wry1dfbXdZQAAAAAoATPRAQAAAAAAAAAwQYgOAAAAAAAAAIAJlnMBAAAAbNBt6+fSf/ZJ/v5SUpLd5QAAAAAwQYgOAAAA2GDoipnSokNSVBQhOgAAAFCBsZwLAAAAAAAAAAAmCNEBAAAAAAAAADBBiA4AAAAAAAAAgAlCdAAAAAAAAAAATBCiAwAAAAAAAABgghAdAAAAAAAAAAAThOgAAAAAAAAAAJggRAcAAAAAAAAAwISn3QUAAAAAl6ODVUNUK9hXioiwuxQAAAAAbjATHQAAALBBtx5TpT17pK+/trsUAAAAAG4QogMAAAAAAAAAYIIQHQAAAAAAAAAAE4ToAAAAAAAAAACY4MaiAAAAgA3Gpk2XfpklhYZKr71mdzkAAAAATBCiAwAAADZo/8sG6dtDUlSU3aUAAAAAcIPlXAAAAAAAAAAAMEGIDgAAAAAAAACACUJ0AAAAAAAAAABMEKIDAAAAAAAAAGCCEB0AAAAAAAAAABOE6AAAAAAAAAAAmLA1RF+1apUSExMVGRkph8OhhQsXuuxPSUmRw+Fw+WndurXLmJycHPXv319hYWEKCAhQt27dtGfPHpcxR44cUXJysoKDgxUcHKzk5GQdPXrUZUxmZqYSExMVEBCgsLAwDRgwQLm5uS5jvv/+e8XGxsrPz09RUVEaPXq0DMOwrB8AAAAAAAAAgIrF1hD95MmTat68uaZPn2465pZbbtG+ffucP5999pnL/oEDB2rBggWaN2+eVq9erRMnTqhr167Kz893jklKStLmzZuVlpamtLQ0bd68WcnJyc79+fn5SkhI0MmTJ7V69WrNmzdPH374oQYPHuwck52drU6dOikyMlIbNmzQtGnTNGnSJE2ePNnCjgAAAAAAAAAAKhJPO0/epUsXdenSxe0YHx8fRUREFLvv2LFjevPNN/X222+rY8eOkqQ5c+aoTp06Wrp0qTp37qxt27YpLS1N69atU6tWrSRJb7zxhmJiYrR9+3Y1atRI6enp2rp1q3bv3q3IyEhJ0osvvqiUlBSNGTNGQUFBmjt3rs6cOaNZs2bJx8dH0dHR+umnnzR58mSlpqbK4XBY2BkAAABc6j5pGqvezUKkkBC7SwEAAADghq0heml8/vnnCg8PV7Vq1RQbG6sxY8YoPDxckrRx40bl5eUpPj7eOT4yMlLR0dFas2aNOnfurLVr1yo4ONgZoEtS69atFRwcrDVr1qhRo0Zau3atoqOjnQG6JHXu3Fk5OTnauHGj2rdvr7Vr1yo2NlY+Pj4uY4YOHapdu3apQYMGxdafk5OjnJwc5+Ps7GxJUl5envLy8op9TuF2s/0oO3pqPXpqPXpqPXpqLfppPXpqvQvZUx8Pa5fxm9zxIT08svOfDy7ie4D3GwAAAFA2FTpE79Kli+655x7Vq1dPO3fu1PDhw3XzzTdr48aN8vHxUVZWlry9vRVy3uydmjVrKisrS5KUlZXlDN3PFR4e7jKmZs2aLvtDQkLk7e3tMqZ+/fpFzlO4zyxEHzdunEaNGlVke3p6uvz9/d2+/oyMDLf7UXb01Hr01Hr01Hr01Fr003r01HoXoqcTbrT8kEWWKrwYTp06ddHPCQAAAFRmFTpEv/fee53/HB0dreuvv1716tXT4sWLdeedd5o+zzAMl+VViltqxYoxhTcVdbeUy9ChQ5Wamup8nJ2drTp16ig+Pl5BQUHFPicvL08ZGRnq1KmTvLy8TI+N0qOn1qOn1qOn1qOn1qKf1qOn1ruQPY0eucTS40nSlsKZ6BdR4TcjAQAAAJROhQ7Rz1erVi3Vq1dPO3bskCRFREQoNzdXR44ccZmNfuDAAbVp08Y5Zv/+/UWOdfDgQedM8oiICK1fv95l/5EjR5SXl+cypnBW+rnnkVRkFvu5fHx8XJaAKeTl5VXiB7vSjEHZ0FPr0VPr0VPr0VNr0U/r0VPrXYie5uRbfw8cO37vvNcAAACAsqlidwFlcejQIe3evVu1atWSJLVs2VJeXl4uX9fdt2+ftmzZ4gzRY2JidOzYMX311VfOMevXr9exY8dcxmzZskX79u1zjklPT5ePj49atmzpHLNq1Srl5ua6jImMjCyyzAsAAABQkmVv9JGCgqTGje0uBQAAAIAbtoboJ06c0ObNm7V582ZJ0s6dO7V582ZlZmbqxIkTevLJJ7V27Vrt2rVLn3/+uRITExUWFqY77rhDkhQcHKyePXtq8ODBWrZsmTZt2qQHHnhAzZo1U8eOHSVJTZo00S233KJevXpp3bp1WrdunXr16qWuXbuqUaNGkqT4+Hg1bdpUycnJ2rRpk5YtW6Ynn3xSvXr1ci65kpSUJB8fH6WkpGjLli1asGCBxo4dq9TUVLfLuQAAAADF8c89LR0/Lp04YXcpAAAAANywdTmXr7/+Wu3bt3c+Llw7vEePHpoxY4a+//57zZ49W0ePHlWtWrXUvn17zZ8/X4GBgc7nTJkyRZ6enurevbtOnz6tDh06aNasWfLw8HCOmTt3rgYMGKD4+HhJUrdu3TR9+nTnfg8PDy1evFh9+/ZV27Zt5efnp6SkJE2aNMk5Jjg4WBkZGerXr5+uv/56hYSEKDU11WW9cwAAAAAAAADApcXWED0uLs55c87iLFlS8s2bfH19NW3aNE2bNs10TGhoqObMmeP2OHXr1tWnn37qdkyzZs20atWqEmsCAAAAAAAAAFwaKtWa6AAAAAAAAAAAXEyE6AAAAAAAAAAAmCBEBwAAAAAAAADABCE6AAAAAAAAAAAmCNEBAAAAAAAAADBBiA4AAAAAAAAAgAlPuwsAAAAALkfDOvfTf++Nlvz87C4FAAAAgBuE6AAAAIANll95o3RPgt1lAAAAACgBy7kAAAAAAAAAAGCCEB0AAAAAAAAAABOE6AAAAIANorN+ltaulTZutLsUAAAAAG6wJjoAAABggzc+fE5665AUFSXt2WN3OQAAAABMMBMdAAAAAAAAAAAThOgAAAAAAAAAAJggRAcAAAAAAAAAwAQhOgAAAAAAAAAAJgjRAQAAAAAAAAAwQYgOAAAAAAAAAIAJQnQAAAAAAAAAAEwQogMAAAAAAAAAYIIQHQAAAAAAAAAAE4ToAAAAgA06PjJDOnZM2rbN7lIAAAAAuOFZ3if+8ssvmjp1qrZt2yaHw6EmTZroiSee0BVXXGFlfQAAAMAl6aSPvxQUZHcZAAAAAEpQrhB9yZIl6tatm6699lq1bdtWhmFozZo1uvrqq7Vo0SJ16tTJ6joBAAAAAAAAoEx27Nih48eP210GShAYGKirrrrK7jJMlStEHzJkiAYNGqTx48cX2f70008TogMAAAAAAACw1Y4dO/S3v/3N7jJQgoiqDvVu6a0HX1qhhtfE2F1OscoVom/btk3vvfdeke0PP/ywpk6d+ldrAgAAAC55Pb9aII3c8OeSLqmpdpcDAABwySmcgT5nzhw1adLE5mpgJmvTEt26e7y2/fGbpEsoRK9Ro4Y2b95cZIr95s2bFR4ebklhAAAAwKXskQ0LpRWHpKgoQnQAAIALqEmTJmrRooXdZcDEtqM/SbvtrsK9coXovXr10qOPPqpff/1Vbdq0kcPh0OrVq/XCCy9o8ODBVtcIAAAAAAAAAIAtyhWiDx8+XIGBgXrxxRc1dOhQSVJkZKRGjhypAQMGWFogAAAAAAAAAAB2KVeI7nA4NGjQIA0aNMi5tlBgYKClhQEAAAAAAAAAYLcqf/UAgYGB8vX11aZNm3TkyBEragIAAAAAAAAAoEIoV4i+ceNGxcTEKCEhQT///LOuueYatWzZUrVr11Z6errVNQIAAAAAAAAAYItyhegDBgxQYGCgqlatqvj4eMXGxmr37t3q06ePhg0bZnWNAAAAAAAAAADYolxron/77bfauHGj6tWrp6pVq+rxxx9XVFSUHn/8cb366qtW1wgAAAAAAAAAgC3KNRP91KlTCg0Nla+vr/z8/OTv7y9J8vf315kzZywtEAAAAAAAAAAAu5RrJrokvfHGG6patarOnj2rWbNmKSwsTMePH7eyNgAAAOCStSXiCtUKu0qqUcPuUgAAAAC4Ua4QvW7dunrjjTckSREREXr77bdd9gEAAABwr9ddz2rX+AS7ywAAAABQgnKF6Lt27bK4DAAAAAAAAAAAKp5yrYk+evRonTp1yupaAAAAAAAAAACoUMoVoo8aNUonTpywuhYAAAAAAAAAACqUcoXohmFYXQcAAABwWXnjw9FSTIzUrZvdpQAAAABwo1xrokvSpEmTVLVq1WL3Pfvss+UuCAAAALgcRGf9Iv18SIqKsrsUAAAAAG6UO0T/8ssv5e3tXWS7w+EgRAcAAAAAAECZnTp1Sj/++KMaN24sf39/u8sBcBHk5OS4/FkRlTtEX7BggcLDw62sBQAAAAAAAJexH3/8US1bttTGjRvVokULu8sBcBHs3btX157zZ0VUrjXRAQAAAAAAAAC4HJQrRI+NjS12KRcAAAAAAAAAAC4l5VrOZcWKFVbXAQAAAAAAAABAhVOumeh33323xo8fX2T7xIkTdc899/zlogAAAAAAAAAAqAjKFaKvXLlSCQkJRbbfcsstWrVq1V8uCgAAAAAAAACAiqBcIfqJEyeKXRPdy8tL2dnZf7koAAAAAAAAAAAqgnKF6NHR0Zo/f36R7fPmzVPTpk3/clEAAADApe4/N9wujRghpabaXQoAAAAAN8p1Y9Hhw4frrrvu0i+//KKbb75ZkrRs2TK9++67ev/99y0tEAAAALgUvXnjHRo+sugSiQAAAAAqlnKF6N26ddPChQs1duxYffDBB/Lz89M111yjpUuXKjY21uoaAQAAAAAAAACwRblCdElKSEgo9uaiAAAAAAAAAABcKsq1JrokHT16VP/5z3/0zDPP6PDhw5Kkb775Rr///rtlxQEAAACXqoCcU1J2tnT8uN2lAAAAAHCjXDPRv/vuO3Xs2FHBwcHatWuXHnnkEYWGhmrBggX67bffNHv2bKvrBAAAAC4pS//zmDT1kBQVJe3ZY3c5AAAAAEyUayZ6amqqUlJStGPHDvn6+jq3d+nSRatWrbKsOAAAAAAAAAAA7FSuEH3Dhg3q3bt3ke1RUVHKysr6y0UBAAAAqNhWrVqlxMRERUZGyuFwaOHChXaXVCoOh6PIT0U85oVQWeqUKk+tlaVOqfLUWlnqlCpPrZWlTgCoyMoVovv6+io7O7vI9u3bt6tGjRp/uSgAAAAAFdvJkyfVvHlzTZ8+3e5SSs0sOPorgdKFOOaFUFnqlCpPrZWlTqny1FpZ6pQqT62VpU4AqOjKtSb6bbfdptGjR+u9996T9Od/fDMzMzVkyBDdddddlhYIAAAAoOLp0qWLunTpYncZpVZSYORwOGQYhu3HvBAqS51S5am1stQpVZ5aK0udUuWptbLUCQCVQblmok+aNEkHDx5UeHi4Tp8+rdjYWF155ZUKDAzUmDFjrK4RAAAAAMrt/CDJMAznj7txF/uYF0JlqbO4GipqrZWlzuJqqKi1VpY6i6uhotZaWeoEgMqiXDPRg4KCtHr1ai1fvlzffPONCgoK1KJFC3Xs2NHq+gAAAABcAnJycpSTk+N8XNzykBfD+QGSYRh/OUS6EMe8ECpLnVLlqbWy1ClVnlorS51S5am1stRZ6PTp05Kkbdu22VwJLgWF76PC9xVQXuUK0QvdfPPNuvnmm62qBQAAAMAlaty4cRo1apTdZQAAKrhdu3ZJkh544AF7C8ElZdeuXWrbtq3dZaASK1eI/tJLL7ndP2DAgHIVAwAAAODSNHToUKWmpjofZ2dnq06dOjZWBACoiOrXry9JmjNnjpo0aWJvMaj0tm3bpgceeMD5vgLKq1wh+pQpU1we7969W7Vq1ZKnp6ccDgchOgAAAAAXPj4+8vHxsbuMIjfSs2JJgwtxzAuhstQpVZ5aK0udUuWptbLUKVWeWitLnYX8/PwkSU2aNFGLFi1srgaXisL3FVBe5QrRd+7c6fI4MDBQK1euVMOGDS0pCgAAALjU9bpruD7tfaPk7W13KeVy4sQJ/fzzz87HO3fu1ObNmxUaGqq6devaWFlR56//axYgnb9u8MU+5oVQWeosrKEy1FpZ6iysoTLUWlnqLKyhMtRaWeoEgMriL62JXqii/y0mAAAAUNFsibhSiomxu4xy+/rrr9W+fXvn48KlWnr06KFZs2bZVJW5km6kV54g6UIc80KoLHVKlafWylKnVHlqrSx1SpWn1spSJwBUBn85RN+wYYNOnjyp0NBQK+oBAAAAUAnExcVVugDGLFD6K6/jQhzzQqgsdUqVp9bKUqdUeWqtLHVKlafWylInAFR05QrRr7vuOjkcDp0+fVo///yz7rvvPlWrVs3i0gAAAADAWhciOKosYVRlqVOqPLVWljqlylNrZalTqjy1VpY6AaAiK1eIfvvtt0v6c1H+q6++WgkJCVbWBAAAAFzybv75K+n9U5Kfn9S1q93lAAAAADBRrhB9xIgRVtcBAAAAXFbGLHlZ+vCQFBUl7dljdzkAAAAATJQrRP/uu+/c7r/mmmvKVQwAAAAAAAAAABVJuUL0a6+91nljisK1tRwOh/OGFfn5+dZVCAAAAAAAAACATcoVordt21bffvuthgwZoqSkpGLv9AwAAAAAAAAAQGVXpTxP+uKLLzRr1izNmjVL3bt31+7du1WvXj3nDwAAAAAAAAAAl4JyheiSdOedd2rr1q1KSkrS7bffrjvvvFM///yzlbUBAAAAAAAAAGCrcofokuTp6amBAwfq559/VoMGDdSiRQsNHDjQotIAAAAAAAAAALBXudZEDwkJKXYd9JycHE2bNk1Tp079q3UBAAAAAAAAAGC7coXoU6ZM4WaiAAAAAAAAAIBLXrlC9JSUFIvLAAAAAC4vp7z9pMBAqWpVu0sBAAAA4Ea5QvTvvvvO7f5rrrmmXMUAAAAAl4sOvV7VrvEJdpcBAAAAoATlCtGvvfZaORwOGYZRZJ/D4VB+fv5fLgwAAAAAAAAAALuVK0SXpPXr16tGjRpW1gIAAAAAAIDLWOPGjbVx40Y1btzY7lIAXCSRkZHS7v/7s4Iqd4het25dhYeHW1kLAAAAAAAALmP+/v5q0aKF3WUAuIh8fHxc/qyIyh2iL1myRGFhYQoICFBkZKSuuOIKORwOK2sDAAAALllDV/xXemSBFBIiTZxodzkAAAAATJQ7RO/Ro4fznx0Oh4KCgtSjRw9NnDhRXl5elhQHAAAAXKq6bV0pfXVIiooiRAcAAAAqsHKF6AUFBZKkvLw8ZWdna+/evfrqq680bNgw+fn5ady4cZYWCQAAAAAAAACAHco9E12SvLy8VL16dVWvXl3NmjVTjRo11K9fP0J0AAAAAAAAAMAloYqVB0tMTNS3335r5SEBAAAAAAAAALBNuWei5+fna+HChdq2bZscDoeaNGmi2267TaGhoVbWBwAAAAAAAACAbcoVov/8889KSEjQnj171KhRIxmGoZ9++kl16tTR4sWLdcUVV1hdJwAAAAAAAAAAF125lnMZMGCAGjZsqN27d+ubb77Rpk2blJmZqQYNGmjAgAFW1wgAAAAAAAAAgC3KNRN95cqVWrduncvSLdWrV9f48ePVtm1by4oDAAAAAAAAAMBO5ZqJ7uPjo+PHjxfZfuLECXl7e//logAAAAAAAAAAqAjKFaJ37dpVjz76qNavXy/DMGQYhtatW6c+ffqoW7duVtcIAAAAXHJWXHGDdPfdUkKC3aUAAAAAcKNcIfpLL72kK664QjExMfL19ZWvr6/atm2rK6+8Uv/+97+trhEAAAC45Dxzy+PS++9Lr71mdykAAAAA3ChTiF64hEu1atX08ccf66efftIHH3yg999/X9u3b9eCBQu0ffv2Uh9v1apVSkxMVGRkpBwOhxYuXOiy3zAMjRw5UpGRkfLz81NcXJx++OEHlzE5OTnq37+/wsLCFBAQoG7dumnPnj0uY44cOaLk5GQFBwcrODhYycnJOnr0qMuYzMxMJSYmKiAgQGFhYRowYIByc3Ndxnz//feKjY2Vn5+foqKiNHr0aBmGUerXCwAAAAAAAACoXMoUonfq1MllLfQrr7xSiYmJ6tatm+rXr69hw4apXbt2pT7eyZMn1bx5c02fPr3Y/RMmTNDkyZM1ffp0bdiwQREREUVqGDhwoBYsWKB58+Zp9erVOnHihLp27ar8/HznmKSkJG3evFlpaWlKS0vT5s2blZyc7Nyfn5+vhIQEnTx5UqtXr9a8efP04YcfavDgwc4x2dnZ6tSpkyIjI7VhwwZNmzZNkyZN0uTJk0v9egEAAAAAAAAAlYtnWQafOnVKHTt2VHp6uoKDg53bv/vuOyUnJ+vw4cP65JNPSn28Ll26qEuXLsXuMwxDU6dO1bBhw3TnnXdKkt566y3VrFlT77zzjnr37q1jx47pzTff1Ntvv62OHTtKkubMmaM6depo6dKl6ty5s7Zt26a0tDStW7dOrVq1kiS98cYbiomJ0fbt29WoUSOlp6dr69at2r17tyIjIyVJL774olJSUjRmzBgFBQVp7ty5OnPmjGbNmiUfHx9FR0frp59+0uTJk5WamiqHw1GWVgIAAAAAAAAAKoEyhejLly9Xhw4d1LFjRy1dulSBgYEaN26cRo8erXvuuUfTp09XtWrVLCls586dysrKUnx8vHObj4+PYmNjtWbNGvXu3VsbN25UXl6ey5jIyEhFR0drzZo16ty5s9auXavg4GBngC5JrVu3VnBwsNasWaNGjRpp7dq1io6OdgboktS5c2fl5ORo48aNat++vdauXavY2Fj5+Pi4jBk6dKh27dqlBg0aFPs6cnJylJOT43ycnZ0tScrLy1NeXl6xzyncbrYfZUdPrUdPrUdPrUdPrUU/rUdPrXche+rjYe0yfh/+d5CMOb1l1Kyp/HXrLD22O7zfAADA5eLUqVOSpG+++cbmSuBO1s6damJ3ESUoU4geFhbmDNLbt28vb29v/frrr3r33Xeds8WtkpWVJUmqWbOmy/aaNWvqt99+c47x9vZWSEhIkTGFz8/KylJ4eHiR44eHh7uMOf88ISEh8vb2dhlTv379Iucp3GcWoo8bN06jRo0qsj09PV3+/v7FPqdQRkaG2/0oO3pqPXpqPXpqPXpqLfppPXpqvQvR0wk3Wnu8K147IkfWIZ05c0bpn31m7cHdKPwwCQAAcKn78ccfJUm9evWyuRK4E1HVod4tvfXgnfXsLsVUmUJ0SapevbqWLVumjh07avPmzdq8ebMaN258IWqTpCLLpBiGUeLSKeePKW68FWMKbyrqrp6hQ4cqNTXV+Tg7O1t16tRRfHy8goKCin1OXl6eMjIy1KlTJ3l5eZkeG6VHT61HT61HT61HT61FP61HT613IXsaPXKJpcdrlSv5SfL19dWtt95q6bHdKfxmJAAAwKXu9ttvlyQ1bty4xMmssFdgYKAaXnWV3WWYKnOILv0ZpC9fvlwdO3ZUUlKSli1bVmQ2+F8VEREh6c9Z3rVq1XJuP3DggHMGeEREhHJzc3XkyBGX8x84cEBt2rRxjtm/f3+R4x88eNDlOOvXr3fZf+TIEeXl5bmMKZyVfu55pKKz5c/l4+PjsgRMIS8vrxI/2JVmDMqGnlqPnlqPnlqPnlqLflqPnlrvQvQ0J9/ae+D833wMOaSL+vvnvQYAAC4XYWFheuSRR+wuA5eAKmUZfOeddzp/evbsqcDAQG3evFk33nijyz4rNGjQQBERES5fxc3NzdXKlSudAXnLli3l5eXlMmbfvn3asmWLc0xMTIyOHTumr776yjlm/fr1OnbsmMuYLVu2aN++fc4x6enp8vHxUcuWLZ1jVq1apdzcXJcxkZGRRZZ5AQAAAAAAAABcGso0Ez04OLjIY7O1wEvjxIkT+vnnn52Pd+7cqc2bNys0NFR169bVwIEDNXbsWF111VW66qqrNHbsWPn7+yspKcl5/p49e2rw4MGqXr26QkND9eSTT6pZs2bq2LGjJKlJkya65ZZb1KtXL7322muSpEcffVRdu3ZVo0aNJEnx8fFq2rSpkpOTNXHiRB0+fFhPPvmkevXq5VxyJSkpSaNGjVJKSoqeeeYZ7dixQ2PHjtWzzz5b4vIyAAAAAAAAAIDKqUwh+syZMy09+ddff6327ds7HxeuHd6jRw/NmjVLTz31lE6fPq2+ffvqyJEjatWqldLT0xUYGOh8zpQpU+Tp6anu3bvr9OnT6tChg2bNmiUPDw/nmLlz52rAgAGKj4+XJHXr1k3Tp0937vfw8NDixYvVt29ftW3bVn5+fkpKStKkSZOcY4KDg5WRkaF+/frp+uuvV0hIiFJTU13WOwcAAAAAAAAAXFrKtSa6VeLi4pw35yyOw+HQyJEjNXLkSNMxvr6+mjZtmqZNm2Y6JjQ0VHPmzHFbS926dfXpp5+6HdOsWTOtWrXK7RgAAAAAAAAAwKWjTGuiAwAAAAAAAABwOSFEBwAAAAAAAADAhK3LuQAAAACXq3HtH9JL3RpJ/v52lwIAAADADUJ0AAAAwAafNI3TS48k2F0GAAAAgBKwnAsAAAAAAAAAACYI0QEAAAAAAAAAMEGIDgAAANig4aE90g8/SNu3210KAAAAADcI0QEAAAAbzJ03TIqOljp0sLsUAAAAAG4QogMAAAAAAAAAYIIQHQAAAAAAAAAAE4ToAAAAAAAAAACYIEQHAAAAAAAAAMAEIToAAAAAAAAAACYI0QEAAAAAAAAAMEGIDgAAAAAAAACACUJ0AAAAAAAAAABMEKIDAAAAAAAAAGCCEB0AAACwQbceU6Tdu6UNG+wuBQAAAIAbnnYXAAAAAFyODlYNlWrXtrsMAAAAACVgJjoAAAAAAAAAACYI0QEAAAAAAAAAMMFyLgAAAIAN7t+cJk3eLlWtKj36qN3lAAAAADBBiA4AAADYYMCX70pLDklRUYToAAAAQAXGci4AAAAAAAAAAJggRAcAAAAAAAAAwAQhOgAAAAAAAAAAJgjRAQAAAAAAAAAwQYgOAAAAAAAAAIAJQnQAAAAAAAAAAEwQogMAAAAAAAAAYIIQHQAAAAAAAAAAE552FwAAAABcjnaGRqlW3ZpSzZp2lwIAAADADWaiAwAAADZIun+s9MMP0vLldpcCAAAAwA1CdAAAAAAAAAAATBCiAwAAAAAAAABgghAdAAAAAAAAAAAThOgAAACADaYumih17iz94x92lwIAAADADU+7CwAAAAAuR60yt0hbD0lRUXaXAgAAAMANZqIDAAAAAAAAAGCCEB0AAAAAAAAAABOE6AAAAAAAAAAAmCBEBwAAAAAAAADABCE6AAAAAAAAAAAmCNEBAAAAAAAAADBBiA4AAAAAAAAAgAlCdAAAAAAAAAAATHjaXQAAAABwOZrXvLMG3VhTCg62uxQAAAAAbhCiAwAAADb4901JGjQ+we4yAAAAAJSA5VwAAAAAAAAAADBBiA4AAAAAAAAAgAlCdAAAAAAAAAAATBCiAwAAADZY+3IPyeGQate2uxQAAAAAbhCiAwAAAAAAAABgghAdAAAAAAAAAAAThOgAAAAAAAAAAJggRAcAAAAAAAAAwAQhOgAAAAAAAAAAJgjRAQAAAAAAAAAwQYgOAAAAAAAAAIAJQnQAAAAAAAAAAEwQogMAAAAAAAAAYMLT7gIAAACAy9GgxMGa16OF5ONjdykAAAAA3CBEBwAAAGywru41UufOdpcBAAAAoAQs5wIAAAAAAAAAgAlCdAAAAAAAAAAATLCcCwAAAGCD1pnfSUs8/1wTPS7O7nIAAAAAmCBEBwAAAGwwZdGL0ruHpKgoac8eu8sBAAAAYILlXAAAAAAAAAAAMEGIDgAAAAAAAACACUJ0AAAAAAAAAABMEKIDAAAAAAAAAGCCEB0AAAAAAAAAABOE6AAAAAAAAAAAmCBEBwAAAAAAAADABCE6AAAAAAAAAAAmCNEBAAAAAAAAADBBiA4AAADYIKbfW5JhSHv22F0KAAAAADcI0QEAAAAAAAAAMEGIDgAAAAAAAACACUJ0AAAAAAAAAABMeNpdAAAAAHA5emL1O1LqMik4WBoxwu5yAAAAAJggRAcAAABscN+3S6QvD0lRUYToAAAAQAXGci4AAAAAAAAAAJggRAcAAAAAAAAAwAQhOgAAAAAAAAAAJgjRAQAAAAAAAAAwQYgOAAAAAAAAAIAJQnQAAAAAAAAAAEwQogMAAAAAAAAAYIIQHQAAAAAAAAAAE552FwAAAABcjtbXjdbttX2ksDC7SwEAAADgBiE6AAAAYIOBif/U7eMT7C4DAAAAQAlYzgUAAAAAAAAAABOE6AAAAAAAAAAAmCBEBwAAAAAAAADABCE6AAAAYIN33n1Guvpq6eab7S4FAAAAgBsVOkQfOXKkHA6Hy09ERIRzv2EYGjlypCIjI+Xn56e4uDj98MMPLsfIyclR//79FRYWpoCAAHXr1k179uxxGXPkyBElJycrODhYwcHBSk5O1tGjR13GZGZmKjExUQEBAQoLC9OAAQOUm5t7wV47AAAALm0NDv8ubd0q/fST3aUAAAAAcKNCh+iSdPXVV2vfvn3On++//965b8KECZo8ebKmT5+uDRs2KCIiQp06ddLx48edYwYOHKgFCxZo3rx5Wr16tU6cOKGuXbsqPz/fOSYpKUmbN29WWlqa0tLStHnzZiUnJzv35+fnKyEhQSdPntTq1as1b948ffjhhxo8ePDFaQIAAAAAAAAAwBaedhdQEk9PT5fZ54UMw9DUqVM1bNgw3XnnnZKkt956SzVr1tQ777yj3r1769ixY3rzzTf19ttvq2PHjpKkOXPmqE6dOlq6dKk6d+6sbdu2KS0tTevWrVOrVq0kSW+88YZiYmK0fft2NWrUSOnp6dq6dat2796tyMhISdKLL76olJQUjRkzRkFBQRepGwAAAAAAAACAi6nCz0TfsWOHIiMj1aBBA91333369ddfJUk7d+5UVlaW4uPjnWN9fHwUGxurNWvWSJI2btyovLw8lzGRkZGKjo52jlm7dq2Cg4OdAboktW7dWsHBwS5joqOjnQG6JHXu3Fk5OTnauHHjhXvxAAAAAAAAAABbVeiZ6K1atdLs2bP1t7/9Tfv379fzzz+vNm3a6IcfflBWVpYkqWbNmi7PqVmzpn777TdJUlZWlry9vRUSElJkTOHzs7KyFB4eXuTc4eHhLmPOP09ISIi8vb2dY8zk5OQoJyfH+Tg7O1uSlJeXp7y8vGKfU7jdbD/Kjp5aj55aj55aj55ai35aj55a70L21MfDsPR4DseffxqSzl7E9wDvNwAAAKBsKnSI3qVLF+c/N2vWTDExMbriiiv01ltvqXXr1pIkR+Gnj/9jGEaRbec7f0xx48szpjjjxo3TqFGjimxPT0+Xv7+/2+dmZGS43Y+yo6fWo6fWo6fWo6fWop/Wo6fWuxA9nXCjtccL9v7zzzNnzij9s8+sPbgbp06dumjnAgAAAC4FFTpEP19AQICaNWumHTt26Pbbb5f05yzxWrVqOcccOHDAOWs8IiJCubm5OnLkiMts9AMHDqhNmzbOMfv37y9yroMHD7ocZ/369S77jxw5ory8vCIz1M83dOhQpaamOh9nZ2erTp06io+PN11LPS8vTxkZGerUqZO8vLzcHh+lQ0+tR0+tR0+tR0+tRT+tR0+tdyF7Gj1yiaXHa5Ur+Uny9fXVrbfeaumx3Sn8ZiQAAACA0qlUIXpOTo62bdumdu3aqUGDBoqIiFBGRoauu+46SVJubq5WrlypF154QZLUsmVLeXl5KSMjQ927d5ck7du3T1u2bNGECRMkSTExMTp27Ji++uor3Xjjn9OL1q9fr2PHjjmD9piYGI0ZM0b79u1zBvbp6eny8fFRy5Yt3dbs4+MjHx+fItu9vLxK/GBXmjEoG3pqPXpqPXpqPXpqLfppPXpqvQvR05x8999ALCvj/1aHcUgX9ffPew0AAAAomwodoj/55JNKTExU3bp1deDAAT3//PPKzs5Wjx495HA4NHDgQI0dO1ZXXXWVrrrqKo0dO1b+/v5KSkqSJAUHB6tnz54aPHiwqlevrtDQUD355JNq1qyZOnbsKElq0qSJbrnlFvXq1UuvvfaaJOnRRx9V165d1ahRI0lSfHy8mjZtquTkZE2cOFGHDx/Wk08+qV69epnOJgcAAAAAAAAAVH4VOkTfs2eP7r//fv3xxx+qUaOGWrdurXXr1qlevXqSpKeeekqnT59W3759deTIEbVq1Urp6ekKDAx0HmPKlCny9PRU9+7ddfr0aXXo0EGzZs2Sh4eHc8zcuXM1YMAAxcfHS5K6deum6dOnO/d7eHho8eLF6tu3r9q2bSs/Pz8lJSVp0qRJF6kTAAAAuNS81PZ+jYtvIFWtancpAAAAANyo0CH6vHnz3O53OBwaOXKkRo4caTrG19dX06ZN07Rp00zHhIaGas6cOW7PVbduXX366aduxwAAAACl9e61t2hcaoLdZQAAAAAoQRW7CwAAAAAAAAAAoKIiRAcAAAAAAAAAwAQhOgAAAGCDGicOS3v2SPv22V0KAAAAADcI0QEAAAAbfPLWIKlOHemGG+wuBQAAAIAbhOgAAAAAAAAAAJggRAcAAAAAAAAAwAQhOgAAAAAAAAAAJgjRAQAAAAAAAAAwQYgOAAAAAAAAAIAJQnQAAAAAAAAAAEwQogMAAAAAAAAAYIIQHQAAAAAAAAAAE4ToAAAAAAAAAACYIEQHAAAAbPCP+8ZIW7ZIy5bZXQoAAAAANzztLgAAAAC4HP1avbZ09dV2lwEAAACgBMxEBwAAAAAAAADABCE6AAAAAAAAAAAmWM4FAAAAsEG3rZ9L/9kn+ftLSUl2lwMAAADABCE6AAAAYIOhK2ZKiw5JUVGE6AAAAEAFxnIuAAAAAAAAAACYIEQHAAAAAAAAAMAEIToAAAAAAAAAACYI0QEAAAAAAAAAMEGIDgAAAAAAAACACUJ0AAAAAAAAAABMEKIDAAAAAAAAAGDC0+4CAAAA4Kr+kMWWHm/X+ARLjwcAAAAAlxNCdAAAAMAGB6uGqFawrxQRYXcpAAAAANxgORcAAADABt16TJX27JG+/truUgAAAAC4QYgOAAAAAAAAAIAJQnQAAAAAAAAAAEwQogMAAAAAAAAAYIIbiwIAAAA2GJs2XfpllhQaKr32mt3lAAAAADBBiA4AAADYoP0vG6RvD0lRUXaXAgAAAMANlnMBAAAAAAAAAMAEIToAAAAAAAAAACYI0QEAAAAAAAAAMEGIDgAAAAAAAACACUJ0AAAAAAAAAABMEKIDAAAAAAAAAGCCEB0AAAAAAAAAABOE6AAAAAAAAAAAmPC0uwAAAADgcvRJ01j1bhYihYTYXQoAAAAANwjRAQAAABuMa/+weo9PsLsMAAAAACVgORcAAAAAAAAAAEwQogMAAAAAAAAAYIIQHQAAAAAAAAAAE4ToAAAAgA2WvdFHCgqSGje2uxQAAAAAbnBjUQAAAMAG/rmnpRPHpRMn7C4FAAAAgBvMRAcAAAAAAAAAwAQhOgAAAAAAAAAAJgjRAQAAAAAAAAAwQYgOAAAAAAAAAIAJQnQAAAAAAAAAAEwQogMAAAAAAAAAYIIQHQAAAAAAAAAAE4ToAAAAAAAAAACY8LS7AAAAAOByNKxzP/333mjJz8/uUgAAAAC4QYgOAAAA2GD5lTdK9yTYXQYAAACAErCcCwAAAAAAAAAAJgjRAQAAAAAAAAAwQYgOAAAA2CA662dp7Vpp40a7SwEAAADgBmuiAwAAADZ448PnpLcOSVFR0p49dpcDAAAAwAQz0QEAAAAAAAAAMEGIDgAAAAAAAACACUJ0AAAAAAAAAABMEKIDAAAAAAAAAGCCEB0AAAAAAAAAABOE6AAAAAAAAAAAmCBEBwAAAAAAAADABCE6AAAAAAAAAAAmPO0uAAAA2KP+kMVlGu/jYWjCjVL0yCXKyXcUO2bX+AQrSgMAAAAAoMJgJjoAAABgg46PzJCOHZO2bbO7FAAAAABuMBMdAAAAsMFJH38pKMjuMgAAAACUgJnoAAAAAAAAAACYIEQHAAAAAAAAAMAEy7kAAAAANuj51QJp5IY/l3RJTbW7HAAAAAAmCNEBALgA6g9ZbPkxd41PsPyYAOzzyIaF0opDUlQUIToAAABQgbGcCwAAAAAAAAAAJgjRAQAAAAAAAAAwwXIuAIBKp7RLpfh4GJpwoxQ9coly8h1ux7JUCgAAAAAAKA4z0QEAAAAAAAAAMEGIDgAAAAAAAACACZZzAQC4KO1SKaXFMikAAAAAAKAyYyY6AAAAAAAAAAAmmIkOABeRu1neZbkJZiFmeQMAAAAAAFxYhOgAAACADbZEXKFaYVdJNWrYXQoAAAAANwjRAQAAABv0uutZvlEEAAAAVAKE6AAuGdwQEwAAAAAAAFbjxqIAAAAAAAAAAJhgJvplxOpZuhIzdQEAAAAAAABc2gjRAZTK+X8J4+NhaMKNUvTIJcrJd5T5ePwFDADgcvfGh6Ollc//eWPRTz6xuxwAAAAAJgjRgQqAtbwBALj8RGf9Iv18SIqKsrsUAAAAAG4QouOSV3/I4r88a/pcBNQAAAAAAADA5YMbiwIAAAAAAAAAYIIQHQAAAAAAAAAAE4To5fDKK6+oQYMG8vX1VcuWLfXFF1/YXRIAAAAAAAAA4AIgRC+j+fPna+DAgRo2bJg2bdqkdu3aqUuXLsrMzLS7NAAAAAAAAACAxbixaBlNnjxZPXv21COPPCJJmjp1qpYsWaIZM2Zo3LhxNld38dUfstjS43HTTgAAAAAAAAAVCTPRyyA3N1cbN25UfHy8y/b4+HitWbPGpqoAAAAAAAAAABcKM9HL4I8//lB+fr5q1qzpsr1mzZrKysoq9jk5OTnKyclxPj527Jgk6fDhw8rLyyv2OXl5eTp16pQOHTokLy8vi6qXPM+etOxYF8qhQ4csP6bn2ZPyLDB06lSBPPOqKL/A8ZeOd6FqtNLFqPGv9pQ+FrOvHD2ljyWMK0NPra7zQvw31+4aS9PPC/H7vpSZ/T+/Mvx7WFFdqOsoyfrfywkVKFuSUVCgsxfxd3T8+HFJkmEYF+2cxSk8f3Z2tq11AAAA4PJVeC1a0rWxw7D76rkS2bt3r6KiorRmzRrFxMQ4t48ZM0Zvv/22fvzxxyLPGTlypEaNGnUxywQAAABKtHv3btWuXdu28+/Zs0d16tSx7fwAAABAoZKujZmJXgZhYWHy8PAoMuv8wIEDRWanFxo6dKhSU1OdjwsKCnT48GFVr15dDkfxs/iys7NVp04d7d69W0FBQda9gMsYPbUePbUePbUePbUW/bQePbUePS2ZYRg6fvy4IiMjba0jMjJSu3fvVmBgoOl1scTv1Gr003r01Hr01Hr01Hr01Hr01Hr0tGSlvTYmRC8Db29vtWzZUhkZGbrjjjuc2zMyMnTbbbcV+xwfHx/5+Pi4bKtWrVqpzhcUFMQb3GL01Hr01Hr01Hr01Fr003r01Hr01L3g4GC7S1CVKlXKNBOe36m16Kf16Kn16Kn16Kn16Kn16Kn16Kl7pbk2JkQvo9TUVCUnJ+v6669XTEyMXn/9dWVmZqpPnz52lwYAAAAAAAAAsBghehnde++9OnTokEaPHq19+/YpOjpan332merVq2d3aQAAAAAAAAAAixGil0Pfvn3Vt2/fC3Z8Hx8fjRgxosgyMCg/emo9emo9emo9emot+mk9emo9enrp4XdqLfppPXpqPXpqPXpqPXpqPXpqPXpqHYdhGIbdRQAAAAAAAAAAUBFVsbsAAAAAAAAAAAAqKkJ0AAAAAAAAAABMEKIDAAAAAAAAAGCCEL0CeuWVV9SgQQP5+vqqZcuW+uKLL+wu6aIbN26cbrjhBgUGBio8PFy33367tm/f7jLGMAyNHDlSkZGR8vPzU1xcnH744QeXMTk5Oerfv7/CwsIUEBCgbt26ac+ePS5jjhw5ouTkZAUHBys4OFjJyck6evSoy5jMzEwlJiYqICBAYWFhGjBggHJzcy/Ia78Yxo0bJ4fDoYEDBzq30c/y+f333/XAAw+oevXq8vf317XXXquNGzc699PX0jt79qz+9a9/qUGDBvLz81PDhg01evRoFRQUOMfQT/dWrVqlxMRERUZGyuFwaOHChS77K1r/vv/+e8XGxsrPz09RUVEaPXq0KtqtWtz1NC8vT08//bSaNWumgIAARUZG6sEHH9TevXtdjkFPXZX0Pj1X79695XA4NHXqVJft9PTywXUx18UXA9fG1uC62FpcG/91XBtbj2tj63FtXIkYqFDmzZtneHl5GW+88YaxdetW44knnjACAgKM3377ze7SLqrOnTsbM2fONLZs2WJs3rzZSEhIMOrWrWucOHHCOWb8+PFGYGCg8eGHHxrff/+9ce+99xq1atUysrOznWP69OljREVFGRkZGcY333xjtG/f3mjevLlx9uxZ55hbbrnFiI6ONtasWWOsWbPGiI6ONrp27ercf/bsWSM6Otpo37698c033xgZGRlGZGSk8fjjj1+cZljsq6++MurXr29cc801xhNPPOHcTj/L7vDhw0a9evWMlJQUY/369cbOnTuNpUuXGj///LNzDH0tveeff96oXr268emnnxo7d+403n//faNq1arG1KlTnWPop3ufffaZMWzYMOPDDz80JBkLFixw2V+R+nfs2DGjZs2axn333Wd8//33xocffmgEBgYakyZNunANKgd3PT169KjRsWNHY/78+caPP/5orF271mjVqpXRsmVLl2PQU1clvU8LLViwwGje/P+1d69BUZf/G8evlcMqHlbFBBcU1FE8oEaYJmFoNmbqaGOakudmamhCpczD1Ez5JA9NZTqFTYfBPCQ9kMocR0VFiiJtQBTTlEnENJV0DC1CkL1/D/q7/1ZY5LDKCu/XDA/4fj9f9uaSYa+9dxcHGbvdblavXu1yjkybB3rxv+jFdxbd2DPoxZ5HN244urHn0Y09j25872AT3csMGTLEJCQkuBzr06ePWbp0aSOtyDsUFxcbSSYzM9MYY4zD4TDBwcFm5cqVzpmysjJjs9nMhx9+aIz59xe4n5+fSU1Ndc6cO3fOtGjRwuzcudMYY8yxY8eMJPPjjz86Z7Kzs40k88svvxhj/v2F1qJFC3Pu3DnnzJYtW4zVajUlJSV37pu+A65du2Z69epl0tPTTVxcnPOBAnnWz5IlS0xsbKzb8+RaN+PGjTPPPvusy7FJkyaZGTNmGGPIs65uLWDell9ycrKx2WymrKzMObNixQpjt9uNw+HwYBKeU1OpvengwYNGknOTj0xr5i7Ts2fPmpCQEHP06FETFhbm8kCBTJsPenH16MWeQzf2HHqx59GNPYtu7Hl0Y8+jG3s3/pyLFykvL1dOTo5Gjx7tcnz06NH64YcfGmlV3qGkpESS1LFjR0lSYWGhLly44JKV1WpVXFycM6ucnBxVVFS4zNjtdkVGRjpnsrOzZbPZNHToUOfMQw89JJvN5jITGRkpu93unHn88cd1/fp1l7cn3gtefPFFjRs3To899pjLcfKsn23btmnw4MGaMmWKOnfurKioKH388cfO8+RaN7Gxsdq7d69OnjwpSTp8+LCysrI0duxYSeTZUN6WX3Z2tuLi4mS1Wl1mfv/9d50+fdrzAdwlJSUlslgsat++vSQyrQ+Hw6GZM2dq0aJF6t+/f5XzZNo80Ivdoxd7Dt3Yc+jFnkc3vrO8Lb+m2jnoxg1HN/YebKJ7kUuXLqmyslJBQUEux4OCgnThwoVGWlXjM8bo5ZdfVmxsrCIjIyXJmUdNWV24cEH+/v7q0KFDjTOdO3eucpudO3d2mbn1djp06CB/f/976t8lNTVVubm5WrFiRZVz5Fk/p06d0rp169SrVy/t2rVLCQkJmj9/vjZs2CCJXOtqyZIlio+PV58+feTn56eoqCglJSUpPj5eEnk2lLflV93Mzc/v1YzLysq0dOlSPfPMM2rXrp0kMq2PVatWydfXV/Pnz6/2PJk2D/Ti6tGLPYdu7Fn0Ys+jG99Z3pZfU+wcdGPPoBt7D9/GXgCqslgsLp8bY6oca04SExN15MgRZWVlVTlXn6xunaluvj4z3uy3337TggULtHv3brVs2dLtHHnWjcPh0ODBg7V8+XJJUlRUlH7++WetW7dOs2bNcs6Ra+188cUX2rRpkz7//HP1799feXl5SkpKkt1u1+zZs51z5Nkw3pRfdWtxd623q6io0LRp0+RwOJScnHzbeTKtXk5OjtasWaPc3Nw6r5lMmyZ6sSt6sWfQjT2PXux5dOO7w5vya0qdg27sGXRj78Ir0b1Ip06d5OPjU+XZm+Li4irP9DQX8+bN07Zt25SRkaHQ0FDn8eDgYElVn+n6b1bBwcEqLy/XlStXapy5ePFildv9448/XGZuvZ0rV66ooqLinvl3ycnJUXFxsaKjo+Xr6ytfX19lZmZq7dq18vX1dfvMIXnWrEuXLurXr5/Lsb59++rMmTOS+Dmtq0WLFmnp0qWaNm2aBgwYoJkzZ+qll15yvkKMPBvG2/Krbqa4uFhS1VcEebuKigo9/fTTKiwsVHp6uvOVNhKZ1tV3332n4uJidevWzXl/VVRUpIULFyo8PFwSmTYX9OKq6MWeQzf2PHqx59GN7yxvy68pdQ66sefQjb0Lm+hexN/fX9HR0UpPT3c5np6erpiYmEZaVeMwxigxMVFpaWnat2+funfv7nK+e/fuCg4OdsmqvLxcmZmZzqyio6Pl5+fnMnP+/HkdPXrUOTNs2DCVlJTo4MGDzpkDBw6opKTEZebo0aM6f/68c2b37t2yWq2Kjo72/Dd/B4waNUr5+fnKy8tzfgwePFjTp09XXl6eevToQZ718PDDD+vEiRMux06ePKmwsDBJ/JzWVWlpqVq0cL1b8vHxkcPhkESeDeVt+Q0bNkzffvutysvLXWbsdruzEN4Lbj5IKCgo0J49exQYGOhynkzrZubMmTpy5IjL/ZXdbteiRYu0a9cuSWTaXNCL/x+92PPoxp5HL/Y8uvGd5W35NZXOQTf2LLqxl2n4/00KT0pNTTV+fn7m008/NceOHTNJSUmmdevW5vTp0429tLvqhRdeMDabzezfv9+cP3/e+VFaWuqcWblypbHZbCYtLc3k5+eb+Ph406VLF3P16lXnTEJCggkNDTV79uwxubm55tFHHzWDBg0yN27ccM6MGTPGDBw40GRnZ5vs7GwzYMAAM378eOf5GzdumMjISDNq1CiTm5tr9uzZY0JDQ01iYuLdCeMOiYuLMwsWLHB+Tp51d/DgQePr62vefPNNU1BQYDZv3mwCAgLMpk2bnDPkWnuzZ882ISEhZvv27aawsNCkpaWZTp06mcWLFztnyLNm165dM4cOHTKHDh0yksy7775rDh06ZIqKiowx3pXfn3/+aYKCgkx8fLzJz883aWlppl27dubtt9++C0nVXk2ZVlRUmAkTJpjQ0FCTl5fncn91/fp159cgU1e3+zm9VVhYmFm9erXLMTJtHujF/6IX3x1044ahF3se3bjh6MaeRzf2PLrxvYNNdC/0wQcfmLCwMOPv728eeOABk5mZ2dhLuuskVfuRkpLinHE4HOaNN94wwcHBxmq1mkceecTk5+e7fJ1//vnHJCYmmo4dO5pWrVqZ8ePHmzNnzrjMXL582UyfPt20bdvWtG3b1kyfPt1cuXLFZaaoqMiMGzfOtGrVynTs2NEkJiaasrKyO/Xt3xW3PlAgz/r55ptvTGRkpLFaraZPnz7mo48+cjlPrrV39epVs2DBAtOtWzfTsmVL06NHD/Paa6+5FC7yrFlGRka1vztnz55tjPG+/I4cOWKGDx9urFarCQ4ONsuWLTMOh8PjuTRETZkWFha6vb/KyMhwfg0ydXW7n9NbVfdAgUybD3oxvfhuoRs3HL3Ys+jGDUc39jy6sefRje8dFmP+7y/AAwAAAAAAAAAAF/xNdAAAAAAAAAAA3GATHQAAAAAAAAAAN9hEBwAAAAAAAADADTbRAQAAAAAAAABwg010AAAAAAAAAADcYBMdAAAAAAAAAAA32EQHAAAAAAAAAMANNtEBAAAAAAAAAHCDTXQAQJ2NGDFCSUlJ1Z6bM2eOnnzyyVrNAgAAAPc6ujEANH1sogMAPGrNmjVav359Yy+jivXr16t9+/aNvQwAAAA0I3RjAGgafBt7AQCApsVmszX2Eu6oyspKWSwWtWjB89AAAACoGd0YAJoGfssBABps586dstls2rBhQ5W3rN7qypUrmjVrljp06KCAgAA98cQTKigocJ6/+aqY7du3KyIiQgEBAZo8ebL+/vtvffbZZwoPD1eHDh00b948VVZWOq8rLy/X4sWLFRISotatW2vo0KHav3+/JGn//v2aO3euSkpKZLFYZLFYtGzZstted+t6+vXrJ6vVqqKiIk/GBwAAgCaEbgwATQ+vRAcANEhqaqqef/55bdy4URMnTtS+fftqnJ8zZ44KCgq0bds2tWvXTkuWLNHYsWN17Ngx+fn5SZJKS0u1du1apaam6tq1a5o0aZImTZqk9u3ba8eOHTp16pSeeuopxcbGaurUqZKkuXPn6vTp00pNTZXdbteXX36pMWPGKD8/XzExMXrvvff0+uuv68SJE5KkNm3a3Pa6Xr16OdezYsUKffLJJwoMDFTnzp3vVJwAAAC4h9GNAaBpYhMdAFBvycnJevXVV/X1119r5MiRt52/+QDh+++/V0xMjCRp8+bN6tq1q7766itNmTJFklRRUaF169apZ8+ekqTJkydr48aNunjxotq0aaN+/fpp5MiRysjI0NSpU/Xrr79qy5YtOnv2rOx2uyTplVde0c6dO5WSkqLly5fLZrPJYrEoODjYuZ7aXHdzPcnJyRo0aJDnwgMAAECTQjcGgKaLTXQAQL1s3bpVFy9eVFZWloYMGVKra44fPy5fX18NHTrUeSwwMFARERE6fvy481hAQIDzQYIkBQUFKTw83PkKmZvHiouLJUm5ubkyxqh3794ut3f9+nUFBga6XU9tr/P399fAgQNr9T0CAACg+aEbA0DTxiY6AKBe7r//fuXm5iolJUUPPvigLBbLba8xxrg9/t/rb7519SaLxVLtMYfDIUlyOBzy8fFRTk6OfHx8XOb+++DiVrW9rlWrVrX6/gAAANA80Y0BoGljEx0AUC89e/bUO++8oxEjRsjHx0fvv//+ba/p16+fbty4oQMHDjjfsnr58mWdPHlSffv2rfdaoqKiVFlZqeLiYg0fPrzaGX9/f5f/bKm21wEAAAC3QzcGgKatRWMvAABw7+rdu7cyMjK0detWJSUl3Xa+V69emjhxop577jllZWXp8OHDmjFjhkJCQjRx4sQGrWP69OmaNWuW0tLSVFhYqJ9++kmrVq3Sjh07JEnh4eH666+/tHfvXl26dEmlpaW1ug4AAACoDboxADRdbKIDABokIiJC+/bt05YtW7Rw4cLbzqekpCg6Olrjx4/XsGHDZIzRjh07qrwlta5SUlI0a9YsLVy4UBEREZowYYIOHDigrl27SpJiYmKUkJCgqVOn6r777tNbb71Vq+sAAACA2qIbA0DTZDHu/ggXAAAAAAAAAADNHK9EBwAAAAAAAADADTbRAQAAAAAAAABwg010AAAAAAAAAADcYBMdAAAAAAAAAAA32EQHAAAAAAAAAMANNtEBAAAAAAAAAHCDTXQAAAAAAAAAANxgEx0AAAAAAAAAADfYRAcAAAAAAAAAwA020QEAAAAAAAAAcINNdAAAAAAAAAAA3GATHQAAAAAAAAAAN/4H14NRv9udCTcAAAAASUVORK5CYII=",
      "text/plain": [
       "<Figure size 1500x600 with 2 Axes>"
      ]
     },
     "metadata": {},
     "output_type": "display_data"
    }
   ],
   "source": [
    "# Строим ящики с усами для указанных столбцов\n",
    "create_combined_plot(df, ['price', 'registration_year', 'power', 'kilometer'])"
   ]
  },
  {
   "cell_type": "markdown",
   "id": "5977977c",
   "metadata": {},
   "source": [
    "Есть аномалии в столбцах Price, RegistrationYear и Power, от них нужно избавиться"
   ]
  },
  {
   "cell_type": "code",
   "execution_count": 93,
   "id": "c39692d9",
   "metadata": {},
   "outputs": [],
   "source": [
    "df = df[(df['registration_year'] >= 1980) & (df['registration_year'] <= 2016)]"
   ]
  },
  {
   "cell_type": "markdown",
   "id": "95ac5fc3",
   "metadata": {},
   "source": [
    "Оставим только автомобили, произведенные до 2016 года, так как, это год скачивания анкеты из базы"
   ]
  },
  {
   "cell_type": "code",
   "execution_count": 97,
   "id": "6cb52d6d",
   "metadata": {},
   "outputs": [],
   "source": [
    "df = df[df['price'] > 100]"
   ]
  },
  {
   "cell_type": "markdown",
   "id": "2ef3b232",
   "metadata": {},
   "source": [
    "Оставим значения цены выше 100, меньше машины, вряд ли стоили"
   ]
  },
  {
   "cell_type": "code",
   "execution_count": 99,
   "id": "b76a5261",
   "metadata": {},
   "outputs": [],
   "source": [
    "df = df[df['power'] > 0]"
   ]
  },
  {
   "cell_type": "code",
   "execution_count": 100,
   "id": "1f01cecd",
   "metadata": {},
   "outputs": [],
   "source": [
    "columns_to_check = ['power']"
   ]
  },
  {
   "cell_type": "code",
   "execution_count": 101,
   "id": "cad36585",
   "metadata": {},
   "outputs": [],
   "source": [
    "def remove_outliers_iqr(df, column):\n",
    "    Q1 = df[column].quantile(0.25)\n",
    "    Q3 = df[column].quantile(0.75)\n",
    "    IQR = Q3 - Q1\n",
    "    lower_bound = Q1 - 1.5 * IQR\n",
    "    upper_bound = Q3 + 1.5 * IQR\n",
    "    return df[(df[column] >= lower_bound) & (df[column] <= upper_bound)]"
   ]
  },
  {
   "cell_type": "code",
   "execution_count": 102,
   "id": "f4ce5333",
   "metadata": {},
   "outputs": [],
   "source": [
    "for column in columns_to_check:\n",
    "    df = remove_outliers_iqr(df, column)"
   ]
  },
  {
   "cell_type": "markdown",
   "id": "faff2779",
   "metadata": {},
   "source": [
    "Использовали межквартильный диапазон для удаления аномальных значений"
   ]
  },
  {
   "cell_type": "code",
   "execution_count": 104,
   "id": "6f922470",
   "metadata": {},
   "outputs": [
    {
     "name": "stdout",
     "output_type": "stream",
     "text": [
      "<class 'pandas.core.frame.DataFrame'>\n",
      "Index: 276093 entries, 2 to 354368\n",
      "Data columns (total 10 columns):\n",
      " #   Column             Non-Null Count   Dtype \n",
      "---  ------             --------------   ----- \n",
      " 0   price              276093 non-null  int64 \n",
      " 1   vehicle_type       276093 non-null  object\n",
      " 2   registration_year  276093 non-null  int64 \n",
      " 3   gearbox            276093 non-null  object\n",
      " 4   power              276093 non-null  int64 \n",
      " 5   model              276093 non-null  object\n",
      " 6   kilometer          276093 non-null  int64 \n",
      " 7   fuel_type          276093 non-null  object\n",
      " 8   brand              276093 non-null  object\n",
      " 9   repaired           276093 non-null  object\n",
      "dtypes: int64(4), object(6)\n",
      "memory usage: 23.2+ MB\n"
     ]
    }
   ],
   "source": [
    "df.info()"
   ]
  },
  {
   "cell_type": "code",
   "execution_count": 105,
   "id": "38f918ae",
   "metadata": {},
   "outputs": [],
   "source": [
    "def optimize_memory_usage(df: pd.DataFrame, print_size: bool=True) -> pd.DataFrame:\n",
    "    '''\n",
    "    Function optimizes memory usage in dataframe\n",
    "    df: pd.DataFrame - data table\n",
    "    print_size: bool - display of optimization results\n",
    "    return pd.DataFrame - amount of optimized memory\n",
    "    '''\n",
    "    numerics = ['int16', 'int32', 'int64', 'float16', 'float32', 'float64'] # Типы, которые будем проверять на оптимизацию\n",
    "    # Размер занимаемой памяти до оптимизации (в Мб)\n",
    "    before_size = df.memory_usage().sum() / 1024**2    \n",
    "    for column in df.columns:\n",
    "        column_type = df[column].dtypes\n",
    "        if column_type in numerics:\n",
    "            column_min = df[column].min()\n",
    "            column_max = df[column].max()\n",
    "            if str(column_type).startswith('int'):\n",
    "                if column_min > np.iinfo(np.int8).min and column_max < np.iinfo(np.int8).max:\n",
    "                    df[column] = df[column].astype(np.int8)\n",
    "                elif column_min > np.iinfo(np.int16).min and column_max < np.iinfo(np.int16).max:\n",
    "                    df[column] = df[column].astype(np.int16)\n",
    "                elif column_min > np.iinfo(np.int32).min and column_max < np.iinfo(np.int32).max:\n",
    "                    df[column] = df[column].astype(np.int32)\n",
    "                elif column_min > np.iinfo(np.int64).min and column_max < np.iinfo(np.int64).max:\n",
    "                    df[column] = df[column].astype(np.int64)  \n",
    "            else:\n",
    "                if column_min > np.finfo(np.float32).min and column_max < np.finfo(np.float32).max:\n",
    "                    df[column] = df[column].astype(np.float32)\n",
    "                else:\n",
    "                    df[column] = df[column].astype(np.float64)    \n",
    "    # Размер занимаемой памяти после оптимизации (в Мб)\n",
    "    after_size = df.memory_usage().sum() / 1024**2\n",
    "    if print_size: print('Размер использования памяти: до {:5.2f} Mb - после {:5.2f} Mb ({:.1f}%)'\n",
    "                         .format(before_size, after_size, 100 * (before_size - after_size) / before_size))\n",
    "    return df"
   ]
  },
  {
   "cell_type": "code",
   "execution_count": 106,
   "id": "c1ba71d5",
   "metadata": {},
   "outputs": [
    {
     "name": "stdout",
     "output_type": "stream",
     "text": [
      "Размер использования памяти: до 23.17 Mb - после 17.38 Mb (25.0%)\n"
     ]
    }
   ],
   "source": [
    "df = optimize_memory_usage(df)"
   ]
  },
  {
   "cell_type": "code",
   "execution_count": 107,
   "id": "5ab147df",
   "metadata": {},
   "outputs": [],
   "source": [
    "phik_overview_t = df.phik_matrix(interval_cols = ['price','registration_year','power','kilometer'])"
   ]
  },
  {
   "cell_type": "code",
   "execution_count": 108,
   "id": "b11d87af",
   "metadata": {},
   "outputs": [
    {
     "data": {
      "image/png": "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",
      "text/plain": [
       "<Figure size 1500x1200 with 2 Axes>"
      ]
     },
     "metadata": {},
     "output_type": "display_data"
    }
   ],
   "source": [
    "plot_correlation_matrix(\n",
    "    phik_overview_t.values,\n",
    "    x_labels=phik_overview_t.columns,\n",
    "    y_labels=phik_overview_t.index,\n",
    "    title=r\"correlation $\\phi_K$\",\n",
    "    fontsize_factor=1.5,\n",
    "    figsize=(15, 12)\n",
    ")"
   ]
  },
  {
   "cell_type": "markdown",
   "id": "895db617",
   "metadata": {},
   "source": [
    "___\n",
    "Убрали аномалии из столбцов price, registration_year, power\n",
    "___"
   ]
  },
  {
   "cell_type": "markdown",
   "id": "c70df278",
   "metadata": {},
   "source": [
    "<a id='step4'></a>"
   ]
  },
  {
   "cell_type": "markdown",
   "id": "42a42b6b",
   "metadata": {},
   "source": [
    "<a id='step5'></a>"
   ]
  },
  {
   "cell_type": "markdown",
   "id": "34a7c23d",
   "metadata": {},
   "source": [
    "## Обучение моделей"
   ]
  },
  {
   "cell_type": "markdown",
   "id": "6cbbb35f-5ba4-49cb-ae88-ff19e0ded771",
   "metadata": {},
   "source": [
    "<a id='step5.1'></a>"
   ]
  },
  {
   "cell_type": "markdown",
   "id": "a50a6a72",
   "metadata": {},
   "source": [
    "### Обучение LightGBM"
   ]
  },
  {
   "cell_type": "code",
   "execution_count": 134,
   "id": "3fb4d315-f5c9-4908-b4fb-d64885e3f195",
   "metadata": {},
   "outputs": [],
   "source": [
    "RANDOM_STATE = 42\n",
    "TEST_SIZE = 0.3"
   ]
  },
  {
   "cell_type": "code",
   "execution_count": 138,
   "id": "5df8e2d0-acdb-4e12-9f8e-eee38746f39d",
   "metadata": {},
   "outputs": [],
   "source": [
    "numerical_features = ['power','kilometer','registration_year']\n",
    "categorical_features = ['vehicle_type','gearbox','model','fuel_type','brand','repaired']"
   ]
  },
  {
   "cell_type": "code",
   "execution_count": 141,
   "id": "9a82563f-de76-45f6-af7c-10871de9133e",
   "metadata": {},
   "outputs": [],
   "source": [
    "df_lgbm = df.copy()\n",
    "\n",
    "for col in categorical_features:\n",
    "    df_lgbm[col] = df_lgbm[col].astype('category')"
   ]
  },
  {
   "cell_type": "code",
   "execution_count": 144,
   "id": "1f85fdb8-a40c-4e05-b7b1-7abffb1c9909",
   "metadata": {},
   "outputs": [],
   "source": [
    "X = df_lgbm.drop('price', axis=1) \n",
    "y = df_lgbm['price']                \n",
    "X_train_lgbm, X_test_lgbm, y_train_lgbm, y_test_lgbm = train_test_split(X, y, test_size=TEST_SIZE, random_state=RANDOM_STATE)"
   ]
  },
  {
   "cell_type": "code",
   "execution_count": 146,
   "id": "16380cf7",
   "metadata": {},
   "outputs": [],
   "source": [
    "params = {\n",
    "    'learning_rate': [0.01, 0.05, 0.1],\n",
    "    'n_estimators': [100, 300, 500],\n",
    "    'min_child_samples': [10, 20, 30],\n",
    "    'subsample': [0.7, 0.8, 0.9] \n",
    "}"
   ]
  },
  {
   "cell_type": "code",
   "execution_count": 148,
   "id": "ae1547a1-5f75-4f64-ad71-5cd42645a56c",
   "metadata": {},
   "outputs": [],
   "source": [
    "lgb_search = RandomizedSearchCV(\n",
    "    estimator=lgb.LGBMRegressor(),\n",
    "    param_distributions=params,\n",
    "    n_iter=30,  \n",
    "    cv=3,  \n",
    "    scoring='neg_root_mean_squared_error',\n",
    "    random_state=RANDOM_STATE,\n",
    "    verbose=2, \n",
    "    refit=True,\n",
    "    n_jobs=-1  \n",
    ")"
   ]
  },
  {
   "cell_type": "code",
   "execution_count": 150,
   "id": "235a93bf",
   "metadata": {},
   "outputs": [
    {
     "name": "stdout",
     "output_type": "stream",
     "text": [
      "Fitting 3 folds for each of 30 candidates, totalling 90 fits\n",
      "[LightGBM] [Info] Auto-choosing row-wise multi-threading, the overhead of testing was 0.002349 seconds.\n",
      "You can set `force_row_wise=true` to remove the overhead.\n",
      "And if memory is not enough, you can set `force_col_wise=true`.\n",
      "[LightGBM] [Info] Total Bins 596\n",
      "[LightGBM] [Info] Number of data points in the train set: 193265, number of used features: 9\n",
      "[LightGBM] [Info] Start training from score 4771.781606\n"
     ]
    },
    {
     "data": {
      "text/html": [
       "<style>#sk-container-id-1 {\n",
       "  /* Definition of color scheme common for light and dark mode */\n",
       "  --sklearn-color-text: black;\n",
       "  --sklearn-color-line: gray;\n",
       "  /* Definition of color scheme for unfitted estimators */\n",
       "  --sklearn-color-unfitted-level-0: #fff5e6;\n",
       "  --sklearn-color-unfitted-level-1: #f6e4d2;\n",
       "  --sklearn-color-unfitted-level-2: #ffe0b3;\n",
       "  --sklearn-color-unfitted-level-3: chocolate;\n",
       "  /* Definition of color scheme for fitted estimators */\n",
       "  --sklearn-color-fitted-level-0: #f0f8ff;\n",
       "  --sklearn-color-fitted-level-1: #d4ebff;\n",
       "  --sklearn-color-fitted-level-2: #b3dbfd;\n",
       "  --sklearn-color-fitted-level-3: cornflowerblue;\n",
       "\n",
       "  /* Specific color for light theme */\n",
       "  --sklearn-color-text-on-default-background: var(--sg-text-color, var(--theme-code-foreground, var(--jp-content-font-color1, black)));\n",
       "  --sklearn-color-background: var(--sg-background-color, var(--theme-background, var(--jp-layout-color0, white)));\n",
       "  --sklearn-color-border-box: var(--sg-text-color, var(--theme-code-foreground, var(--jp-content-font-color1, black)));\n",
       "  --sklearn-color-icon: #696969;\n",
       "\n",
       "  @media (prefers-color-scheme: dark) {\n",
       "    /* Redefinition of color scheme for dark theme */\n",
       "    --sklearn-color-text-on-default-background: var(--sg-text-color, var(--theme-code-foreground, var(--jp-content-font-color1, white)));\n",
       "    --sklearn-color-background: var(--sg-background-color, var(--theme-background, var(--jp-layout-color0, #111)));\n",
       "    --sklearn-color-border-box: var(--sg-text-color, var(--theme-code-foreground, var(--jp-content-font-color1, white)));\n",
       "    --sklearn-color-icon: #878787;\n",
       "  }\n",
       "}\n",
       "\n",
       "#sk-container-id-1 {\n",
       "  color: var(--sklearn-color-text);\n",
       "}\n",
       "\n",
       "#sk-container-id-1 pre {\n",
       "  padding: 0;\n",
       "}\n",
       "\n",
       "#sk-container-id-1 input.sk-hidden--visually {\n",
       "  border: 0;\n",
       "  clip: rect(1px 1px 1px 1px);\n",
       "  clip: rect(1px, 1px, 1px, 1px);\n",
       "  height: 1px;\n",
       "  margin: -1px;\n",
       "  overflow: hidden;\n",
       "  padding: 0;\n",
       "  position: absolute;\n",
       "  width: 1px;\n",
       "}\n",
       "\n",
       "#sk-container-id-1 div.sk-dashed-wrapped {\n",
       "  border: 1px dashed var(--sklearn-color-line);\n",
       "  margin: 0 0.4em 0.5em 0.4em;\n",
       "  box-sizing: border-box;\n",
       "  padding-bottom: 0.4em;\n",
       "  background-color: var(--sklearn-color-background);\n",
       "}\n",
       "\n",
       "#sk-container-id-1 div.sk-container {\n",
       "  /* jupyter's `normalize.less` sets `[hidden] { display: none; }`\n",
       "     but bootstrap.min.css set `[hidden] { display: none !important; }`\n",
       "     so we also need the `!important` here to be able to override the\n",
       "     default hidden behavior on the sphinx rendered scikit-learn.org.\n",
       "     See: https://github.com/scikit-learn/scikit-learn/issues/21755 */\n",
       "  display: inline-block !important;\n",
       "  position: relative;\n",
       "}\n",
       "\n",
       "#sk-container-id-1 div.sk-text-repr-fallback {\n",
       "  display: none;\n",
       "}\n",
       "\n",
       "div.sk-parallel-item,\n",
       "div.sk-serial,\n",
       "div.sk-item {\n",
       "  /* draw centered vertical line to link estimators */\n",
       "  background-image: linear-gradient(var(--sklearn-color-text-on-default-background), var(--sklearn-color-text-on-default-background));\n",
       "  background-size: 2px 100%;\n",
       "  background-repeat: no-repeat;\n",
       "  background-position: center center;\n",
       "}\n",
       "\n",
       "/* Parallel-specific style estimator block */\n",
       "\n",
       "#sk-container-id-1 div.sk-parallel-item::after {\n",
       "  content: \"\";\n",
       "  width: 100%;\n",
       "  border-bottom: 2px solid var(--sklearn-color-text-on-default-background);\n",
       "  flex-grow: 1;\n",
       "}\n",
       "\n",
       "#sk-container-id-1 div.sk-parallel {\n",
       "  display: flex;\n",
       "  align-items: stretch;\n",
       "  justify-content: center;\n",
       "  background-color: var(--sklearn-color-background);\n",
       "  position: relative;\n",
       "}\n",
       "\n",
       "#sk-container-id-1 div.sk-parallel-item {\n",
       "  display: flex;\n",
       "  flex-direction: column;\n",
       "}\n",
       "\n",
       "#sk-container-id-1 div.sk-parallel-item:first-child::after {\n",
       "  align-self: flex-end;\n",
       "  width: 50%;\n",
       "}\n",
       "\n",
       "#sk-container-id-1 div.sk-parallel-item:last-child::after {\n",
       "  align-self: flex-start;\n",
       "  width: 50%;\n",
       "}\n",
       "\n",
       "#sk-container-id-1 div.sk-parallel-item:only-child::after {\n",
       "  width: 0;\n",
       "}\n",
       "\n",
       "/* Serial-specific style estimator block */\n",
       "\n",
       "#sk-container-id-1 div.sk-serial {\n",
       "  display: flex;\n",
       "  flex-direction: column;\n",
       "  align-items: center;\n",
       "  background-color: var(--sklearn-color-background);\n",
       "  padding-right: 1em;\n",
       "  padding-left: 1em;\n",
       "}\n",
       "\n",
       "\n",
       "/* Toggleable style: style used for estimator/Pipeline/ColumnTransformer box that is\n",
       "clickable and can be expanded/collapsed.\n",
       "- Pipeline and ColumnTransformer use this feature and define the default style\n",
       "- Estimators will overwrite some part of the style using the `sk-estimator` class\n",
       "*/\n",
       "\n",
       "/* Pipeline and ColumnTransformer style (default) */\n",
       "\n",
       "#sk-container-id-1 div.sk-toggleable {\n",
       "  /* Default theme specific background. It is overwritten whether we have a\n",
       "  specific estimator or a Pipeline/ColumnTransformer */\n",
       "  background-color: var(--sklearn-color-background);\n",
       "}\n",
       "\n",
       "/* Toggleable label */\n",
       "#sk-container-id-1 label.sk-toggleable__label {\n",
       "  cursor: pointer;\n",
       "  display: block;\n",
       "  width: 100%;\n",
       "  margin-bottom: 0;\n",
       "  padding: 0.5em;\n",
       "  box-sizing: border-box;\n",
       "  text-align: center;\n",
       "}\n",
       "\n",
       "#sk-container-id-1 label.sk-toggleable__label-arrow:before {\n",
       "  /* Arrow on the left of the label */\n",
       "  content: \"▸\";\n",
       "  float: left;\n",
       "  margin-right: 0.25em;\n",
       "  color: var(--sklearn-color-icon);\n",
       "}\n",
       "\n",
       "#sk-container-id-1 label.sk-toggleable__label-arrow:hover:before {\n",
       "  color: var(--sklearn-color-text);\n",
       "}\n",
       "\n",
       "/* Toggleable content - dropdown */\n",
       "\n",
       "#sk-container-id-1 div.sk-toggleable__content {\n",
       "  max-height: 0;\n",
       "  max-width: 0;\n",
       "  overflow: hidden;\n",
       "  text-align: left;\n",
       "  /* unfitted */\n",
       "  background-color: var(--sklearn-color-unfitted-level-0);\n",
       "}\n",
       "\n",
       "#sk-container-id-1 div.sk-toggleable__content.fitted {\n",
       "  /* fitted */\n",
       "  background-color: var(--sklearn-color-fitted-level-0);\n",
       "}\n",
       "\n",
       "#sk-container-id-1 div.sk-toggleable__content pre {\n",
       "  margin: 0.2em;\n",
       "  border-radius: 0.25em;\n",
       "  color: var(--sklearn-color-text);\n",
       "  /* unfitted */\n",
       "  background-color: var(--sklearn-color-unfitted-level-0);\n",
       "}\n",
       "\n",
       "#sk-container-id-1 div.sk-toggleable__content.fitted pre {\n",
       "  /* unfitted */\n",
       "  background-color: var(--sklearn-color-fitted-level-0);\n",
       "}\n",
       "\n",
       "#sk-container-id-1 input.sk-toggleable__control:checked~div.sk-toggleable__content {\n",
       "  /* Expand drop-down */\n",
       "  max-height: 200px;\n",
       "  max-width: 100%;\n",
       "  overflow: auto;\n",
       "}\n",
       "\n",
       "#sk-container-id-1 input.sk-toggleable__control:checked~label.sk-toggleable__label-arrow:before {\n",
       "  content: \"▾\";\n",
       "}\n",
       "\n",
       "/* Pipeline/ColumnTransformer-specific style */\n",
       "\n",
       "#sk-container-id-1 div.sk-label input.sk-toggleable__control:checked~label.sk-toggleable__label {\n",
       "  color: var(--sklearn-color-text);\n",
       "  background-color: var(--sklearn-color-unfitted-level-2);\n",
       "}\n",
       "\n",
       "#sk-container-id-1 div.sk-label.fitted input.sk-toggleable__control:checked~label.sk-toggleable__label {\n",
       "  background-color: var(--sklearn-color-fitted-level-2);\n",
       "}\n",
       "\n",
       "/* Estimator-specific style */\n",
       "\n",
       "/* Colorize estimator box */\n",
       "#sk-container-id-1 div.sk-estimator input.sk-toggleable__control:checked~label.sk-toggleable__label {\n",
       "  /* unfitted */\n",
       "  background-color: var(--sklearn-color-unfitted-level-2);\n",
       "}\n",
       "\n",
       "#sk-container-id-1 div.sk-estimator.fitted input.sk-toggleable__control:checked~label.sk-toggleable__label {\n",
       "  /* fitted */\n",
       "  background-color: var(--sklearn-color-fitted-level-2);\n",
       "}\n",
       "\n",
       "#sk-container-id-1 div.sk-label label.sk-toggleable__label,\n",
       "#sk-container-id-1 div.sk-label label {\n",
       "  /* The background is the default theme color */\n",
       "  color: var(--sklearn-color-text-on-default-background);\n",
       "}\n",
       "\n",
       "/* On hover, darken the color of the background */\n",
       "#sk-container-id-1 div.sk-label:hover label.sk-toggleable__label {\n",
       "  color: var(--sklearn-color-text);\n",
       "  background-color: var(--sklearn-color-unfitted-level-2);\n",
       "}\n",
       "\n",
       "/* Label box, darken color on hover, fitted */\n",
       "#sk-container-id-1 div.sk-label.fitted:hover label.sk-toggleable__label.fitted {\n",
       "  color: var(--sklearn-color-text);\n",
       "  background-color: var(--sklearn-color-fitted-level-2);\n",
       "}\n",
       "\n",
       "/* Estimator label */\n",
       "\n",
       "#sk-container-id-1 div.sk-label label {\n",
       "  font-family: monospace;\n",
       "  font-weight: bold;\n",
       "  display: inline-block;\n",
       "  line-height: 1.2em;\n",
       "}\n",
       "\n",
       "#sk-container-id-1 div.sk-label-container {\n",
       "  text-align: center;\n",
       "}\n",
       "\n",
       "/* Estimator-specific */\n",
       "#sk-container-id-1 div.sk-estimator {\n",
       "  font-family: monospace;\n",
       "  border: 1px dotted var(--sklearn-color-border-box);\n",
       "  border-radius: 0.25em;\n",
       "  box-sizing: border-box;\n",
       "  margin-bottom: 0.5em;\n",
       "  /* unfitted */\n",
       "  background-color: var(--sklearn-color-unfitted-level-0);\n",
       "}\n",
       "\n",
       "#sk-container-id-1 div.sk-estimator.fitted {\n",
       "  /* fitted */\n",
       "  background-color: var(--sklearn-color-fitted-level-0);\n",
       "}\n",
       "\n",
       "/* on hover */\n",
       "#sk-container-id-1 div.sk-estimator:hover {\n",
       "  /* unfitted */\n",
       "  background-color: var(--sklearn-color-unfitted-level-2);\n",
       "}\n",
       "\n",
       "#sk-container-id-1 div.sk-estimator.fitted:hover {\n",
       "  /* fitted */\n",
       "  background-color: var(--sklearn-color-fitted-level-2);\n",
       "}\n",
       "\n",
       "/* Specification for estimator info (e.g. \"i\" and \"?\") */\n",
       "\n",
       "/* Common style for \"i\" and \"?\" */\n",
       "\n",
       ".sk-estimator-doc-link,\n",
       "a:link.sk-estimator-doc-link,\n",
       "a:visited.sk-estimator-doc-link {\n",
       "  float: right;\n",
       "  font-size: smaller;\n",
       "  line-height: 1em;\n",
       "  font-family: monospace;\n",
       "  background-color: var(--sklearn-color-background);\n",
       "  border-radius: 1em;\n",
       "  height: 1em;\n",
       "  width: 1em;\n",
       "  text-decoration: none !important;\n",
       "  margin-left: 1ex;\n",
       "  /* unfitted */\n",
       "  border: var(--sklearn-color-unfitted-level-1) 1pt solid;\n",
       "  color: var(--sklearn-color-unfitted-level-1);\n",
       "}\n",
       "\n",
       ".sk-estimator-doc-link.fitted,\n",
       "a:link.sk-estimator-doc-link.fitted,\n",
       "a:visited.sk-estimator-doc-link.fitted {\n",
       "  /* fitted */\n",
       "  border: var(--sklearn-color-fitted-level-1) 1pt solid;\n",
       "  color: var(--sklearn-color-fitted-level-1);\n",
       "}\n",
       "\n",
       "/* On hover */\n",
       "div.sk-estimator:hover .sk-estimator-doc-link:hover,\n",
       ".sk-estimator-doc-link:hover,\n",
       "div.sk-label-container:hover .sk-estimator-doc-link:hover,\n",
       ".sk-estimator-doc-link:hover {\n",
       "  /* unfitted */\n",
       "  background-color: var(--sklearn-color-unfitted-level-3);\n",
       "  color: var(--sklearn-color-background);\n",
       "  text-decoration: none;\n",
       "}\n",
       "\n",
       "div.sk-estimator.fitted:hover .sk-estimator-doc-link.fitted:hover,\n",
       ".sk-estimator-doc-link.fitted:hover,\n",
       "div.sk-label-container:hover .sk-estimator-doc-link.fitted:hover,\n",
       ".sk-estimator-doc-link.fitted:hover {\n",
       "  /* fitted */\n",
       "  background-color: var(--sklearn-color-fitted-level-3);\n",
       "  color: var(--sklearn-color-background);\n",
       "  text-decoration: none;\n",
       "}\n",
       "\n",
       "/* Span, style for the box shown on hovering the info icon */\n",
       ".sk-estimator-doc-link span {\n",
       "  display: none;\n",
       "  z-index: 9999;\n",
       "  position: relative;\n",
       "  font-weight: normal;\n",
       "  right: .2ex;\n",
       "  padding: .5ex;\n",
       "  margin: .5ex;\n",
       "  width: min-content;\n",
       "  min-width: 20ex;\n",
       "  max-width: 50ex;\n",
       "  color: var(--sklearn-color-text);\n",
       "  box-shadow: 2pt 2pt 4pt #999;\n",
       "  /* unfitted */\n",
       "  background: var(--sklearn-color-unfitted-level-0);\n",
       "  border: .5pt solid var(--sklearn-color-unfitted-level-3);\n",
       "}\n",
       "\n",
       ".sk-estimator-doc-link.fitted span {\n",
       "  /* fitted */\n",
       "  background: var(--sklearn-color-fitted-level-0);\n",
       "  border: var(--sklearn-color-fitted-level-3);\n",
       "}\n",
       "\n",
       ".sk-estimator-doc-link:hover span {\n",
       "  display: block;\n",
       "}\n",
       "\n",
       "/* \"?\"-specific style due to the `<a>` HTML tag */\n",
       "\n",
       "#sk-container-id-1 a.estimator_doc_link {\n",
       "  float: right;\n",
       "  font-size: 1rem;\n",
       "  line-height: 1em;\n",
       "  font-family: monospace;\n",
       "  background-color: var(--sklearn-color-background);\n",
       "  border-radius: 1rem;\n",
       "  height: 1rem;\n",
       "  width: 1rem;\n",
       "  text-decoration: none;\n",
       "  /* unfitted */\n",
       "  color: var(--sklearn-color-unfitted-level-1);\n",
       "  border: var(--sklearn-color-unfitted-level-1) 1pt solid;\n",
       "}\n",
       "\n",
       "#sk-container-id-1 a.estimator_doc_link.fitted {\n",
       "  /* fitted */\n",
       "  border: var(--sklearn-color-fitted-level-1) 1pt solid;\n",
       "  color: var(--sklearn-color-fitted-level-1);\n",
       "}\n",
       "\n",
       "/* On hover */\n",
       "#sk-container-id-1 a.estimator_doc_link:hover {\n",
       "  /* unfitted */\n",
       "  background-color: var(--sklearn-color-unfitted-level-3);\n",
       "  color: var(--sklearn-color-background);\n",
       "  text-decoration: none;\n",
       "}\n",
       "\n",
       "#sk-container-id-1 a.estimator_doc_link.fitted:hover {\n",
       "  /* fitted */\n",
       "  background-color: var(--sklearn-color-fitted-level-3);\n",
       "}\n",
       "</style><div id=\"sk-container-id-1\" class=\"sk-top-container\"><div class=\"sk-text-repr-fallback\"><pre>RandomizedSearchCV(cv=3, estimator=LGBMRegressor(), n_iter=30, n_jobs=-1,\n",
       "                   param_distributions={&#x27;learning_rate&#x27;: [0.01, 0.05, 0.1],\n",
       "                                        &#x27;min_child_samples&#x27;: [10, 20, 30],\n",
       "                                        &#x27;n_estimators&#x27;: [100, 300, 500],\n",
       "                                        &#x27;subsample&#x27;: [0.7, 0.8, 0.9]},\n",
       "                   random_state=42, scoring=&#x27;neg_root_mean_squared_error&#x27;,\n",
       "                   verbose=2)</pre><b>In a Jupyter environment, please rerun this cell to show the HTML representation or trust the notebook. <br />On GitHub, the HTML representation is unable to render, please try loading this page with nbviewer.org.</b></div><div class=\"sk-container\" hidden><div class=\"sk-item sk-dashed-wrapped\"><div class=\"sk-label-container\"><div class=\"sk-label fitted sk-toggleable\"><input class=\"sk-toggleable__control sk-hidden--visually\" id=\"sk-estimator-id-1\" type=\"checkbox\" ><label for=\"sk-estimator-id-1\" class=\"sk-toggleable__label fitted sk-toggleable__label-arrow fitted\">&nbsp;&nbsp;RandomizedSearchCV<a class=\"sk-estimator-doc-link fitted\" rel=\"noreferrer\" target=\"_blank\" href=\"https://scikit-learn.org/1.5/modules/generated/sklearn.model_selection.RandomizedSearchCV.html\">?<span>Documentation for RandomizedSearchCV</span></a><span class=\"sk-estimator-doc-link fitted\">i<span>Fitted</span></span></label><div class=\"sk-toggleable__content fitted\"><pre>RandomizedSearchCV(cv=3, estimator=LGBMRegressor(), n_iter=30, n_jobs=-1,\n",
       "                   param_distributions={&#x27;learning_rate&#x27;: [0.01, 0.05, 0.1],\n",
       "                                        &#x27;min_child_samples&#x27;: [10, 20, 30],\n",
       "                                        &#x27;n_estimators&#x27;: [100, 300, 500],\n",
       "                                        &#x27;subsample&#x27;: [0.7, 0.8, 0.9]},\n",
       "                   random_state=42, scoring=&#x27;neg_root_mean_squared_error&#x27;,\n",
       "                   verbose=2)</pre></div> </div></div><div class=\"sk-parallel\"><div class=\"sk-parallel-item\"><div class=\"sk-item\"><div class=\"sk-label-container\"><div class=\"sk-label fitted sk-toggleable\"><input class=\"sk-toggleable__control sk-hidden--visually\" id=\"sk-estimator-id-2\" type=\"checkbox\" ><label for=\"sk-estimator-id-2\" class=\"sk-toggleable__label fitted sk-toggleable__label-arrow fitted\">best_estimator_: LGBMRegressor</label><div class=\"sk-toggleable__content fitted\"><pre>LGBMRegressor(min_child_samples=10, n_estimators=500, subsample=0.8)</pre></div> </div></div><div class=\"sk-serial\"><div class=\"sk-item\"><div class=\"sk-estimator fitted sk-toggleable\"><input class=\"sk-toggleable__control sk-hidden--visually\" id=\"sk-estimator-id-3\" type=\"checkbox\" ><label for=\"sk-estimator-id-3\" class=\"sk-toggleable__label fitted sk-toggleable__label-arrow fitted\">LGBMRegressor</label><div class=\"sk-toggleable__content fitted\"><pre>LGBMRegressor(min_child_samples=10, n_estimators=500, subsample=0.8)</pre></div> </div></div></div></div></div></div></div></div></div>"
      ],
      "text/plain": [
       "RandomizedSearchCV(cv=3, estimator=LGBMRegressor(), n_iter=30, n_jobs=-1,\n",
       "                   param_distributions={'learning_rate': [0.01, 0.05, 0.1],\n",
       "                                        'min_child_samples': [10, 20, 30],\n",
       "                                        'n_estimators': [100, 300, 500],\n",
       "                                        'subsample': [0.7, 0.8, 0.9]},\n",
       "                   random_state=42, scoring='neg_root_mean_squared_error',\n",
       "                   verbose=2)"
      ]
     },
     "execution_count": 150,
     "metadata": {},
     "output_type": "execute_result"
    }
   ],
   "source": [
    "# Fitting the model\n",
    "lgb_search.fit(X_train_lgbm, y_train_lgbm)"
   ]
  },
  {
   "cell_type": "code",
   "execution_count": 151,
   "id": "3ae9a2f2-bd9c-40e8-8661-2331da02eafb",
   "metadata": {},
   "outputs": [],
   "source": [
    "lgb_model = lgb_search.best_estimator_"
   ]
  },
  {
   "cell_type": "code",
   "execution_count": 152,
   "id": "e3c28b8d",
   "metadata": {},
   "outputs": [
    {
     "name": "stdout",
     "output_type": "stream",
     "text": [
      "Лучшие параметры: {'subsample': 0.8, 'n_estimators': 500, 'min_child_samples': 10, 'learning_rate': 0.1}\n",
      "Лучшее значение RMSE: 1447.0897719208435\n",
      "Время обучения: 0.6580030918121338\n",
      "Среднее время обучения за итерацию: 6.248773725827536\n",
      "Среднее время предсказания: 0.10413347880045572\n"
     ]
    }
   ],
   "source": [
    "print(\"Лучшие параметры:\", lgb_search.best_params_)\n",
    "print(\"Лучшее значение RMSE:\", -lgb_search.best_score_)\n",
    "print(\"Время обучения:\", lgb_search.refit_time_)\n",
    "print(\"Среднее время обучения за итерацию:\", lgb_search.cv_results_['mean_fit_time'].mean())\n",
    "print(\"Среднее время предсказания:\", lgb_search.cv_results_['mean_score_time'].mean())"
   ]
  },
  {
   "cell_type": "markdown",
   "id": "308eb5ac-2345-4317-9f41-4757b7022acb",
   "metadata": {},
   "source": [
    "<a id='step5.2'></a>"
   ]
  },
  {
   "cell_type": "markdown",
   "id": "c22aa8ea-aa27-49da-a16c-74f334f99c3b",
   "metadata": {},
   "source": [
    "### Обучение Ridge"
   ]
  },
  {
   "cell_type": "code",
   "execution_count": 156,
   "id": "06b9422d-6cfa-47fe-8ae2-f5b36045501c",
   "metadata": {},
   "outputs": [],
   "source": [
    "X = df.drop('price', axis=1) \n",
    "y = df['price']                \n",
    "X_train, X_test, y_train, y_test = train_test_split(X, y, test_size=TEST_SIZE, random_state=RANDOM_STATE)"
   ]
  },
  {
   "cell_type": "code",
   "execution_count": 158,
   "id": "66d48c40",
   "metadata": {},
   "outputs": [],
   "source": [
    "pipeline_ridge = Pipeline([\n",
    "    ('preprocessor', ColumnTransformer(\n",
    "        transformers=[\n",
    "            ('num', StandardScaler(), numerical_features),  \n",
    "            ('cat', OneHotEncoder(drop='first', sparse_output=False, \n",
    "                                  handle_unknown='ignore'), categorical_features)  \n",
    "        ])),\n",
    "    ('model', Ridge())  \n",
    "])"
   ]
  },
  {
   "cell_type": "code",
   "execution_count": 160,
   "id": "6b534527-7e9c-4d36-8979-8b66edc2e97b",
   "metadata": {},
   "outputs": [],
   "source": [
    "params = {\n",
    "    'model__alpha': np.logspace(-2, 3, 6),\n",
    "    'model__solver': ['auto', 'lsqr'] \n",
    "   }"
   ]
  },
  {
   "cell_type": "code",
   "execution_count": 162,
   "id": "158200c0",
   "metadata": {},
   "outputs": [],
   "source": [
    "# Настраиваем RandomizedSearchCV\n",
    "ridge_search = RandomizedSearchCV(\n",
    "    estimator=pipeline_ridge,\n",
    "    param_distributions=params,\n",
    "    n_iter=12,  #\n",
    "    cv=3,  \n",
    "    scoring='neg_root_mean_squared_error',  \n",
    "    random_state=RANDOM_STATE,\n",
    "    verbose=2, \n",
    "    refit=True,\n",
    "    n_jobs=-1  \n",
    ")"
   ]
  },
  {
   "cell_type": "code",
   "execution_count": 164,
   "id": "d6fa53c2-ff4a-4439-9f89-866097bc15b7",
   "metadata": {},
   "outputs": [
    {
     "name": "stdout",
     "output_type": "stream",
     "text": [
      "Fitting 3 folds for each of 12 candidates, totalling 36 fits\n"
     ]
    },
    {
     "data": {
      "text/html": [
       "<style>#sk-container-id-2 {\n",
       "  /* Definition of color scheme common for light and dark mode */\n",
       "  --sklearn-color-text: black;\n",
       "  --sklearn-color-line: gray;\n",
       "  /* Definition of color scheme for unfitted estimators */\n",
       "  --sklearn-color-unfitted-level-0: #fff5e6;\n",
       "  --sklearn-color-unfitted-level-1: #f6e4d2;\n",
       "  --sklearn-color-unfitted-level-2: #ffe0b3;\n",
       "  --sklearn-color-unfitted-level-3: chocolate;\n",
       "  /* Definition of color scheme for fitted estimators */\n",
       "  --sklearn-color-fitted-level-0: #f0f8ff;\n",
       "  --sklearn-color-fitted-level-1: #d4ebff;\n",
       "  --sklearn-color-fitted-level-2: #b3dbfd;\n",
       "  --sklearn-color-fitted-level-3: cornflowerblue;\n",
       "\n",
       "  /* Specific color for light theme */\n",
       "  --sklearn-color-text-on-default-background: var(--sg-text-color, var(--theme-code-foreground, var(--jp-content-font-color1, black)));\n",
       "  --sklearn-color-background: var(--sg-background-color, var(--theme-background, var(--jp-layout-color0, white)));\n",
       "  --sklearn-color-border-box: var(--sg-text-color, var(--theme-code-foreground, var(--jp-content-font-color1, black)));\n",
       "  --sklearn-color-icon: #696969;\n",
       "\n",
       "  @media (prefers-color-scheme: dark) {\n",
       "    /* Redefinition of color scheme for dark theme */\n",
       "    --sklearn-color-text-on-default-background: var(--sg-text-color, var(--theme-code-foreground, var(--jp-content-font-color1, white)));\n",
       "    --sklearn-color-background: var(--sg-background-color, var(--theme-background, var(--jp-layout-color0, #111)));\n",
       "    --sklearn-color-border-box: var(--sg-text-color, var(--theme-code-foreground, var(--jp-content-font-color1, white)));\n",
       "    --sklearn-color-icon: #878787;\n",
       "  }\n",
       "}\n",
       "\n",
       "#sk-container-id-2 {\n",
       "  color: var(--sklearn-color-text);\n",
       "}\n",
       "\n",
       "#sk-container-id-2 pre {\n",
       "  padding: 0;\n",
       "}\n",
       "\n",
       "#sk-container-id-2 input.sk-hidden--visually {\n",
       "  border: 0;\n",
       "  clip: rect(1px 1px 1px 1px);\n",
       "  clip: rect(1px, 1px, 1px, 1px);\n",
       "  height: 1px;\n",
       "  margin: -1px;\n",
       "  overflow: hidden;\n",
       "  padding: 0;\n",
       "  position: absolute;\n",
       "  width: 1px;\n",
       "}\n",
       "\n",
       "#sk-container-id-2 div.sk-dashed-wrapped {\n",
       "  border: 1px dashed var(--sklearn-color-line);\n",
       "  margin: 0 0.4em 0.5em 0.4em;\n",
       "  box-sizing: border-box;\n",
       "  padding-bottom: 0.4em;\n",
       "  background-color: var(--sklearn-color-background);\n",
       "}\n",
       "\n",
       "#sk-container-id-2 div.sk-container {\n",
       "  /* jupyter's `normalize.less` sets `[hidden] { display: none; }`\n",
       "     but bootstrap.min.css set `[hidden] { display: none !important; }`\n",
       "     so we also need the `!important` here to be able to override the\n",
       "     default hidden behavior on the sphinx rendered scikit-learn.org.\n",
       "     See: https://github.com/scikit-learn/scikit-learn/issues/21755 */\n",
       "  display: inline-block !important;\n",
       "  position: relative;\n",
       "}\n",
       "\n",
       "#sk-container-id-2 div.sk-text-repr-fallback {\n",
       "  display: none;\n",
       "}\n",
       "\n",
       "div.sk-parallel-item,\n",
       "div.sk-serial,\n",
       "div.sk-item {\n",
       "  /* draw centered vertical line to link estimators */\n",
       "  background-image: linear-gradient(var(--sklearn-color-text-on-default-background), var(--sklearn-color-text-on-default-background));\n",
       "  background-size: 2px 100%;\n",
       "  background-repeat: no-repeat;\n",
       "  background-position: center center;\n",
       "}\n",
       "\n",
       "/* Parallel-specific style estimator block */\n",
       "\n",
       "#sk-container-id-2 div.sk-parallel-item::after {\n",
       "  content: \"\";\n",
       "  width: 100%;\n",
       "  border-bottom: 2px solid var(--sklearn-color-text-on-default-background);\n",
       "  flex-grow: 1;\n",
       "}\n",
       "\n",
       "#sk-container-id-2 div.sk-parallel {\n",
       "  display: flex;\n",
       "  align-items: stretch;\n",
       "  justify-content: center;\n",
       "  background-color: var(--sklearn-color-background);\n",
       "  position: relative;\n",
       "}\n",
       "\n",
       "#sk-container-id-2 div.sk-parallel-item {\n",
       "  display: flex;\n",
       "  flex-direction: column;\n",
       "}\n",
       "\n",
       "#sk-container-id-2 div.sk-parallel-item:first-child::after {\n",
       "  align-self: flex-end;\n",
       "  width: 50%;\n",
       "}\n",
       "\n",
       "#sk-container-id-2 div.sk-parallel-item:last-child::after {\n",
       "  align-self: flex-start;\n",
       "  width: 50%;\n",
       "}\n",
       "\n",
       "#sk-container-id-2 div.sk-parallel-item:only-child::after {\n",
       "  width: 0;\n",
       "}\n",
       "\n",
       "/* Serial-specific style estimator block */\n",
       "\n",
       "#sk-container-id-2 div.sk-serial {\n",
       "  display: flex;\n",
       "  flex-direction: column;\n",
       "  align-items: center;\n",
       "  background-color: var(--sklearn-color-background);\n",
       "  padding-right: 1em;\n",
       "  padding-left: 1em;\n",
       "}\n",
       "\n",
       "\n",
       "/* Toggleable style: style used for estimator/Pipeline/ColumnTransformer box that is\n",
       "clickable and can be expanded/collapsed.\n",
       "- Pipeline and ColumnTransformer use this feature and define the default style\n",
       "- Estimators will overwrite some part of the style using the `sk-estimator` class\n",
       "*/\n",
       "\n",
       "/* Pipeline and ColumnTransformer style (default) */\n",
       "\n",
       "#sk-container-id-2 div.sk-toggleable {\n",
       "  /* Default theme specific background. It is overwritten whether we have a\n",
       "  specific estimator or a Pipeline/ColumnTransformer */\n",
       "  background-color: var(--sklearn-color-background);\n",
       "}\n",
       "\n",
       "/* Toggleable label */\n",
       "#sk-container-id-2 label.sk-toggleable__label {\n",
       "  cursor: pointer;\n",
       "  display: block;\n",
       "  width: 100%;\n",
       "  margin-bottom: 0;\n",
       "  padding: 0.5em;\n",
       "  box-sizing: border-box;\n",
       "  text-align: center;\n",
       "}\n",
       "\n",
       "#sk-container-id-2 label.sk-toggleable__label-arrow:before {\n",
       "  /* Arrow on the left of the label */\n",
       "  content: \"▸\";\n",
       "  float: left;\n",
       "  margin-right: 0.25em;\n",
       "  color: var(--sklearn-color-icon);\n",
       "}\n",
       "\n",
       "#sk-container-id-2 label.sk-toggleable__label-arrow:hover:before {\n",
       "  color: var(--sklearn-color-text);\n",
       "}\n",
       "\n",
       "/* Toggleable content - dropdown */\n",
       "\n",
       "#sk-container-id-2 div.sk-toggleable__content {\n",
       "  max-height: 0;\n",
       "  max-width: 0;\n",
       "  overflow: hidden;\n",
       "  text-align: left;\n",
       "  /* unfitted */\n",
       "  background-color: var(--sklearn-color-unfitted-level-0);\n",
       "}\n",
       "\n",
       "#sk-container-id-2 div.sk-toggleable__content.fitted {\n",
       "  /* fitted */\n",
       "  background-color: var(--sklearn-color-fitted-level-0);\n",
       "}\n",
       "\n",
       "#sk-container-id-2 div.sk-toggleable__content pre {\n",
       "  margin: 0.2em;\n",
       "  border-radius: 0.25em;\n",
       "  color: var(--sklearn-color-text);\n",
       "  /* unfitted */\n",
       "  background-color: var(--sklearn-color-unfitted-level-0);\n",
       "}\n",
       "\n",
       "#sk-container-id-2 div.sk-toggleable__content.fitted pre {\n",
       "  /* unfitted */\n",
       "  background-color: var(--sklearn-color-fitted-level-0);\n",
       "}\n",
       "\n",
       "#sk-container-id-2 input.sk-toggleable__control:checked~div.sk-toggleable__content {\n",
       "  /* Expand drop-down */\n",
       "  max-height: 200px;\n",
       "  max-width: 100%;\n",
       "  overflow: auto;\n",
       "}\n",
       "\n",
       "#sk-container-id-2 input.sk-toggleable__control:checked~label.sk-toggleable__label-arrow:before {\n",
       "  content: \"▾\";\n",
       "}\n",
       "\n",
       "/* Pipeline/ColumnTransformer-specific style */\n",
       "\n",
       "#sk-container-id-2 div.sk-label input.sk-toggleable__control:checked~label.sk-toggleable__label {\n",
       "  color: var(--sklearn-color-text);\n",
       "  background-color: var(--sklearn-color-unfitted-level-2);\n",
       "}\n",
       "\n",
       "#sk-container-id-2 div.sk-label.fitted input.sk-toggleable__control:checked~label.sk-toggleable__label {\n",
       "  background-color: var(--sklearn-color-fitted-level-2);\n",
       "}\n",
       "\n",
       "/* Estimator-specific style */\n",
       "\n",
       "/* Colorize estimator box */\n",
       "#sk-container-id-2 div.sk-estimator input.sk-toggleable__control:checked~label.sk-toggleable__label {\n",
       "  /* unfitted */\n",
       "  background-color: var(--sklearn-color-unfitted-level-2);\n",
       "}\n",
       "\n",
       "#sk-container-id-2 div.sk-estimator.fitted input.sk-toggleable__control:checked~label.sk-toggleable__label {\n",
       "  /* fitted */\n",
       "  background-color: var(--sklearn-color-fitted-level-2);\n",
       "}\n",
       "\n",
       "#sk-container-id-2 div.sk-label label.sk-toggleable__label,\n",
       "#sk-container-id-2 div.sk-label label {\n",
       "  /* The background is the default theme color */\n",
       "  color: var(--sklearn-color-text-on-default-background);\n",
       "}\n",
       "\n",
       "/* On hover, darken the color of the background */\n",
       "#sk-container-id-2 div.sk-label:hover label.sk-toggleable__label {\n",
       "  color: var(--sklearn-color-text);\n",
       "  background-color: var(--sklearn-color-unfitted-level-2);\n",
       "}\n",
       "\n",
       "/* Label box, darken color on hover, fitted */\n",
       "#sk-container-id-2 div.sk-label.fitted:hover label.sk-toggleable__label.fitted {\n",
       "  color: var(--sklearn-color-text);\n",
       "  background-color: var(--sklearn-color-fitted-level-2);\n",
       "}\n",
       "\n",
       "/* Estimator label */\n",
       "\n",
       "#sk-container-id-2 div.sk-label label {\n",
       "  font-family: monospace;\n",
       "  font-weight: bold;\n",
       "  display: inline-block;\n",
       "  line-height: 1.2em;\n",
       "}\n",
       "\n",
       "#sk-container-id-2 div.sk-label-container {\n",
       "  text-align: center;\n",
       "}\n",
       "\n",
       "/* Estimator-specific */\n",
       "#sk-container-id-2 div.sk-estimator {\n",
       "  font-family: monospace;\n",
       "  border: 1px dotted var(--sklearn-color-border-box);\n",
       "  border-radius: 0.25em;\n",
       "  box-sizing: border-box;\n",
       "  margin-bottom: 0.5em;\n",
       "  /* unfitted */\n",
       "  background-color: var(--sklearn-color-unfitted-level-0);\n",
       "}\n",
       "\n",
       "#sk-container-id-2 div.sk-estimator.fitted {\n",
       "  /* fitted */\n",
       "  background-color: var(--sklearn-color-fitted-level-0);\n",
       "}\n",
       "\n",
       "/* on hover */\n",
       "#sk-container-id-2 div.sk-estimator:hover {\n",
       "  /* unfitted */\n",
       "  background-color: var(--sklearn-color-unfitted-level-2);\n",
       "}\n",
       "\n",
       "#sk-container-id-2 div.sk-estimator.fitted:hover {\n",
       "  /* fitted */\n",
       "  background-color: var(--sklearn-color-fitted-level-2);\n",
       "}\n",
       "\n",
       "/* Specification for estimator info (e.g. \"i\" and \"?\") */\n",
       "\n",
       "/* Common style for \"i\" and \"?\" */\n",
       "\n",
       ".sk-estimator-doc-link,\n",
       "a:link.sk-estimator-doc-link,\n",
       "a:visited.sk-estimator-doc-link {\n",
       "  float: right;\n",
       "  font-size: smaller;\n",
       "  line-height: 1em;\n",
       "  font-family: monospace;\n",
       "  background-color: var(--sklearn-color-background);\n",
       "  border-radius: 1em;\n",
       "  height: 1em;\n",
       "  width: 1em;\n",
       "  text-decoration: none !important;\n",
       "  margin-left: 1ex;\n",
       "  /* unfitted */\n",
       "  border: var(--sklearn-color-unfitted-level-1) 1pt solid;\n",
       "  color: var(--sklearn-color-unfitted-level-1);\n",
       "}\n",
       "\n",
       ".sk-estimator-doc-link.fitted,\n",
       "a:link.sk-estimator-doc-link.fitted,\n",
       "a:visited.sk-estimator-doc-link.fitted {\n",
       "  /* fitted */\n",
       "  border: var(--sklearn-color-fitted-level-1) 1pt solid;\n",
       "  color: var(--sklearn-color-fitted-level-1);\n",
       "}\n",
       "\n",
       "/* On hover */\n",
       "div.sk-estimator:hover .sk-estimator-doc-link:hover,\n",
       ".sk-estimator-doc-link:hover,\n",
       "div.sk-label-container:hover .sk-estimator-doc-link:hover,\n",
       ".sk-estimator-doc-link:hover {\n",
       "  /* unfitted */\n",
       "  background-color: var(--sklearn-color-unfitted-level-3);\n",
       "  color: var(--sklearn-color-background);\n",
       "  text-decoration: none;\n",
       "}\n",
       "\n",
       "div.sk-estimator.fitted:hover .sk-estimator-doc-link.fitted:hover,\n",
       ".sk-estimator-doc-link.fitted:hover,\n",
       "div.sk-label-container:hover .sk-estimator-doc-link.fitted:hover,\n",
       ".sk-estimator-doc-link.fitted:hover {\n",
       "  /* fitted */\n",
       "  background-color: var(--sklearn-color-fitted-level-3);\n",
       "  color: var(--sklearn-color-background);\n",
       "  text-decoration: none;\n",
       "}\n",
       "\n",
       "/* Span, style for the box shown on hovering the info icon */\n",
       ".sk-estimator-doc-link span {\n",
       "  display: none;\n",
       "  z-index: 9999;\n",
       "  position: relative;\n",
       "  font-weight: normal;\n",
       "  right: .2ex;\n",
       "  padding: .5ex;\n",
       "  margin: .5ex;\n",
       "  width: min-content;\n",
       "  min-width: 20ex;\n",
       "  max-width: 50ex;\n",
       "  color: var(--sklearn-color-text);\n",
       "  box-shadow: 2pt 2pt 4pt #999;\n",
       "  /* unfitted */\n",
       "  background: var(--sklearn-color-unfitted-level-0);\n",
       "  border: .5pt solid var(--sklearn-color-unfitted-level-3);\n",
       "}\n",
       "\n",
       ".sk-estimator-doc-link.fitted span {\n",
       "  /* fitted */\n",
       "  background: var(--sklearn-color-fitted-level-0);\n",
       "  border: var(--sklearn-color-fitted-level-3);\n",
       "}\n",
       "\n",
       ".sk-estimator-doc-link:hover span {\n",
       "  display: block;\n",
       "}\n",
       "\n",
       "/* \"?\"-specific style due to the `<a>` HTML tag */\n",
       "\n",
       "#sk-container-id-2 a.estimator_doc_link {\n",
       "  float: right;\n",
       "  font-size: 1rem;\n",
       "  line-height: 1em;\n",
       "  font-family: monospace;\n",
       "  background-color: var(--sklearn-color-background);\n",
       "  border-radius: 1rem;\n",
       "  height: 1rem;\n",
       "  width: 1rem;\n",
       "  text-decoration: none;\n",
       "  /* unfitted */\n",
       "  color: var(--sklearn-color-unfitted-level-1);\n",
       "  border: var(--sklearn-color-unfitted-level-1) 1pt solid;\n",
       "}\n",
       "\n",
       "#sk-container-id-2 a.estimator_doc_link.fitted {\n",
       "  /* fitted */\n",
       "  border: var(--sklearn-color-fitted-level-1) 1pt solid;\n",
       "  color: var(--sklearn-color-fitted-level-1);\n",
       "}\n",
       "\n",
       "/* On hover */\n",
       "#sk-container-id-2 a.estimator_doc_link:hover {\n",
       "  /* unfitted */\n",
       "  background-color: var(--sklearn-color-unfitted-level-3);\n",
       "  color: var(--sklearn-color-background);\n",
       "  text-decoration: none;\n",
       "}\n",
       "\n",
       "#sk-container-id-2 a.estimator_doc_link.fitted:hover {\n",
       "  /* fitted */\n",
       "  background-color: var(--sklearn-color-fitted-level-3);\n",
       "}\n",
       "</style><div id=\"sk-container-id-2\" class=\"sk-top-container\"><div class=\"sk-text-repr-fallback\"><pre>RandomizedSearchCV(cv=3,\n",
       "                   estimator=Pipeline(steps=[(&#x27;preprocessor&#x27;,\n",
       "                                              ColumnTransformer(transformers=[(&#x27;num&#x27;,\n",
       "                                                                               StandardScaler(),\n",
       "                                                                               [&#x27;power&#x27;,\n",
       "                                                                                &#x27;kilometer&#x27;,\n",
       "                                                                                &#x27;registration_year&#x27;]),\n",
       "                                                                              (&#x27;cat&#x27;,\n",
       "                                                                               OneHotEncoder(drop=&#x27;first&#x27;,\n",
       "                                                                                             handle_unknown=&#x27;ignore&#x27;,\n",
       "                                                                                             sparse_output=False),\n",
       "                                                                               [&#x27;vehicle_type&#x27;,\n",
       "                                                                                &#x27;gearbox&#x27;,\n",
       "                                                                                &#x27;model&#x27;,\n",
       "                                                                                &#x27;fuel_type&#x27;,\n",
       "                                                                                &#x27;brand&#x27;,\n",
       "                                                                                &#x27;repaired&#x27;])])),\n",
       "                                             (&#x27;model&#x27;, Ridge())]),\n",
       "                   n_iter=12, n_jobs=-1,\n",
       "                   param_distributions={&#x27;model__alpha&#x27;: array([1.e-02, 1.e-01, 1.e+00, 1.e+01, 1.e+02, 1.e+03]),\n",
       "                                        &#x27;model__solver&#x27;: [&#x27;auto&#x27;, &#x27;lsqr&#x27;]},\n",
       "                   random_state=42, scoring=&#x27;neg_root_mean_squared_error&#x27;,\n",
       "                   verbose=2)</pre><b>In a Jupyter environment, please rerun this cell to show the HTML representation or trust the notebook. <br />On GitHub, the HTML representation is unable to render, please try loading this page with nbviewer.org.</b></div><div class=\"sk-container\" hidden><div class=\"sk-item sk-dashed-wrapped\"><div class=\"sk-label-container\"><div class=\"sk-label fitted sk-toggleable\"><input class=\"sk-toggleable__control sk-hidden--visually\" id=\"sk-estimator-id-4\" type=\"checkbox\" ><label for=\"sk-estimator-id-4\" class=\"sk-toggleable__label fitted sk-toggleable__label-arrow fitted\">&nbsp;&nbsp;RandomizedSearchCV<a class=\"sk-estimator-doc-link fitted\" rel=\"noreferrer\" target=\"_blank\" href=\"https://scikit-learn.org/1.5/modules/generated/sklearn.model_selection.RandomizedSearchCV.html\">?<span>Documentation for RandomizedSearchCV</span></a><span class=\"sk-estimator-doc-link fitted\">i<span>Fitted</span></span></label><div class=\"sk-toggleable__content fitted\"><pre>RandomizedSearchCV(cv=3,\n",
       "                   estimator=Pipeline(steps=[(&#x27;preprocessor&#x27;,\n",
       "                                              ColumnTransformer(transformers=[(&#x27;num&#x27;,\n",
       "                                                                               StandardScaler(),\n",
       "                                                                               [&#x27;power&#x27;,\n",
       "                                                                                &#x27;kilometer&#x27;,\n",
       "                                                                                &#x27;registration_year&#x27;]),\n",
       "                                                                              (&#x27;cat&#x27;,\n",
       "                                                                               OneHotEncoder(drop=&#x27;first&#x27;,\n",
       "                                                                                             handle_unknown=&#x27;ignore&#x27;,\n",
       "                                                                                             sparse_output=False),\n",
       "                                                                               [&#x27;vehicle_type&#x27;,\n",
       "                                                                                &#x27;gearbox&#x27;,\n",
       "                                                                                &#x27;model&#x27;,\n",
       "                                                                                &#x27;fuel_type&#x27;,\n",
       "                                                                                &#x27;brand&#x27;,\n",
       "                                                                                &#x27;repaired&#x27;])])),\n",
       "                                             (&#x27;model&#x27;, Ridge())]),\n",
       "                   n_iter=12, n_jobs=-1,\n",
       "                   param_distributions={&#x27;model__alpha&#x27;: array([1.e-02, 1.e-01, 1.e+00, 1.e+01, 1.e+02, 1.e+03]),\n",
       "                                        &#x27;model__solver&#x27;: [&#x27;auto&#x27;, &#x27;lsqr&#x27;]},\n",
       "                   random_state=42, scoring=&#x27;neg_root_mean_squared_error&#x27;,\n",
       "                   verbose=2)</pre></div> </div></div><div class=\"sk-parallel\"><div class=\"sk-parallel-item\"><div class=\"sk-item\"><div class=\"sk-label-container\"><div class=\"sk-label fitted sk-toggleable\"><input class=\"sk-toggleable__control sk-hidden--visually\" id=\"sk-estimator-id-5\" type=\"checkbox\" ><label for=\"sk-estimator-id-5\" class=\"sk-toggleable__label fitted sk-toggleable__label-arrow fitted\">best_estimator_: Pipeline</label><div class=\"sk-toggleable__content fitted\"><pre>Pipeline(steps=[(&#x27;preprocessor&#x27;,\n",
       "                 ColumnTransformer(transformers=[(&#x27;num&#x27;, StandardScaler(),\n",
       "                                                  [&#x27;power&#x27;, &#x27;kilometer&#x27;,\n",
       "                                                   &#x27;registration_year&#x27;]),\n",
       "                                                 (&#x27;cat&#x27;,\n",
       "                                                  OneHotEncoder(drop=&#x27;first&#x27;,\n",
       "                                                                handle_unknown=&#x27;ignore&#x27;,\n",
       "                                                                sparse_output=False),\n",
       "                                                  [&#x27;vehicle_type&#x27;, &#x27;gearbox&#x27;,\n",
       "                                                   &#x27;model&#x27;, &#x27;fuel_type&#x27;,\n",
       "                                                   &#x27;brand&#x27;, &#x27;repaired&#x27;])])),\n",
       "                (&#x27;model&#x27;, Ridge())])</pre></div> </div></div><div class=\"sk-serial\"><div class=\"sk-item\"><div class=\"sk-serial\"><div class=\"sk-item sk-dashed-wrapped\"><div class=\"sk-label-container\"><div class=\"sk-label fitted sk-toggleable\"><input class=\"sk-toggleable__control sk-hidden--visually\" id=\"sk-estimator-id-6\" type=\"checkbox\" ><label for=\"sk-estimator-id-6\" class=\"sk-toggleable__label fitted sk-toggleable__label-arrow fitted\">&nbsp;preprocessor: ColumnTransformer<a class=\"sk-estimator-doc-link fitted\" rel=\"noreferrer\" target=\"_blank\" href=\"https://scikit-learn.org/1.5/modules/generated/sklearn.compose.ColumnTransformer.html\">?<span>Documentation for preprocessor: ColumnTransformer</span></a></label><div class=\"sk-toggleable__content fitted\"><pre>ColumnTransformer(transformers=[(&#x27;num&#x27;, StandardScaler(),\n",
       "                                 [&#x27;power&#x27;, &#x27;kilometer&#x27;, &#x27;registration_year&#x27;]),\n",
       "                                (&#x27;cat&#x27;,\n",
       "                                 OneHotEncoder(drop=&#x27;first&#x27;,\n",
       "                                               handle_unknown=&#x27;ignore&#x27;,\n",
       "                                               sparse_output=False),\n",
       "                                 [&#x27;vehicle_type&#x27;, &#x27;gearbox&#x27;, &#x27;model&#x27;,\n",
       "                                  &#x27;fuel_type&#x27;, &#x27;brand&#x27;, &#x27;repaired&#x27;])])</pre></div> </div></div><div class=\"sk-parallel\"><div class=\"sk-parallel-item\"><div class=\"sk-item\"><div class=\"sk-label-container\"><div class=\"sk-label fitted sk-toggleable\"><input class=\"sk-toggleable__control sk-hidden--visually\" id=\"sk-estimator-id-7\" type=\"checkbox\" ><label for=\"sk-estimator-id-7\" class=\"sk-toggleable__label fitted sk-toggleable__label-arrow fitted\">num</label><div class=\"sk-toggleable__content fitted\"><pre>[&#x27;power&#x27;, &#x27;kilometer&#x27;, &#x27;registration_year&#x27;]</pre></div> </div></div><div class=\"sk-serial\"><div class=\"sk-item\"><div class=\"sk-estimator fitted sk-toggleable\"><input class=\"sk-toggleable__control sk-hidden--visually\" id=\"sk-estimator-id-8\" type=\"checkbox\" ><label for=\"sk-estimator-id-8\" class=\"sk-toggleable__label fitted sk-toggleable__label-arrow fitted\">&nbsp;StandardScaler<a class=\"sk-estimator-doc-link fitted\" rel=\"noreferrer\" target=\"_blank\" href=\"https://scikit-learn.org/1.5/modules/generated/sklearn.preprocessing.StandardScaler.html\">?<span>Documentation for StandardScaler</span></a></label><div class=\"sk-toggleable__content fitted\"><pre>StandardScaler()</pre></div> </div></div></div></div></div><div class=\"sk-parallel-item\"><div class=\"sk-item\"><div class=\"sk-label-container\"><div class=\"sk-label fitted sk-toggleable\"><input class=\"sk-toggleable__control sk-hidden--visually\" id=\"sk-estimator-id-9\" type=\"checkbox\" ><label for=\"sk-estimator-id-9\" class=\"sk-toggleable__label fitted sk-toggleable__label-arrow fitted\">cat</label><div class=\"sk-toggleable__content fitted\"><pre>[&#x27;vehicle_type&#x27;, &#x27;gearbox&#x27;, &#x27;model&#x27;, &#x27;fuel_type&#x27;, &#x27;brand&#x27;, &#x27;repaired&#x27;]</pre></div> </div></div><div class=\"sk-serial\"><div class=\"sk-item\"><div class=\"sk-estimator fitted sk-toggleable\"><input class=\"sk-toggleable__control sk-hidden--visually\" id=\"sk-estimator-id-10\" type=\"checkbox\" ><label for=\"sk-estimator-id-10\" class=\"sk-toggleable__label fitted sk-toggleable__label-arrow fitted\">&nbsp;OneHotEncoder<a class=\"sk-estimator-doc-link fitted\" rel=\"noreferrer\" target=\"_blank\" href=\"https://scikit-learn.org/1.5/modules/generated/sklearn.preprocessing.OneHotEncoder.html\">?<span>Documentation for OneHotEncoder</span></a></label><div class=\"sk-toggleable__content fitted\"><pre>OneHotEncoder(drop=&#x27;first&#x27;, handle_unknown=&#x27;ignore&#x27;, sparse_output=False)</pre></div> </div></div></div></div></div></div></div><div class=\"sk-item\"><div class=\"sk-estimator fitted sk-toggleable\"><input class=\"sk-toggleable__control sk-hidden--visually\" id=\"sk-estimator-id-11\" type=\"checkbox\" ><label for=\"sk-estimator-id-11\" class=\"sk-toggleable__label fitted sk-toggleable__label-arrow fitted\">&nbsp;Ridge<a class=\"sk-estimator-doc-link fitted\" rel=\"noreferrer\" target=\"_blank\" href=\"https://scikit-learn.org/1.5/modules/generated/sklearn.linear_model.Ridge.html\">?<span>Documentation for Ridge</span></a></label><div class=\"sk-toggleable__content fitted\"><pre>Ridge()</pre></div> </div></div></div></div></div></div></div></div></div></div></div>"
      ],
      "text/plain": [
       "RandomizedSearchCV(cv=3,\n",
       "                   estimator=Pipeline(steps=[('preprocessor',\n",
       "                                              ColumnTransformer(transformers=[('num',\n",
       "                                                                               StandardScaler(),\n",
       "                                                                               ['power',\n",
       "                                                                                'kilometer',\n",
       "                                                                                'registration_year']),\n",
       "                                                                              ('cat',\n",
       "                                                                               OneHotEncoder(drop='first',\n",
       "                                                                                             handle_unknown='ignore',\n",
       "                                                                                             sparse_output=False),\n",
       "                                                                               ['vehicle_type',\n",
       "                                                                                'gearbox',\n",
       "                                                                                'model',\n",
       "                                                                                'fuel_type',\n",
       "                                                                                'brand',\n",
       "                                                                                'repaired'])])),\n",
       "                                             ('model', Ridge())]),\n",
       "                   n_iter=12, n_jobs=-1,\n",
       "                   param_distributions={'model__alpha': array([1.e-02, 1.e-01, 1.e+00, 1.e+01, 1.e+02, 1.e+03]),\n",
       "                                        'model__solver': ['auto', 'lsqr']},\n",
       "                   random_state=42, scoring='neg_root_mean_squared_error',\n",
       "                   verbose=2)"
      ]
     },
     "execution_count": 164,
     "metadata": {},
     "output_type": "execute_result"
    }
   ],
   "source": [
    "# Обучаем модель\n",
    "ridge_search.fit(X_train, y_train)"
   ]
  },
  {
   "cell_type": "code",
   "execution_count": 165,
   "id": "f0f11d95-666b-4772-9a22-241b13d083c7",
   "metadata": {},
   "outputs": [],
   "source": [
    "ridge_model = ridge_search.best_estimator_"
   ]
  },
  {
   "cell_type": "code",
   "execution_count": 166,
   "id": "0ef0fb3a",
   "metadata": {},
   "outputs": [
    {
     "name": "stdout",
     "output_type": "stream",
     "text": [
      "Лучшие параметры: {'model__solver': 'auto', 'model__alpha': 1.0}\n",
      "Лучшее значение RMSE: 2409.884194177354\n",
      "Время обучения: 0.6858580112457275\n",
      "Среднее время обучения за итерацию: 5.70903664165073\n",
      "Среднее время предсказания: 0.3099181320932176\n"
     ]
    }
   ],
   "source": [
    "print(\"Лучшие параметры:\", ridge_search.best_params_)\n",
    "print(\"Лучшее значение RMSE:\", -ridge_search.best_score_)\n",
    "print(\"Время обучения:\", ridge_search.refit_time_)\n",
    "print(\"Среднее время обучения за итерацию:\", ridge_search.cv_results_['mean_fit_time'].mean())\n",
    "print(\"Среднее время предсказания:\", ridge_search.cv_results_['mean_score_time'].mean())"
   ]
  },
  {
   "cell_type": "markdown",
   "id": "42272ffa-c83f-4a52-9019-a136ef335627",
   "metadata": {},
   "source": [
    "____ \n",
    "Обучили модели LightGBM и Ridge. По условиям задачи, значение метрики RMSE должно быть меньше 2500. Лучшее значение RMSE 1447.08 у LightGBM. Поэтому выбираем ее для тестирования на реальных данных\n",
    "____"
   ]
  },
  {
   "cell_type": "markdown",
   "id": "05700674-b88d-4660-823e-16babd211a63",
   "metadata": {},
   "source": [
    "<a id='step6'></a>"
   ]
  },
  {
   "cell_type": "markdown",
   "id": "786904b0-3ce6-49b2-8661-0f15b54ea4bc",
   "metadata": {},
   "source": [
    "## Анализ результатов"
   ]
  },
  {
   "cell_type": "code",
   "execution_count": 171,
   "id": "ecd496a5-c13e-4566-bcfd-5885f6296669",
   "metadata": {},
   "outputs": [],
   "source": [
    "predictions_lgb = lgb_model.predict(X_test_lgbm)"
   ]
  },
  {
   "cell_type": "code",
   "execution_count": 173,
   "id": "2043115d-678f-4103-87b7-b55b17fe3abf",
   "metadata": {},
   "outputs": [
    {
     "name": "stdout",
     "output_type": "stream",
     "text": [
      "Время обучения: 0.6580030918121338\n",
      "Среднее время предсказания: 0.10413347880045572\n",
      "RMSE для LightGBM модели: 1453.6115949885702\n"
     ]
    }
   ],
   "source": [
    "rmse_lgb = np.sqrt(mean_squared_error(y_test_lgbm, predictions_lgb))\n",
    "print(\"Время обучения:\", lgb_search.refit_time_)\n",
    "print(\"Среднее время предсказания:\", lgb_search.cv_results_['mean_score_time'].mean())\n",
    "print(f'RMSE для LightGBM модели: {rmse_lgb}')"
   ]
  },
  {
   "cell_type": "markdown",
   "id": "64b3dc18-4b8c-4aec-a10f-315efb451747",
   "metadata": {},
   "source": [
    "____\n",
    "Значение RMSE для LightGBM  модели  на тестовой выборке: 1453.61. Что полностью удовлетворяет условию нашей задачи"
   ]
  },
  {
   "cell_type": "markdown",
   "id": "2a2ddc0a-ff5c-4a60-874a-9f5c15e95f1e",
   "metadata": {},
   "source": [
    "_____"
   ]
  },
  {
   "cell_type": "markdown",
   "id": "937f5740-7c06-4afc-a687-7a2d4385a2b5",
   "metadata": {},
   "source": [
    "<a id='step7'></a>"
   ]
  },
  {
   "cell_type": "markdown",
   "id": "54242736-1ab1-4fc9-8600-2741fba9d343",
   "metadata": {},
   "source": [
    "## Выводы"
   ]
  },
  {
   "cell_type": "markdown",
   "id": "0655326d-9fc8-4dd6-b916-c4ce48caf9e3",
   "metadata": {},
   "source": [
    "После выполнения обучения и оценки обеих моделей, можно сделать следующие выводы:\n",
    "\n",
    "- Качество модели: LGBM показало лучшее качество (меньший RMSE) по сравнению с Ridge.\n",
    "\n",
    "- Время обучения и предсказания: Примерно равны у обоих моделей.\n",
    "\n",
    "На основе этих результатов можно сделать выводы о том, что модель LGBM лучше подходит для нашей задачи, потому что показала лучшее качество. Ее мы и будем рекомендовать сервису по продаже автомобилей с пробегом «Не бит, не крашен»"
   ]
  },
  {
   "cell_type": "code",
   "execution_count": null,
   "id": "a8cf41fd",
   "metadata": {},
   "outputs": [],
   "source": []
  }
 ],
 "metadata": {
  "ExecuteTimeLog": [
   {
    "duration": 2880,
    "start_time": "2024-11-23T06:32:46.405Z"
   },
   {
    "duration": 1709,
    "start_time": "2024-11-23T06:32:49.287Z"
   },
   {
    "duration": 10,
    "start_time": "2024-11-23T06:32:59.965Z"
   },
   {
    "duration": 26,
    "start_time": "2024-11-23T06:33:13.250Z"
   },
   {
    "duration": 1321,
    "start_time": "2024-11-23T06:33:16.165Z"
   },
   {
    "duration": 16,
    "start_time": "2024-11-23T06:33:21.842Z"
   },
   {
    "duration": 124,
    "start_time": "2024-11-23T06:33:23.738Z"
   },
   {
    "duration": 4,
    "start_time": "2024-11-23T06:34:26.130Z"
   },
   {
    "duration": 3,
    "start_time": "2024-11-23T06:34:48.154Z"
   },
   {
    "duration": 14,
    "start_time": "2024-11-23T06:34:49.655Z"
   },
   {
    "duration": 121,
    "start_time": "2024-11-23T06:35:06.856Z"
   },
   {
    "duration": 23,
    "start_time": "2024-11-23T06:35:18.904Z"
   },
   {
    "duration": 122,
    "start_time": "2024-11-23T06:35:27.594Z"
   },
   {
    "duration": 22,
    "start_time": "2024-11-23T06:35:35.293Z"
   },
   {
    "duration": 26,
    "start_time": "2024-11-23T06:35:41.300Z"
   },
   {
    "duration": 24,
    "start_time": "2024-11-23T06:36:04.150Z"
   },
   {
    "duration": 23,
    "start_time": "2024-11-23T06:38:42.492Z"
   },
   {
    "duration": 29,
    "start_time": "2024-11-23T06:38:44.069Z"
   },
   {
    "duration": 29,
    "start_time": "2024-11-23T06:38:59.594Z"
   },
   {
    "duration": 23,
    "start_time": "2024-11-23T06:39:02.841Z"
   },
   {
    "duration": 381,
    "start_time": "2024-11-23T06:39:05.536Z"
   },
   {
    "duration": 434,
    "start_time": "2024-11-23T06:39:06.627Z"
   },
   {
    "duration": 121,
    "start_time": "2024-11-23T06:39:16.075Z"
   },
   {
    "duration": 83,
    "start_time": "2024-11-23T06:39:40.447Z"
   },
   {
    "duration": 3166,
    "start_time": "2024-11-23T06:39:52.024Z"
   },
   {
    "duration": 11,
    "start_time": "2024-11-23T06:40:03.681Z"
   },
   {
    "duration": 1876,
    "start_time": "2024-11-23T06:42:21.372Z"
   },
   {
    "duration": 1302,
    "start_time": "2024-11-23T06:42:43.378Z"
   },
   {
    "duration": 686,
    "start_time": "2024-11-23T06:42:55.612Z"
   },
   {
    "duration": 786,
    "start_time": "2024-11-23T06:43:16.156Z"
   },
   {
    "duration": 674,
    "start_time": "2024-11-23T06:43:35.948Z"
   },
   {
    "duration": 14,
    "start_time": "2024-11-23T06:44:41.859Z"
   },
   {
    "duration": 798,
    "start_time": "2024-11-23T06:45:04.492Z"
   },
   {
    "duration": 859,
    "start_time": "2024-11-23T06:45:45.195Z"
   },
   {
    "duration": 892,
    "start_time": "2024-11-23T06:46:37.099Z"
   },
   {
    "duration": 830,
    "start_time": "2024-11-23T06:46:48.458Z"
   },
   {
    "duration": 686,
    "start_time": "2024-11-23T06:47:10.531Z"
   },
   {
    "duration": 730,
    "start_time": "2024-11-23T06:47:31.393Z"
   },
   {
    "duration": 727,
    "start_time": "2024-11-23T06:47:56.718Z"
   },
   {
    "duration": 887,
    "start_time": "2024-11-23T06:47:59.726Z"
   },
   {
    "duration": 847,
    "start_time": "2024-11-23T06:48:16.156Z"
   },
   {
    "duration": 811,
    "start_time": "2024-11-23T06:48:54.449Z"
   },
   {
    "duration": 685,
    "start_time": "2024-11-23T06:49:06.023Z"
   },
   {
    "duration": 701,
    "start_time": "2024-11-23T06:49:10.584Z"
   },
   {
    "duration": 672,
    "start_time": "2024-11-23T06:49:22.446Z"
   },
   {
    "duration": 2479,
    "start_time": "2024-11-23T06:49:46.234Z"
   },
   {
    "duration": 2512,
    "start_time": "2024-11-23T06:49:48.716Z"
   },
   {
    "duration": 1617,
    "start_time": "2024-11-23T06:49:51.230Z"
   },
   {
    "duration": 1176,
    "start_time": "2024-11-23T06:49:52.848Z"
   },
   {
    "duration": 5,
    "start_time": "2024-11-23T06:49:54.026Z"
   },
   {
    "duration": 36,
    "start_time": "2024-11-23T06:49:54.033Z"
   },
   {
    "duration": 135,
    "start_time": "2024-11-23T06:49:54.071Z"
   },
   {
    "duration": 140,
    "start_time": "2024-11-23T06:49:54.208Z"
   },
   {
    "duration": 25,
    "start_time": "2024-11-23T06:49:54.351Z"
   },
   {
    "duration": 25,
    "start_time": "2024-11-23T06:49:54.378Z"
   },
   {
    "duration": 48,
    "start_time": "2024-11-23T06:49:54.405Z"
   },
   {
    "duration": 26,
    "start_time": "2024-11-23T06:49:54.455Z"
   },
   {
    "duration": 17,
    "start_time": "2024-11-23T06:49:54.483Z"
   },
   {
    "duration": 52,
    "start_time": "2024-11-23T06:49:54.503Z"
   },
   {
    "duration": 34,
    "start_time": "2024-11-23T06:49:54.557Z"
   },
   {
    "duration": 29,
    "start_time": "2024-11-23T06:49:54.593Z"
   },
   {
    "duration": 414,
    "start_time": "2024-11-23T06:49:54.623Z"
   },
   {
    "duration": 439,
    "start_time": "2024-11-23T06:49:55.038Z"
   },
   {
    "duration": 125,
    "start_time": "2024-11-23T06:49:55.478Z"
   },
   {
    "duration": 722,
    "start_time": "2024-11-23T06:49:58.137Z"
   },
   {
    "duration": 24,
    "start_time": "2024-11-23T06:53:59.982Z"
   },
   {
    "duration": 103,
    "start_time": "2024-11-23T07:04:26.978Z"
   },
   {
    "duration": 4,
    "start_time": "2024-11-23T07:04:29.880Z"
   },
   {
    "duration": 1396,
    "start_time": "2024-11-23T07:04:31.542Z"
   },
   {
    "duration": 784,
    "start_time": "2024-11-23T07:04:53.102Z"
   },
   {
    "duration": 5,
    "start_time": "2024-11-23T07:09:26.019Z"
   },
   {
    "duration": 2584,
    "start_time": "2024-11-23T07:09:26.548Z"
   },
   {
    "duration": 15,
    "start_time": "2024-11-23T07:13:54.910Z"
   },
   {
    "duration": 43,
    "start_time": "2024-11-23T07:14:12.976Z"
   },
   {
    "duration": 2827,
    "start_time": "2024-11-23T07:14:21.785Z"
   },
   {
    "duration": 46,
    "start_time": "2024-11-23T07:16:56.989Z"
   },
   {
    "duration": 36,
    "start_time": "2024-11-23T07:17:31.173Z"
   },
   {
    "duration": 46,
    "start_time": "2024-11-23T07:17:56.912Z"
   },
   {
    "duration": 2899,
    "start_time": "2024-11-23T07:18:00.782Z"
   },
   {
    "duration": 37,
    "start_time": "2024-11-23T07:18:27.573Z"
   },
   {
    "duration": 2834,
    "start_time": "2024-11-23T07:18:30.138Z"
   },
   {
    "duration": 3,
    "start_time": "2024-11-23T07:18:52.334Z"
   },
   {
    "duration": 3,
    "start_time": "2024-11-23T07:18:54.338Z"
   },
   {
    "duration": 3,
    "start_time": "2024-11-23T07:19:01.325Z"
   },
   {
    "duration": 3,
    "start_time": "2024-11-23T07:19:01.640Z"
   },
   {
    "duration": 44,
    "start_time": "2024-11-23T07:19:02.274Z"
   },
   {
    "duration": 134,
    "start_time": "2024-11-23T07:19:02.869Z"
   },
   {
    "duration": 2758,
    "start_time": "2024-11-23T07:19:08.958Z"
   },
   {
    "duration": 33,
    "start_time": "2024-11-23T07:19:35.244Z"
   },
   {
    "duration": 29,
    "start_time": "2024-11-23T07:19:40.983Z"
   },
   {
    "duration": 103,
    "start_time": "2024-11-23T07:19:42.601Z"
   },
   {
    "duration": 2833,
    "start_time": "2024-11-23T07:19:49.246Z"
   },
   {
    "duration": 59,
    "start_time": "2024-11-23T07:20:37.048Z"
   },
   {
    "duration": 14,
    "start_time": "2024-11-23T07:20:43.994Z"
   },
   {
    "duration": 107,
    "start_time": "2024-11-23T07:20:50.586Z"
   },
   {
    "duration": 28,
    "start_time": "2024-11-23T07:21:36.772Z"
   },
   {
    "duration": 123,
    "start_time": "2024-11-23T07:24:19.562Z"
   },
   {
    "duration": 3345,
    "start_time": "2024-11-23T07:28:41.857Z"
   },
   {
    "duration": 40,
    "start_time": "2024-11-23T07:29:00.208Z"
   },
   {
    "duration": 17,
    "start_time": "2024-11-23T07:29:38.436Z"
   },
   {
    "duration": 2877,
    "start_time": "2024-11-23T07:30:57.682Z"
   },
   {
    "duration": 2740,
    "start_time": "2024-11-23T07:31:00.562Z"
   },
   {
    "duration": 2678,
    "start_time": "2024-11-23T07:31:03.304Z"
   },
   {
    "duration": 1596,
    "start_time": "2024-11-23T07:31:05.985Z"
   },
   {
    "duration": 1525,
    "start_time": "2024-11-23T07:31:14.720Z"
   },
   {
    "duration": 6,
    "start_time": "2024-11-23T07:31:19.629Z"
   },
   {
    "duration": 18,
    "start_time": "2024-11-23T07:31:21.820Z"
   },
   {
    "duration": 163,
    "start_time": "2024-11-23T07:31:23.957Z"
   },
   {
    "duration": 129,
    "start_time": "2024-11-23T07:31:30.713Z"
   },
   {
    "duration": 24,
    "start_time": "2024-11-23T07:31:33.698Z"
   },
   {
    "duration": 23,
    "start_time": "2024-11-23T07:31:35.639Z"
   },
   {
    "duration": 26,
    "start_time": "2024-11-23T07:31:37.130Z"
   },
   {
    "duration": 24,
    "start_time": "2024-11-23T07:31:39.693Z"
   },
   {
    "duration": 16,
    "start_time": "2024-11-23T07:31:41.849Z"
   },
   {
    "duration": 27,
    "start_time": "2024-11-23T07:31:44.372Z"
   },
   {
    "duration": 24,
    "start_time": "2024-11-23T07:31:45.149Z"
   },
   {
    "duration": 427,
    "start_time": "2024-11-23T07:31:45.727Z"
   },
   {
    "duration": 449,
    "start_time": "2024-11-23T07:31:46.703Z"
   },
   {
    "duration": 117,
    "start_time": "2024-11-23T07:31:50.229Z"
   },
   {
    "duration": 766,
    "start_time": "2024-11-23T07:31:51.652Z"
   },
   {
    "duration": 26,
    "start_time": "2024-11-23T07:31:57.313Z"
   },
   {
    "duration": 33,
    "start_time": "2024-11-23T07:32:01.609Z"
   },
   {
    "duration": 11,
    "start_time": "2024-11-23T07:32:02.783Z"
   },
   {
    "duration": 63,
    "start_time": "2024-11-23T07:32:11.522Z"
   },
   {
    "duration": 6,
    "start_time": "2024-11-23T07:32:12.280Z"
   },
   {
    "duration": 2561,
    "start_time": "2024-11-23T07:32:16.173Z"
   },
   {
    "duration": 32,
    "start_time": "2024-11-23T07:32:24.184Z"
   },
   {
    "duration": 34,
    "start_time": "2024-11-23T07:32:26.277Z"
   },
   {
    "duration": 3,
    "start_time": "2024-11-23T07:32:28.674Z"
   },
   {
    "duration": 4,
    "start_time": "2024-11-23T07:32:30.085Z"
   },
   {
    "duration": 32,
    "start_time": "2024-11-23T07:32:30.920Z"
   },
   {
    "duration": 21,
    "start_time": "2024-11-23T07:32:31.310Z"
   },
   {
    "duration": 86,
    "start_time": "2024-11-23T07:32:34.644Z"
   },
   {
    "duration": 8,
    "start_time": "2024-11-23T07:32:44.906Z"
   },
   {
    "duration": 15,
    "start_time": "2024-11-23T07:32:47.288Z"
   },
   {
    "duration": 0,
    "start_time": "2024-11-23T07:33:25.402Z"
   },
   {
    "duration": 4668,
    "start_time": "2024-11-23T07:33:27.285Z"
   },
   {
    "duration": 1371,
    "start_time": "2024-11-23T07:33:33.643Z"
   },
   {
    "duration": 2534,
    "start_time": "2024-11-23T08:18:12.442Z"
   },
   {
    "duration": 2546,
    "start_time": "2024-11-23T08:18:14.979Z"
   },
   {
    "duration": 2499,
    "start_time": "2024-11-23T08:18:17.526Z"
   },
   {
    "duration": 1536,
    "start_time": "2024-11-23T08:18:20.027Z"
   },
   {
    "duration": 1089,
    "start_time": "2024-11-23T08:18:21.565Z"
   },
   {
    "duration": 4,
    "start_time": "2024-11-23T08:18:22.656Z"
   },
   {
    "duration": 33,
    "start_time": "2024-11-23T08:18:22.661Z"
   },
   {
    "duration": 130,
    "start_time": "2024-11-23T08:18:22.696Z"
   },
   {
    "duration": 138,
    "start_time": "2024-11-23T08:18:22.828Z"
   },
   {
    "duration": 26,
    "start_time": "2024-11-23T08:18:22.968Z"
   },
   {
    "duration": 48,
    "start_time": "2024-11-23T08:18:22.996Z"
   },
   {
    "duration": 27,
    "start_time": "2024-11-23T08:18:23.046Z"
   },
   {
    "duration": 25,
    "start_time": "2024-11-23T08:18:23.075Z"
   },
   {
    "duration": 38,
    "start_time": "2024-11-23T08:18:23.105Z"
   },
   {
    "duration": 8,
    "start_time": "2024-11-23T08:18:23.144Z"
   },
   {
    "duration": 28,
    "start_time": "2024-11-23T08:18:23.153Z"
   },
   {
    "duration": 25,
    "start_time": "2024-11-23T08:18:23.183Z"
   },
   {
    "duration": 421,
    "start_time": "2024-11-23T08:18:23.210Z"
   },
   {
    "duration": 487,
    "start_time": "2024-11-23T08:18:23.633Z"
   },
   {
    "duration": 130,
    "start_time": "2024-11-23T08:18:24.122Z"
   },
   {
    "duration": 760,
    "start_time": "2024-11-23T08:18:24.254Z"
   },
   {
    "duration": 2,
    "start_time": "2024-11-23T08:18:25.016Z"
   },
   {
    "duration": 44,
    "start_time": "2024-11-23T08:18:25.020Z"
   },
   {
    "duration": 29,
    "start_time": "2024-11-23T08:18:25.066Z"
   },
   {
    "duration": 15,
    "start_time": "2024-11-23T08:18:25.097Z"
   },
   {
    "duration": 4,
    "start_time": "2024-11-23T08:18:25.113Z"
   },
   {
    "duration": 20,
    "start_time": "2024-11-23T08:18:25.118Z"
   },
   {
    "duration": 18,
    "start_time": "2024-11-23T08:18:25.140Z"
   },
   {
    "duration": 33,
    "start_time": "2024-11-23T08:18:25.159Z"
   },
   {
    "duration": 26,
    "start_time": "2024-11-23T08:18:25.194Z"
   },
   {
    "duration": 79,
    "start_time": "2024-11-23T08:18:25.222Z"
   },
   {
    "duration": 5,
    "start_time": "2024-11-23T08:18:25.303Z"
   },
   {
    "duration": 2636,
    "start_time": "2024-11-23T08:18:25.309Z"
   },
   {
    "duration": 34,
    "start_time": "2024-11-23T08:18:27.947Z"
   },
   {
    "duration": 33,
    "start_time": "2024-11-23T08:18:27.983Z"
   },
   {
    "duration": 36,
    "start_time": "2024-11-23T08:18:28.018Z"
   },
   {
    "duration": 2,
    "start_time": "2024-11-23T08:18:28.056Z"
   },
   {
    "duration": 4,
    "start_time": "2024-11-23T08:18:28.059Z"
   },
   {
    "duration": 28,
    "start_time": "2024-11-23T08:18:38.275Z"
   },
   {
    "duration": 115,
    "start_time": "2024-11-23T08:18:43.913Z"
   },
   {
    "duration": 9,
    "start_time": "2024-11-23T08:18:54.169Z"
   },
   {
    "duration": 15,
    "start_time": "2024-11-23T08:18:55.042Z"
   },
   {
    "duration": 4738,
    "start_time": "2024-11-23T08:18:58.671Z"
   },
   {
    "duration": 1303,
    "start_time": "2024-11-23T08:19:04.050Z"
   },
   {
    "duration": 5,
    "start_time": "2024-11-23T08:38:24.441Z"
   },
   {
    "duration": 5,
    "start_time": "2024-11-23T08:38:42.052Z"
   },
   {
    "duration": 120,
    "start_time": "2024-11-23T08:40:07.202Z"
   },
   {
    "duration": 58,
    "start_time": "2024-11-23T08:40:18.358Z"
   },
   {
    "duration": 3,
    "start_time": "2024-11-23T08:58:15.299Z"
   },
   {
    "duration": 3,
    "start_time": "2024-11-23T08:58:17.588Z"
   },
   {
    "duration": 82,
    "start_time": "2024-11-23T09:09:59.965Z"
   },
   {
    "duration": 70,
    "start_time": "2024-11-23T09:57:11.594Z"
   },
   {
    "duration": 175,
    "start_time": "2024-11-23T09:58:40.947Z"
   },
   {
    "duration": 2576,
    "start_time": "2024-11-23T09:59:14.526Z"
   },
   {
    "duration": 6,
    "start_time": "2024-11-23T09:59:19.217Z"
   },
   {
    "duration": 10,
    "start_time": "2024-11-23T10:04:03.324Z"
   },
   {
    "duration": 3,
    "start_time": "2024-11-23T10:04:16.989Z"
   },
   {
    "duration": 94,
    "start_time": "2024-11-23T10:04:21.492Z"
   },
   {
    "duration": 27,
    "start_time": "2024-11-23T10:19:35.896Z"
   },
   {
    "duration": 163,
    "start_time": "2024-11-23T10:19:37.576Z"
   },
   {
    "duration": 3,
    "start_time": "2024-11-23T10:20:40.445Z"
   },
   {
    "duration": 27,
    "start_time": "2024-11-23T10:23:54.621Z"
   },
   {
    "duration": 10,
    "start_time": "2024-11-23T10:24:11.195Z"
   },
   {
    "duration": 8945,
    "start_time": "2024-11-23T10:26:23.944Z"
   },
   {
    "duration": 3,
    "start_time": "2024-11-23T10:48:30.292Z"
   },
   {
    "duration": 3,
    "start_time": "2024-11-23T10:58:31.864Z"
   },
   {
    "duration": 5,
    "start_time": "2024-11-23T10:58:32.774Z"
   },
   {
    "duration": 8,
    "start_time": "2024-11-23T10:58:34.049Z"
   },
   {
    "duration": 2,
    "start_time": "2024-11-23T10:58:34.915Z"
   },
   {
    "duration": 2,
    "start_time": "2024-11-23T10:58:35.331Z"
   },
   {
    "duration": 5,
    "start_time": "2024-11-23T10:58:35.809Z"
   },
   {
    "duration": 9,
    "start_time": "2024-11-23T10:58:39.836Z"
   },
   {
    "duration": 2852,
    "start_time": "2024-11-23T11:01:33.700Z"
   },
   {
    "duration": 8,
    "start_time": "2024-11-23T11:01:53.381Z"
   },
   {
    "duration": 2894,
    "start_time": "2024-11-23T11:04:21.723Z"
   },
   {
    "duration": 4,
    "start_time": "2024-11-23T11:04:42.378Z"
   },
   {
    "duration": 4,
    "start_time": "2024-11-23T11:08:03.729Z"
   },
   {
    "duration": 2898,
    "start_time": "2024-11-23T11:08:19.275Z"
   },
   {
    "duration": 9,
    "start_time": "2024-11-23T11:10:43.184Z"
   },
   {
    "duration": 5,
    "start_time": "2024-11-23T11:14:05.675Z"
   },
   {
    "duration": 11,
    "start_time": "2024-11-23T11:14:23.194Z"
   },
   {
    "duration": 4,
    "start_time": "2024-11-23T11:15:13.060Z"
   },
   {
    "duration": 802,
    "start_time": "2024-11-23T11:15:15.546Z"
   },
   {
    "duration": 9,
    "start_time": "2024-11-23T11:15:23.278Z"
   },
   {
    "duration": 6,
    "start_time": "2024-11-23T11:17:07.739Z"
   },
   {
    "duration": 15,
    "start_time": "2024-11-23T11:17:17.160Z"
   },
   {
    "duration": 15,
    "start_time": "2024-11-23T11:17:39.421Z"
   },
   {
    "duration": 2608,
    "start_time": "2024-11-23T11:17:53.868Z"
   },
   {
    "duration": 2552,
    "start_time": "2024-11-23T11:17:56.479Z"
   },
   {
    "duration": 2531,
    "start_time": "2024-11-23T11:17:59.033Z"
   },
   {
    "duration": 1496,
    "start_time": "2024-11-23T11:18:01.567Z"
   },
   {
    "duration": 1113,
    "start_time": "2024-11-23T11:18:03.064Z"
   },
   {
    "duration": 4,
    "start_time": "2024-11-23T11:18:04.179Z"
   },
   {
    "duration": 28,
    "start_time": "2024-11-23T11:18:04.184Z"
   },
   {
    "duration": 138,
    "start_time": "2024-11-23T11:18:04.214Z"
   },
   {
    "duration": 126,
    "start_time": "2024-11-23T11:18:04.354Z"
   },
   {
    "duration": 24,
    "start_time": "2024-11-23T11:18:04.483Z"
   },
   {
    "duration": 107,
    "start_time": "2024-11-23T11:18:04.509Z"
   },
   {
    "duration": 25,
    "start_time": "2024-11-23T11:18:04.618Z"
   },
   {
    "duration": 34,
    "start_time": "2024-11-23T11:18:04.645Z"
   },
   {
    "duration": 30,
    "start_time": "2024-11-23T11:18:04.681Z"
   },
   {
    "duration": 3,
    "start_time": "2024-11-23T11:18:04.713Z"
   },
   {
    "duration": 34,
    "start_time": "2024-11-23T11:18:04.718Z"
   },
   {
    "duration": 22,
    "start_time": "2024-11-23T11:18:04.754Z"
   },
   {
    "duration": 401,
    "start_time": "2024-11-23T11:18:04.777Z"
   },
   {
    "duration": 440,
    "start_time": "2024-11-23T11:18:05.179Z"
   },
   {
    "duration": 124,
    "start_time": "2024-11-23T11:18:05.620Z"
   },
   {
    "duration": 785,
    "start_time": "2024-11-23T11:18:05.746Z"
   },
   {
    "duration": 3,
    "start_time": "2024-11-23T11:18:06.532Z"
   },
   {
    "duration": 74,
    "start_time": "2024-11-23T11:18:06.536Z"
   },
   {
    "duration": 25,
    "start_time": "2024-11-23T11:18:06.612Z"
   },
   {
    "duration": 12,
    "start_time": "2024-11-23T11:18:06.639Z"
   },
   {
    "duration": 7,
    "start_time": "2024-11-23T11:18:06.653Z"
   },
   {
    "duration": 15,
    "start_time": "2024-11-23T11:18:06.662Z"
   },
   {
    "duration": 19,
    "start_time": "2024-11-23T11:18:06.681Z"
   },
   {
    "duration": 24,
    "start_time": "2024-11-23T11:18:06.702Z"
   },
   {
    "duration": 41,
    "start_time": "2024-11-23T11:18:06.727Z"
   },
   {
    "duration": 111,
    "start_time": "2024-11-23T11:18:06.770Z"
   },
   {
    "duration": 98,
    "start_time": "2024-11-23T11:18:06.883Z"
   },
   {
    "duration": 7,
    "start_time": "2024-11-23T11:18:06.983Z"
   },
   {
    "duration": 2815,
    "start_time": "2024-11-23T11:18:06.992Z"
   },
   {
    "duration": 31,
    "start_time": "2024-11-23T11:18:09.808Z"
   },
   {
    "duration": 42,
    "start_time": "2024-11-23T11:18:09.840Z"
   },
   {
    "duration": 21,
    "start_time": "2024-11-23T11:18:09.884Z"
   },
   {
    "duration": 3,
    "start_time": "2024-11-23T11:18:09.907Z"
   },
   {
    "duration": 5,
    "start_time": "2024-11-23T11:18:09.913Z"
   },
   {
    "duration": 56,
    "start_time": "2024-11-23T11:18:09.920Z"
   },
   {
    "duration": 100,
    "start_time": "2024-11-23T11:18:09.977Z"
   },
   {
    "duration": 9,
    "start_time": "2024-11-23T11:18:10.079Z"
   },
   {
    "duration": 33,
    "start_time": "2024-11-23T11:18:10.090Z"
   },
   {
    "duration": 4853,
    "start_time": "2024-11-23T11:18:10.125Z"
   },
   {
    "duration": 1312,
    "start_time": "2024-11-23T11:18:14.980Z"
   },
   {
    "duration": 3,
    "start_time": "2024-11-23T11:18:16.293Z"
   },
   {
    "duration": 75,
    "start_time": "2024-11-23T11:18:16.297Z"
   },
   {
    "duration": 2,
    "start_time": "2024-11-23T11:18:16.374Z"
   },
   {
    "duration": 39,
    "start_time": "2024-11-23T11:18:16.378Z"
   },
   {
    "duration": 162,
    "start_time": "2024-11-23T11:18:16.419Z"
   },
   {
    "duration": 2,
    "start_time": "2024-11-23T11:18:16.583Z"
   },
   {
    "duration": 2,
    "start_time": "2024-11-23T11:18:30.765Z"
   },
   {
    "duration": 123,
    "start_time": "2024-11-23T11:18:31.481Z"
   },
   {
    "duration": 6,
    "start_time": "2024-11-23T11:20:09.962Z"
   },
   {
    "duration": 5,
    "start_time": "2024-11-23T11:20:23.152Z"
   },
   {
    "duration": 4,
    "start_time": "2024-11-23T11:20:32.334Z"
   },
   {
    "duration": 9,
    "start_time": "2024-11-23T11:20:34.734Z"
   },
   {
    "duration": 867,
    "start_time": "2024-11-23T11:20:37.381Z"
   },
   {
    "duration": 8,
    "start_time": "2024-11-23T11:22:04.091Z"
   },
   {
    "duration": 4,
    "start_time": "2024-11-23T11:22:13.716Z"
   },
   {
    "duration": 883,
    "start_time": "2024-11-23T11:22:16.626Z"
   },
   {
    "duration": 5,
    "start_time": "2024-11-23T11:23:46.169Z"
   },
   {
    "duration": 5,
    "start_time": "2024-11-23T11:23:53.891Z"
   },
   {
    "duration": 9,
    "start_time": "2024-11-23T11:23:56.549Z"
   },
   {
    "duration": 567,
    "start_time": "2024-11-23T11:23:57.880Z"
   },
   {
    "duration": 2602,
    "start_time": "2024-11-23T11:31:56.305Z"
   },
   {
    "duration": 2605,
    "start_time": "2024-11-23T11:31:58.909Z"
   },
   {
    "duration": 2604,
    "start_time": "2024-11-23T11:32:01.516Z"
   },
   {
    "duration": 1583,
    "start_time": "2024-11-23T11:32:04.122Z"
   },
   {
    "duration": 1066,
    "start_time": "2024-11-23T11:32:05.707Z"
   },
   {
    "duration": 5,
    "start_time": "2024-11-23T11:32:06.775Z"
   },
   {
    "duration": 41,
    "start_time": "2024-11-23T11:32:06.782Z"
   },
   {
    "duration": 125,
    "start_time": "2024-11-23T11:32:06.825Z"
   },
   {
    "duration": 131,
    "start_time": "2024-11-23T11:32:06.952Z"
   },
   {
    "duration": 23,
    "start_time": "2024-11-23T11:32:07.087Z"
   },
   {
    "duration": 28,
    "start_time": "2024-11-23T11:32:07.113Z"
   },
   {
    "duration": 47,
    "start_time": "2024-11-23T11:32:07.152Z"
   },
   {
    "duration": 44,
    "start_time": "2024-11-23T11:32:07.201Z"
   },
   {
    "duration": 18,
    "start_time": "2024-11-23T11:32:07.247Z"
   },
   {
    "duration": 10,
    "start_time": "2024-11-23T11:32:07.267Z"
   },
   {
    "duration": 37,
    "start_time": "2024-11-23T11:32:07.278Z"
   },
   {
    "duration": 33,
    "start_time": "2024-11-23T11:32:07.317Z"
   },
   {
    "duration": 400,
    "start_time": "2024-11-23T11:32:07.352Z"
   },
   {
    "duration": 425,
    "start_time": "2024-11-23T11:32:07.754Z"
   },
   {
    "duration": 125,
    "start_time": "2024-11-23T11:32:08.181Z"
   },
   {
    "duration": 712,
    "start_time": "2024-11-23T11:32:08.308Z"
   },
   {
    "duration": 3,
    "start_time": "2024-11-23T11:32:09.022Z"
   },
   {
    "duration": 5,
    "start_time": "2024-11-23T11:32:09.027Z"
   },
   {
    "duration": 21,
    "start_time": "2024-11-23T11:32:09.033Z"
   },
   {
    "duration": 4,
    "start_time": "2024-11-23T11:32:09.056Z"
   },
   {
    "duration": 3,
    "start_time": "2024-11-23T11:32:09.062Z"
   },
   {
    "duration": 6,
    "start_time": "2024-11-23T11:32:09.067Z"
   },
   {
    "duration": 3,
    "start_time": "2024-11-23T11:32:09.077Z"
   },
   {
    "duration": 8,
    "start_time": "2024-11-23T11:32:09.081Z"
   },
   {
    "duration": 40,
    "start_time": "2024-11-23T11:32:09.090Z"
   },
   {
    "duration": 28,
    "start_time": "2024-11-23T11:32:09.131Z"
   },
   {
    "duration": 64,
    "start_time": "2024-11-23T11:32:09.161Z"
   },
   {
    "duration": 5,
    "start_time": "2024-11-23T11:32:09.226Z"
   },
   {
    "duration": 2595,
    "start_time": "2024-11-23T11:32:09.233Z"
   },
   {
    "duration": 38,
    "start_time": "2024-11-23T11:32:11.829Z"
   },
   {
    "duration": 31,
    "start_time": "2024-11-23T11:32:11.869Z"
   },
   {
    "duration": 20,
    "start_time": "2024-11-23T11:32:11.902Z"
   },
   {
    "duration": 2,
    "start_time": "2024-11-23T11:32:11.924Z"
   },
   {
    "duration": 6,
    "start_time": "2024-11-23T11:32:11.928Z"
   },
   {
    "duration": 28,
    "start_time": "2024-11-23T11:32:11.953Z"
   },
   {
    "duration": 98,
    "start_time": "2024-11-23T11:32:11.983Z"
   },
   {
    "duration": 8,
    "start_time": "2024-11-23T11:32:12.083Z"
   },
   {
    "duration": 22,
    "start_time": "2024-11-23T11:32:12.093Z"
   },
   {
    "duration": 4686,
    "start_time": "2024-11-23T11:32:12.117Z"
   },
   {
    "duration": 1265,
    "start_time": "2024-11-23T11:32:16.805Z"
   },
   {
    "duration": 3,
    "start_time": "2024-11-23T11:32:18.072Z"
   },
   {
    "duration": 76,
    "start_time": "2024-11-23T11:32:18.076Z"
   },
   {
    "duration": 3,
    "start_time": "2024-11-23T11:32:18.153Z"
   },
   {
    "duration": 21,
    "start_time": "2024-11-23T11:32:18.158Z"
   },
   {
    "duration": 161,
    "start_time": "2024-11-23T11:32:18.180Z"
   },
   {
    "duration": 2,
    "start_time": "2024-11-23T11:32:18.342Z"
   },
   {
    "duration": 15,
    "start_time": "2024-11-23T11:32:18.346Z"
   },
   {
    "duration": 10,
    "start_time": "2024-11-23T11:32:18.362Z"
   },
   {
    "duration": 4,
    "start_time": "2024-11-23T11:33:08.670Z"
   },
   {
    "duration": 362,
    "start_time": "2024-11-23T11:33:10.875Z"
   },
   {
    "duration": 6,
    "start_time": "2024-11-23T11:36:51.904Z"
   },
   {
    "duration": 2550,
    "start_time": "2024-11-23T11:38:58.045Z"
   },
   {
    "duration": 2505,
    "start_time": "2024-11-23T11:39:00.598Z"
   },
   {
    "duration": 2550,
    "start_time": "2024-11-23T11:39:03.106Z"
   },
   {
    "duration": 1497,
    "start_time": "2024-11-23T11:39:05.658Z"
   },
   {
    "duration": 1077,
    "start_time": "2024-11-23T11:39:07.157Z"
   },
   {
    "duration": 4,
    "start_time": "2024-11-23T11:39:08.236Z"
   },
   {
    "duration": 24,
    "start_time": "2024-11-23T11:39:08.241Z"
   },
   {
    "duration": 134,
    "start_time": "2024-11-23T11:39:08.267Z"
   },
   {
    "duration": 126,
    "start_time": "2024-11-23T11:39:08.402Z"
   },
   {
    "duration": 27,
    "start_time": "2024-11-23T11:39:08.529Z"
   },
   {
    "duration": 25,
    "start_time": "2024-11-23T11:39:08.557Z"
   },
   {
    "duration": 38,
    "start_time": "2024-11-23T11:39:08.584Z"
   },
   {
    "duration": 29,
    "start_time": "2024-11-23T11:39:08.624Z"
   },
   {
    "duration": 56,
    "start_time": "2024-11-23T11:39:08.656Z"
   },
   {
    "duration": 4,
    "start_time": "2024-11-23T11:39:08.714Z"
   },
   {
    "duration": 29,
    "start_time": "2024-11-23T11:39:08.719Z"
   },
   {
    "duration": 23,
    "start_time": "2024-11-23T11:39:08.750Z"
   },
   {
    "duration": 395,
    "start_time": "2024-11-23T11:39:08.774Z"
   },
   {
    "duration": 430,
    "start_time": "2024-11-23T11:39:09.170Z"
   },
   {
    "duration": 125,
    "start_time": "2024-11-23T11:39:09.602Z"
   },
   {
    "duration": 724,
    "start_time": "2024-11-23T11:39:09.729Z"
   },
   {
    "duration": 3,
    "start_time": "2024-11-23T11:39:10.454Z"
   },
   {
    "duration": 56,
    "start_time": "2024-11-23T11:39:10.458Z"
   },
   {
    "duration": 7,
    "start_time": "2024-11-23T11:39:10.516Z"
   },
   {
    "duration": 3,
    "start_time": "2024-11-23T11:39:10.524Z"
   },
   {
    "duration": 4,
    "start_time": "2024-11-23T11:39:10.528Z"
   },
   {
    "duration": 3,
    "start_time": "2024-11-23T11:39:10.533Z"
   },
   {
    "duration": 5,
    "start_time": "2024-11-23T11:39:10.537Z"
   },
   {
    "duration": 6,
    "start_time": "2024-11-23T11:39:10.544Z"
   },
   {
    "duration": 46,
    "start_time": "2024-11-23T11:39:10.551Z"
   },
   {
    "duration": 19,
    "start_time": "2024-11-23T11:39:10.599Z"
   },
   {
    "duration": 64,
    "start_time": "2024-11-23T11:39:10.620Z"
   },
   {
    "duration": 5,
    "start_time": "2024-11-23T11:39:10.686Z"
   },
   {
    "duration": 2623,
    "start_time": "2024-11-23T11:39:10.693Z"
   },
   {
    "duration": 37,
    "start_time": "2024-11-23T11:39:13.318Z"
   },
   {
    "duration": 33,
    "start_time": "2024-11-23T11:39:13.357Z"
   },
   {
    "duration": 21,
    "start_time": "2024-11-23T11:39:13.392Z"
   },
   {
    "duration": 3,
    "start_time": "2024-11-23T11:39:13.415Z"
   },
   {
    "duration": 4,
    "start_time": "2024-11-23T11:39:13.420Z"
   },
   {
    "duration": 53,
    "start_time": "2024-11-23T11:39:13.426Z"
   },
   {
    "duration": 122,
    "start_time": "2024-11-23T11:39:13.484Z"
   },
   {
    "duration": 9,
    "start_time": "2024-11-23T11:39:13.608Z"
   },
   {
    "duration": 23,
    "start_time": "2024-11-23T11:39:13.619Z"
   },
   {
    "duration": 4806,
    "start_time": "2024-11-23T11:39:13.643Z"
   },
   {
    "duration": 1283,
    "start_time": "2024-11-23T11:39:18.452Z"
   },
   {
    "duration": 2,
    "start_time": "2024-11-23T11:39:19.737Z"
   },
   {
    "duration": 69,
    "start_time": "2024-11-23T11:39:19.741Z"
   },
   {
    "duration": 3,
    "start_time": "2024-11-23T11:39:19.812Z"
   },
   {
    "duration": 184,
    "start_time": "2024-11-23T11:39:19.816Z"
   },
   {
    "duration": 3,
    "start_time": "2024-11-23T11:39:20.002Z"
   },
   {
    "duration": 17,
    "start_time": "2024-11-23T11:39:20.006Z"
   },
   {
    "duration": 4,
    "start_time": "2024-11-23T11:39:31.933Z"
   },
   {
    "duration": 1018,
    "start_time": "2024-11-23T11:39:34.315Z"
   },
   {
    "duration": 4,
    "start_time": "2024-11-23T11:40:00.672Z"
   },
   {
    "duration": 13,
    "start_time": "2024-11-23T11:40:02.063Z"
   },
   {
    "duration": 2,
    "start_time": "2024-11-23T11:40:10.652Z"
   },
   {
    "duration": 5,
    "start_time": "2024-11-23T11:40:11.005Z"
   },
   {
    "duration": 12,
    "start_time": "2024-11-23T11:40:11.337Z"
   },
   {
    "duration": 2,
    "start_time": "2024-11-23T11:40:11.736Z"
   },
   {
    "duration": 3,
    "start_time": "2024-11-23T11:40:12.074Z"
   },
   {
    "duration": 4,
    "start_time": "2024-11-23T11:40:12.442Z"
   },
   {
    "duration": 9,
    "start_time": "2024-11-23T11:40:14.902Z"
   },
   {
    "duration": 835,
    "start_time": "2024-11-23T11:40:18.528Z"
   },
   {
    "duration": 945,
    "start_time": "2024-11-23T11:44:06.849Z"
   },
   {
    "duration": 18,
    "start_time": "2024-11-23T11:44:13.435Z"
   },
   {
    "duration": 4,
    "start_time": "2024-11-23T11:44:46.199Z"
   },
   {
    "duration": 722,
    "start_time": "2024-11-23T11:44:46.903Z"
   },
   {
    "duration": 0,
    "start_time": "2024-11-23T11:44:47.627Z"
   },
   {
    "duration": 635,
    "start_time": "2024-11-23T11:44:47.869Z"
   },
   {
    "duration": 2565,
    "start_time": "2024-11-23T11:46:26.059Z"
   },
   {
    "duration": 2570,
    "start_time": "2024-11-23T11:46:28.626Z"
   },
   {
    "duration": 2500,
    "start_time": "2024-11-23T11:46:31.199Z"
   },
   {
    "duration": 1544,
    "start_time": "2024-11-23T11:46:33.702Z"
   },
   {
    "duration": 1069,
    "start_time": "2024-11-23T11:46:39.233Z"
   },
   {
    "duration": 3,
    "start_time": "2024-11-23T11:46:43.034Z"
   },
   {
    "duration": 19,
    "start_time": "2024-11-23T11:46:43.664Z"
   },
   {
    "duration": 132,
    "start_time": "2024-11-23T11:46:44.508Z"
   },
   {
    "duration": 56,
    "start_time": "2024-11-23T11:47:14.340Z"
   },
   {
    "duration": 124,
    "start_time": "2024-11-23T11:47:31.964Z"
   },
   {
    "duration": 24,
    "start_time": "2024-11-23T11:47:34.248Z"
   },
   {
    "duration": 23,
    "start_time": "2024-11-23T11:47:34.741Z"
   },
   {
    "duration": 23,
    "start_time": "2024-11-23T11:47:35.124Z"
   },
   {
    "duration": 24,
    "start_time": "2024-11-23T11:47:35.874Z"
   },
   {
    "duration": 16,
    "start_time": "2024-11-23T11:47:36.921Z"
   },
   {
    "duration": 26,
    "start_time": "2024-11-23T11:47:39.612Z"
   },
   {
    "duration": 25,
    "start_time": "2024-11-23T11:47:39.879Z"
   },
   {
    "duration": 395,
    "start_time": "2024-11-23T11:47:40.475Z"
   },
   {
    "duration": 442,
    "start_time": "2024-11-23T11:47:41.579Z"
   },
   {
    "duration": 119,
    "start_time": "2024-11-23T11:47:44.396Z"
   },
   {
    "duration": 721,
    "start_time": "2024-11-23T11:47:45.403Z"
   },
   {
    "duration": 25,
    "start_time": "2024-11-23T11:48:00.507Z"
   },
   {
    "duration": 4,
    "start_time": "2024-11-23T11:48:00.780Z"
   },
   {
    "duration": 870,
    "start_time": "2024-11-23T11:48:01.979Z"
   },
   {
    "duration": 0,
    "start_time": "2024-11-23T11:48:02.851Z"
   },
   {
    "duration": 0,
    "start_time": "2024-11-23T11:48:02.852Z"
   },
   {
    "duration": 4,
    "start_time": "2024-11-23T11:48:42.638Z"
   },
   {
    "duration": 3,
    "start_time": "2024-11-23T11:48:51.869Z"
   },
   {
    "duration": 825,
    "start_time": "2024-11-23T11:49:03.097Z"
   },
   {
    "duration": 5,
    "start_time": "2024-11-23T11:51:06.147Z"
   },
   {
    "duration": 2,
    "start_time": "2024-11-23T11:51:06.963Z"
   },
   {
    "duration": 2587,
    "start_time": "2024-11-23T11:51:52.126Z"
   },
   {
    "duration": 2546,
    "start_time": "2024-11-23T11:51:54.716Z"
   },
   {
    "duration": 2558,
    "start_time": "2024-11-23T11:51:57.264Z"
   },
   {
    "duration": 1544,
    "start_time": "2024-11-23T11:51:59.825Z"
   },
   {
    "duration": 1071,
    "start_time": "2024-11-23T11:52:01.370Z"
   },
   {
    "duration": 9,
    "start_time": "2024-11-23T11:52:02.443Z"
   },
   {
    "duration": 17,
    "start_time": "2024-11-23T11:52:02.453Z"
   },
   {
    "duration": 142,
    "start_time": "2024-11-23T11:52:02.472Z"
   },
   {
    "duration": 131,
    "start_time": "2024-11-23T11:52:02.615Z"
   },
   {
    "duration": 24,
    "start_time": "2024-11-23T11:52:02.752Z"
   },
   {
    "duration": 47,
    "start_time": "2024-11-23T11:52:02.777Z"
   },
   {
    "duration": 52,
    "start_time": "2024-11-23T11:52:02.825Z"
   },
   {
    "duration": 53,
    "start_time": "2024-11-23T11:52:02.879Z"
   },
   {
    "duration": 94,
    "start_time": "2024-11-23T11:52:02.934Z"
   },
   {
    "duration": 3,
    "start_time": "2024-11-23T11:52:03.030Z"
   },
   {
    "duration": 50,
    "start_time": "2024-11-23T11:52:03.034Z"
   },
   {
    "duration": 23,
    "start_time": "2024-11-23T11:52:03.086Z"
   },
   {
    "duration": 391,
    "start_time": "2024-11-23T11:52:03.110Z"
   },
   {
    "duration": 460,
    "start_time": "2024-11-23T11:52:03.503Z"
   },
   {
    "duration": 135,
    "start_time": "2024-11-23T11:52:03.965Z"
   },
   {
    "duration": 720,
    "start_time": "2024-11-23T11:52:04.102Z"
   },
   {
    "duration": 28,
    "start_time": "2024-11-23T11:52:04.824Z"
   },
   {
    "duration": 5,
    "start_time": "2024-11-23T11:52:04.853Z"
   },
   {
    "duration": 15,
    "start_time": "2024-11-23T11:52:04.860Z"
   },
   {
    "duration": 41207,
    "start_time": "2024-11-23T11:52:04.877Z"
   },
   {
    "duration": 203,
    "start_time": "2024-11-23T11:52:46.086Z"
   },
   {
    "duration": 117,
    "start_time": "2024-11-23T11:52:46.291Z"
   },
   {
    "duration": 27,
    "start_time": "2024-11-23T11:53:04.700Z"
   },
   {
    "duration": 12,
    "start_time": "2024-11-23T11:53:05.052Z"
   },
   {
    "duration": 55,
    "start_time": "2024-11-23T11:53:08.690Z"
   },
   {
    "duration": 5,
    "start_time": "2024-11-23T11:53:09.526Z"
   },
   {
    "duration": 2494,
    "start_time": "2024-11-23T11:53:10.276Z"
   },
   {
    "duration": 19,
    "start_time": "2024-11-23T11:53:15.730Z"
   },
   {
    "duration": 30,
    "start_time": "2024-11-23T11:53:39.627Z"
   },
   {
    "duration": 20,
    "start_time": "2024-11-23T11:53:42.887Z"
   },
   {
    "duration": 2,
    "start_time": "2024-11-23T11:53:43.804Z"
   },
   {
    "duration": 4,
    "start_time": "2024-11-23T11:53:44.555Z"
   },
   {
    "duration": 29,
    "start_time": "2024-11-23T11:53:45.093Z"
   },
   {
    "duration": 78,
    "start_time": "2024-11-23T11:53:49.380Z"
   },
   {
    "duration": 93,
    "start_time": "2024-11-23T11:53:52.414Z"
   },
   {
    "duration": 14,
    "start_time": "2024-11-23T11:53:58.157Z"
   },
   {
    "duration": 4383,
    "start_time": "2024-11-23T11:54:02.137Z"
   },
   {
    "duration": 1268,
    "start_time": "2024-11-23T11:54:06.522Z"
   },
   {
    "duration": 2,
    "start_time": "2024-11-23T11:54:22.748Z"
   },
   {
    "duration": 63,
    "start_time": "2024-11-23T11:54:23.690Z"
   },
   {
    "duration": 3,
    "start_time": "2024-11-23T11:54:27.488Z"
   },
   {
    "duration": 18,
    "start_time": "2024-11-23T11:55:15.277Z"
   },
   {
    "duration": 144,
    "start_time": "2024-11-23T11:55:16.246Z"
   },
   {
    "duration": 4,
    "start_time": "2024-11-23T11:55:21.078Z"
   },
   {
    "duration": 10,
    "start_time": "2024-11-23T11:55:24.058Z"
   },
   {
    "duration": 2557,
    "start_time": "2024-11-23T11:56:38.620Z"
   },
   {
    "duration": 2550,
    "start_time": "2024-11-23T11:56:41.179Z"
   },
   {
    "duration": 2728,
    "start_time": "2024-11-23T11:56:43.732Z"
   },
   {
    "duration": 1508,
    "start_time": "2024-11-23T11:56:46.462Z"
   },
   {
    "duration": 1085,
    "start_time": "2024-11-23T11:56:47.972Z"
   },
   {
    "duration": 4,
    "start_time": "2024-11-23T11:56:49.059Z"
   },
   {
    "duration": 26,
    "start_time": "2024-11-23T11:56:49.064Z"
   },
   {
    "duration": 138,
    "start_time": "2024-11-23T11:56:49.092Z"
   },
   {
    "duration": 124,
    "start_time": "2024-11-23T11:56:49.232Z"
   },
   {
    "duration": 23,
    "start_time": "2024-11-23T11:56:49.358Z"
   },
   {
    "duration": 23,
    "start_time": "2024-11-23T11:56:49.383Z"
   },
   {
    "duration": 47,
    "start_time": "2024-11-23T11:56:49.407Z"
   },
   {
    "duration": 28,
    "start_time": "2024-11-23T11:56:49.455Z"
   },
   {
    "duration": 21,
    "start_time": "2024-11-23T11:56:49.486Z"
   },
   {
    "duration": 3,
    "start_time": "2024-11-23T11:56:49.508Z"
   },
   {
    "duration": 40,
    "start_time": "2024-11-23T11:56:49.512Z"
   },
   {
    "duration": 38,
    "start_time": "2024-11-23T11:56:49.554Z"
   },
   {
    "duration": 415,
    "start_time": "2024-11-23T11:56:49.593Z"
   },
   {
    "duration": 442,
    "start_time": "2024-11-23T11:56:50.010Z"
   },
   {
    "duration": 121,
    "start_time": "2024-11-23T11:56:50.453Z"
   },
   {
    "duration": 729,
    "start_time": "2024-11-23T11:56:50.576Z"
   },
   {
    "duration": 21,
    "start_time": "2024-11-23T11:56:51.307Z"
   },
   {
    "duration": 12,
    "start_time": "2024-11-23T11:56:51.330Z"
   },
   {
    "duration": 14,
    "start_time": "2024-11-23T11:56:51.343Z"
   },
   {
    "duration": 41294,
    "start_time": "2024-11-23T11:56:51.358Z"
   },
   {
    "duration": 129,
    "start_time": "2024-11-23T11:57:32.653Z"
   },
   {
    "duration": 33,
    "start_time": "2024-11-23T11:57:32.784Z"
   },
   {
    "duration": 29,
    "start_time": "2024-11-23T11:57:32.819Z"
   },
   {
    "duration": 68,
    "start_time": "2024-11-23T11:57:32.851Z"
   },
   {
    "duration": 6,
    "start_time": "2024-11-23T11:57:32.921Z"
   },
   {
    "duration": 2499,
    "start_time": "2024-11-23T11:57:32.928Z"
   },
   {
    "duration": 39,
    "start_time": "2024-11-23T11:57:35.429Z"
   },
   {
    "duration": 33,
    "start_time": "2024-11-23T11:57:35.470Z"
   },
   {
    "duration": 22,
    "start_time": "2024-11-23T11:57:35.504Z"
   },
   {
    "duration": 2,
    "start_time": "2024-11-23T11:57:35.528Z"
   },
   {
    "duration": 62,
    "start_time": "2024-11-23T11:57:35.551Z"
   },
   {
    "duration": 56,
    "start_time": "2024-11-23T11:57:35.614Z"
   },
   {
    "duration": 91,
    "start_time": "2024-11-23T11:57:35.672Z"
   },
   {
    "duration": 112,
    "start_time": "2024-11-23T11:57:35.765Z"
   },
   {
    "duration": 35,
    "start_time": "2024-11-23T11:57:35.878Z"
   },
   {
    "duration": 4620,
    "start_time": "2024-11-23T11:57:35.918Z"
   },
   {
    "duration": 1361,
    "start_time": "2024-11-23T11:57:40.539Z"
   },
   {
    "duration": 3,
    "start_time": "2024-11-23T11:57:41.902Z"
   },
   {
    "duration": 77,
    "start_time": "2024-11-23T11:57:41.907Z"
   },
   {
    "duration": 3,
    "start_time": "2024-11-23T11:57:41.986Z"
   },
   {
    "duration": 14,
    "start_time": "2024-11-23T11:57:41.991Z"
   },
   {
    "duration": 187,
    "start_time": "2024-11-23T11:57:42.006Z"
   },
   {
    "duration": 4,
    "start_time": "2024-11-23T11:57:42.195Z"
   },
   {
    "duration": 367,
    "start_time": "2024-11-23T11:57:42.201Z"
   },
   {
    "duration": 0,
    "start_time": "2024-11-23T11:57:42.570Z"
   },
   {
    "duration": 2516,
    "start_time": "2024-11-23T11:58:19.162Z"
   },
   {
    "duration": 2597,
    "start_time": "2024-11-23T11:58:21.681Z"
   },
   {
    "duration": 2548,
    "start_time": "2024-11-23T11:58:24.280Z"
   },
   {
    "duration": 1518,
    "start_time": "2024-11-23T11:58:26.830Z"
   },
   {
    "duration": 1088,
    "start_time": "2024-11-23T11:58:28.350Z"
   },
   {
    "duration": 13,
    "start_time": "2024-11-23T11:58:29.440Z"
   },
   {
    "duration": 32,
    "start_time": "2024-11-23T11:58:29.455Z"
   },
   {
    "duration": 122,
    "start_time": "2024-11-23T11:58:29.489Z"
   },
   {
    "duration": 130,
    "start_time": "2024-11-23T11:58:29.613Z"
   },
   {
    "duration": 28,
    "start_time": "2024-11-23T11:58:29.745Z"
   },
   {
    "duration": 24,
    "start_time": "2024-11-23T11:58:29.774Z"
   },
   {
    "duration": 47,
    "start_time": "2024-11-23T11:58:29.800Z"
   },
   {
    "duration": 30,
    "start_time": "2024-11-23T11:58:29.848Z"
   },
   {
    "duration": 15,
    "start_time": "2024-11-23T11:58:29.881Z"
   },
   {
    "duration": 10,
    "start_time": "2024-11-23T11:58:29.897Z"
   },
   {
    "duration": 30,
    "start_time": "2024-11-23T11:58:29.909Z"
   },
   {
    "duration": 26,
    "start_time": "2024-11-23T11:58:29.941Z"
   },
   {
    "duration": 410,
    "start_time": "2024-11-23T11:58:29.968Z"
   },
   {
    "duration": 445,
    "start_time": "2024-11-23T11:58:30.379Z"
   },
   {
    "duration": 126,
    "start_time": "2024-11-23T11:58:30.826Z"
   },
   {
    "duration": 754,
    "start_time": "2024-11-23T11:58:30.954Z"
   },
   {
    "duration": 21,
    "start_time": "2024-11-23T11:58:31.709Z"
   },
   {
    "duration": 24,
    "start_time": "2024-11-23T11:58:31.732Z"
   },
   {
    "duration": 6,
    "start_time": "2024-11-23T11:58:31.758Z"
   },
   {
    "duration": 41069,
    "start_time": "2024-11-23T11:58:31.765Z"
   },
   {
    "duration": 129,
    "start_time": "2024-11-23T11:59:12.836Z"
   },
   {
    "duration": 34,
    "start_time": "2024-11-23T11:59:12.966Z"
   },
   {
    "duration": 18,
    "start_time": "2024-11-23T11:59:13.001Z"
   },
   {
    "duration": 72,
    "start_time": "2024-11-23T11:59:13.021Z"
   },
   {
    "duration": 5,
    "start_time": "2024-11-23T11:59:13.095Z"
   },
   {
    "duration": 2507,
    "start_time": "2024-11-23T11:59:13.102Z"
   },
   {
    "duration": 40,
    "start_time": "2024-11-23T11:59:15.612Z"
   },
   {
    "duration": 33,
    "start_time": "2024-11-23T11:59:15.654Z"
   },
   {
    "duration": 21,
    "start_time": "2024-11-23T11:59:15.689Z"
   },
   {
    "duration": 3,
    "start_time": "2024-11-23T11:59:15.712Z"
   },
   {
    "duration": 5,
    "start_time": "2024-11-23T11:59:15.717Z"
   },
   {
    "duration": 52,
    "start_time": "2024-11-23T11:59:15.723Z"
   },
   {
    "duration": 98,
    "start_time": "2024-11-23T11:59:15.777Z"
   },
   {
    "duration": 103,
    "start_time": "2024-11-23T11:59:15.877Z"
   },
   {
    "duration": 17,
    "start_time": "2024-11-23T11:59:15.982Z"
   },
   {
    "duration": 4529,
    "start_time": "2024-11-23T11:59:16.003Z"
   },
   {
    "duration": 1332,
    "start_time": "2024-11-23T11:59:20.534Z"
   },
   {
    "duration": 3,
    "start_time": "2024-11-23T11:59:21.868Z"
   },
   {
    "duration": 71,
    "start_time": "2024-11-23T11:59:21.872Z"
   },
   {
    "duration": 3,
    "start_time": "2024-11-23T11:59:21.951Z"
   },
   {
    "duration": 4,
    "start_time": "2024-11-23T11:59:21.955Z"
   },
   {
    "duration": 360,
    "start_time": "2024-11-23T11:59:21.961Z"
   },
   {
    "duration": 80,
    "start_time": "2024-11-23T12:01:04.015Z"
   },
   {
    "duration": 99,
    "start_time": "2024-11-23T12:01:39.301Z"
   },
   {
    "duration": 77,
    "start_time": "2024-11-23T12:01:40.336Z"
   },
   {
    "duration": 4,
    "start_time": "2024-11-23T12:01:51.113Z"
   },
   {
    "duration": 7593,
    "start_time": "2024-11-23T12:01:53.166Z"
   },
   {
    "duration": 58,
    "start_time": "2024-11-23T12:02:10.087Z"
   },
   {
    "duration": 2560,
    "start_time": "2024-11-23T12:02:32.486Z"
   },
   {
    "duration": 2534,
    "start_time": "2024-11-23T12:02:35.049Z"
   },
   {
    "duration": 2608,
    "start_time": "2024-11-23T12:02:37.585Z"
   },
   {
    "duration": 1476,
    "start_time": "2024-11-23T12:02:40.195Z"
   },
   {
    "duration": 1076,
    "start_time": "2024-11-23T12:02:41.673Z"
   },
   {
    "duration": 5,
    "start_time": "2024-11-23T12:02:42.752Z"
   },
   {
    "duration": 44,
    "start_time": "2024-11-23T12:02:42.759Z"
   },
   {
    "duration": 132,
    "start_time": "2024-11-23T12:02:42.805Z"
   },
   {
    "duration": 137,
    "start_time": "2024-11-23T12:02:42.938Z"
   },
   {
    "duration": 24,
    "start_time": "2024-11-23T12:02:43.078Z"
   },
   {
    "duration": 23,
    "start_time": "2024-11-23T12:02:43.104Z"
   },
   {
    "duration": 48,
    "start_time": "2024-11-23T12:02:43.129Z"
   },
   {
    "duration": 28,
    "start_time": "2024-11-23T12:02:43.178Z"
   },
   {
    "duration": 16,
    "start_time": "2024-11-23T12:02:43.208Z"
   },
   {
    "duration": 20,
    "start_time": "2024-11-23T12:02:43.226Z"
   },
   {
    "duration": 34,
    "start_time": "2024-11-23T12:02:43.251Z"
   },
   {
    "duration": 24,
    "start_time": "2024-11-23T12:02:43.287Z"
   },
   {
    "duration": 408,
    "start_time": "2024-11-23T12:02:43.312Z"
   },
   {
    "duration": 475,
    "start_time": "2024-11-23T12:02:43.722Z"
   },
   {
    "duration": 127,
    "start_time": "2024-11-23T12:02:44.198Z"
   },
   {
    "duration": 717,
    "start_time": "2024-11-23T12:02:44.327Z"
   },
   {
    "duration": 22,
    "start_time": "2024-11-23T12:02:45.046Z"
   },
   {
    "duration": 30,
    "start_time": "2024-11-23T12:02:45.069Z"
   },
   {
    "duration": 41,
    "start_time": "2024-11-23T12:02:45.101Z"
   },
   {
    "duration": 42147,
    "start_time": "2024-11-23T12:02:45.143Z"
   },
   {
    "duration": 177,
    "start_time": "2024-11-23T12:03:27.292Z"
   },
   {
    "duration": 122,
    "start_time": "2024-11-23T12:03:27.470Z"
   },
   {
    "duration": 32,
    "start_time": "2024-11-23T12:03:27.595Z"
   },
   {
    "duration": 23,
    "start_time": "2024-11-23T12:03:27.629Z"
   },
   {
    "duration": 66,
    "start_time": "2024-11-23T12:03:27.654Z"
   },
   {
    "duration": 6,
    "start_time": "2024-11-23T12:03:27.721Z"
   },
   {
    "duration": 2497,
    "start_time": "2024-11-23T12:03:27.729Z"
   },
   {
    "duration": 28,
    "start_time": "2024-11-23T12:03:30.228Z"
   },
   {
    "duration": 31,
    "start_time": "2024-11-23T12:03:30.258Z"
   },
   {
    "duration": 20,
    "start_time": "2024-11-23T12:03:30.291Z"
   },
   {
    "duration": 20,
    "start_time": "2024-11-23T12:03:30.313Z"
   },
   {
    "duration": 43,
    "start_time": "2024-11-23T12:03:30.335Z"
   },
   {
    "duration": 72,
    "start_time": "2024-11-23T12:03:30.379Z"
   },
   {
    "duration": 82,
    "start_time": "2024-11-23T12:03:30.452Z"
   },
   {
    "duration": 107,
    "start_time": "2024-11-23T12:03:30.536Z"
   },
   {
    "duration": 34,
    "start_time": "2024-11-23T12:03:30.645Z"
   },
   {
    "duration": 4476,
    "start_time": "2024-11-23T12:03:30.681Z"
   },
   {
    "duration": 1326,
    "start_time": "2024-11-23T12:03:35.159Z"
   },
   {
    "duration": 3,
    "start_time": "2024-11-23T12:03:36.487Z"
   },
   {
    "duration": 86,
    "start_time": "2024-11-23T12:03:36.492Z"
   },
   {
    "duration": 3,
    "start_time": "2024-11-23T12:03:36.579Z"
   },
   {
    "duration": 37,
    "start_time": "2024-11-23T12:03:36.584Z"
   },
   {
    "duration": 4943,
    "start_time": "2024-11-23T12:03:36.623Z"
   },
   {
    "duration": 58,
    "start_time": "2024-11-23T12:03:55.700Z"
   },
   {
    "duration": 148599,
    "start_time": "2024-11-23T12:09:07.614Z"
   },
   {
    "duration": 57,
    "start_time": "2024-11-23T12:13:27.634Z"
   },
   {
    "duration": 8,
    "start_time": "2024-11-23T12:13:42.942Z"
   },
   {
    "duration": 653571,
    "start_time": "2024-11-23T12:14:13.306Z"
   },
   {
    "duration": 12,
    "start_time": "2024-11-23T12:26:41.420Z"
   },
   {
    "duration": 245311,
    "start_time": "2024-11-23T12:27:23.752Z"
   },
   {
    "duration": 6,
    "start_time": "2024-11-23T12:36:45.867Z"
   },
   {
    "duration": 6,
    "start_time": "2024-11-23T12:37:29.597Z"
   },
   {
    "duration": 51,
    "start_time": "2024-11-23T12:38:03.354Z"
   },
   {
    "duration": 12,
    "start_time": "2024-11-23T12:43:11.540Z"
   },
   {
    "duration": 9,
    "start_time": "2024-11-23T12:43:15.172Z"
   },
   {
    "duration": 9,
    "start_time": "2024-11-23T12:43:24.960Z"
   },
   {
    "duration": 11,
    "start_time": "2024-11-23T12:43:28.325Z"
   },
   {
    "duration": 12,
    "start_time": "2024-11-23T12:43:35.583Z"
   },
   {
    "duration": 3,
    "start_time": "2024-11-23T12:43:47.093Z"
   },
   {
    "duration": 42409,
    "start_time": "2024-11-23T12:43:47.744Z"
   },
   {
    "duration": 1469,
    "start_time": "2024-11-23T12:46:40.096Z"
   },
   {
    "duration": 88,
    "start_time": "2024-11-23T12:46:47.289Z"
   },
   {
    "duration": 2843,
    "start_time": "2024-11-23T14:31:52.113Z"
   },
   {
    "duration": 2910,
    "start_time": "2024-11-23T14:31:54.959Z"
   },
   {
    "duration": 3229,
    "start_time": "2024-11-23T14:31:57.871Z"
   },
   {
    "duration": 1737,
    "start_time": "2024-11-23T14:32:01.103Z"
   },
   {
    "duration": 1363,
    "start_time": "2024-11-23T14:32:02.843Z"
   },
   {
    "duration": 4,
    "start_time": "2024-11-23T14:32:04.208Z"
   },
   {
    "duration": 63,
    "start_time": "2024-11-23T14:32:04.214Z"
   },
   {
    "duration": 136,
    "start_time": "2024-11-23T14:32:04.279Z"
   },
   {
    "duration": 129,
    "start_time": "2024-11-23T14:32:04.420Z"
   },
   {
    "duration": 26,
    "start_time": "2024-11-23T14:32:04.553Z"
   },
   {
    "duration": 22,
    "start_time": "2024-11-23T14:32:04.580Z"
   },
   {
    "duration": 43,
    "start_time": "2024-11-23T14:32:04.604Z"
   },
   {
    "duration": 90,
    "start_time": "2024-11-23T14:32:04.648Z"
   },
   {
    "duration": 116,
    "start_time": "2024-11-23T14:32:04.739Z"
   },
   {
    "duration": 7,
    "start_time": "2024-11-23T14:32:04.857Z"
   },
   {
    "duration": 24,
    "start_time": "2024-11-23T14:32:04.865Z"
   },
   {
    "duration": 21,
    "start_time": "2024-11-23T14:32:04.891Z"
   },
   {
    "duration": 373,
    "start_time": "2024-11-23T14:32:04.913Z"
   },
   {
    "duration": 404,
    "start_time": "2024-11-23T14:32:05.287Z"
   },
   {
    "duration": 129,
    "start_time": "2024-11-23T14:32:05.693Z"
   },
   {
    "duration": 785,
    "start_time": "2024-11-23T14:32:05.827Z"
   },
   {
    "duration": 29,
    "start_time": "2024-11-23T14:32:06.614Z"
   },
   {
    "duration": 17,
    "start_time": "2024-11-23T14:32:06.645Z"
   },
   {
    "duration": 11,
    "start_time": "2024-11-23T14:32:06.663Z"
   },
   {
    "duration": 41794,
    "start_time": "2024-11-23T14:32:06.675Z"
   },
   {
    "duration": 177,
    "start_time": "2024-11-23T14:32:48.471Z"
   },
   {
    "duration": 118,
    "start_time": "2024-11-23T14:32:48.650Z"
   },
   {
    "duration": 27,
    "start_time": "2024-11-23T14:32:48.772Z"
   },
   {
    "duration": 27,
    "start_time": "2024-11-23T14:32:48.801Z"
   },
   {
    "duration": 66,
    "start_time": "2024-11-23T14:32:48.829Z"
   },
   {
    "duration": 6,
    "start_time": "2024-11-23T14:32:48.897Z"
   },
   {
    "duration": 2487,
    "start_time": "2024-11-23T14:32:48.904Z"
   },
   {
    "duration": 19,
    "start_time": "2024-11-23T14:32:51.392Z"
   },
   {
    "duration": 40,
    "start_time": "2024-11-23T14:32:51.412Z"
   },
   {
    "duration": 19,
    "start_time": "2024-11-23T14:32:51.454Z"
   },
   {
    "duration": 3,
    "start_time": "2024-11-23T14:32:51.475Z"
   },
   {
    "duration": 4,
    "start_time": "2024-11-23T14:32:51.479Z"
   },
   {
    "duration": 54,
    "start_time": "2024-11-23T14:32:51.485Z"
   },
   {
    "duration": 87,
    "start_time": "2024-11-23T14:32:51.542Z"
   },
   {
    "duration": 9,
    "start_time": "2024-11-23T14:32:51.634Z"
   },
   {
    "duration": 14,
    "start_time": "2024-11-23T14:32:51.645Z"
   },
   {
    "duration": 4320,
    "start_time": "2024-11-23T14:32:51.661Z"
   },
   {
    "duration": 1320,
    "start_time": "2024-11-23T14:32:55.982Z"
   },
   {
    "duration": 4,
    "start_time": "2024-11-23T14:32:57.304Z"
   },
   {
    "duration": 80,
    "start_time": "2024-11-23T14:32:57.310Z"
   },
   {
    "duration": 3,
    "start_time": "2024-11-23T14:32:57.392Z"
   },
   {
    "duration": 5,
    "start_time": "2024-11-23T14:32:57.396Z"
   },
   {
    "duration": 146,
    "start_time": "2024-11-23T14:32:57.403Z"
   },
   {
    "duration": 148,
    "start_time": "2024-11-23T14:32:57.551Z"
   },
   {
    "duration": 0,
    "start_time": "2024-11-23T14:32:57.700Z"
   },
   {
    "duration": 0,
    "start_time": "2024-11-23T14:32:57.702Z"
   },
   {
    "duration": 0,
    "start_time": "2024-11-23T14:32:57.703Z"
   },
   {
    "duration": 0,
    "start_time": "2024-11-23T14:32:57.704Z"
   },
   {
    "duration": 0,
    "start_time": "2024-11-23T14:32:57.704Z"
   },
   {
    "duration": 0,
    "start_time": "2024-11-23T14:32:57.724Z"
   },
   {
    "duration": 0,
    "start_time": "2024-11-23T14:32:57.725Z"
   },
   {
    "duration": 0,
    "start_time": "2024-11-23T14:32:57.726Z"
   },
   {
    "duration": 4,
    "start_time": "2024-11-23T14:37:03.101Z"
   },
   {
    "duration": 2,
    "start_time": "2024-11-23T14:37:22.341Z"
   },
   {
    "duration": 3,
    "start_time": "2024-11-23T14:37:42.493Z"
   },
   {
    "duration": 245353,
    "start_time": "2024-11-23T14:37:49.901Z"
   },
   {
    "duration": 2384,
    "start_time": "2024-11-23T14:42:13.147Z"
   },
   {
    "duration": 2517,
    "start_time": "2024-11-23T14:42:15.534Z"
   },
   {
    "duration": 2346,
    "start_time": "2024-11-23T14:42:18.053Z"
   },
   {
    "duration": 1455,
    "start_time": "2024-11-23T14:42:20.402Z"
   },
   {
    "duration": 991,
    "start_time": "2024-11-23T14:42:21.858Z"
   },
   {
    "duration": 5,
    "start_time": "2024-11-23T14:42:22.851Z"
   },
   {
    "duration": 25,
    "start_time": "2024-11-23T14:42:22.858Z"
   },
   {
    "duration": 182,
    "start_time": "2024-11-23T14:42:22.885Z"
   },
   {
    "duration": 119,
    "start_time": "2024-11-23T14:42:23.068Z"
   },
   {
    "duration": 22,
    "start_time": "2024-11-23T14:42:23.189Z"
   },
   {
    "duration": 58,
    "start_time": "2024-11-23T14:42:23.212Z"
   },
   {
    "duration": 36,
    "start_time": "2024-11-23T14:42:23.272Z"
   },
   {
    "duration": 69,
    "start_time": "2024-11-23T14:42:23.310Z"
   },
   {
    "duration": 17,
    "start_time": "2024-11-23T14:42:23.381Z"
   },
   {
    "duration": 2,
    "start_time": "2024-11-23T14:42:23.400Z"
   },
   {
    "duration": 38,
    "start_time": "2024-11-23T14:42:23.404Z"
   },
   {
    "duration": 23,
    "start_time": "2024-11-23T14:42:23.444Z"
   },
   {
    "duration": 380,
    "start_time": "2024-11-23T14:42:23.469Z"
   },
   {
    "duration": 405,
    "start_time": "2024-11-23T14:42:23.850Z"
   },
   {
    "duration": 123,
    "start_time": "2024-11-23T14:42:24.256Z"
   },
   {
    "duration": 708,
    "start_time": "2024-11-23T14:42:24.380Z"
   },
   {
    "duration": 20,
    "start_time": "2024-11-23T14:42:25.090Z"
   },
   {
    "duration": 13,
    "start_time": "2024-11-23T14:42:25.111Z"
   },
   {
    "duration": 11,
    "start_time": "2024-11-23T14:42:25.126Z"
   },
   {
    "duration": 39357,
    "start_time": "2024-11-23T14:42:25.139Z"
   },
   {
    "duration": 161,
    "start_time": "2024-11-23T14:43:04.498Z"
   },
   {
    "duration": 110,
    "start_time": "2024-11-23T14:43:04.660Z"
   },
   {
    "duration": 77,
    "start_time": "2024-11-23T14:43:04.773Z"
   },
   {
    "duration": 19,
    "start_time": "2024-11-23T14:43:04.852Z"
   },
   {
    "duration": 58,
    "start_time": "2024-11-23T14:43:04.873Z"
   },
   {
    "duration": 6,
    "start_time": "2024-11-23T14:43:04.933Z"
   },
   {
    "duration": 2325,
    "start_time": "2024-11-23T14:43:04.940Z"
   },
   {
    "duration": 23,
    "start_time": "2024-11-23T14:43:07.267Z"
   },
   {
    "duration": 50,
    "start_time": "2024-11-23T14:43:07.293Z"
   },
   {
    "duration": 25,
    "start_time": "2024-11-23T14:43:07.345Z"
   },
   {
    "duration": 4,
    "start_time": "2024-11-23T14:43:07.372Z"
   },
   {
    "duration": 12,
    "start_time": "2024-11-23T14:43:07.378Z"
   },
   {
    "duration": 51,
    "start_time": "2024-11-23T14:43:07.393Z"
   },
   {
    "duration": 86,
    "start_time": "2024-11-23T14:43:07.446Z"
   },
   {
    "duration": 95,
    "start_time": "2024-11-23T14:43:07.533Z"
   },
   {
    "duration": 34,
    "start_time": "2024-11-23T14:43:07.630Z"
   },
   {
    "duration": 3996,
    "start_time": "2024-11-23T14:43:07.665Z"
   },
   {
    "duration": 1226,
    "start_time": "2024-11-23T14:43:11.664Z"
   },
   {
    "duration": 3,
    "start_time": "2024-11-23T14:43:12.892Z"
   },
   {
    "duration": 82,
    "start_time": "2024-11-23T14:43:12.896Z"
   },
   {
    "duration": 4,
    "start_time": "2024-11-23T14:43:12.980Z"
   },
   {
    "duration": 3,
    "start_time": "2024-11-23T14:43:12.986Z"
   },
   {
    "duration": 141,
    "start_time": "2024-11-23T14:43:12.991Z"
   },
   {
    "duration": 4,
    "start_time": "2024-11-23T14:43:13.134Z"
   },
   {
    "duration": 5,
    "start_time": "2024-11-23T14:43:13.139Z"
   },
   {
    "duration": 2624,
    "start_time": "2024-11-24T08:42:55.147Z"
   },
   {
    "duration": 6784,
    "start_time": "2024-11-24T08:42:57.773Z"
   },
   {
    "duration": 2802,
    "start_time": "2024-11-24T08:43:04.559Z"
   },
   {
    "duration": 3107,
    "start_time": "2024-11-24T08:43:07.364Z"
   },
   {
    "duration": 1557,
    "start_time": "2024-11-24T08:43:10.473Z"
   },
   {
    "duration": 1291,
    "start_time": "2024-11-24T08:43:12.032Z"
   },
   {
    "duration": 4,
    "start_time": "2024-11-24T08:43:13.324Z"
   },
   {
    "duration": 20,
    "start_time": "2024-11-24T08:43:13.330Z"
   },
   {
    "duration": 114,
    "start_time": "2024-11-24T08:43:13.352Z"
   },
   {
    "duration": 120,
    "start_time": "2024-11-24T08:43:13.472Z"
   },
   {
    "duration": 21,
    "start_time": "2024-11-24T08:43:13.594Z"
   },
   {
    "duration": 22,
    "start_time": "2024-11-24T08:43:13.617Z"
   },
   {
    "duration": 48,
    "start_time": "2024-11-24T08:43:13.640Z"
   },
   {
    "duration": 53,
    "start_time": "2024-11-24T08:43:13.689Z"
   },
   {
    "duration": 15,
    "start_time": "2024-11-24T08:43:13.743Z"
   },
   {
    "duration": 2,
    "start_time": "2024-11-24T08:43:13.759Z"
   },
   {
    "duration": 25,
    "start_time": "2024-11-24T08:43:13.763Z"
   },
   {
    "duration": 21,
    "start_time": "2024-11-24T08:43:13.790Z"
   },
   {
    "duration": 381,
    "start_time": "2024-11-24T08:43:13.812Z"
   },
   {
    "duration": 406,
    "start_time": "2024-11-24T08:43:14.195Z"
   },
   {
    "duration": 118,
    "start_time": "2024-11-24T08:43:14.603Z"
   },
   {
    "duration": 736,
    "start_time": "2024-11-24T08:43:14.722Z"
   },
   {
    "duration": 21,
    "start_time": "2024-11-24T08:43:15.460Z"
   },
   {
    "duration": 17,
    "start_time": "2024-11-24T08:43:15.483Z"
   },
   {
    "duration": 6,
    "start_time": "2024-11-24T08:43:15.501Z"
   },
   {
    "duration": 40974,
    "start_time": "2024-11-24T08:43:15.508Z"
   },
   {
    "duration": 167,
    "start_time": "2024-11-24T08:43:56.484Z"
   },
   {
    "duration": 107,
    "start_time": "2024-11-24T08:43:56.655Z"
   },
   {
    "duration": 31,
    "start_time": "2024-11-24T08:43:56.764Z"
   },
   {
    "duration": 14,
    "start_time": "2024-11-24T08:43:56.797Z"
   },
   {
    "duration": 67,
    "start_time": "2024-11-24T08:43:56.812Z"
   },
   {
    "duration": 6,
    "start_time": "2024-11-24T08:43:56.880Z"
   },
   {
    "duration": 2417,
    "start_time": "2024-11-24T08:43:56.887Z"
   },
   {
    "duration": 19,
    "start_time": "2024-11-24T08:43:59.306Z"
   },
   {
    "duration": 45,
    "start_time": "2024-11-24T08:43:59.327Z"
   },
   {
    "duration": 21,
    "start_time": "2024-11-24T08:43:59.374Z"
   },
   {
    "duration": 2,
    "start_time": "2024-11-24T08:43:59.397Z"
   },
   {
    "duration": 9,
    "start_time": "2024-11-24T08:43:59.400Z"
   },
   {
    "duration": 26,
    "start_time": "2024-11-24T08:43:59.411Z"
   },
   {
    "duration": 99,
    "start_time": "2024-11-24T08:43:59.439Z"
   },
   {
    "duration": 100,
    "start_time": "2024-11-24T08:43:59.540Z"
   },
   {
    "duration": 18,
    "start_time": "2024-11-24T08:43:59.642Z"
   },
   {
    "duration": 4264,
    "start_time": "2024-11-24T08:43:59.670Z"
   },
   {
    "duration": 1274,
    "start_time": "2024-11-24T08:44:03.935Z"
   },
   {
    "duration": 2,
    "start_time": "2024-11-24T08:44:05.211Z"
   },
   {
    "duration": 22,
    "start_time": "2024-11-24T08:44:05.215Z"
   },
   {
    "duration": 128,
    "start_time": "2024-11-24T08:44:05.239Z"
   },
   {
    "duration": 29,
    "start_time": "2024-11-24T08:44:05.369Z"
   },
   {
    "duration": 3,
    "start_time": "2024-11-24T08:44:05.400Z"
   },
   {
    "duration": 16,
    "start_time": "2024-11-24T08:44:05.405Z"
   },
   {
    "duration": 63,
    "start_time": "2024-11-24T08:44:05.423Z"
   },
   {
    "duration": 2288203,
    "start_time": "2024-11-24T08:44:05.488Z"
   },
   {
    "duration": 3,
    "start_time": "2024-11-24T09:22:13.692Z"
   },
   {
    "duration": 21,
    "start_time": "2024-11-24T09:22:13.696Z"
   },
   {
    "duration": 68,
    "start_time": "2024-11-24T09:22:13.719Z"
   },
   {
    "duration": 3,
    "start_time": "2024-11-24T09:22:13.789Z"
   },
   {
    "duration": 5,
    "start_time": "2024-11-24T09:22:13.793Z"
   },
   {
    "duration": 4,
    "start_time": "2024-11-24T09:22:13.799Z"
   },
   {
    "duration": 443986,
    "start_time": "2024-11-24T09:22:13.805Z"
   },
   {
    "duration": 3,
    "start_time": "2024-11-24T09:29:37.792Z"
   },
   {
    "duration": 10,
    "start_time": "2024-11-24T09:29:37.796Z"
   },
   {
    "duration": 1472,
    "start_time": "2024-11-24T09:29:37.808Z"
   },
   {
    "duration": 5,
    "start_time": "2024-11-24T09:29:39.282Z"
   },
   {
    "duration": 684,
    "start_time": "2024-11-24T09:29:39.289Z"
   },
   {
    "duration": 95,
    "start_time": "2024-11-24T09:29:39.976Z"
   },
   {
    "duration": 6,
    "start_time": "2024-11-24T09:31:05.852Z"
   },
   {
    "duration": 6,
    "start_time": "2024-11-24T09:31:27.333Z"
   },
   {
    "duration": 2868,
    "start_time": "2024-11-25T08:33:19.144Z"
   },
   {
    "duration": 6794,
    "start_time": "2024-11-25T08:33:22.014Z"
   },
   {
    "duration": 3056,
    "start_time": "2024-11-25T08:33:28.811Z"
   },
   {
    "duration": 3386,
    "start_time": "2024-11-25T08:33:42.634Z"
   },
   {
    "duration": 1653,
    "start_time": "2024-11-25T08:33:56.829Z"
   },
   {
    "duration": 3038,
    "start_time": "2024-11-25T08:34:10.287Z"
   },
   {
    "duration": 4,
    "start_time": "2024-11-25T08:34:30.062Z"
   },
   {
    "duration": 18,
    "start_time": "2024-11-25T08:34:30.515Z"
   },
   {
    "duration": 1067,
    "start_time": "2024-11-25T08:35:09.658Z"
   },
   {
    "duration": 2557,
    "start_time": "2024-11-25T08:35:26.060Z"
   },
   {
    "duration": 3088,
    "start_time": "2024-11-25T08:35:31.278Z"
   },
   {
    "duration": 2442,
    "start_time": "2024-11-25T08:35:36.403Z"
   },
   {
    "duration": 2632,
    "start_time": "2024-11-25T08:35:44.876Z"
   },
   {
    "duration": 1442,
    "start_time": "2024-11-25T08:35:48.296Z"
   },
   {
    "duration": 832,
    "start_time": "2024-11-25T08:35:53.616Z"
   },
   {
    "duration": 10,
    "start_time": "2024-11-25T08:36:00.162Z"
   },
   {
    "duration": 1186,
    "start_time": "2024-11-25T08:36:15.599Z"
   },
   {
    "duration": 19,
    "start_time": "2024-11-25T08:36:20.959Z"
   },
   {
    "duration": 4,
    "start_time": "2024-11-25T08:36:26.407Z"
   },
   {
    "duration": 15,
    "start_time": "2024-11-25T08:36:27.023Z"
   },
   {
    "duration": 132,
    "start_time": "2024-11-25T08:36:32.249Z"
   },
   {
    "duration": 106,
    "start_time": "2024-11-25T08:36:42.724Z"
   },
   {
    "duration": 22,
    "start_time": "2024-11-25T08:36:45.310Z"
   },
   {
    "duration": 21,
    "start_time": "2024-11-25T08:36:46.984Z"
   },
   {
    "duration": 38,
    "start_time": "2024-11-25T08:36:48.245Z"
   },
   {
    "duration": 23,
    "start_time": "2024-11-25T08:36:50.942Z"
   },
   {
    "duration": 15,
    "start_time": "2024-11-25T08:36:52.333Z"
   },
   {
    "duration": 27,
    "start_time": "2024-11-25T08:36:58.480Z"
   },
   {
    "duration": 26,
    "start_time": "2024-11-25T08:37:00.225Z"
   },
   {
    "duration": 357,
    "start_time": "2024-11-25T08:37:01.182Z"
   },
   {
    "duration": 425,
    "start_time": "2024-11-25T08:37:02.963Z"
   },
   {
    "duration": 103,
    "start_time": "2024-11-25T08:37:07.172Z"
   },
   {
    "duration": 721,
    "start_time": "2024-11-25T08:37:09.457Z"
   },
   {
    "duration": 21,
    "start_time": "2024-11-25T08:37:28.224Z"
   },
   {
    "duration": 5,
    "start_time": "2024-11-25T08:37:30.871Z"
   },
   {
    "duration": 2,
    "start_time": "2024-11-25T08:37:33.880Z"
   },
   {
    "duration": 43521,
    "start_time": "2024-11-25T08:37:37.957Z"
   },
   {
    "duration": 143,
    "start_time": "2024-11-25T08:38:28.182Z"
   },
   {
    "duration": 88,
    "start_time": "2024-11-25T08:38:32.043Z"
   },
   {
    "duration": 28,
    "start_time": "2024-11-25T08:38:37.528Z"
   },
   {
    "duration": 11,
    "start_time": "2024-11-25T08:38:49.284Z"
   },
   {
    "duration": 54,
    "start_time": "2024-11-25T08:38:57.953Z"
   },
   {
    "duration": 5,
    "start_time": "2024-11-25T08:39:02.329Z"
   },
   {
    "duration": 2497,
    "start_time": "2024-11-25T08:39:09.289Z"
   },
   {
    "duration": 19,
    "start_time": "2024-11-25T08:39:15.863Z"
   },
   {
    "duration": 29,
    "start_time": "2024-11-25T08:39:19.665Z"
   },
   {
    "duration": 18,
    "start_time": "2024-11-25T08:39:21.952Z"
   },
   {
    "duration": 3,
    "start_time": "2024-11-25T08:39:24.203Z"
   },
   {
    "duration": 4,
    "start_time": "2024-11-25T08:39:25.995Z"
   },
   {
    "duration": 32,
    "start_time": "2024-11-25T08:39:27.557Z"
   },
   {
    "duration": 79,
    "start_time": "2024-11-25T08:39:29.919Z"
   },
   {
    "duration": 8,
    "start_time": "2024-11-25T08:39:33.433Z"
   },
   {
    "duration": 15,
    "start_time": "2024-11-25T08:39:35.262Z"
   },
   {
    "duration": 4199,
    "start_time": "2024-11-25T08:39:37.184Z"
   },
   {
    "duration": 1316,
    "start_time": "2024-11-25T08:39:44.027Z"
   },
   {
    "duration": 4,
    "start_time": "2024-11-25T08:40:25.294Z"
   },
   {
    "duration": 2,
    "start_time": "2024-11-25T08:40:27.943Z"
   },
   {
    "duration": 131,
    "start_time": "2024-11-25T08:40:36.669Z"
   },
   {
    "duration": 30,
    "start_time": "2024-11-25T08:41:08.654Z"
   },
   {
    "duration": 3,
    "start_time": "2024-11-25T08:41:12.458Z"
   },
   {
    "duration": 3,
    "start_time": "2024-11-25T08:41:32.222Z"
   },
   {
    "duration": 4,
    "start_time": "2024-11-25T08:41:34.238Z"
   },
   {
    "duration": 1396467,
    "start_time": "2024-11-25T08:41:36.496Z"
   },
   {
    "duration": 3,
    "start_time": "2024-11-25T09:04:52.966Z"
   },
   {
    "duration": 6,
    "start_time": "2024-11-25T09:04:53.019Z"
   },
   {
    "duration": 60,
    "start_time": "2024-11-25T09:05:13.847Z"
   },
   {
    "duration": 4,
    "start_time": "2024-11-25T09:05:14.487Z"
   },
   {
    "duration": 3,
    "start_time": "2024-11-25T09:05:15.242Z"
   },
   {
    "duration": 3,
    "start_time": "2024-11-25T09:05:16.456Z"
   },
   {
    "duration": 379719,
    "start_time": "2024-11-25T09:05:18.628Z"
   },
   {
    "duration": 3,
    "start_time": "2024-11-25T09:11:38.349Z"
   },
   {
    "duration": 23,
    "start_time": "2024-11-25T09:11:38.353Z"
   },
   {
    "duration": 3,
    "start_time": "2024-11-25T09:12:45.977Z"
   },
   {
    "duration": 19,
    "start_time": "2024-11-25T09:12:47.785Z"
   },
   {
    "duration": 133,
    "start_time": "2024-11-25T09:13:01.426Z"
   },
   {
    "duration": 35,
    "start_time": "2024-11-25T09:13:03.263Z"
   },
   {
    "duration": 4,
    "start_time": "2024-11-25T09:13:06.898Z"
   },
   {
    "duration": 3,
    "start_time": "2024-11-25T09:13:07.385Z"
   },
   {
    "duration": 2542,
    "start_time": "2024-11-25T09:13:27.933Z"
   },
   {
    "duration": 3109,
    "start_time": "2024-11-25T09:13:30.477Z"
   },
   {
    "duration": 2537,
    "start_time": "2024-11-25T09:13:33.588Z"
   },
   {
    "duration": 2503,
    "start_time": "2024-11-25T09:13:36.127Z"
   },
   {
    "duration": 1467,
    "start_time": "2024-11-25T09:13:38.632Z"
   },
   {
    "duration": 1158,
    "start_time": "2024-11-25T09:13:40.101Z"
   },
   {
    "duration": 4,
    "start_time": "2024-11-25T09:13:44.943Z"
   },
   {
    "duration": 19,
    "start_time": "2024-11-25T09:13:45.746Z"
   },
   {
    "duration": 113,
    "start_time": "2024-11-25T09:13:47.193Z"
   },
   {
    "duration": 112,
    "start_time": "2024-11-25T09:13:50.727Z"
   },
   {
    "duration": 23,
    "start_time": "2024-11-25T09:13:51.174Z"
   },
   {
    "duration": 23,
    "start_time": "2024-11-25T09:13:51.775Z"
   },
   {
    "duration": 24,
    "start_time": "2024-11-25T09:13:51.965Z"
   },
   {
    "duration": 23,
    "start_time": "2024-11-25T09:13:52.160Z"
   },
   {
    "duration": 15,
    "start_time": "2024-11-25T09:13:52.340Z"
   },
   {
    "duration": 2,
    "start_time": "2024-11-25T09:13:52.535Z"
   },
   {
    "duration": 26,
    "start_time": "2024-11-25T09:13:53.499Z"
   },
   {
    "duration": 23,
    "start_time": "2024-11-25T09:13:53.696Z"
   },
   {
    "duration": 317,
    "start_time": "2024-11-25T09:13:53.922Z"
   },
   {
    "duration": 348,
    "start_time": "2024-11-25T09:13:54.241Z"
   },
   {
    "duration": 99,
    "start_time": "2024-11-25T09:13:54.990Z"
   },
   {
    "duration": 700,
    "start_time": "2024-11-25T09:13:55.205Z"
   },
   {
    "duration": 20,
    "start_time": "2024-11-25T09:13:56.074Z"
   },
   {
    "duration": 4,
    "start_time": "2024-11-25T09:13:56.292Z"
   },
   {
    "duration": 3,
    "start_time": "2024-11-25T09:13:56.532Z"
   },
   {
    "duration": 45132,
    "start_time": "2024-11-25T09:13:56.775Z"
   },
   {
    "duration": 150,
    "start_time": "2024-11-25T09:14:41.909Z"
   },
   {
    "duration": 96,
    "start_time": "2024-11-25T09:14:42.060Z"
   },
   {
    "duration": 27,
    "start_time": "2024-11-25T09:14:42.158Z"
   },
   {
    "duration": 29,
    "start_time": "2024-11-25T09:14:42.187Z"
   },
   {
    "duration": 67,
    "start_time": "2024-11-25T09:14:42.218Z"
   },
   {
    "duration": 5,
    "start_time": "2024-11-25T09:14:42.287Z"
   },
   {
    "duration": 2523,
    "start_time": "2024-11-25T09:14:42.293Z"
   },
   {
    "duration": 21,
    "start_time": "2024-11-25T09:14:44.818Z"
   },
   {
    "duration": 31,
    "start_time": "2024-11-25T09:14:44.842Z"
   },
   {
    "duration": 45,
    "start_time": "2024-11-25T09:14:44.875Z"
   },
   {
    "duration": 3,
    "start_time": "2024-11-25T09:14:44.922Z"
   },
   {
    "duration": 4,
    "start_time": "2024-11-25T09:14:44.927Z"
   },
   {
    "duration": 30,
    "start_time": "2024-11-25T09:14:44.933Z"
   },
   {
    "duration": 107,
    "start_time": "2024-11-25T09:14:44.965Z"
   },
   {
    "duration": 22,
    "start_time": "2024-11-25T09:14:45.075Z"
   },
   {
    "duration": 46,
    "start_time": "2024-11-25T09:14:45.099Z"
   },
   {
    "duration": 4286,
    "start_time": "2024-11-25T09:14:45.147Z"
   },
   {
    "duration": 1325,
    "start_time": "2024-11-25T09:14:49.434Z"
   },
   {
    "duration": 3,
    "start_time": "2024-11-25T09:14:50.761Z"
   },
   {
    "duration": 40,
    "start_time": "2024-11-25T09:14:50.765Z"
   },
   {
    "duration": 144,
    "start_time": "2024-11-25T09:14:55.965Z"
   },
   {
    "duration": 41,
    "start_time": "2024-11-25T09:14:59.430Z"
   },
   {
    "duration": 3,
    "start_time": "2024-11-25T09:15:03.460Z"
   },
   {
    "duration": 3,
    "start_time": "2024-11-25T09:15:04.813Z"
   },
   {
    "duration": 122,
    "start_time": "2024-11-25T09:15:06.686Z"
   },
   {
    "duration": 13,
    "start_time": "2024-11-25T09:15:35.783Z"
   },
   {
    "duration": 10,
    "start_time": "2024-11-25T09:16:15.129Z"
   },
   {
    "duration": 3,
    "start_time": "2024-11-25T09:16:34.102Z"
   },
   {
    "duration": 655157,
    "start_time": "2024-11-25T09:16:35.563Z"
   },
   {
    "duration": 3,
    "start_time": "2024-11-25T09:27:30.723Z"
   },
   {
    "duration": 23,
    "start_time": "2024-11-25T09:27:30.728Z"
   },
   {
    "duration": 2434,
    "start_time": "2024-11-25T09:30:52.429Z"
   },
   {
    "duration": 3069,
    "start_time": "2024-11-25T09:30:54.865Z"
   },
   {
    "duration": 2549,
    "start_time": "2024-11-25T09:30:57.936Z"
   },
   {
    "duration": 2551,
    "start_time": "2024-11-25T09:31:00.488Z"
   },
   {
    "duration": 1381,
    "start_time": "2024-11-25T09:31:03.042Z"
   },
   {
    "duration": 1096,
    "start_time": "2024-11-25T09:31:04.425Z"
   },
   {
    "duration": 3,
    "start_time": "2024-11-25T09:31:08.725Z"
   },
   {
    "duration": 20,
    "start_time": "2024-11-25T09:31:09.332Z"
   },
   {
    "duration": 127,
    "start_time": "2024-11-25T09:31:09.979Z"
   },
   {
    "duration": 110,
    "start_time": "2024-11-25T09:31:14.491Z"
   },
   {
    "duration": 23,
    "start_time": "2024-11-25T09:31:14.669Z"
   },
   {
    "duration": 22,
    "start_time": "2024-11-25T09:31:14.840Z"
   },
   {
    "duration": 25,
    "start_time": "2024-11-25T09:31:15.244Z"
   },
   {
    "duration": 22,
    "start_time": "2024-11-25T09:31:15.426Z"
   },
   {
    "duration": 15,
    "start_time": "2024-11-25T09:31:15.613Z"
   },
   {
    "duration": 2,
    "start_time": "2024-11-25T09:31:16.011Z"
   },
   {
    "duration": 36,
    "start_time": "2024-11-25T09:31:17.097Z"
   },
   {
    "duration": 22,
    "start_time": "2024-11-25T09:31:17.297Z"
   },
   {
    "duration": 350,
    "start_time": "2024-11-25T09:31:17.541Z"
   },
   {
    "duration": 359,
    "start_time": "2024-11-25T09:31:17.893Z"
   },
   {
    "duration": 94,
    "start_time": "2024-11-25T09:31:18.963Z"
   },
   {
    "duration": 702,
    "start_time": "2024-11-25T09:31:19.183Z"
   },
   {
    "duration": 20,
    "start_time": "2024-11-25T09:31:21.116Z"
   },
   {
    "duration": 5,
    "start_time": "2024-11-25T09:31:21.321Z"
   },
   {
    "duration": 2,
    "start_time": "2024-11-25T09:31:22.123Z"
   },
   {
    "duration": 44448,
    "start_time": "2024-11-25T09:31:22.504Z"
   },
   {
    "duration": 166,
    "start_time": "2024-11-25T09:32:06.954Z"
   },
   {
    "duration": 91,
    "start_time": "2024-11-25T09:32:07.122Z"
   },
   {
    "duration": 27,
    "start_time": "2024-11-25T09:32:17.997Z"
   },
   {
    "duration": 10,
    "start_time": "2024-11-25T09:32:18.506Z"
   },
   {
    "duration": 54,
    "start_time": "2024-11-25T09:32:20.956Z"
   },
   {
    "duration": 6,
    "start_time": "2024-11-25T09:32:21.138Z"
   },
   {
    "duration": 2479,
    "start_time": "2024-11-25T09:32:21.319Z"
   },
   {
    "duration": 26,
    "start_time": "2024-11-25T09:32:23.800Z"
   },
   {
    "duration": 42,
    "start_time": "2024-11-25T09:32:23.828Z"
   },
   {
    "duration": 19,
    "start_time": "2024-11-25T09:32:23.872Z"
   },
   {
    "duration": 3,
    "start_time": "2024-11-25T09:32:23.893Z"
   },
   {
    "duration": 19,
    "start_time": "2024-11-25T09:32:23.897Z"
   },
   {
    "duration": 34,
    "start_time": "2024-11-25T09:32:23.918Z"
   },
   {
    "duration": 95,
    "start_time": "2024-11-25T09:32:24.467Z"
   },
   {
    "duration": 8,
    "start_time": "2024-11-25T09:32:24.819Z"
   },
   {
    "duration": 14,
    "start_time": "2024-11-25T09:32:25.513Z"
   },
   {
    "duration": 4230,
    "start_time": "2024-11-25T09:32:25.776Z"
   },
   {
    "duration": 1343,
    "start_time": "2024-11-25T09:32:30.008Z"
   },
   {
    "duration": 3,
    "start_time": "2024-11-25T09:32:31.352Z"
   },
   {
    "duration": 3,
    "start_time": "2024-11-25T09:32:31.963Z"
   },
   {
    "duration": 125,
    "start_time": "2024-11-25T09:32:36.310Z"
   },
   {
    "duration": 30,
    "start_time": "2024-11-25T09:32:45.540Z"
   },
   {
    "duration": 3,
    "start_time": "2024-11-25T09:32:50.328Z"
   },
   {
    "duration": 4,
    "start_time": "2024-11-25T09:32:51.291Z"
   },
   {
    "duration": 1100671,
    "start_time": "2024-11-25T09:32:52.376Z"
   },
   {
    "duration": 0,
    "start_time": "2024-11-25T09:51:13.049Z"
   },
   {
    "duration": 0,
    "start_time": "2024-11-25T09:51:13.052Z"
   },
   {
    "duration": 2665,
    "start_time": "2024-11-25T09:52:24.654Z"
   },
   {
    "duration": 3099,
    "start_time": "2024-11-25T09:52:27.321Z"
   },
   {
    "duration": 2484,
    "start_time": "2024-11-25T09:52:30.422Z"
   },
   {
    "duration": 2470,
    "start_time": "2024-11-25T09:52:32.908Z"
   },
   {
    "duration": 1359,
    "start_time": "2024-11-25T09:52:35.382Z"
   },
   {
    "duration": 1110,
    "start_time": "2024-11-25T09:52:36.742Z"
   },
   {
    "duration": 4,
    "start_time": "2024-11-25T09:52:37.854Z"
   },
   {
    "duration": 42,
    "start_time": "2024-11-25T09:52:37.860Z"
   },
   {
    "duration": 115,
    "start_time": "2024-11-25T09:52:37.904Z"
   },
   {
    "duration": 113,
    "start_time": "2024-11-25T09:52:38.021Z"
   },
   {
    "duration": 22,
    "start_time": "2024-11-25T09:52:38.135Z"
   },
   {
    "duration": 30,
    "start_time": "2024-11-25T09:52:38.159Z"
   },
   {
    "duration": 32,
    "start_time": "2024-11-25T09:52:38.191Z"
   },
   {
    "duration": 34,
    "start_time": "2024-11-25T09:52:38.226Z"
   },
   {
    "duration": 29,
    "start_time": "2024-11-25T09:52:38.261Z"
   },
   {
    "duration": 8,
    "start_time": "2024-11-25T09:52:38.291Z"
   },
   {
    "duration": 37,
    "start_time": "2024-11-25T09:52:38.301Z"
   },
   {
    "duration": 22,
    "start_time": "2024-11-25T09:52:38.340Z"
   },
   {
    "duration": 315,
    "start_time": "2024-11-25T09:52:38.363Z"
   },
   {
    "duration": 360,
    "start_time": "2024-11-25T09:52:38.680Z"
   },
   {
    "duration": 98,
    "start_time": "2024-11-25T09:52:39.041Z"
   },
   {
    "duration": 732,
    "start_time": "2024-11-25T09:52:39.140Z"
   },
   {
    "duration": 21,
    "start_time": "2024-11-25T09:52:39.873Z"
   },
   {
    "duration": 4,
    "start_time": "2024-11-25T09:52:39.896Z"
   },
   {
    "duration": 16,
    "start_time": "2024-11-25T09:52:39.902Z"
   },
   {
    "duration": 45449,
    "start_time": "2024-11-25T09:52:39.919Z"
   },
   {
    "duration": 142,
    "start_time": "2024-11-25T09:53:25.370Z"
   },
   {
    "duration": 91,
    "start_time": "2024-11-25T09:53:25.517Z"
   },
   {
    "duration": 34,
    "start_time": "2024-11-25T09:53:25.610Z"
   },
   {
    "duration": 26,
    "start_time": "2024-11-25T09:53:25.645Z"
   },
   {
    "duration": 67,
    "start_time": "2024-11-25T09:53:25.673Z"
   },
   {
    "duration": 5,
    "start_time": "2024-11-25T09:53:25.742Z"
   },
   {
    "duration": 2540,
    "start_time": "2024-11-25T09:53:25.749Z"
   },
   {
    "duration": 27,
    "start_time": "2024-11-25T09:53:28.291Z"
   },
   {
    "duration": 30,
    "start_time": "2024-11-25T09:53:28.320Z"
   },
   {
    "duration": 19,
    "start_time": "2024-11-25T09:53:28.352Z"
   },
   {
    "duration": 3,
    "start_time": "2024-11-25T09:53:28.373Z"
   },
   {
    "duration": 4,
    "start_time": "2024-11-25T09:53:28.378Z"
   },
   {
    "duration": 54,
    "start_time": "2024-11-25T09:53:28.384Z"
   },
   {
    "duration": 95,
    "start_time": "2024-11-25T09:53:28.440Z"
   },
   {
    "duration": 8,
    "start_time": "2024-11-25T09:53:28.539Z"
   },
   {
    "duration": 17,
    "start_time": "2024-11-25T09:53:28.548Z"
   },
   {
    "duration": 4211,
    "start_time": "2024-11-25T09:53:28.567Z"
   },
   {
    "duration": 1331,
    "start_time": "2024-11-25T09:53:32.780Z"
   },
   {
    "duration": 2,
    "start_time": "2024-11-25T09:53:34.113Z"
   },
   {
    "duration": 14,
    "start_time": "2024-11-25T09:53:34.117Z"
   },
   {
    "duration": 128,
    "start_time": "2024-11-25T09:53:34.133Z"
   },
   {
    "duration": 26,
    "start_time": "2024-11-25T09:53:34.263Z"
   },
   {
    "duration": 2,
    "start_time": "2024-11-25T09:53:34.291Z"
   },
   {
    "duration": 4,
    "start_time": "2024-11-25T09:53:34.295Z"
   },
   {
    "duration": 19,
    "start_time": "2024-11-25T09:53:34.300Z"
   },
   {
    "duration": 1439408,
    "start_time": "2024-11-25T09:53:34.320Z"
   },
   {
    "duration": 0,
    "start_time": "2024-11-25T10:17:33.729Z"
   },
   {
    "duration": 0,
    "start_time": "2024-11-25T10:17:33.731Z"
   },
   {
    "duration": 0,
    "start_time": "2024-11-25T10:17:33.732Z"
   },
   {
    "duration": 0,
    "start_time": "2024-11-25T10:17:33.733Z"
   },
   {
    "duration": 0,
    "start_time": "2024-11-25T10:17:33.734Z"
   },
   {
    "duration": 0,
    "start_time": "2024-11-25T10:17:33.735Z"
   },
   {
    "duration": 0,
    "start_time": "2024-11-25T10:17:33.736Z"
   },
   {
    "duration": 0,
    "start_time": "2024-11-25T10:17:33.737Z"
   },
   {
    "duration": 0,
    "start_time": "2024-11-25T10:17:33.739Z"
   },
   {
    "duration": 0,
    "start_time": "2024-11-25T10:17:33.740Z"
   },
   {
    "duration": 0,
    "start_time": "2024-11-25T10:17:33.741Z"
   }
  ],
  "kernelspec": {
   "display_name": "Python 3 (ipykernel)",
   "language": "python",
   "name": "python3"
  },
  "language_info": {
   "codemirror_mode": {
    "name": "ipython",
    "version": 3
   },
   "file_extension": ".py",
   "mimetype": "text/x-python",
   "name": "python",
   "nbconvert_exporter": "python",
   "pygments_lexer": "ipython3",
   "version": "3.12.7"
  },
  "toc": {
   "base_numbering": 1,
   "nav_menu": {},
   "number_sections": true,
   "sideBar": true,
   "skip_h1_title": true,
   "title_cell": "Table of Contents",
   "title_sidebar": "Contents",
   "toc_cell": false,
   "toc_position": {},
   "toc_section_display": true,
   "toc_window_display": false
  }
 },
 "nbformat": 4,
 "nbformat_minor": 5
}
